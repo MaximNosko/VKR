{
 "cells": [
  {
   "cell_type": "code",
   "execution_count": null,
   "metadata": {
    "scrolled": true
   },
   "outputs": [
    {
     "name": "stdout",
     "output_type": "stream",
     "text": [
      " * Serving Flask app \"__main__\" (lazy loading)\n",
      " * Environment: production\n",
      "   WARNING: This is a development server. Do not use it in a production deployment.\n",
      "   Use a production WSGI server instead.\n",
      " * Debug mode: off\n"
     ]
    },
    {
     "name": "stderr",
     "output_type": "stream",
     "text": [
      " * Running on http://0.0.0.0:49051/ (Press CTRL+C to quit)\n",
      "127.0.0.1 - - [30/Apr/2021 01:28:56] \"\u001b[37mGET /create HTTP/1.1\u001b[0m\" 200 -\n",
      "127.0.0.1 - - [30/Apr/2021 01:29:07] \"\u001b[32mPOST /createSave HTTP/1.1\u001b[0m\" 302 -\n",
      "127.0.0.1 - - [30/Apr/2021 01:29:07] \"\u001b[37mGET /created HTTP/1.1\u001b[0m\" 200 -\n"
     ]
    },
    {
     "name": "stdout",
     "output_type": "stream",
     "text": [
      "ImmutableMultiDict([('name', 'Блокнот'), ('desc', 'Классный блокнот'), ('read', 'on'), ('write', 'on')])\n"
     ]
    }
   ],
   "source": [
    "from flask import Flask\n",
    "from flask import request,redirect\n",
    "from flask import Response\n",
    "from flask import render_template\n",
    "from os import listdir\n",
    "from os.path import isfile, join\n",
    "import os\n",
    "\n",
    "app = Flask(__name__)\n",
    "\n",
    "@app.after_request\n",
    "def add_header(r):\n",
    "    \"\"\"\n",
    "    Add headers to both force latest IE rendering engine or Chrome Frame,\n",
    "    and also to cache the rendered page for 10 minutes.\n",
    "    \"\"\"\n",
    "    r.headers[\"Cache-Control\"] = \"no-cache, no-store, must-revalidate\"\n",
    "    r.headers[\"Pragma\"] = \"no-cache\"\n",
    "    r.headers[\"Expires\"] = \"0\"\n",
    "    r.headers['Cache-Control'] = 'public, max-age=0'\n",
    "    return r\n",
    "\n",
    "@app.route('/create')\n",
    "def create():\n",
    "    return render_template(\"formCreate.html\")\n",
    "\n",
    "@app.route('/created')\n",
    "def created():\n",
    "    return render_template(\"created.html\")\n",
    "\n",
    "@app.route(\"/createSave\",methods=['POST'])\n",
    "def createSave():\n",
    "    nazv=request.form.get('n', default_name)\n",
    "    #print(request.headers)\n",
    "    print(request.form)\n",
    "    return redirect(\"/created\")\n",
    "    #return render_template(\"portal.html\")\n",
    "    #return Response(\"Foo bar baz\")\n",
    "    #return \"lol\",200\n",
    "#port = int(os.environ.get('PORT', 49051))\n",
    "#if __name__ == '__main__':\n",
    "app.run(host='0.0.0.0', port=49051, threaded=True)"
   ]
  }
 ],
 "metadata": {
  "kernelspec": {
   "display_name": "Python 3",
   "language": "python",
   "name": "python3"
  },
  "language_info": {
   "codemirror_mode": {
    "name": "ipython",
    "version": 3
   },
   "file_extension": ".py",
   "mimetype": "text/x-python",
   "name": "python",
   "nbconvert_exporter": "python",
   "pygments_lexer": "ipython3",
   "version": "3.7.6"
  }
 },
 "nbformat": 4,
 "nbformat_minor": 4
}
