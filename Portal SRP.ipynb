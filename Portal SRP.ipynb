{
 "cells": [
  {
   "cell_type": "code",
   "execution_count": null,
   "metadata": {
    "scrolled": true
   },
   "outputs": [
    {
     "name": "stdout",
     "output_type": "stream",
     "text": [
      " * Serving Flask app \"__main__\" (lazy loading)\n",
      " * Environment: production\n",
      "   WARNING: This is a development server. Do not use it in a production deployment.\n",
      "   Use a production WSGI server instead.\n",
      " * Debug mode: off\n"
     ]
    },
    {
     "name": "stderr",
     "output_type": "stream",
     "text": [
      " * Running on http://0.0.0.0:49051/ (Press CTRL+C to quit)\n",
      "127.0.0.1 - - [30/Apr/2021 17:48:02] \"\u001b[37mGET /getApp?id=608c0e27e9e834577d80daa7 HTTP/1.1\u001b[0m\" 200 -\n"
     ]
    }
   ],
   "source": [
    "PORTAL_PORT=49051\n",
    "PORTAL_HOST='0.0.0.0'\n",
    "DATABASE_PORT=27017\n",
    "\n",
    "from bson.objectid import ObjectId\n",
    "import random\n",
    "import string\n",
    "import hmac\n",
    "import hashlib\n",
    "from hashlib import sha256\n",
    "from flask import Flask\n",
    "from flask import request,redirect\n",
    "from flask import Response\n",
    "from flask import render_template\n",
    "from os import listdir\n",
    "from os.path import isfile, join\n",
    "import os\n",
    "from pymongo import MongoClient\n",
    "\n",
    "app = Flask(__name__)\n",
    "\n",
    "@app.after_request\n",
    "def add_header(r):\n",
    "    \"\"\"\n",
    "    Add headers to both force latest IE rendering engine or Chrome Frame,\n",
    "    and also to cache the rendered page for 10 minutes.\n",
    "    \"\"\"\n",
    "    r.headers[\"Cache-Control\"] = \"no-cache, no-store, must-revalidate\"\n",
    "    r.headers[\"Pragma\"] = \"no-cache\"\n",
    "    r.headers[\"Expires\"] = \"0\"\n",
    "    r.headers['Cache-Control'] = 'public, max-age=0'\n",
    "    return r\n",
    "\n",
    "@app.route('/create')\n",
    "def create():\n",
    "    return render_template(\"formCreate.html\")\n",
    "\n",
    "@app.route('/created')\n",
    "def created():\n",
    "    appID=request.args.get('id',\"Ошибка\")\n",
    "    return render_template(\"created.html\",appID=appID)\n",
    "\n",
    "@app.route('/createError')\n",
    "def createError():\n",
    "    return render_template(\"createError.html\")\n",
    "\n",
    "@app.route(\"/createSave\",methods=['POST'])\n",
    "def createSave():\n",
    "    if request.form.get('name', \"\")==\"\":\n",
    "        return redirect(\"/createError\")\n",
    "    if len(request.form.get('appPassword', \"\"))<10:\n",
    "        return redirect(\"/createError\")\n",
    "    form_text=[\"name\",\"desc\"]\n",
    "    form_checks=[\"spisok\",\"read\",\"write\",\"delete\"]\n",
    "    appObject={i:request.form.get(i, \"\") for i in form_text}\n",
    "    for i in form_checks:\n",
    "        t=request.form.get(i, \"off\")\n",
    "        if t==\"on\":\n",
    "            t=\"zapros\"\n",
    "        appObject[i]=t\n",
    "    appObject[\"salt\"]=''.join(random.choices(string.ascii_letters + string.digits, k=10))\n",
    "    appObject[\"passwordHash\"]=sha256((appObject[\"salt\"]+request.form.get('appPassword', \"\")).encode('utf-8')).hexdigest()\n",
    "    appObject[\"secretKey\"]=sha256(''.join(random.choices(string.ascii_letters + string.digits, k=10)).encode('utf-8')).hexdigest()\n",
    "    client = MongoClient(port=DATABASE_PORT)\n",
    "    db=client.srp\n",
    "    result=db.apps.insert_one(appObject)\n",
    "    return redirect(f\"/getApp?id={result.inserted_id}\")\n",
    "\n",
    "@app.route(\"/getApp\",methods=['GET'])\n",
    "def getApp():\n",
    "    appID=request.args.get('id',\"Ошибка\")\n",
    "    client = MongoClient(port=DATABASE_PORT)\n",
    "    db=client.srp\n",
    "    appObject=db.apps.find_one({\"_id\":ObjectId(appID)})\n",
    "    return render_template(\"getApp.html\",appObject=appObject)\n",
    "\n",
    "    \n",
    "app.run(host=PORTAL_HOST, port=PORTAL_PORT, threaded=True)"
   ]
  },
  {
   "cell_type": "code",
   "execution_count": 3,
   "metadata": {},
   "outputs": [
    {
     "data": {
      "text/plain": [
       "True"
      ]
     },
     "execution_count": 3,
     "metadata": {},
     "output_type": "execute_result"
    }
   ],
   "source": [
    "import random\n",
    "import string\n",
    "import hmac\n",
    "import hashlib\n",
    "from hashlib import sha256\n",
    "from flask import Flask\n",
    "from flask import request,redirect\n",
    "from flask import Response\n",
    "from flask import render_template\n",
    "from os import listdir\n",
    "from os.path import isfile, join\n",
    "import os\n",
    "from pymongo import MongoClient\n",
    "sha256((\"LsYLrhKJ1e\"+\"supersupersuper\").encode('utf-8')).hexdigest()==\"3c68d71c26d9b75689b56ed6d1a8820c53bbaaa91da35401b7c8d2188ebc1525\""
   ]
  },
  {
   "cell_type": "code",
   "execution_count": null,
   "metadata": {},
   "outputs": [],
   "source": [
    "from base64 import b64encode\n",
    "from collections import OrderedDict\n",
    "from hashlib import sha256\n",
    "from hmac import HMAC\n",
    "from urllib.parse import urlparse, parse_qsl, urlencode\n"
   ]
  },
  {
   "cell_type": "code",
   "execution_count": 12,
   "metadata": {},
   "outputs": [
    {
     "data": {
      "text/plain": [
       "{'_id': ObjectId('608c0e27e9e834577d80daa7'),\n",
       " 'name': 'Блокнот',\n",
       " 'desc': 'Для записей',\n",
       " 'spisok': 'off',\n",
       " 'read': 'zapros',\n",
       " 'write': 'zapros',\n",
       " 'delete': 'off',\n",
       " 'salt': 'uCaMoI4bKC',\n",
       " 'passwordHash': 'a812082d47d7d6814dea0394eb51d9a7128c0222b26f330fb891520320a60b8e',\n",
       " 'secretKey': '8b34595526a3b82a32252c9cf89f89424880d12e717128b93df0b4efc735fcff'}"
      ]
     },
     "execution_count": 12,
     "metadata": {},
     "output_type": "execute_result"
    }
   ],
   "source": [
    "PORTAL_PORT=49051\n",
    "PORTAL_HOST='0.0.0.0'\n",
    "DATABASE_PORT=27017\n",
    "\n",
    "from bson.objectid import ObjectId\n",
    "import random\n",
    "import string\n",
    "import hmac\n",
    "import hashlib\n",
    "from hashlib import sha256\n",
    "from flask import Flask\n",
    "from flask import request,redirect\n",
    "from flask import Response\n",
    "from flask import render_template\n",
    "from os import listdir\n",
    "from os.path import isfile, join\n",
    "import os\n",
    "from pymongo import MongoClient\n",
    "\n",
    "client = MongoClient(port=DATABASE_PORT)\n",
    "db=client.srp\n",
    "m=db.apps.find_one({\"_id\":ObjectId(\"608c0e27e9e834577d80daa7\")})\n",
    "m"
   ]
  },
  {
   "cell_type": "code",
   "execution_count": 8,
   "metadata": {},
   "outputs": [
    {
     "name": "stdout",
     "output_type": "stream",
     "text": [
      "<pymongo.cursor.Cursor object at 0x0000028713358848>\n"
     ]
    }
   ],
   "source": [
    "print(m)\n"
   ]
  }
 ],
 "metadata": {
  "kernelspec": {
   "display_name": "Python 3",
   "language": "python",
   "name": "python3"
  },
  "language_info": {
   "codemirror_mode": {
    "name": "ipython",
    "version": 3
   },
   "file_extension": ".py",
   "mimetype": "text/x-python",
   "name": "python",
   "nbconvert_exporter": "python",
   "pygments_lexer": "ipython3",
   "version": "3.7.6"
  }
 },
 "nbformat": 4,
 "nbformat_minor": 4
}
