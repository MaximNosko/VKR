{
 "cells": [
  {
   "cell_type": "code",
   "execution_count": null,
   "metadata": {
    "scrolled": true
   },
   "outputs": [
    {
     "name": "stdout",
     "output_type": "stream",
     "text": [
      " * Serving Flask app \"__main__\" (lazy loading)\n",
      " * Environment: production\n",
      "   WARNING: This is a development server. Do not use it in a production deployment.\n",
      "   Use a production WSGI server instead.\n",
      " * Debug mode: off\n"
     ]
    },
    {
     "name": "stderr",
     "output_type": "stream",
     "text": [
      " * Running on http://0.0.0.0:49051/ (Press CTRL+C to quit)\n",
      "127.0.0.1 - - [01/May/2021 12:50:22] \"\u001b[37mGET /create HTTP/1.1\u001b[0m\" 200 -\n",
      "127.0.0.1 - - [01/May/2021 12:50:32] \"\u001b[32mPOST /createSave HTTP/1.1\u001b[0m\" 302 -\n",
      "127.0.0.1 - - [01/May/2021 12:50:32] \"\u001b[37mGET /secretKey?link_id=608d246891a8896657a8fba0 HTTP/1.1\u001b[0m\" 200 -\n"
     ]
    }
   ],
   "source": [
    "PORTAL_PORT=49051\n",
    "PORTAL_HOST='0.0.0.0'\n",
    "DATABASE_PORT=27017\n",
    "\n",
    "\n",
    "from bson.objectid import ObjectId\n",
    "import random\n",
    "import string\n",
    "import hmac\n",
    "import hashlib\n",
    "from hashlib import sha256\n",
    "from flask import Flask\n",
    "from flask import request,redirect\n",
    "from flask import Response\n",
    "from flask import render_template\n",
    "from os import listdir\n",
    "from os.path import isfile, join\n",
    "import os\n",
    "from pymongo import MongoClient\n",
    "import os.path\n",
    "\n",
    "if os.path.isfile('.ADMIN_PASSWORD'):\n",
    "    with open('.ADMIN_PASSWORD','r') as f:\n",
    "        ADMIN_PASSWORD = f.read()\n",
    "else:\n",
    "    with open('.ADMIN_PASSWORD','w') as f:\n",
    "        ADMIN_PASSWORD = \"ADMIN_PASSWORD\"\n",
    "        f.write(ADMIN_PASSWORD)\n",
    "\n",
    "\n",
    "app = Flask(__name__)\n",
    "app.config['TEMPLATES_AUTO_RELOAD'] = True\n",
    "\n",
    "@app.after_request\n",
    "def add_header(r):\n",
    "    \"\"\"\n",
    "    Add headers to both force latest IE rendering engine or Chrome Frame,\n",
    "    and also to cache the rendered page for 10 minutes.\n",
    "    \"\"\"\n",
    "    r.headers[\"Cache-Control\"] = \"no-cache, no-store, must-revalidate\"\n",
    "    r.headers[\"Pragma\"] = \"no-cache\"\n",
    "    r.headers[\"Expires\"] = \"0\"\n",
    "    r.headers['Cache-Control'] = 'public, max-age=0'\n",
    "    return r\n",
    "\n",
    "@app.route('/create')\n",
    "def create():\n",
    "    return render_template(\"formCreate.html\")\n",
    "\n",
    "@app.route('/createError')\n",
    "def createError():\n",
    "    return render_template(\"createError.html\")\n",
    "\n",
    "@app.route('/saveError')\n",
    "def saveError():\n",
    "    return render_template(\"saveError.html\")\n",
    "\n",
    "@app.route(\"/createSave\",methods=['POST'])\n",
    "def createSave():\n",
    "    if request.form.get('name', \"\")==\"\":\n",
    "        return redirect(\"/createError\")\n",
    "    if len(request.form.get('appPassword', \"\"))<10:\n",
    "        return redirect(\"/createError\")\n",
    "    form_text=[\"name\",\"desc\"]\n",
    "    form_checks=[\"spisok\",\"read\",\"write\",\"delete\"]\n",
    "    appObject={i:request.form.get(i, \"\") for i in form_text}\n",
    "    for i in form_checks:\n",
    "        t=request.form.get(i, \"off\")\n",
    "        if t==\"on\":\n",
    "            t=\"zapros\"\n",
    "        appObject[i]=t\n",
    "    appObject[\"salt\"]=''.join(random.choices(string.ascii_letters + string.digits, k=10))\n",
    "    appObject[\"passwordHash\"]=sha256((appObject[\"salt\"]+request.form.get('appPassword', \"\")).encode('utf-8')).hexdigest()\n",
    "    appObject[\"secretKey\"]=sha256(''.join(random.choices(string.ascii_letters + string.digits, k=10)).encode('utf-8')).hexdigest()\n",
    "    client = MongoClient(port=DATABASE_PORT)\n",
    "    db=client.srp\n",
    "    result=db.apps.insert_one(appObject)\n",
    "    link=db.links.insert_one({\"appID\":result.inserted_id})\n",
    "    return redirect(f\"/secretKey?link_id={link.inserted_id}\")\n",
    "\n",
    "@app.route(\"/getApp\",methods=['GET'])\n",
    "def getApp():\n",
    "    appID=request.args.get('id',\"Ошибка\")\n",
    "    client = MongoClient(port=DATABASE_PORT)\n",
    "    db=client.srp\n",
    "    appObject=db.apps.find_one({\"_id\":ObjectId(appID)})\n",
    "    return render_template(\"getApp.html\",appObject=appObject)\n",
    "\n",
    "@app.route(\"/\",methods=['GET'])\n",
    "def appList():\n",
    "    client = MongoClient(port=DATABASE_PORT)\n",
    "    db=client.srp\n",
    "    apps=list()\n",
    "    for i in db.apps.find({}):\n",
    "        t=i\n",
    "        m=[\"spisok\",\"read\",\"write\",\"delete\"]\n",
    "        status=\"off\"\n",
    "        for i2 in m:\n",
    "            if i[i2] == \"on\":\n",
    "                status=\"on\"\n",
    "        for i2 in m:\n",
    "            if i[i2] == \"zapros\":\n",
    "                status=\"zapros\"\n",
    "        t[\"status\"]=status\n",
    "        apps.append(t)\n",
    "    return render_template(\"appList.html\",apps=apps,mode=\"read\")\n",
    "    \n",
    "@app.route(\"/admin\",methods=['GET'])\n",
    "def admin():\n",
    "    client = MongoClient(port=DATABASE_PORT)\n",
    "    db=client.srp\n",
    "    apps=list()\n",
    "    for i in db.apps.find({}):\n",
    "        t=i\n",
    "        m=[\"spisok\",\"read\",\"write\",\"delete\"]\n",
    "        status=\"off\"\n",
    "        for i2 in m:\n",
    "            if i[i2] == \"on\":\n",
    "                status=\"on\"\n",
    "        for i2 in m:\n",
    "            if i[i2] == \"zapros\":\n",
    "                status=\"zapros\"\n",
    "        t[\"status\"]=status\n",
    "        apps.append(t)\n",
    "    return render_template(\"appList.html\",apps=apps,mode=\"admin\")\n",
    "\n",
    "@app.route(\"/adminApp\")\n",
    "def adminApp():\n",
    "    appID=request.args.get('id',\"Ошибка\")\n",
    "    client = MongoClient(port=DATABASE_PORT)\n",
    "    db=client.srp\n",
    "    appObject=db.apps.find_one({\"_id\":ObjectId(appID)})\n",
    "    return render_template(\"adminApp.html\",appObject=appObject)\n",
    "\n",
    "@app.route(\"/adminSave\",methods=['POST'])\n",
    "def adminSave():\n",
    "    print(request.form)\n",
    "    if request.form.get('name', \"\")==\"\":\n",
    "        return redirect(\"/saveError\")\n",
    "    if request.form.get(\"adminPassword\",\"\") != ADMIN_PASSWORD:\n",
    "        return redirect(\"/saveError\")\n",
    "    appID=request.form.get('appID', \"\")\n",
    "    client = MongoClient(port=DATABASE_PORT)\n",
    "    db=client.srp\n",
    "    db.apps.update_one({\"_id\":ObjectId(appID)},\n",
    "                       {'$set': \n",
    "                       {\n",
    "                           \"name\":request.form.get('name', \"\"),\n",
    "                           \"decs\":request.form.get('appDesc', \"\"),\n",
    "                           \"spisok\":request.form.get('spisok', \"\"),\n",
    "                           \"read\":request.form.get('read', \"\"),\n",
    "                           \"write\":request.form.get('write', \"\"),\n",
    "                           \"delete\":request.form.get('delete', \"\"),\n",
    "                       }})\n",
    "    return redirect(f\"/adminApp?id={appID}\")\n",
    "\n",
    "@app.route(\"/adminDelete\",methods=['POST'])\n",
    "def adminDelete():\n",
    "    print(request.form)\n",
    "    if request.form.get(\"adminPassword\",\"\") != ADMIN_PASSWORD:\n",
    "        return redirect(\"/saveError\")\n",
    "    appID=request.form.get('appID', \"\")\n",
    "    client = MongoClient(port=DATABASE_PORT)\n",
    "    db=client.srp\n",
    "    db.apps.delete_one({\"_id\":ObjectId(appID)})\n",
    "    return redirect(\"/admin\")\n",
    "\n",
    "@app.route('/secretKey')\n",
    "def secretKey():\n",
    "    linkID=request.args.get('link_id',\"Ошибка\")\n",
    "    client = MongoClient(port=DATABASE_PORT)\n",
    "    db=client.srp\n",
    "    linkObject=db.links.find_one({\"_id\":ObjectId(linkID)})\n",
    "    appObject=db.apps.find_one({\"_id\":ObjectId(linkObject[\"appID\"])})\n",
    "    db.links.delete_one({\"_id\":ObjectId(linkID)})\n",
    "    return render_template(\"secretKey.html\",appObject=appObject)\n",
    "    #return \"lol\"\n",
    "    #return render_template(\"created.html\",appID=appID)\n",
    "\n",
    "app.run(host=PORTAL_HOST, port=PORTAL_PORT, threaded=True)"
   ]
  },
  {
   "cell_type": "code",
   "execution_count": 1,
   "metadata": {},
   "outputs": [
    {
     "data": {
      "text/plain": [
       "<pymongo.results.UpdateResult at 0x2053e6def40>"
      ]
     },
     "execution_count": 1,
     "metadata": {},
     "output_type": "execute_result"
    }
   ],
   "source": [
    "PORTAL_PORT=49051\n",
    "PORTAL_HOST='0.0.0.0'\n",
    "DATABASE_PORT=27017\n",
    "\n",
    "from bson.objectid import ObjectId\n",
    "import random\n",
    "import string\n",
    "import hmac\n",
    "import hashlib\n",
    "from hashlib import sha256\n",
    "from flask import Flask\n",
    "from flask import request,redirect\n",
    "from flask import Response\n",
    "from flask import render_template\n",
    "from os import listdir\n",
    "from os.path import isfile, join\n",
    "import os\n",
    "from pymongo import MongoClient\n",
    "import os.path\n",
    "\n",
    "if os.path.isfile('.ADMIN_PASSWORD'):\n",
    "    with open('.ADMIN_PASSWORD','r') as f:\n",
    "        ADMIN_PASSWORD = f.read()\n",
    "else:\n",
    "    with open('.ADMIN_PASSWORD','w') as f:\n",
    "        ADMIN_PASSWORD = \"ADMIN_PASSWORD\"\n",
    "        f.write(ADMIN_PASSWORD)\n",
    "        \n",
    "appID=\"608d00f06f8e935b0408f24f\"\n",
    "client = MongoClient(port=DATABASE_PORT)\n",
    "db=client.srp\n",
    "db.apps.update_one({\"_id\":ObjectId(appID)},\n",
    "                   {'$set': \n",
    "                   {\n",
    "                       \"spisok\":\"on\",\n",
    "                   }})"
   ]
  },
  {
   "cell_type": "code",
   "execution_count": 3,
   "metadata": {},
   "outputs": [
    {
     "data": {
      "text/plain": [
       "True"
      ]
     },
     "execution_count": 3,
     "metadata": {},
     "output_type": "execute_result"
    }
   ],
   "source": [
    "import random\n",
    "import string\n",
    "import hmac\n",
    "import hashlib\n",
    "from hashlib import sha256\n",
    "from flask import Flask\n",
    "from flask import request,redirect\n",
    "from flask import Response\n",
    "from flask import render_template\n",
    "from os import listdir\n",
    "from os.path import isfile, join\n",
    "import os\n",
    "from pymongo import MongoClient\n",
    "sha256((\"LsYLrhKJ1e\"+\"supersupersuper\").encode('utf-8')).hexdigest()==\"3c68d71c26d9b75689b56ed6d1a8820c53bbaaa91da35401b7c8d2188ebc1525\""
   ]
  },
  {
   "cell_type": "code",
   "execution_count": null,
   "metadata": {},
   "outputs": [],
   "source": [
    "from base64 import b64encode\n",
    "from collections import OrderedDict\n",
    "from hashlib import sha256\n",
    "from hmac import HMAC\n",
    "from urllib.parse import urlparse, parse_qsl, urlencode\n"
   ]
  },
  {
   "cell_type": "code",
   "execution_count": 12,
   "metadata": {},
   "outputs": [
    {
     "data": {
      "text/plain": [
       "{'_id': ObjectId('608c0e27e9e834577d80daa7'),\n",
       " 'name': 'Блокнот',\n",
       " 'desc': 'Для записей',\n",
       " 'spisok': 'off',\n",
       " 'read': 'zapros',\n",
       " 'write': 'zapros',\n",
       " 'delete': 'off',\n",
       " 'salt': 'uCaMoI4bKC',\n",
       " 'passwordHash': 'a812082d47d7d6814dea0394eb51d9a7128c0222b26f330fb891520320a60b8e',\n",
       " 'secretKey': '8b34595526a3b82a32252c9cf89f89424880d12e717128b93df0b4efc735fcff'}"
      ]
     },
     "execution_count": 12,
     "metadata": {},
     "output_type": "execute_result"
    }
   ],
   "source": [
    "PORTAL_PORT=49051\n",
    "PORTAL_HOST='0.0.0.0'\n",
    "DATABASE_PORT=27017\n",
    "\n",
    "from bson.objectid import ObjectId\n",
    "import random\n",
    "import string\n",
    "import hmac\n",
    "import hashlib\n",
    "from hashlib import sha256\n",
    "from flask import Flask\n",
    "from flask import request,redirect\n",
    "from flask import Response\n",
    "from flask import render_template\n",
    "from os import listdir\n",
    "from os.path import isfile, join\n",
    "import os\n",
    "from pymongo import MongoClient\n",
    "\n",
    "client = MongoClient(port=DATABASE_PORT)\n",
    "db=client.srp\n",
    "m=db.apps.find_one({\"_id\":ObjectId(\"608c0e27e9e834577d80daa7\")})\n",
    "m"
   ]
  },
  {
   "cell_type": "code",
   "execution_count": 8,
   "metadata": {},
   "outputs": [
    {
     "name": "stdout",
     "output_type": "stream",
     "text": [
      "<pymongo.cursor.Cursor object at 0x0000028713358848>\n"
     ]
    }
   ],
   "source": [
    "print(m)\n"
   ]
  },
  {
   "cell_type": "code",
   "execution_count": 3,
   "metadata": {},
   "outputs": [
    {
     "data": {
      "text/plain": [
       "[1, 2]"
      ]
     },
     "execution_count": 3,
     "metadata": {},
     "output_type": "execute_result"
    }
   ],
   "source": [
    "a=[]\n",
    "a.append(1)\n",
    "a.append(2)\n",
    "a"
   ]
  },
  {
   "cell_type": "code",
   "execution_count": 4,
   "metadata": {},
   "outputs": [
    {
     "data": {
      "text/plain": [
       "'lol'"
      ]
     },
     "execution_count": 4,
     "metadata": {},
     "output_type": "execute_result"
    }
   ],
   "source": [
    "with open('.ADMIN_PASSWORD','r') as f:\n",
    "    ADMIN_PASSWORD = f.read()\n",
    "ADMIN_PASSWORD"
   ]
  }
 ],
 "metadata": {
  "kernelspec": {
   "display_name": "Python 3",
   "language": "python",
   "name": "python3"
  },
  "language_info": {
   "codemirror_mode": {
    "name": "ipython",
    "version": 3
   },
   "file_extension": ".py",
   "mimetype": "text/x-python",
   "name": "python",
   "nbconvert_exporter": "python",
   "pygments_lexer": "ipython3",
   "version": "3.8.5"
  }
 },
 "nbformat": 4,
 "nbformat_minor": 4
}
