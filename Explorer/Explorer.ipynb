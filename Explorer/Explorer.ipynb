{
 "cells": [
  {
   "cell_type": "code",
   "execution_count": null,
   "metadata": {},
   "outputs": [
    {
     "name": "stdout",
     "output_type": "stream",
     "text": [
      " * Serving Flask app \"__main__\" (lazy loading)\n",
      " * Environment: production\n",
      "   WARNING: This is a development server. Do not use it in a production deployment.\n",
      "   Use a production WSGI server instead.\n",
      " * Debug mode: off\n"
     ]
    },
    {
     "name": "stderr",
     "output_type": "stream",
     "text": [
      " * Running on http://0.0.0.0:49055/ (Press CTRL+C to quit)\n",
      "127.0.0.1 - - [03/May/2021 15:46:17] \"\u001b[37mGET / HTTP/1.1\u001b[0m\" 200 -\n",
      "127.0.0.1 - - [03/May/2021 15:46:17] \"\u001b[37mGET /appSRP.js HTTP/1.1\u001b[0m\" 200 -\n",
      "127.0.0.1 - - [03/May/2021 15:46:17] \"\u001b[33mGET /favicon.ico HTTP/1.1\u001b[0m\" 404 -\n",
      "127.0.0.1 - - [03/May/2021 15:54:40] \"\u001b[37mGET / HTTP/1.1\u001b[0m\" 200 -\n",
      "127.0.0.1 - - [03/May/2021 15:54:40] \"\u001b[36mGET /appSRP.js HTTP/1.1\u001b[0m\" 304 -\n",
      "127.0.0.1 - - [03/May/2021 15:59:33] \"\u001b[37mGET / HTTP/1.1\u001b[0m\" 200 -\n",
      "127.0.0.1 - - [03/May/2021 15:59:33] \"\u001b[36mGET /appSRP.js HTTP/1.1\u001b[0m\" 304 -\n",
      "127.0.0.1 - - [03/May/2021 16:04:34] \"\u001b[37mGET / HTTP/1.1\u001b[0m\" 200 -\n",
      "127.0.0.1 - - [03/May/2021 16:04:34] \"\u001b[37mGET /appSRP.js HTTP/1.1\u001b[0m\" 200 -\n",
      "127.0.0.1 - - [03/May/2021 16:04:35] \"\u001b[37mPOST /command HTTP/1.1\u001b[0m\" 200 -\n"
     ]
    },
    {
     "name": "stdout",
     "output_type": "stream",
     "text": [
      "{'commandHash': 'c9b1afb3440b86929346e255644ca84c2e510d503b38f045ae038aff2167be92'}\n"
     ]
    },
    {
     "name": "stderr",
     "output_type": "stream",
     "text": [
      "127.0.0.1 - - [03/May/2021 16:05:09] \"\u001b[37mGET / HTTP/1.1\u001b[0m\" 200 -\n",
      "127.0.0.1 - - [03/May/2021 16:05:09] \"\u001b[37mGET /appSRP.js HTTP/1.1\u001b[0m\" 200 -\n",
      "127.0.0.1 - - [03/May/2021 16:05:10] \"\u001b[37mPOST /command HTTP/1.1\u001b[0m\" 200 -\n"
     ]
    },
    {
     "name": "stdout",
     "output_type": "stream",
     "text": [
      "{'commandHash': 'ace4e6183a700e54d750fd8da11f38533cffc1eb9802403d09ba91be43931f29'}\n"
     ]
    },
    {
     "name": "stderr",
     "output_type": "stream",
     "text": [
      "127.0.0.1 - - [03/May/2021 16:05:55] \"\u001b[37mGET / HTTP/1.1\u001b[0m\" 200 -\n",
      "127.0.0.1 - - [03/May/2021 16:05:55] \"\u001b[36mGET /appSRP.js HTTP/1.1\u001b[0m\" 304 -\n",
      "127.0.0.1 - - [03/May/2021 16:05:55] \"\u001b[37mPOST /command HTTP/1.1\u001b[0m\" 200 -\n"
     ]
    },
    {
     "name": "stdout",
     "output_type": "stream",
     "text": [
      "{'commandHash': 'ace4e6183a700e54d750fd8da11f38533cffc1eb9802403d09ba91be43931f29'}\n"
     ]
    },
    {
     "name": "stderr",
     "output_type": "stream",
     "text": [
      "127.0.0.1 - - [03/May/2021 16:11:24] \"\u001b[37mPOST /command HTTP/1.1\u001b[0m\" 200 -\n"
     ]
    },
    {
     "name": "stdout",
     "output_type": "stream",
     "text": [
      "{'commandHash': 'ace4e6183a700e54d750fd8da11f38533cffc1eb9802403d09ba91be43931f29'}\n"
     ]
    },
    {
     "name": "stderr",
     "output_type": "stream",
     "text": [
      "127.0.0.1 - - [03/May/2021 16:13:03] \"\u001b[37mGET / HTTP/1.1\u001b[0m\" 200 -\n",
      "127.0.0.1 - - [03/May/2021 16:13:03] \"\u001b[36mGET /appSRP.js HTTP/1.1\u001b[0m\" 304 -\n",
      "127.0.0.1 - - [03/May/2021 16:13:04] \"\u001b[37mPOST /command HTTP/1.1\u001b[0m\" 200 -\n"
     ]
    },
    {
     "name": "stdout",
     "output_type": "stream",
     "text": [
      "{'commandHash': 'ace4e6183a700e54d750fd8da11f38533cffc1eb9802403d09ba91be43931f29'}\n"
     ]
    },
    {
     "name": "stderr",
     "output_type": "stream",
     "text": [
      "127.0.0.1 - - [03/May/2021 16:18:39] \"\u001b[37mGET / HTTP/1.1\u001b[0m\" 200 -\n",
      "127.0.0.1 - - [03/May/2021 16:18:39] \"\u001b[36mGET /appSRP.js HTTP/1.1\u001b[0m\" 304 -\n",
      "127.0.0.1 - - [03/May/2021 16:18:39] \"\u001b[37mPOST /command HTTP/1.1\u001b[0m\" 200 -\n"
     ]
    },
    {
     "name": "stdout",
     "output_type": "stream",
     "text": [
      "{'commandHash': 'ace4e6183a700e54d750fd8da11f38533cffc1eb9802403d09ba91be43931f29'}\n"
     ]
    },
    {
     "name": "stderr",
     "output_type": "stream",
     "text": [
      "127.0.0.1 - - [03/May/2021 16:26:47] \"\u001b[37mGET / HTTP/1.1\u001b[0m\" 200 -\n",
      "127.0.0.1 - - [03/May/2021 16:26:48] \"\u001b[36mGET /appSRP.js HTTP/1.1\u001b[0m\" 304 -\n",
      "127.0.0.1 - - [03/May/2021 16:26:49] \"\u001b[37mPOST /command HTTP/1.1\u001b[0m\" 200 -\n"
     ]
    },
    {
     "name": "stdout",
     "output_type": "stream",
     "text": [
      "{'commandHash': 'ace4e6183a700e54d750fd8da11f38533cffc1eb9802403d09ba91be43931f29'}\n"
     ]
    },
    {
     "name": "stderr",
     "output_type": "stream",
     "text": [
      "127.0.0.1 - - [03/May/2021 16:28:43] \"\u001b[37mGET / HTTP/1.1\u001b[0m\" 200 -\n",
      "127.0.0.1 - - [03/May/2021 16:28:43] \"\u001b[36mGET /appSRP.js HTTP/1.1\u001b[0m\" 304 -\n",
      "127.0.0.1 - - [03/May/2021 16:28:44] \"\u001b[37mPOST /command HTTP/1.1\u001b[0m\" 200 -\n"
     ]
    },
    {
     "name": "stdout",
     "output_type": "stream",
     "text": [
      "{'commandHash': 'ace4e6183a700e54d750fd8da11f38533cffc1eb9802403d09ba91be43931f29'}\n"
     ]
    },
    {
     "name": "stderr",
     "output_type": "stream",
     "text": [
      "127.0.0.1 - - [03/May/2021 16:32:57] \"\u001b[37mGET / HTTP/1.1\u001b[0m\" 200 -\n",
      "127.0.0.1 - - [03/May/2021 16:32:57] \"\u001b[36mGET /appSRP.js HTTP/1.1\u001b[0m\" 304 -\n",
      "127.0.0.1 - - [03/May/2021 16:32:58] \"\u001b[37mPOST /command HTTP/1.1\u001b[0m\" 200 -\n"
     ]
    },
    {
     "name": "stdout",
     "output_type": "stream",
     "text": [
      "{'commandHash': 'ace4e6183a700e54d750fd8da11f38533cffc1eb9802403d09ba91be43931f29'}\n"
     ]
    },
    {
     "name": "stderr",
     "output_type": "stream",
     "text": [
      "127.0.0.1 - - [03/May/2021 16:36:11] \"\u001b[37mGET / HTTP/1.1\u001b[0m\" 200 -\n",
      "127.0.0.1 - - [03/May/2021 16:36:11] \"\u001b[36mGET /appSRP.js HTTP/1.1\u001b[0m\" 304 -\n",
      "127.0.0.1 - - [03/May/2021 16:36:12] \"\u001b[37mPOST /command HTTP/1.1\u001b[0m\" 200 -\n"
     ]
    },
    {
     "name": "stdout",
     "output_type": "stream",
     "text": [
      "{'commandHash': 'ace4e6183a700e54d750fd8da11f38533cffc1eb9802403d09ba91be43931f29'}\n"
     ]
    },
    {
     "name": "stderr",
     "output_type": "stream",
     "text": [
      "127.0.0.1 - - [03/May/2021 16:36:59] \"\u001b[37mGET / HTTP/1.1\u001b[0m\" 200 -\n",
      "127.0.0.1 - - [03/May/2021 16:36:59] \"\u001b[36mGET /appSRP.js HTTP/1.1\u001b[0m\" 304 -\n",
      "127.0.0.1 - - [03/May/2021 16:36:59] \"\u001b[37mPOST /command HTTP/1.1\u001b[0m\" 200 -\n"
     ]
    },
    {
     "name": "stdout",
     "output_type": "stream",
     "text": [
      "{'commandHash': 'ace4e6183a700e54d750fd8da11f38533cffc1eb9802403d09ba91be43931f29'}\n"
     ]
    },
    {
     "name": "stderr",
     "output_type": "stream",
     "text": [
      "127.0.0.1 - - [03/May/2021 16:38:27] \"\u001b[37mGET / HTTP/1.1\u001b[0m\" 200 -\n",
      "127.0.0.1 - - [03/May/2021 16:38:27] \"\u001b[36mGET /appSRP.js HTTP/1.1\u001b[0m\" 304 -\n",
      "127.0.0.1 - - [03/May/2021 16:38:28] \"\u001b[37mPOST /command HTTP/1.1\u001b[0m\" 200 -\n"
     ]
    },
    {
     "name": "stdout",
     "output_type": "stream",
     "text": [
      "{'commandHash': 'ace4e6183a700e54d750fd8da11f38533cffc1eb9802403d09ba91be43931f29'}\n"
     ]
    },
    {
     "name": "stderr",
     "output_type": "stream",
     "text": [
      "127.0.0.1 - - [03/May/2021 16:39:06] \"\u001b[37mGET / HTTP/1.1\u001b[0m\" 200 -\n",
      "127.0.0.1 - - [03/May/2021 16:39:06] \"\u001b[36mGET /appSRP.js HTTP/1.1\u001b[0m\" 304 -\n",
      "127.0.0.1 - - [03/May/2021 16:39:07] \"\u001b[37mPOST /command HTTP/1.1\u001b[0m\" 200 -\n"
     ]
    },
    {
     "name": "stdout",
     "output_type": "stream",
     "text": [
      "{'commandHash': 'ace4e6183a700e54d750fd8da11f38533cffc1eb9802403d09ba91be43931f29'}\n"
     ]
    },
    {
     "name": "stderr",
     "output_type": "stream",
     "text": [
      "127.0.0.1 - - [03/May/2021 16:39:26] \"\u001b[37mGET / HTTP/1.1\u001b[0m\" 200 -\n",
      "127.0.0.1 - - [03/May/2021 16:39:26] \"\u001b[36mGET /appSRP.js HTTP/1.1\u001b[0m\" 304 -\n",
      "127.0.0.1 - - [03/May/2021 16:39:27] \"\u001b[37mPOST /command HTTP/1.1\u001b[0m\" 200 -\n"
     ]
    },
    {
     "name": "stdout",
     "output_type": "stream",
     "text": [
      "{'commandHash': 'ace4e6183a700e54d750fd8da11f38533cffc1eb9802403d09ba91be43931f29'}\n"
     ]
    },
    {
     "name": "stderr",
     "output_type": "stream",
     "text": [
      "127.0.0.1 - - [03/May/2021 16:41:17] \"\u001b[37mGET / HTTP/1.1\u001b[0m\" 200 -\n",
      "127.0.0.1 - - [03/May/2021 16:41:17] \"\u001b[36mGET /appSRP.js HTTP/1.1\u001b[0m\" 304 -\n",
      "127.0.0.1 - - [03/May/2021 16:41:18] \"\u001b[37mPOST /command HTTP/1.1\u001b[0m\" 200 -\n"
     ]
    },
    {
     "name": "stdout",
     "output_type": "stream",
     "text": [
      "{'commandHash': 'ace4e6183a700e54d750fd8da11f38533cffc1eb9802403d09ba91be43931f29'}\n"
     ]
    },
    {
     "name": "stderr",
     "output_type": "stream",
     "text": [
      "127.0.0.1 - - [03/May/2021 16:41:31] \"\u001b[37mGET / HTTP/1.1\u001b[0m\" 200 -\n",
      "127.0.0.1 - - [03/May/2021 16:41:31] \"\u001b[36mGET /appSRP.js HTTP/1.1\u001b[0m\" 304 -\n",
      "127.0.0.1 - - [03/May/2021 16:41:33] \"\u001b[37mPOST /command HTTP/1.1\u001b[0m\" 200 -\n"
     ]
    },
    {
     "name": "stdout",
     "output_type": "stream",
     "text": [
      "{'commandHash': 'ace4e6183a700e54d750fd8da11f38533cffc1eb9802403d09ba91be43931f29'}\n"
     ]
    },
    {
     "name": "stderr",
     "output_type": "stream",
     "text": [
      "127.0.0.1 - - [03/May/2021 16:42:26] \"\u001b[37mGET / HTTP/1.1\u001b[0m\" 200 -\n",
      "127.0.0.1 - - [03/May/2021 16:42:26] \"\u001b[36mGET /appSRP.js HTTP/1.1\u001b[0m\" 304 -\n",
      "127.0.0.1 - - [03/May/2021 16:42:27] \"\u001b[37mPOST /command HTTP/1.1\u001b[0m\" 200 -\n"
     ]
    },
    {
     "name": "stdout",
     "output_type": "stream",
     "text": [
      "{'commandHash': 'ace4e6183a700e54d750fd8da11f38533cffc1eb9802403d09ba91be43931f29'}\n"
     ]
    },
    {
     "name": "stderr",
     "output_type": "stream",
     "text": [
      "127.0.0.1 - - [03/May/2021 16:44:59] \"\u001b[37mGET / HTTP/1.1\u001b[0m\" 200 -\n",
      "127.0.0.1 - - [03/May/2021 16:44:59] \"\u001b[36mGET /appSRP.js HTTP/1.1\u001b[0m\" 304 -\n",
      "127.0.0.1 - - [03/May/2021 16:44:59] \"\u001b[37mPOST /command HTTP/1.1\u001b[0m\" 200 -\n"
     ]
    },
    {
     "name": "stdout",
     "output_type": "stream",
     "text": [
      "{'commandHash': 'ace4e6183a700e54d750fd8da11f38533cffc1eb9802403d09ba91be43931f29'}\n"
     ]
    },
    {
     "name": "stderr",
     "output_type": "stream",
     "text": [
      "127.0.0.1 - - [03/May/2021 16:45:50] \"\u001b[37mGET / HTTP/1.1\u001b[0m\" 200 -\n",
      "127.0.0.1 - - [03/May/2021 16:45:50] \"\u001b[36mGET /appSRP.js HTTP/1.1\u001b[0m\" 304 -\n",
      "127.0.0.1 - - [03/May/2021 16:45:52] \"\u001b[37mPOST /command HTTP/1.1\u001b[0m\" 200 -\n"
     ]
    },
    {
     "name": "stdout",
     "output_type": "stream",
     "text": [
      "{'commandHash': 'ace4e6183a700e54d750fd8da11f38533cffc1eb9802403d09ba91be43931f29'}\n"
     ]
    },
    {
     "name": "stderr",
     "output_type": "stream",
     "text": [
      "127.0.0.1 - - [03/May/2021 16:46:18] \"\u001b[37mGET / HTTP/1.1\u001b[0m\" 200 -\n",
      "127.0.0.1 - - [03/May/2021 16:46:18] \"\u001b[36mGET /appSRP.js HTTP/1.1\u001b[0m\" 304 -\n",
      "127.0.0.1 - - [03/May/2021 16:46:19] \"\u001b[37mPOST /command HTTP/1.1\u001b[0m\" 200 -\n"
     ]
    },
    {
     "name": "stdout",
     "output_type": "stream",
     "text": [
      "{'commandHash': 'ace4e6183a700e54d750fd8da11f38533cffc1eb9802403d09ba91be43931f29'}\n"
     ]
    },
    {
     "name": "stderr",
     "output_type": "stream",
     "text": [
      "127.0.0.1 - - [03/May/2021 16:46:29] \"\u001b[37mPOST /command HTTP/1.1\u001b[0m\" 200 -\n"
     ]
    },
    {
     "name": "stdout",
     "output_type": "stream",
     "text": [
      "{'commandHash': 'ec5808bacfb3b69b34f35d4eae30bdc136b4166695c3a94bbe7fce337b0c4abf'}\n"
     ]
    },
    {
     "name": "stderr",
     "output_type": "stream",
     "text": [
      "127.0.0.1 - - [03/May/2021 16:46:44] \"\u001b[37mPOST /command HTTP/1.1\u001b[0m\" 200 -\n"
     ]
    },
    {
     "name": "stdout",
     "output_type": "stream",
     "text": [
      "{'commandHash': '3a37a2a33d8e346b33a103f0e1258215f6c27e6ff931f83888abb4c1355ee723'}\n"
     ]
    },
    {
     "name": "stderr",
     "output_type": "stream",
     "text": [
      "127.0.0.1 - - [03/May/2021 16:47:11] \"\u001b[37mGET / HTTP/1.1\u001b[0m\" 200 -\n",
      "127.0.0.1 - - [03/May/2021 16:47:11] \"\u001b[36mGET /appSRP.js HTTP/1.1\u001b[0m\" 304 -\n",
      "127.0.0.1 - - [03/May/2021 16:47:11] \"\u001b[37mPOST /command HTTP/1.1\u001b[0m\" 200 -\n"
     ]
    },
    {
     "name": "stdout",
     "output_type": "stream",
     "text": [
      "{'commandHash': 'ace4e6183a700e54d750fd8da11f38533cffc1eb9802403d09ba91be43931f29'}\n"
     ]
    },
    {
     "name": "stderr",
     "output_type": "stream",
     "text": [
      "127.0.0.1 - - [03/May/2021 16:47:15] \"\u001b[37mPOST /command HTTP/1.1\u001b[0m\" 200 -\n"
     ]
    },
    {
     "name": "stdout",
     "output_type": "stream",
     "text": [
      "{'commandHash': '18a9e04865242b41ea594e09495a3ffeae5fc5efce7ac270d02265e929afdd54'}\n"
     ]
    },
    {
     "name": "stderr",
     "output_type": "stream",
     "text": [
      "127.0.0.1 - - [03/May/2021 16:49:49] \"\u001b[37mPOST /command HTTP/1.1\u001b[0m\" 200 -\n"
     ]
    },
    {
     "name": "stdout",
     "output_type": "stream",
     "text": [
      "{'commandHash': '29910167592ad6d15521f797af82bf57e42d9b9c50159f22926ec46ad37e4608'}\n"
     ]
    },
    {
     "name": "stderr",
     "output_type": "stream",
     "text": [
      "127.0.0.1 - - [03/May/2021 16:54:51] \"\u001b[37mGET / HTTP/1.1\u001b[0m\" 200 -\n",
      "127.0.0.1 - - [03/May/2021 16:54:51] \"\u001b[36mGET /appSRP.js HTTP/1.1\u001b[0m\" 304 -\n",
      "127.0.0.1 - - [03/May/2021 16:54:54] \"\u001b[37mPOST /command HTTP/1.1\u001b[0m\" 200 -\n"
     ]
    },
    {
     "name": "stdout",
     "output_type": "stream",
     "text": [
      "{'commandHash': '18a9e04865242b41ea594e09495a3ffeae5fc5efce7ac270d02265e929afdd54'}\n"
     ]
    },
    {
     "name": "stderr",
     "output_type": "stream",
     "text": [
      "127.0.0.1 - - [03/May/2021 16:56:44] \"\u001b[37mGET / HTTP/1.1\u001b[0m\" 200 -\n",
      "127.0.0.1 - - [03/May/2021 16:56:44] \"\u001b[36mGET /appSRP.js HTTP/1.1\u001b[0m\" 304 -\n",
      "127.0.0.1 - - [03/May/2021 16:56:44] \"\u001b[37mPOST /command HTTP/1.1\u001b[0m\" 200 -\n"
     ]
    },
    {
     "name": "stdout",
     "output_type": "stream",
     "text": [
      "{'commandHash': '18a9e04865242b41ea594e09495a3ffeae5fc5efce7ac270d02265e929afdd54'}\n"
     ]
    },
    {
     "name": "stderr",
     "output_type": "stream",
     "text": [
      "127.0.0.1 - - [03/May/2021 16:56:51] \"\u001b[37mPOST /command HTTP/1.1\u001b[0m\" 200 -\n"
     ]
    },
    {
     "name": "stdout",
     "output_type": "stream",
     "text": [
      "{'commandHash': 'ec5808bacfb3b69b34f35d4eae30bdc136b4166695c3a94bbe7fce337b0c4abf'}\n"
     ]
    },
    {
     "name": "stderr",
     "output_type": "stream",
     "text": [
      "127.0.0.1 - - [03/May/2021 17:00:44] \"\u001b[37mGET / HTTP/1.1\u001b[0m\" 200 -\n",
      "127.0.0.1 - - [03/May/2021 17:00:44] \"\u001b[36mGET /appSRP.js HTTP/1.1\u001b[0m\" 304 -\n",
      "127.0.0.1 - - [03/May/2021 17:00:50] \"\u001b[37mPOST /command HTTP/1.1\u001b[0m\" 200 -\n"
     ]
    },
    {
     "name": "stdout",
     "output_type": "stream",
     "text": [
      "{'commandHash': 'ec5808bacfb3b69b34f35d4eae30bdc136b4166695c3a94bbe7fce337b0c4abf'}\n"
     ]
    },
    {
     "name": "stderr",
     "output_type": "stream",
     "text": [
      "127.0.0.1 - - [03/May/2021 17:01:17] \"\u001b[37mGET / HTTP/1.1\u001b[0m\" 200 -\n",
      "127.0.0.1 - - [03/May/2021 17:01:17] \"\u001b[36mGET /appSRP.js HTTP/1.1\u001b[0m\" 304 -\n",
      "127.0.0.1 - - [03/May/2021 17:01:19] \"\u001b[37mPOST /command HTTP/1.1\u001b[0m\" 200 -\n"
     ]
    },
    {
     "name": "stdout",
     "output_type": "stream",
     "text": [
      "{'commandHash': 'ec5808bacfb3b69b34f35d4eae30bdc136b4166695c3a94bbe7fce337b0c4abf'}\n"
     ]
    },
    {
     "name": "stderr",
     "output_type": "stream",
     "text": [
      "127.0.0.1 - - [03/May/2021 17:03:38] \"\u001b[37mGET / HTTP/1.1\u001b[0m\" 200 -\n",
      "127.0.0.1 - - [03/May/2021 17:03:38] \"\u001b[36mGET /appSRP.js HTTP/1.1\u001b[0m\" 304 -\n",
      "127.0.0.1 - - [03/May/2021 17:03:39] \"\u001b[37mPOST /command HTTP/1.1\u001b[0m\" 200 -\n"
     ]
    },
    {
     "name": "stdout",
     "output_type": "stream",
     "text": [
      "{'commandHash': '18a9e04865242b41ea594e09495a3ffeae5fc5efce7ac270d02265e929afdd54'}\n"
     ]
    },
    {
     "name": "stderr",
     "output_type": "stream",
     "text": [
      "127.0.0.1 - - [03/May/2021 17:03:53] \"\u001b[37mGET / HTTP/1.1\u001b[0m\" 200 -\n",
      "127.0.0.1 - - [03/May/2021 17:03:53] \"\u001b[36mGET /appSRP.js HTTP/1.1\u001b[0m\" 304 -\n",
      "127.0.0.1 - - [03/May/2021 17:03:53] \"\u001b[37mPOST /command HTTP/1.1\u001b[0m\" 200 -\n"
     ]
    },
    {
     "name": "stdout",
     "output_type": "stream",
     "text": [
      "{'commandHash': '18a9e04865242b41ea594e09495a3ffeae5fc5efce7ac270d02265e929afdd54'}\n"
     ]
    },
    {
     "name": "stderr",
     "output_type": "stream",
     "text": [
      "127.0.0.1 - - [03/May/2021 17:04:25] \"\u001b[37mGET / HTTP/1.1\u001b[0m\" 200 -\n",
      "127.0.0.1 - - [03/May/2021 17:04:25] \"\u001b[36mGET /appSRP.js HTTP/1.1\u001b[0m\" 304 -\n",
      "127.0.0.1 - - [03/May/2021 17:04:27] \"\u001b[37mPOST /command HTTP/1.1\u001b[0m\" 200 -\n"
     ]
    },
    {
     "name": "stdout",
     "output_type": "stream",
     "text": [
      "{'commandHash': '18a9e04865242b41ea594e09495a3ffeae5fc5efce7ac270d02265e929afdd54'}\n"
     ]
    },
    {
     "name": "stderr",
     "output_type": "stream",
     "text": [
      "127.0.0.1 - - [03/May/2021 17:04:54] \"\u001b[37mGET / HTTP/1.1\u001b[0m\" 200 -\n",
      "127.0.0.1 - - [03/May/2021 17:04:54] \"\u001b[36mGET /appSRP.js HTTP/1.1\u001b[0m\" 304 -\n",
      "127.0.0.1 - - [03/May/2021 17:04:55] \"\u001b[37mPOST /command HTTP/1.1\u001b[0m\" 200 -\n"
     ]
    },
    {
     "name": "stdout",
     "output_type": "stream",
     "text": [
      "{'commandHash': '18a9e04865242b41ea594e09495a3ffeae5fc5efce7ac270d02265e929afdd54'}\n"
     ]
    },
    {
     "name": "stderr",
     "output_type": "stream",
     "text": [
      "127.0.0.1 - - [03/May/2021 17:05:35] \"\u001b[37mGET / HTTP/1.1\u001b[0m\" 200 -\n",
      "127.0.0.1 - - [03/May/2021 17:05:35] \"\u001b[36mGET /appSRP.js HTTP/1.1\u001b[0m\" 304 -\n",
      "127.0.0.1 - - [03/May/2021 17:05:39] \"\u001b[37mPOST /command HTTP/1.1\u001b[0m\" 200 -\n"
     ]
    },
    {
     "name": "stdout",
     "output_type": "stream",
     "text": [
      "{'commandHash': '18a9e04865242b41ea594e09495a3ffeae5fc5efce7ac270d02265e929afdd54'}\n"
     ]
    },
    {
     "name": "stderr",
     "output_type": "stream",
     "text": [
      "127.0.0.1 - - [03/May/2021 17:06:10] \"\u001b[37mGET / HTTP/1.1\u001b[0m\" 200 -\n",
      "127.0.0.1 - - [03/May/2021 17:06:10] \"\u001b[36mGET /appSRP.js HTTP/1.1\u001b[0m\" 304 -\n",
      "127.0.0.1 - - [03/May/2021 17:06:11] \"\u001b[37mPOST /command HTTP/1.1\u001b[0m\" 200 -\n"
     ]
    },
    {
     "name": "stdout",
     "output_type": "stream",
     "text": [
      "{'commandHash': '18a9e04865242b41ea594e09495a3ffeae5fc5efce7ac270d02265e929afdd54'}\n"
     ]
    },
    {
     "name": "stderr",
     "output_type": "stream",
     "text": [
      "127.0.0.1 - - [03/May/2021 17:06:45] \"\u001b[37mGET / HTTP/1.1\u001b[0m\" 200 -\n",
      "127.0.0.1 - - [03/May/2021 17:06:45] \"\u001b[36mGET /appSRP.js HTTP/1.1\u001b[0m\" 304 -\n",
      "127.0.0.1 - - [03/May/2021 17:06:47] \"\u001b[37mPOST /command HTTP/1.1\u001b[0m\" 200 -\n"
     ]
    },
    {
     "name": "stdout",
     "output_type": "stream",
     "text": [
      "{'commandHash': '18a9e04865242b41ea594e09495a3ffeae5fc5efce7ac270d02265e929afdd54'}\n"
     ]
    },
    {
     "name": "stderr",
     "output_type": "stream",
     "text": [
      "127.0.0.1 - - [03/May/2021 17:07:04] \"\u001b[37mGET / HTTP/1.1\u001b[0m\" 200 -\n",
      "127.0.0.1 - - [03/May/2021 17:07:04] \"\u001b[36mGET /appSRP.js HTTP/1.1\u001b[0m\" 304 -\n",
      "127.0.0.1 - - [03/May/2021 17:07:05] \"\u001b[37mPOST /command HTTP/1.1\u001b[0m\" 200 -\n"
     ]
    },
    {
     "name": "stdout",
     "output_type": "stream",
     "text": [
      "{'commandHash': '18a9e04865242b41ea594e09495a3ffeae5fc5efce7ac270d02265e929afdd54'}\n"
     ]
    },
    {
     "name": "stderr",
     "output_type": "stream",
     "text": [
      "127.0.0.1 - - [03/May/2021 17:07:20] \"\u001b[37mGET / HTTP/1.1\u001b[0m\" 200 -\n",
      "127.0.0.1 - - [03/May/2021 17:07:20] \"\u001b[36mGET /appSRP.js HTTP/1.1\u001b[0m\" 304 -\n",
      "127.0.0.1 - - [03/May/2021 17:07:22] \"\u001b[37mPOST /command HTTP/1.1\u001b[0m\" 200 -\n"
     ]
    },
    {
     "name": "stdout",
     "output_type": "stream",
     "text": [
      "{'commandHash': '18a9e04865242b41ea594e09495a3ffeae5fc5efce7ac270d02265e929afdd54'}\n"
     ]
    },
    {
     "name": "stderr",
     "output_type": "stream",
     "text": [
      "127.0.0.1 - - [03/May/2021 17:07:29] \"\u001b[37mGET /?path=C%3A%2FUsers%2Fmaxno%2FDownloads HTTP/1.1\u001b[0m\" 200 -\n",
      "127.0.0.1 - - [03/May/2021 17:07:29] \"\u001b[36mGET /appSRP.js HTTP/1.1\u001b[0m\" 304 -\n",
      "127.0.0.1 - - [03/May/2021 17:07:45] \"\u001b[37mGET / HTTP/1.1\u001b[0m\" 200 -\n",
      "127.0.0.1 - - [03/May/2021 17:07:45] \"\u001b[36mGET /appSRP.js HTTP/1.1\u001b[0m\" 304 -\n",
      "127.0.0.1 - - [03/May/2021 17:07:46] \"\u001b[37mPOST /command HTTP/1.1\u001b[0m\" 200 -\n"
     ]
    },
    {
     "name": "stdout",
     "output_type": "stream",
     "text": [
      "{'commandHash': '18a9e04865242b41ea594e09495a3ffeae5fc5efce7ac270d02265e929afdd54'}\n"
     ]
    },
    {
     "name": "stderr",
     "output_type": "stream",
     "text": [
      "127.0.0.1 - - [03/May/2021 17:07:53] \"\u001b[37mPOST /command HTTP/1.1\u001b[0m\" 200 -\n"
     ]
    },
    {
     "name": "stdout",
     "output_type": "stream",
     "text": [
      "{'commandHash': 'f25db34f57136cba9b680f40852e6c69ecc903945df02d44073e7e9657eedcf1'}\n"
     ]
    },
    {
     "name": "stderr",
     "output_type": "stream",
     "text": [
      "127.0.0.1 - - [03/May/2021 17:08:52] \"\u001b[37mGET / HTTP/1.1\u001b[0m\" 200 -\n",
      "127.0.0.1 - - [03/May/2021 17:08:52] \"\u001b[36mGET /appSRP.js HTTP/1.1\u001b[0m\" 304 -\n",
      "127.0.0.1 - - [03/May/2021 17:08:53] \"\u001b[37mPOST /command HTTP/1.1\u001b[0m\" 200 -\n"
     ]
    },
    {
     "name": "stdout",
     "output_type": "stream",
     "text": [
      "{'commandHash': '18a9e04865242b41ea594e09495a3ffeae5fc5efce7ac270d02265e929afdd54'}\n"
     ]
    },
    {
     "name": "stderr",
     "output_type": "stream",
     "text": [
      "127.0.0.1 - - [03/May/2021 17:09:21] \"\u001b[37mGET / HTTP/1.1\u001b[0m\" 200 -\n",
      "127.0.0.1 - - [03/May/2021 17:09:21] \"\u001b[36mGET /appSRP.js HTTP/1.1\u001b[0m\" 304 -\n",
      "127.0.0.1 - - [03/May/2021 17:09:22] \"\u001b[37mPOST /command HTTP/1.1\u001b[0m\" 200 -\n"
     ]
    },
    {
     "name": "stdout",
     "output_type": "stream",
     "text": [
      "{'commandHash': '18a9e04865242b41ea594e09495a3ffeae5fc5efce7ac270d02265e929afdd54'}\n"
     ]
    },
    {
     "name": "stderr",
     "output_type": "stream",
     "text": [
      "127.0.0.1 - - [03/May/2021 17:09:28] \"\u001b[37mPOST /command HTTP/1.1\u001b[0m\" 200 -\n"
     ]
    },
    {
     "name": "stdout",
     "output_type": "stream",
     "text": [
      "{'commandHash': '38e442d368844ca9aaac91cafc2ebce0142f5684df69c758fee3d938c606a208'}\n"
     ]
    },
    {
     "name": "stderr",
     "output_type": "stream",
     "text": [
      "127.0.0.1 - - [03/May/2021 17:09:34] \"\u001b[37mPOST /command HTTP/1.1\u001b[0m\" 200 -\n"
     ]
    },
    {
     "name": "stdout",
     "output_type": "stream",
     "text": [
      "{'commandHash': '451d1ac03b86e4cc6c2bfcf3e45e3f971f99adada47cb9e2855cef96fd217967'}\n"
     ]
    },
    {
     "name": "stderr",
     "output_type": "stream",
     "text": [
      "127.0.0.1 - - [03/May/2021 17:09:40] \"\u001b[37mPOST /command HTTP/1.1\u001b[0m\" 200 -\n"
     ]
    },
    {
     "name": "stdout",
     "output_type": "stream",
     "text": [
      "{'commandHash': '38e442d368844ca9aaac91cafc2ebce0142f5684df69c758fee3d938c606a208'}\n"
     ]
    },
    {
     "name": "stderr",
     "output_type": "stream",
     "text": [
      "127.0.0.1 - - [03/May/2021 17:09:44] \"\u001b[37mPOST /command HTTP/1.1\u001b[0m\" 200 -\n"
     ]
    },
    {
     "name": "stdout",
     "output_type": "stream",
     "text": [
      "{'commandHash': 'ace4e6183a700e54d750fd8da11f38533cffc1eb9802403d09ba91be43931f29'}\n"
     ]
    },
    {
     "name": "stderr",
     "output_type": "stream",
     "text": [
      "127.0.0.1 - - [03/May/2021 17:09:51] \"\u001b[37mPOST /command HTTP/1.1\u001b[0m\" 200 -\n"
     ]
    },
    {
     "name": "stdout",
     "output_type": "stream",
     "text": [
      "{'commandHash': '7e6dac442807c3d0e58e11fc329bc5953f679906568b7f97ce0a7dc463c87db8'}\n"
     ]
    },
    {
     "name": "stderr",
     "output_type": "stream",
     "text": [
      "127.0.0.1 - - [03/May/2021 17:11:49] \"\u001b[37mPOST /command HTTP/1.1\u001b[0m\" 200 -\n"
     ]
    },
    {
     "name": "stdout",
     "output_type": "stream",
     "text": [
      "{'commandHash': 'adc9b88835386ac0a433b06cb9f74de195cea35b37cc387606711fa80c3175b5'}\n"
     ]
    },
    {
     "name": "stderr",
     "output_type": "stream",
     "text": [
      "127.0.0.1 - - [03/May/2021 17:15:28] \"\u001b[37mGET / HTTP/1.1\u001b[0m\" 200 -\n",
      "127.0.0.1 - - [03/May/2021 17:15:28] \"\u001b[36mGET /appSRP.js HTTP/1.1\u001b[0m\" 304 -\n",
      "127.0.0.1 - - [03/May/2021 17:15:30] \"\u001b[37mPOST /command HTTP/1.1\u001b[0m\" 200 -\n"
     ]
    },
    {
     "name": "stdout",
     "output_type": "stream",
     "text": [
      "{'commandHash': '18a9e04865242b41ea594e09495a3ffeae5fc5efce7ac270d02265e929afdd54'}\n"
     ]
    },
    {
     "name": "stderr",
     "output_type": "stream",
     "text": [
      "127.0.0.1 - - [03/May/2021 17:16:09] \"\u001b[37mGET / HTTP/1.1\u001b[0m\" 200 -\n",
      "127.0.0.1 - - [03/May/2021 17:16:10] \"\u001b[36mGET /appSRP.js HTTP/1.1\u001b[0m\" 304 -\n",
      "127.0.0.1 - - [03/May/2021 17:16:11] \"\u001b[37mPOST /command HTTP/1.1\u001b[0m\" 200 -\n"
     ]
    },
    {
     "name": "stdout",
     "output_type": "stream",
     "text": [
      "{'commandHash': '18a9e04865242b41ea594e09495a3ffeae5fc5efce7ac270d02265e929afdd54'}\n"
     ]
    },
    {
     "name": "stderr",
     "output_type": "stream",
     "text": [
      "127.0.0.1 - - [03/May/2021 17:17:14] \"\u001b[37mGET / HTTP/1.1\u001b[0m\" 200 -\n",
      "127.0.0.1 - - [03/May/2021 17:17:14] \"\u001b[36mGET /appSRP.js HTTP/1.1\u001b[0m\" 304 -\n",
      "127.0.0.1 - - [03/May/2021 17:17:15] \"\u001b[37mGET /?path= HTTP/1.1\u001b[0m\" 200 -\n",
      "127.0.0.1 - - [03/May/2021 17:17:15] \"\u001b[36mGET /appSRP.js HTTP/1.1\u001b[0m\" 304 -\n",
      "127.0.0.1 - - [03/May/2021 17:17:23] \"\u001b[37mGET /?path= HTTP/1.1\u001b[0m\" 200 -\n",
      "127.0.0.1 - - [03/May/2021 17:17:23] \"\u001b[36mGET /appSRP.js HTTP/1.1\u001b[0m\" 304 -\n",
      "127.0.0.1 - - [03/May/2021 17:17:24] \"\u001b[37mPOST /command HTTP/1.1\u001b[0m\" 200 -\n"
     ]
    },
    {
     "name": "stdout",
     "output_type": "stream",
     "text": [
      "{'commandHash': '18a9e04865242b41ea594e09495a3ffeae5fc5efce7ac270d02265e929afdd54'}\n"
     ]
    },
    {
     "name": "stderr",
     "output_type": "stream",
     "text": [
      "127.0.0.1 - - [03/May/2021 17:17:53] \"\u001b[37mGET /?path= HTTP/1.1\u001b[0m\" 200 -\n",
      "127.0.0.1 - - [03/May/2021 17:17:53] \"\u001b[36mGET /appSRP.js HTTP/1.1\u001b[0m\" 304 -\n",
      "127.0.0.1 - - [03/May/2021 17:17:54] \"\u001b[37mPOST /command HTTP/1.1\u001b[0m\" 200 -\n"
     ]
    },
    {
     "name": "stdout",
     "output_type": "stream",
     "text": [
      "{'commandHash': '18a9e04865242b41ea594e09495a3ffeae5fc5efce7ac270d02265e929afdd54'}\n"
     ]
    },
    {
     "name": "stderr",
     "output_type": "stream",
     "text": [
      "127.0.0.1 - - [03/May/2021 17:18:29] \"\u001b[37mGET /?path= HTTP/1.1\u001b[0m\" 200 -\n",
      "127.0.0.1 - - [03/May/2021 17:18:29] \"\u001b[36mGET /appSRP.js HTTP/1.1\u001b[0m\" 304 -\n",
      "127.0.0.1 - - [03/May/2021 17:18:31] \"\u001b[37mPOST /command HTTP/1.1\u001b[0m\" 200 -\n"
     ]
    },
    {
     "name": "stdout",
     "output_type": "stream",
     "text": [
      "{'commandHash': '18a9e04865242b41ea594e09495a3ffeae5fc5efce7ac270d02265e929afdd54'}\n"
     ]
    },
    {
     "name": "stderr",
     "output_type": "stream",
     "text": [
      "127.0.0.1 - - [03/May/2021 17:18:42] \"\u001b[37mPOST /command HTTP/1.1\u001b[0m\" 200 -\n"
     ]
    },
    {
     "name": "stdout",
     "output_type": "stream",
     "text": [
      "{'commandHash': '451d1ac03b86e4cc6c2bfcf3e45e3f971f99adada47cb9e2855cef96fd217967'}\n"
     ]
    },
    {
     "name": "stderr",
     "output_type": "stream",
     "text": [
      "127.0.0.1 - - [03/May/2021 17:20:56] \"\u001b[37mGET / HTTP/1.1\u001b[0m\" 200 -\n",
      "127.0.0.1 - - [03/May/2021 17:20:56] \"\u001b[36mGET /appSRP.js HTTP/1.1\u001b[0m\" 304 -\n",
      "127.0.0.1 - - [03/May/2021 17:21:00] \"\u001b[37mPOST /command HTTP/1.1\u001b[0m\" 200 -\n"
     ]
    },
    {
     "name": "stdout",
     "output_type": "stream",
     "text": [
      "{'commandHash': '18a9e04865242b41ea594e09495a3ffeae5fc5efce7ac270d02265e929afdd54'}\n"
     ]
    },
    {
     "name": "stderr",
     "output_type": "stream",
     "text": [
      "127.0.0.1 - - [03/May/2021 17:21:34] \"\u001b[37mGET / HTTP/1.1\u001b[0m\" 200 -\n",
      "127.0.0.1 - - [03/May/2021 17:21:34] \"\u001b[36mGET /appSRP.js HTTP/1.1\u001b[0m\" 304 -\n",
      "127.0.0.1 - - [03/May/2021 17:21:35] \"\u001b[37mPOST /command HTTP/1.1\u001b[0m\" 200 -\n"
     ]
    },
    {
     "name": "stdout",
     "output_type": "stream",
     "text": [
      "{'commandHash': '18a9e04865242b41ea594e09495a3ffeae5fc5efce7ac270d02265e929afdd54'}\n"
     ]
    },
    {
     "name": "stderr",
     "output_type": "stream",
     "text": [
      "127.0.0.1 - - [03/May/2021 17:21:43] \"\u001b[37mGET / HTTP/1.1\u001b[0m\" 200 -\n",
      "127.0.0.1 - - [03/May/2021 17:22:17] \"\u001b[36mGET /appSRP.js HTTP/1.1\u001b[0m\" 304 -\n",
      "127.0.0.1 - - [03/May/2021 17:22:18] \"\u001b[37mGET / HTTP/1.1\u001b[0m\" 200 -\n",
      "127.0.0.1 - - [03/May/2021 17:22:19] \"\u001b[36mGET /appSRP.js HTTP/1.1\u001b[0m\" 304 -\n",
      "127.0.0.1 - - [03/May/2021 17:22:19] \"\u001b[37mPOST /command HTTP/1.1\u001b[0m\" 200 -\n"
     ]
    },
    {
     "name": "stdout",
     "output_type": "stream",
     "text": [
      "{'commandHash': '18a9e04865242b41ea594e09495a3ffeae5fc5efce7ac270d02265e929afdd54'}\n"
     ]
    },
    {
     "name": "stderr",
     "output_type": "stream",
     "text": [
      "127.0.0.1 - - [03/May/2021 17:24:07] \"\u001b[37mGET / HTTP/1.1\u001b[0m\" 200 -\n",
      "127.0.0.1 - - [03/May/2021 17:24:07] \"\u001b[36mGET /appSRP.js HTTP/1.1\u001b[0m\" 304 -\n",
      "127.0.0.1 - - [03/May/2021 17:24:07] \"\u001b[37mPOST /command HTTP/1.1\u001b[0m\" 200 -\n"
     ]
    },
    {
     "name": "stdout",
     "output_type": "stream",
     "text": [
      "{'commandHash': '18a9e04865242b41ea594e09495a3ffeae5fc5efce7ac270d02265e929afdd54'}\n"
     ]
    },
    {
     "name": "stderr",
     "output_type": "stream",
     "text": [
      "127.0.0.1 - - [03/May/2021 17:26:07] \"\u001b[37mGET / HTTP/1.1\u001b[0m\" 200 -\n",
      "127.0.0.1 - - [03/May/2021 17:26:07] \"\u001b[36mGET /appSRP.js HTTP/1.1\u001b[0m\" 304 -\n",
      "127.0.0.1 - - [03/May/2021 17:26:08] \"\u001b[37mPOST /command HTTP/1.1\u001b[0m\" 200 -\n"
     ]
    },
    {
     "name": "stdout",
     "output_type": "stream",
     "text": [
      "{'commandHash': '18a9e04865242b41ea594e09495a3ffeae5fc5efce7ac270d02265e929afdd54'}\n"
     ]
    },
    {
     "name": "stderr",
     "output_type": "stream",
     "text": [
      "127.0.0.1 - - [03/May/2021 17:26:20] \"\u001b[37mGET / HTTP/1.1\u001b[0m\" 200 -\n",
      "127.0.0.1 - - [03/May/2021 17:26:20] \"\u001b[36mGET /appSRP.js HTTP/1.1\u001b[0m\" 304 -\n",
      "127.0.0.1 - - [03/May/2021 17:26:21] \"\u001b[37mPOST /command HTTP/1.1\u001b[0m\" 200 -\n"
     ]
    },
    {
     "name": "stdout",
     "output_type": "stream",
     "text": [
      "{'commandHash': '18a9e04865242b41ea594e09495a3ffeae5fc5efce7ac270d02265e929afdd54'}\n"
     ]
    },
    {
     "name": "stderr",
     "output_type": "stream",
     "text": [
      "127.0.0.1 - - [03/May/2021 17:35:59] \"\u001b[37mGET / HTTP/1.1\u001b[0m\" 200 -\n",
      "127.0.0.1 - - [03/May/2021 17:35:59] \"\u001b[36mGET /appSRP.js HTTP/1.1\u001b[0m\" 304 -\n",
      "127.0.0.1 - - [03/May/2021 17:36:00] \"\u001b[37mPOST /command HTTP/1.1\u001b[0m\" 200 -\n"
     ]
    },
    {
     "name": "stdout",
     "output_type": "stream",
     "text": [
      "{'commandHash': '18a9e04865242b41ea594e09495a3ffeae5fc5efce7ac270d02265e929afdd54'}\n"
     ]
    },
    {
     "name": "stderr",
     "output_type": "stream",
     "text": [
      "127.0.0.1 - - [03/May/2021 17:36:13] \"\u001b[37mPOST /command HTTP/1.1\u001b[0m\" 200 -\n"
     ]
    },
    {
     "name": "stdout",
     "output_type": "stream",
     "text": [
      "{'commandHash': '38e442d368844ca9aaac91cafc2ebce0142f5684df69c758fee3d938c606a208'}\n"
     ]
    },
    {
     "name": "stderr",
     "output_type": "stream",
     "text": [
      "127.0.0.1 - - [03/May/2021 17:41:03] \"\u001b[37mGET / HTTP/1.1\u001b[0m\" 200 -\n",
      "127.0.0.1 - - [03/May/2021 17:41:03] \"\u001b[36mGET /appSRP.js HTTP/1.1\u001b[0m\" 304 -\n",
      "127.0.0.1 - - [03/May/2021 17:41:04] \"\u001b[37mPOST /command HTTP/1.1\u001b[0m\" 200 -\n"
     ]
    },
    {
     "name": "stdout",
     "output_type": "stream",
     "text": [
      "{'commandHash': '18a9e04865242b41ea594e09495a3ffeae5fc5efce7ac270d02265e929afdd54'}\n"
     ]
    },
    {
     "name": "stderr",
     "output_type": "stream",
     "text": [
      "127.0.0.1 - - [03/May/2021 17:42:53] \"\u001b[37mGET / HTTP/1.1\u001b[0m\" 200 -\n",
      "127.0.0.1 - - [03/May/2021 17:42:53] \"\u001b[36mGET /appSRP.js HTTP/1.1\u001b[0m\" 304 -\n",
      "127.0.0.1 - - [03/May/2021 17:42:54] \"\u001b[37mPOST /command HTTP/1.1\u001b[0m\" 200 -\n"
     ]
    },
    {
     "name": "stdout",
     "output_type": "stream",
     "text": [
      "{'commandHash': '18a9e04865242b41ea594e09495a3ffeae5fc5efce7ac270d02265e929afdd54'}\n"
     ]
    },
    {
     "name": "stderr",
     "output_type": "stream",
     "text": [
      "127.0.0.1 - - [03/May/2021 17:43:27] \"\u001b[37mGET / HTTP/1.1\u001b[0m\" 200 -\n",
      "127.0.0.1 - - [03/May/2021 17:43:27] \"\u001b[36mGET /appSRP.js HTTP/1.1\u001b[0m\" 304 -\n",
      "127.0.0.1 - - [03/May/2021 17:43:28] \"\u001b[37mPOST /command HTTP/1.1\u001b[0m\" 200 -\n"
     ]
    },
    {
     "name": "stdout",
     "output_type": "stream",
     "text": [
      "{'commandHash': '18a9e04865242b41ea594e09495a3ffeae5fc5efce7ac270d02265e929afdd54'}\n"
     ]
    },
    {
     "name": "stderr",
     "output_type": "stream",
     "text": [
      "127.0.0.1 - - [03/May/2021 17:44:43] \"\u001b[37mGET / HTTP/1.1\u001b[0m\" 200 -\n",
      "127.0.0.1 - - [03/May/2021 17:44:43] \"\u001b[36mGET /appSRP.js HTTP/1.1\u001b[0m\" 304 -\n",
      "127.0.0.1 - - [03/May/2021 17:44:44] \"\u001b[37mPOST /command HTTP/1.1\u001b[0m\" 200 -\n"
     ]
    },
    {
     "name": "stdout",
     "output_type": "stream",
     "text": [
      "{'commandHash': '18a9e04865242b41ea594e09495a3ffeae5fc5efce7ac270d02265e929afdd54'}\n"
     ]
    },
    {
     "name": "stderr",
     "output_type": "stream",
     "text": [
      "127.0.0.1 - - [03/May/2021 17:45:06] \"\u001b[37mGET / HTTP/1.1\u001b[0m\" 200 -\n",
      "127.0.0.1 - - [03/May/2021 17:45:06] \"\u001b[36mGET /appSRP.js HTTP/1.1\u001b[0m\" 304 -\n",
      "127.0.0.1 - - [03/May/2021 17:45:07] \"\u001b[37mPOST /command HTTP/1.1\u001b[0m\" 200 -\n"
     ]
    },
    {
     "name": "stdout",
     "output_type": "stream",
     "text": [
      "{'commandHash': '18a9e04865242b41ea594e09495a3ffeae5fc5efce7ac270d02265e929afdd54'}\n"
     ]
    },
    {
     "name": "stderr",
     "output_type": "stream",
     "text": [
      "127.0.0.1 - - [03/May/2021 17:45:49] \"\u001b[37mGET / HTTP/1.1\u001b[0m\" 200 -\n",
      "127.0.0.1 - - [03/May/2021 17:45:49] \"\u001b[36mGET /appSRP.js HTTP/1.1\u001b[0m\" 304 -\n",
      "127.0.0.1 - - [03/May/2021 17:45:51] \"\u001b[37mPOST /command HTTP/1.1\u001b[0m\" 200 -\n"
     ]
    },
    {
     "name": "stdout",
     "output_type": "stream",
     "text": [
      "{'commandHash': '18a9e04865242b41ea594e09495a3ffeae5fc5efce7ac270d02265e929afdd54'}\n"
     ]
    },
    {
     "name": "stderr",
     "output_type": "stream",
     "text": [
      "127.0.0.1 - - [03/May/2021 17:46:36] \"\u001b[37mGET / HTTP/1.1\u001b[0m\" 200 -\n",
      "127.0.0.1 - - [03/May/2021 17:46:36] \"\u001b[36mGET /appSRP.js HTTP/1.1\u001b[0m\" 304 -\n",
      "127.0.0.1 - - [03/May/2021 17:46:37] \"\u001b[37mPOST /command HTTP/1.1\u001b[0m\" 200 -\n"
     ]
    },
    {
     "name": "stdout",
     "output_type": "stream",
     "text": [
      "{'commandHash': '18a9e04865242b41ea594e09495a3ffeae5fc5efce7ac270d02265e929afdd54'}\n"
     ]
    },
    {
     "name": "stderr",
     "output_type": "stream",
     "text": [
      "127.0.0.1 - - [03/May/2021 17:46:51] \"\u001b[37mGET / HTTP/1.1\u001b[0m\" 200 -\n",
      "127.0.0.1 - - [03/May/2021 17:46:51] \"\u001b[36mGET /appSRP.js HTTP/1.1\u001b[0m\" 304 -\n",
      "127.0.0.1 - - [03/May/2021 17:46:52] \"\u001b[37mPOST /command HTTP/1.1\u001b[0m\" 200 -\n"
     ]
    },
    {
     "name": "stdout",
     "output_type": "stream",
     "text": [
      "{'commandHash': '18a9e04865242b41ea594e09495a3ffeae5fc5efce7ac270d02265e929afdd54'}\n"
     ]
    },
    {
     "name": "stderr",
     "output_type": "stream",
     "text": [
      "127.0.0.1 - - [03/May/2021 17:47:55] \"\u001b[37mGET / HTTP/1.1\u001b[0m\" 200 -\n",
      "127.0.0.1 - - [03/May/2021 17:47:55] \"\u001b[36mGET /appSRP.js HTTP/1.1\u001b[0m\" 304 -\n",
      "127.0.0.1 - - [03/May/2021 17:47:56] \"\u001b[37mPOST /command HTTP/1.1\u001b[0m\" 200 -\n"
     ]
    },
    {
     "name": "stdout",
     "output_type": "stream",
     "text": [
      "{'commandHash': '18a9e04865242b41ea594e09495a3ffeae5fc5efce7ac270d02265e929afdd54'}\n"
     ]
    },
    {
     "name": "stderr",
     "output_type": "stream",
     "text": [
      "127.0.0.1 - - [03/May/2021 17:48:24] \"\u001b[37mGET / HTTP/1.1\u001b[0m\" 200 -\n",
      "127.0.0.1 - - [03/May/2021 17:48:24] \"\u001b[36mGET /appSRP.js HTTP/1.1\u001b[0m\" 304 -\n",
      "127.0.0.1 - - [03/May/2021 17:48:26] \"\u001b[37mPOST /command HTTP/1.1\u001b[0m\" 200 -\n"
     ]
    },
    {
     "name": "stdout",
     "output_type": "stream",
     "text": [
      "{'commandHash': '18a9e04865242b41ea594e09495a3ffeae5fc5efce7ac270d02265e929afdd54'}\n"
     ]
    },
    {
     "name": "stderr",
     "output_type": "stream",
     "text": [
      "127.0.0.1 - - [03/May/2021 17:54:33] \"\u001b[37mGET / HTTP/1.1\u001b[0m\" 200 -\n",
      "127.0.0.1 - - [03/May/2021 17:54:33] \"\u001b[36mGET /appSRP.js HTTP/1.1\u001b[0m\" 304 -\n",
      "127.0.0.1 - - [03/May/2021 17:54:34] \"\u001b[37mPOST /command HTTP/1.1\u001b[0m\" 200 -\n"
     ]
    },
    {
     "name": "stdout",
     "output_type": "stream",
     "text": [
      "{'commandHash': '29910167592ad6d15521f797af82bf57e42d9b9c50159f22926ec46ad37e4608'}\n"
     ]
    },
    {
     "name": "stderr",
     "output_type": "stream",
     "text": [
      "127.0.0.1 - - [03/May/2021 17:54:39] \"\u001b[37mPOST /command HTTP/1.1\u001b[0m\" 200 -\n"
     ]
    },
    {
     "name": "stdout",
     "output_type": "stream",
     "text": [
      "{'commandHash': '18a9e04865242b41ea594e09495a3ffeae5fc5efce7ac270d02265e929afdd54'}\n"
     ]
    },
    {
     "name": "stderr",
     "output_type": "stream",
     "text": [
      "127.0.0.1 - - [03/May/2021 17:55:52] \"\u001b[37mGET / HTTP/1.1\u001b[0m\" 200 -\n",
      "127.0.0.1 - - [03/May/2021 17:55:52] \"\u001b[36mGET /appSRP.js HTTP/1.1\u001b[0m\" 304 -\n",
      "127.0.0.1 - - [03/May/2021 17:55:54] \"\u001b[37mPOST /command HTTP/1.1\u001b[0m\" 200 -\n"
     ]
    },
    {
     "name": "stdout",
     "output_type": "stream",
     "text": [
      "{'commandHash': '18a9e04865242b41ea594e09495a3ffeae5fc5efce7ac270d02265e929afdd54'}\n"
     ]
    },
    {
     "name": "stderr",
     "output_type": "stream",
     "text": [
      "127.0.0.1 - - [03/May/2021 17:56:48] \"\u001b[37mGET / HTTP/1.1\u001b[0m\" 200 -\n",
      "127.0.0.1 - - [03/May/2021 17:56:48] \"\u001b[36mGET /appSRP.js HTTP/1.1\u001b[0m\" 304 -\n",
      "127.0.0.1 - - [03/May/2021 17:56:48] \"\u001b[37mPOST /command HTTP/1.1\u001b[0m\" 200 -\n"
     ]
    },
    {
     "name": "stdout",
     "output_type": "stream",
     "text": [
      "{'commandHash': '29910167592ad6d15521f797af82bf57e42d9b9c50159f22926ec46ad37e4608'}\n"
     ]
    },
    {
     "name": "stderr",
     "output_type": "stream",
     "text": [
      "127.0.0.1 - - [03/May/2021 17:56:53] \"\u001b[37mPOST /command HTTP/1.1\u001b[0m\" 200 -\n"
     ]
    },
    {
     "name": "stdout",
     "output_type": "stream",
     "text": [
      "{'commandHash': '18a9e04865242b41ea594e09495a3ffeae5fc5efce7ac270d02265e929afdd54'}\n"
     ]
    },
    {
     "name": "stderr",
     "output_type": "stream",
     "text": [
      "127.0.0.1 - - [03/May/2021 17:57:26] \"\u001b[37mPOST /command HTTP/1.1\u001b[0m\" 200 -\n"
     ]
    },
    {
     "name": "stdout",
     "output_type": "stream",
     "text": [
      "{'commandHash': '18a9e04865242b41ea594e09495a3ffeae5fc5efce7ac270d02265e929afdd54'}\n"
     ]
    },
    {
     "name": "stderr",
     "output_type": "stream",
     "text": [
      "127.0.0.1 - - [03/May/2021 17:57:35] \"\u001b[37mPOST /command HTTP/1.1\u001b[0m\" 200 -\n"
     ]
    },
    {
     "name": "stdout",
     "output_type": "stream",
     "text": [
      "{'commandHash': '3a37a2a33d8e346b33a103f0e1258215f6c27e6ff931f83888abb4c1355ee723'}\n"
     ]
    },
    {
     "name": "stderr",
     "output_type": "stream",
     "text": [
      "127.0.0.1 - - [03/May/2021 17:57:39] \"\u001b[37mPOST /command HTTP/1.1\u001b[0m\" 200 -\n"
     ]
    },
    {
     "name": "stdout",
     "output_type": "stream",
     "text": [
      "{'commandHash': 'd8996e27b7add495b1ad85c6c219bee2b529cc925a86c77f3e0c138d004e2305'}\n"
     ]
    },
    {
     "name": "stderr",
     "output_type": "stream",
     "text": [
      "127.0.0.1 - - [03/May/2021 17:57:42] \"\u001b[37mPOST /command HTTP/1.1\u001b[0m\" 200 -\n"
     ]
    },
    {
     "name": "stdout",
     "output_type": "stream",
     "text": [
      "{'commandHash': '5ae56a69244a774a9ac9ee954c60744ecdcaa6afd19be398d8adb4f39865f7db'}\n"
     ]
    },
    {
     "name": "stderr",
     "output_type": "stream",
     "text": [
      "127.0.0.1 - - [03/May/2021 17:59:12] \"\u001b[37mGET / HTTP/1.1\u001b[0m\" 200 -\n",
      "127.0.0.1 - - [03/May/2021 17:59:12] \"\u001b[36mGET /appSRP.js HTTP/1.1\u001b[0m\" 304 -\n",
      "127.0.0.1 - - [03/May/2021 17:59:13] \"\u001b[37mPOST /command HTTP/1.1\u001b[0m\" 200 -\n"
     ]
    },
    {
     "name": "stdout",
     "output_type": "stream",
     "text": [
      "{'commandHash': '29910167592ad6d15521f797af82bf57e42d9b9c50159f22926ec46ad37e4608'}\n"
     ]
    },
    {
     "name": "stderr",
     "output_type": "stream",
     "text": [
      "127.0.0.1 - - [03/May/2021 17:59:37] \"\u001b[37mGET / HTTP/1.1\u001b[0m\" 200 -\n",
      "127.0.0.1 - - [03/May/2021 17:59:37] \"\u001b[36mGET /appSRP.js HTTP/1.1\u001b[0m\" 304 -\n",
      "127.0.0.1 - - [03/May/2021 17:59:38] \"\u001b[37mPOST /command HTTP/1.1\u001b[0m\" 200 -\n"
     ]
    },
    {
     "name": "stdout",
     "output_type": "stream",
     "text": [
      "{'commandHash': '29910167592ad6d15521f797af82bf57e42d9b9c50159f22926ec46ad37e4608'}\n"
     ]
    },
    {
     "name": "stderr",
     "output_type": "stream",
     "text": [
      "127.0.0.1 - - [03/May/2021 18:00:10] \"\u001b[37mGET / HTTP/1.1\u001b[0m\" 200 -\n",
      "127.0.0.1 - - [03/May/2021 18:00:10] \"\u001b[36mGET /appSRP.js HTTP/1.1\u001b[0m\" 304 -\n",
      "127.0.0.1 - - [03/May/2021 18:00:11] \"\u001b[37mPOST /command HTTP/1.1\u001b[0m\" 200 -\n"
     ]
    },
    {
     "name": "stdout",
     "output_type": "stream",
     "text": [
      "{'commandHash': '29910167592ad6d15521f797af82bf57e42d9b9c50159f22926ec46ad37e4608'}\n"
     ]
    },
    {
     "name": "stderr",
     "output_type": "stream",
     "text": [
      "127.0.0.1 - - [03/May/2021 18:00:42] \"\u001b[37mGET / HTTP/1.1\u001b[0m\" 200 -\n",
      "127.0.0.1 - - [03/May/2021 18:00:42] \"\u001b[36mGET /appSRP.js HTTP/1.1\u001b[0m\" 304 -\n",
      "127.0.0.1 - - [03/May/2021 18:00:44] \"\u001b[37mPOST /command HTTP/1.1\u001b[0m\" 200 -\n"
     ]
    },
    {
     "name": "stdout",
     "output_type": "stream",
     "text": [
      "{'commandHash': '29910167592ad6d15521f797af82bf57e42d9b9c50159f22926ec46ad37e4608'}\n"
     ]
    },
    {
     "name": "stderr",
     "output_type": "stream",
     "text": [
      "127.0.0.1 - - [03/May/2021 18:00:59] \"\u001b[37mPOST /command HTTP/1.1\u001b[0m\" 200 -\n"
     ]
    },
    {
     "name": "stdout",
     "output_type": "stream",
     "text": [
      "{'commandHash': 'cf82c44bb893ac7a598c9a6a82742b050e0b90d6be741a00c57f327d0c9a392b'}\n"
     ]
    },
    {
     "name": "stderr",
     "output_type": "stream",
     "text": [
      "127.0.0.1 - - [03/May/2021 18:01:02] \"\u001b[37mPOST /command HTTP/1.1\u001b[0m\" 200 -\n"
     ]
    },
    {
     "name": "stdout",
     "output_type": "stream",
     "text": [
      "{'commandHash': '3a37a2a33d8e346b33a103f0e1258215f6c27e6ff931f83888abb4c1355ee723'}\n"
     ]
    },
    {
     "name": "stderr",
     "output_type": "stream",
     "text": [
      "127.0.0.1 - - [03/May/2021 18:01:05] \"\u001b[37mPOST /command HTTP/1.1\u001b[0m\" 200 -\n"
     ]
    },
    {
     "name": "stdout",
     "output_type": "stream",
     "text": [
      "{'commandHash': '2793a4d320f6359d34ce59a6dabd76eabe3c10539dda6385f9b19441b0469cfd'}\n"
     ]
    },
    {
     "name": "stderr",
     "output_type": "stream",
     "text": [
      "127.0.0.1 - - [03/May/2021 18:01:46] \"\u001b[37mGET / HTTP/1.1\u001b[0m\" 200 -\n",
      "127.0.0.1 - - [03/May/2021 18:01:46] \"\u001b[36mGET /appSRP.js HTTP/1.1\u001b[0m\" 304 -\n",
      "127.0.0.1 - - [03/May/2021 18:01:47] \"\u001b[37mPOST /command HTTP/1.1\u001b[0m\" 200 -\n"
     ]
    },
    {
     "name": "stdout",
     "output_type": "stream",
     "text": [
      "{'commandHash': '29910167592ad6d15521f797af82bf57e42d9b9c50159f22926ec46ad37e4608'}\n"
     ]
    },
    {
     "name": "stderr",
     "output_type": "stream",
     "text": [
      "127.0.0.1 - - [03/May/2021 18:01:52] \"\u001b[37mPOST /command HTTP/1.1\u001b[0m\" 200 -\n"
     ]
    },
    {
     "name": "stdout",
     "output_type": "stream",
     "text": [
      "{'commandHash': 'cf82c44bb893ac7a598c9a6a82742b050e0b90d6be741a00c57f327d0c9a392b'}\n"
     ]
    },
    {
     "name": "stderr",
     "output_type": "stream",
     "text": [
      "127.0.0.1 - - [03/May/2021 18:01:55] \"\u001b[37mPOST /command HTTP/1.1\u001b[0m\" 200 -\n"
     ]
    },
    {
     "name": "stdout",
     "output_type": "stream",
     "text": [
      "{'commandHash': '3a37a2a33d8e346b33a103f0e1258215f6c27e6ff931f83888abb4c1355ee723'}\n"
     ]
    },
    {
     "name": "stderr",
     "output_type": "stream",
     "text": [
      "127.0.0.1 - - [03/May/2021 18:01:59] \"\u001b[37mPOST /command HTTP/1.1\u001b[0m\" 200 -\n"
     ]
    },
    {
     "name": "stdout",
     "output_type": "stream",
     "text": [
      "{'commandHash': '18a9e04865242b41ea594e09495a3ffeae5fc5efce7ac270d02265e929afdd54'}\n"
     ]
    },
    {
     "name": "stderr",
     "output_type": "stream",
     "text": [
      "127.0.0.1 - - [03/May/2021 18:02:06] \"\u001b[37mPOST /command HTTP/1.1\u001b[0m\" 200 -\n"
     ]
    },
    {
     "name": "stdout",
     "output_type": "stream",
     "text": [
      "{'commandHash': 'b76b9766f3141ec2a1883b3c292a41f75ae4b494a20b78a055aecbc167a8d902'}\n"
     ]
    },
    {
     "name": "stderr",
     "output_type": "stream",
     "text": [
      "127.0.0.1 - - [03/May/2021 18:02:11] \"\u001b[37mPOST /command HTTP/1.1\u001b[0m\" 200 -\n"
     ]
    },
    {
     "name": "stdout",
     "output_type": "stream",
     "text": [
      "{'commandHash': '18a9e04865242b41ea594e09495a3ffeae5fc5efce7ac270d02265e929afdd54'}\n"
     ]
    },
    {
     "name": "stderr",
     "output_type": "stream",
     "text": [
      "127.0.0.1 - - [03/May/2021 18:08:52] \"\u001b[37mGET / HTTP/1.1\u001b[0m\" 200 -\n",
      "127.0.0.1 - - [03/May/2021 18:08:52] \"\u001b[36mGET /appSRP.js HTTP/1.1\u001b[0m\" 304 -\n",
      "127.0.0.1 - - [03/May/2021 18:08:53] \"\u001b[37mPOST /command HTTP/1.1\u001b[0m\" 200 -\n"
     ]
    },
    {
     "name": "stdout",
     "output_type": "stream",
     "text": [
      "{'commandHash': '29910167592ad6d15521f797af82bf57e42d9b9c50159f22926ec46ad37e4608'}\n"
     ]
    },
    {
     "name": "stderr",
     "output_type": "stream",
     "text": [
      "127.0.0.1 - - [03/May/2021 18:09:03] \"\u001b[37mPOST /command HTTP/1.1\u001b[0m\" 200 -\n"
     ]
    },
    {
     "name": "stdout",
     "output_type": "stream",
     "text": [
      "{'commandHash': '38e442d368844ca9aaac91cafc2ebce0142f5684df69c758fee3d938c606a208'}\n"
     ]
    },
    {
     "name": "stderr",
     "output_type": "stream",
     "text": [
      "127.0.0.1 - - [03/May/2021 18:09:11] \"\u001b[37mPOST /command HTTP/1.1\u001b[0m\" 200 -\n"
     ]
    },
    {
     "name": "stdout",
     "output_type": "stream",
     "text": [
      "{'commandHash': 'ace4e6183a700e54d750fd8da11f38533cffc1eb9802403d09ba91be43931f29'}\n"
     ]
    },
    {
     "name": "stderr",
     "output_type": "stream",
     "text": [
      "127.0.0.1 - - [03/May/2021 18:09:23] \"\u001b[37mPOST /command HTTP/1.1\u001b[0m\" 200 -\n"
     ]
    },
    {
     "name": "stdout",
     "output_type": "stream",
     "text": [
      "{'commandHash': '7e6dac442807c3d0e58e11fc329bc5953f679906568b7f97ce0a7dc463c87db8'}\n"
     ]
    },
    {
     "name": "stderr",
     "output_type": "stream",
     "text": [
      "127.0.0.1 - - [03/May/2021 18:10:18] \"\u001b[37mGET / HTTP/1.1\u001b[0m\" 200 -\n",
      "127.0.0.1 - - [03/May/2021 18:10:18] \"\u001b[36mGET /appSRP.js HTTP/1.1\u001b[0m\" 304 -\n",
      "127.0.0.1 - - [03/May/2021 18:10:19] \"\u001b[37mPOST /command HTTP/1.1\u001b[0m\" 200 -\n"
     ]
    },
    {
     "name": "stdout",
     "output_type": "stream",
     "text": [
      "{'commandHash': '29910167592ad6d15521f797af82bf57e42d9b9c50159f22926ec46ad37e4608'}\n"
     ]
    },
    {
     "name": "stderr",
     "output_type": "stream",
     "text": [
      "127.0.0.1 - - [03/May/2021 18:10:24] \"\u001b[37mPOST /command HTTP/1.1\u001b[0m\" 200 -\n"
     ]
    },
    {
     "name": "stdout",
     "output_type": "stream",
     "text": [
      "{'commandHash': '72c1e897804dd57da5919e08dba3bf7fa7c07574f209bed56f7300fbcc4f7fdf'}\n"
     ]
    },
    {
     "name": "stderr",
     "output_type": "stream",
     "text": [
      "127.0.0.1 - - [03/May/2021 18:10:44] \"\u001b[37mPOST /command HTTP/1.1\u001b[0m\" 200 -\n"
     ]
    },
    {
     "name": "stdout",
     "output_type": "stream",
     "text": [
      "{'commandHash': '72c1e897804dd57da5919e08dba3bf7fa7c07574f209bed56f7300fbcc4f7fdf'}\n"
     ]
    },
    {
     "name": "stderr",
     "output_type": "stream",
     "text": [
      "127.0.0.1 - - [03/May/2021 18:11:18] \"\u001b[37mGET / HTTP/1.1\u001b[0m\" 200 -\n",
      "127.0.0.1 - - [03/May/2021 18:11:19] \"\u001b[36mGET /appSRP.js HTTP/1.1\u001b[0m\" 304 -\n",
      "127.0.0.1 - - [03/May/2021 18:11:21] \"\u001b[37mPOST /command HTTP/1.1\u001b[0m\" 200 -\n"
     ]
    },
    {
     "name": "stdout",
     "output_type": "stream",
     "text": [
      "{'commandHash': '72c1e897804dd57da5919e08dba3bf7fa7c07574f209bed56f7300fbcc4f7fdf'}\n"
     ]
    },
    {
     "name": "stderr",
     "output_type": "stream",
     "text": [
      "127.0.0.1 - - [03/May/2021 18:11:34] \"\u001b[37mGET / HTTP/1.1\u001b[0m\" 200 -\n",
      "127.0.0.1 - - [03/May/2021 18:11:34] \"\u001b[36mGET /appSRP.js HTTP/1.1\u001b[0m\" 304 -\n",
      "127.0.0.1 - - [03/May/2021 18:11:36] \"\u001b[37mPOST /command HTTP/1.1\u001b[0m\" 200 -\n"
     ]
    },
    {
     "name": "stdout",
     "output_type": "stream",
     "text": [
      "{'commandHash': '72c1e897804dd57da5919e08dba3bf7fa7c07574f209bed56f7300fbcc4f7fdf'}\n"
     ]
    },
    {
     "name": "stderr",
     "output_type": "stream",
     "text": [
      "127.0.0.1 - - [03/May/2021 18:13:04] \"\u001b[37mGET / HTTP/1.1\u001b[0m\" 200 -\n",
      "127.0.0.1 - - [03/May/2021 18:13:05] \"\u001b[37mGET /appSRP.js HTTP/1.1\u001b[0m\" 200 -\n",
      "127.0.0.1 - - [03/May/2021 18:13:10] \"\u001b[37mPOST /command HTTP/1.1\u001b[0m\" 200 -\n"
     ]
    },
    {
     "name": "stdout",
     "output_type": "stream",
     "text": [
      "{'commandHash': '72c1e897804dd57da5919e08dba3bf7fa7c07574f209bed56f7300fbcc4f7fdf'}\n"
     ]
    },
    {
     "name": "stderr",
     "output_type": "stream",
     "text": [
      "127.0.0.1 - - [03/May/2021 18:13:22] \"\u001b[37mPOST /command HTTP/1.1\u001b[0m\" 200 -\n"
     ]
    },
    {
     "name": "stdout",
     "output_type": "stream",
     "text": [
      "{'commandHash': '33c7c490be518a17bf1ad317854091c479ffc9eb9e7809eb0da27c45dead121b'}\n"
     ]
    },
    {
     "name": "stderr",
     "output_type": "stream",
     "text": [
      "127.0.0.1 - - [03/May/2021 18:13:29] \"\u001b[37mPOST /command HTTP/1.1\u001b[0m\" 200 -\n"
     ]
    },
    {
     "name": "stdout",
     "output_type": "stream",
     "text": [
      "{'commandHash': '72c1e897804dd57da5919e08dba3bf7fa7c07574f209bed56f7300fbcc4f7fdf'}\n"
     ]
    },
    {
     "name": "stderr",
     "output_type": "stream",
     "text": [
      "127.0.0.1 - - [03/May/2021 18:14:57] \"\u001b[37mGET / HTTP/1.1\u001b[0m\" 200 -\n",
      "127.0.0.1 - - [03/May/2021 18:14:57] \"\u001b[36mGET /appSRP.js HTTP/1.1\u001b[0m\" 304 -\n",
      "127.0.0.1 - - [03/May/2021 18:14:58] \"\u001b[37mPOST /command HTTP/1.1\u001b[0m\" 200 -\n"
     ]
    },
    {
     "name": "stdout",
     "output_type": "stream",
     "text": [
      "{'commandHash': '29910167592ad6d15521f797af82bf57e42d9b9c50159f22926ec46ad37e4608'}\n"
     ]
    },
    {
     "name": "stderr",
     "output_type": "stream",
     "text": [
      "127.0.0.1 - - [03/May/2021 18:15:28] \"\u001b[37mPOST /command HTTP/1.1\u001b[0m\" 200 -\n"
     ]
    },
    {
     "name": "stdout",
     "output_type": "stream",
     "text": [
      "{'commandHash': '38e442d368844ca9aaac91cafc2ebce0142f5684df69c758fee3d938c606a208'}\n"
     ]
    },
    {
     "name": "stderr",
     "output_type": "stream",
     "text": [
      "127.0.0.1 - - [03/May/2021 18:15:32] \"\u001b[37mPOST /command HTTP/1.1\u001b[0m\" 200 -\n"
     ]
    },
    {
     "name": "stdout",
     "output_type": "stream",
     "text": [
      "{'commandHash': 'ace4e6183a700e54d750fd8da11f38533cffc1eb9802403d09ba91be43931f29'}\n"
     ]
    },
    {
     "name": "stderr",
     "output_type": "stream",
     "text": [
      "127.0.0.1 - - [03/May/2021 18:15:38] \"\u001b[37mPOST /command HTTP/1.1\u001b[0m\" 200 -\n"
     ]
    },
    {
     "name": "stdout",
     "output_type": "stream",
     "text": [
      "{'commandHash': '7e6dac442807c3d0e58e11fc329bc5953f679906568b7f97ce0a7dc463c87db8'}\n"
     ]
    },
    {
     "name": "stderr",
     "output_type": "stream",
     "text": [
      "127.0.0.1 - - [03/May/2021 18:15:43] \"\u001b[37mPOST /command HTTP/1.1\u001b[0m\" 200 -\n"
     ]
    },
    {
     "name": "stdout",
     "output_type": "stream",
     "text": [
      "{'commandHash': '5783cc9242e75fa66bf787ff9dc00f3df282a5e0e31eaa47f52585f3a10fd4f1'}\n"
     ]
    },
    {
     "name": "stderr",
     "output_type": "stream",
     "text": [
      "127.0.0.1 - - [03/May/2021 18:15:45] \"\u001b[37mPOST /command HTTP/1.1\u001b[0m\" 200 -\n"
     ]
    },
    {
     "name": "stdout",
     "output_type": "stream",
     "text": [
      "{'commandHash': '72c1e897804dd57da5919e08dba3bf7fa7c07574f209bed56f7300fbcc4f7fdf'}\n"
     ]
    },
    {
     "name": "stderr",
     "output_type": "stream",
     "text": [
      "127.0.0.1 - - [03/May/2021 18:16:05] \"\u001b[37mGET / HTTP/1.1\u001b[0m\" 200 -\n",
      "127.0.0.1 - - [03/May/2021 18:16:05] \"\u001b[36mGET /appSRP.js HTTP/1.1\u001b[0m\" 304 -\n",
      "127.0.0.1 - - [03/May/2021 18:16:07] \"\u001b[37mPOST /command HTTP/1.1\u001b[0m\" 200 -\n"
     ]
    },
    {
     "name": "stdout",
     "output_type": "stream",
     "text": [
      "{'commandHash': '72c1e897804dd57da5919e08dba3bf7fa7c07574f209bed56f7300fbcc4f7fdf'}\n"
     ]
    },
    {
     "name": "stderr",
     "output_type": "stream",
     "text": [
      "127.0.0.1 - - [03/May/2021 18:16:12] \"\u001b[37mPOST /command HTTP/1.1\u001b[0m\" 200 -\n"
     ]
    },
    {
     "name": "stdout",
     "output_type": "stream",
     "text": [
      "{'commandHash': '497e54371d6badde5795b6af6750859c304c579e42632c31acc5740b85d18c13'}\n"
     ]
    },
    {
     "name": "stderr",
     "output_type": "stream",
     "text": [
      "127.0.0.1 - - [03/May/2021 18:16:14] \"\u001b[37mPOST /command HTTP/1.1\u001b[0m\" 200 -\n"
     ]
    },
    {
     "name": "stdout",
     "output_type": "stream",
     "text": [
      "{'commandHash': '72c1e897804dd57da5919e08dba3bf7fa7c07574f209bed56f7300fbcc4f7fdf'}\n"
     ]
    },
    {
     "name": "stderr",
     "output_type": "stream",
     "text": [
      "127.0.0.1 - - [03/May/2021 18:16:44] \"\u001b[37mGET / HTTP/1.1\u001b[0m\" 200 -\n",
      "127.0.0.1 - - [03/May/2021 18:16:45] \"\u001b[36mGET /appSRP.js HTTP/1.1\u001b[0m\" 304 -\n",
      "127.0.0.1 - - [03/May/2021 18:17:06] \"\u001b[37mPOST /command HTTP/1.1\u001b[0m\" 200 -\n"
     ]
    },
    {
     "name": "stdout",
     "output_type": "stream",
     "text": [
      "{'commandHash': '29910167592ad6d15521f797af82bf57e42d9b9c50159f22926ec46ad37e4608'}\n"
     ]
    },
    {
     "name": "stderr",
     "output_type": "stream",
     "text": [
      "127.0.0.1 - - [03/May/2021 18:17:13] \"\u001b[37mPOST /command HTTP/1.1\u001b[0m\" 200 -\n"
     ]
    },
    {
     "name": "stdout",
     "output_type": "stream",
     "text": [
      "{'commandHash': '38e442d368844ca9aaac91cafc2ebce0142f5684df69c758fee3d938c606a208'}\n"
     ]
    },
    {
     "name": "stderr",
     "output_type": "stream",
     "text": [
      "127.0.0.1 - - [03/May/2021 18:17:28] \"\u001b[37mPOST /command HTTP/1.1\u001b[0m\" 200 -\n"
     ]
    },
    {
     "name": "stdout",
     "output_type": "stream",
     "text": [
      "{'commandHash': 'ace4e6183a700e54d750fd8da11f38533cffc1eb9802403d09ba91be43931f29'}\n"
     ]
    },
    {
     "name": "stderr",
     "output_type": "stream",
     "text": [
      "127.0.0.1 - - [03/May/2021 18:17:35] \"\u001b[37mPOST /command HTTP/1.1\u001b[0m\" 200 -\n"
     ]
    },
    {
     "name": "stdout",
     "output_type": "stream",
     "text": [
      "{'commandHash': '7e6dac442807c3d0e58e11fc329bc5953f679906568b7f97ce0a7dc463c87db8'}\n"
     ]
    },
    {
     "name": "stderr",
     "output_type": "stream",
     "text": [
      "127.0.0.1 - - [03/May/2021 18:17:41] \"\u001b[37mPOST /command HTTP/1.1\u001b[0m\" 200 -\n"
     ]
    },
    {
     "name": "stdout",
     "output_type": "stream",
     "text": [
      "{'commandHash': '6c65fe0305ce249146e0ee1026a1939a0544675faafd42e719f93b645ea182dd'}\n"
     ]
    },
    {
     "name": "stderr",
     "output_type": "stream",
     "text": [
      "127.0.0.1 - - [03/May/2021 18:21:16] \"\u001b[37mGET / HTTP/1.1\u001b[0m\" 200 -\n",
      "127.0.0.1 - - [03/May/2021 18:21:16] \"\u001b[36mGET /appSRP.js HTTP/1.1\u001b[0m\" 304 -\n",
      "127.0.0.1 - - [03/May/2021 18:21:16] \"\u001b[37mPOST /command HTTP/1.1\u001b[0m\" 200 -\n"
     ]
    },
    {
     "name": "stdout",
     "output_type": "stream",
     "text": [
      "{'commandHash': '29910167592ad6d15521f797af82bf57e42d9b9c50159f22926ec46ad37e4608'}\n"
     ]
    },
    {
     "name": "stderr",
     "output_type": "stream",
     "text": [
      "127.0.0.1 - - [03/May/2021 18:21:32] \"\u001b[37mPOST /command HTTP/1.1\u001b[0m\" 200 -\n"
     ]
    },
    {
     "name": "stdout",
     "output_type": "stream",
     "text": [
      "{'commandHash': '38e442d368844ca9aaac91cafc2ebce0142f5684df69c758fee3d938c606a208'}\n"
     ]
    },
    {
     "name": "stderr",
     "output_type": "stream",
     "text": [
      "127.0.0.1 - - [03/May/2021 18:21:37] \"\u001b[37mPOST /command HTTP/1.1\u001b[0m\" 200 -\n"
     ]
    },
    {
     "name": "stdout",
     "output_type": "stream",
     "text": [
      "{'commandHash': 'ace4e6183a700e54d750fd8da11f38533cffc1eb9802403d09ba91be43931f29'}\n"
     ]
    },
    {
     "name": "stderr",
     "output_type": "stream",
     "text": [
      "127.0.0.1 - - [03/May/2021 18:21:42] \"\u001b[37mPOST /command HTTP/1.1\u001b[0m\" 200 -\n"
     ]
    },
    {
     "name": "stdout",
     "output_type": "stream",
     "text": [
      "{'commandHash': '7e6dac442807c3d0e58e11fc329bc5953f679906568b7f97ce0a7dc463c87db8'}\n"
     ]
    },
    {
     "name": "stderr",
     "output_type": "stream",
     "text": [
      "127.0.0.1 - - [03/May/2021 18:21:47] \"\u001b[37mPOST /command HTTP/1.1\u001b[0m\" 200 -\n"
     ]
    },
    {
     "name": "stdout",
     "output_type": "stream",
     "text": [
      "{'commandHash': 'b0c100461a0d76eadfe3cbe2ff2b33bb74cf3e6385349a6673cdac955f4eab03'}\n"
     ]
    },
    {
     "name": "stderr",
     "output_type": "stream",
     "text": [
      "127.0.0.1 - - [03/May/2021 18:21:49] \"\u001b[37mPOST /command HTTP/1.1\u001b[0m\" 200 -\n"
     ]
    },
    {
     "name": "stdout",
     "output_type": "stream",
     "text": [
      "{'commandHash': '72c1e897804dd57da5919e08dba3bf7fa7c07574f209bed56f7300fbcc4f7fdf'}\n"
     ]
    },
    {
     "name": "stderr",
     "output_type": "stream",
     "text": [
      "127.0.0.1 - - [03/May/2021 18:21:56] \"\u001b[37mPOST /command HTTP/1.1\u001b[0m\" 200 -\n"
     ]
    },
    {
     "name": "stdout",
     "output_type": "stream",
     "text": [
      "{'commandHash': '430c0bdd16512039a799221a9a8a05a9d24189f056ae8a16d76b1c61aa346083'}\n"
     ]
    },
    {
     "name": "stderr",
     "output_type": "stream",
     "text": [
      "127.0.0.1 - - [03/May/2021 18:21:58] \"\u001b[37mPOST /command HTTP/1.1\u001b[0m\" 200 -\n"
     ]
    },
    {
     "name": "stdout",
     "output_type": "stream",
     "text": [
      "{'commandHash': '72c1e897804dd57da5919e08dba3bf7fa7c07574f209bed56f7300fbcc4f7fdf'}\n"
     ]
    },
    {
     "name": "stderr",
     "output_type": "stream",
     "text": [
      "127.0.0.1 - - [03/May/2021 18:22:03] \"\u001b[37mPOST /command HTTP/1.1\u001b[0m\" 200 -\n"
     ]
    },
    {
     "name": "stdout",
     "output_type": "stream",
     "text": [
      "{'commandHash': '43dbd6effc34b3bdecf2d14a54650988e20906db5c568b70774172691c0775fc'}\n"
     ]
    },
    {
     "name": "stderr",
     "output_type": "stream",
     "text": [
      "127.0.0.1 - - [03/May/2021 18:22:06] \"\u001b[37mPOST /command HTTP/1.1\u001b[0m\" 200 -\n"
     ]
    },
    {
     "name": "stdout",
     "output_type": "stream",
     "text": [
      "{'commandHash': '72c1e897804dd57da5919e08dba3bf7fa7c07574f209bed56f7300fbcc4f7fdf'}\n"
     ]
    },
    {
     "name": "stderr",
     "output_type": "stream",
     "text": [
      "127.0.0.1 - - [03/May/2021 18:23:00] \"\u001b[37mGET / HTTP/1.1\u001b[0m\" 200 -\n",
      "127.0.0.1 - - [03/May/2021 18:23:01] \"\u001b[36mGET /appSRP.js HTTP/1.1\u001b[0m\" 304 -\n",
      "127.0.0.1 - - [03/May/2021 18:23:02] \"\u001b[37mPOST /command HTTP/1.1\u001b[0m\" 200 -\n"
     ]
    },
    {
     "name": "stdout",
     "output_type": "stream",
     "text": [
      "{'commandHash': '29910167592ad6d15521f797af82bf57e42d9b9c50159f22926ec46ad37e4608'}\n"
     ]
    },
    {
     "name": "stderr",
     "output_type": "stream",
     "text": [
      "127.0.0.1 - - [03/May/2021 18:24:14] \"\u001b[37mGET / HTTP/1.1\u001b[0m\" 200 -\n",
      "127.0.0.1 - - [03/May/2021 18:24:14] \"\u001b[36mGET /appSRP.js HTTP/1.1\u001b[0m\" 304 -\n",
      "127.0.0.1 - - [03/May/2021 18:24:15] \"\u001b[37mPOST /command HTTP/1.1\u001b[0m\" 200 -\n"
     ]
    },
    {
     "name": "stdout",
     "output_type": "stream",
     "text": [
      "{'commandHash': '29910167592ad6d15521f797af82bf57e42d9b9c50159f22926ec46ad37e4608'}\n"
     ]
    },
    {
     "name": "stderr",
     "output_type": "stream",
     "text": [
      "127.0.0.1 - - [03/May/2021 18:25:37] \"\u001b[37mPOST /command HTTP/1.1\u001b[0m\" 200 -\n"
     ]
    },
    {
     "name": "stdout",
     "output_type": "stream",
     "text": [
      "{'commandHash': '38e442d368844ca9aaac91cafc2ebce0142f5684df69c758fee3d938c606a208'}\n"
     ]
    },
    {
     "name": "stderr",
     "output_type": "stream",
     "text": [
      "127.0.0.1 - - [03/May/2021 18:25:41] \"\u001b[37mPOST /command HTTP/1.1\u001b[0m\" 200 -\n"
     ]
    },
    {
     "name": "stdout",
     "output_type": "stream",
     "text": [
      "{'commandHash': 'ace4e6183a700e54d750fd8da11f38533cffc1eb9802403d09ba91be43931f29'}\n"
     ]
    },
    {
     "name": "stderr",
     "output_type": "stream",
     "text": [
      "127.0.0.1 - - [03/May/2021 18:25:50] \"\u001b[37mPOST /command HTTP/1.1\u001b[0m\" 200 -\n"
     ]
    },
    {
     "name": "stdout",
     "output_type": "stream",
     "text": [
      "{'commandHash': '7e6dac442807c3d0e58e11fc329bc5953f679906568b7f97ce0a7dc463c87db8'}\n"
     ]
    },
    {
     "name": "stderr",
     "output_type": "stream",
     "text": [
      "127.0.0.1 - - [03/May/2021 18:25:56] \"\u001b[37mPOST /command HTTP/1.1\u001b[0m\" 200 -\n"
     ]
    },
    {
     "name": "stdout",
     "output_type": "stream",
     "text": [
      "{'commandHash': 'adc9b88835386ac0a433b06cb9f74de195cea35b37cc387606711fa80c3175b5'}\n"
     ]
    },
    {
     "name": "stderr",
     "output_type": "stream",
     "text": [
      "127.0.0.1 - - [03/May/2021 18:26:41] \"\u001b[37mPOST /command HTTP/1.1\u001b[0m\" 200 -\n"
     ]
    },
    {
     "name": "stdout",
     "output_type": "stream",
     "text": [
      "{'commandHash': 'adc9b88835386ac0a433b06cb9f74de195cea35b37cc387606711fa80c3175b5'}\n"
     ]
    },
    {
     "name": "stderr",
     "output_type": "stream",
     "text": [
      "127.0.0.1 - - [03/May/2021 18:27:02] \"\u001b[37mPOST /command HTTP/1.1\u001b[0m\" 200 -\n"
     ]
    },
    {
     "name": "stdout",
     "output_type": "stream",
     "text": [
      "{'commandHash': '68ec6244041a3064528019f7a03fca7640725384ed4299228bebe9870ed6d33e'}\n"
     ]
    },
    {
     "name": "stderr",
     "output_type": "stream",
     "text": [
      "127.0.0.1 - - [03/May/2021 18:27:04] \"\u001b[37mPOST /command HTTP/1.1\u001b[0m\" 200 -\n"
     ]
    },
    {
     "name": "stdout",
     "output_type": "stream",
     "text": [
      "{'commandHash': 'adc9b88835386ac0a433b06cb9f74de195cea35b37cc387606711fa80c3175b5'}\n"
     ]
    },
    {
     "name": "stderr",
     "output_type": "stream",
     "text": [
      "127.0.0.1 - - [03/May/2021 18:36:45] \"\u001b[37mGET / HTTP/1.1\u001b[0m\" 200 -\n",
      "127.0.0.1 - - [03/May/2021 18:36:45] \"\u001b[36mGET /appSRP.js HTTP/1.1\u001b[0m\" 304 -\n",
      "127.0.0.1 - - [03/May/2021 18:36:50] \"\u001b[37mPOST /command HTTP/1.1\u001b[0m\" 200 -\n"
     ]
    },
    {
     "name": "stdout",
     "output_type": "stream",
     "text": [
      "{'commandHash': '29910167592ad6d15521f797af82bf57e42d9b9c50159f22926ec46ad37e4608'}\n"
     ]
    },
    {
     "name": "stderr",
     "output_type": "stream",
     "text": [
      "127.0.0.1 - - [03/May/2021 18:37:03] \"\u001b[37mGET / HTTP/1.1\u001b[0m\" 200 -\n",
      "127.0.0.1 - - [03/May/2021 18:37:03] \"\u001b[36mGET /appSRP.js HTTP/1.1\u001b[0m\" 304 -\n",
      "127.0.0.1 - - [03/May/2021 18:37:04] \"\u001b[37mPOST /command HTTP/1.1\u001b[0m\" 200 -\n"
     ]
    },
    {
     "name": "stdout",
     "output_type": "stream",
     "text": [
      "{'commandHash': '29910167592ad6d15521f797af82bf57e42d9b9c50159f22926ec46ad37e4608'}\n"
     ]
    },
    {
     "name": "stderr",
     "output_type": "stream",
     "text": [
      "127.0.0.1 - - [03/May/2021 18:38:30] \"\u001b[37mGET / HTTP/1.1\u001b[0m\" 200 -\n",
      "127.0.0.1 - - [03/May/2021 18:38:30] \"\u001b[36mGET /appSRP.js HTTP/1.1\u001b[0m\" 304 -\n",
      "127.0.0.1 - - [03/May/2021 18:38:42] \"\u001b[37mGET / HTTP/1.1\u001b[0m\" 200 -\n",
      "127.0.0.1 - - [03/May/2021 18:38:42] \"\u001b[36mGET /appSRP.js HTTP/1.1\u001b[0m\" 304 -\n",
      "127.0.0.1 - - [03/May/2021 18:42:37] \"\u001b[37mPOST /command HTTP/1.1\u001b[0m\" 200 -\n"
     ]
    },
    {
     "name": "stdout",
     "output_type": "stream",
     "text": [
      "{'commandHash': '29910167592ad6d15521f797af82bf57e42d9b9c50159f22926ec46ad37e4608'}\n"
     ]
    },
    {
     "name": "stderr",
     "output_type": "stream",
     "text": [
      "127.0.0.1 - - [03/May/2021 18:42:42] \"\u001b[37mPOST /command HTTP/1.1\u001b[0m\" 200 -\n"
     ]
    },
    {
     "name": "stdout",
     "output_type": "stream",
     "text": [
      "{'commandHash': '38e442d368844ca9aaac91cafc2ebce0142f5684df69c758fee3d938c606a208'}\n"
     ]
    },
    {
     "name": "stderr",
     "output_type": "stream",
     "text": [
      "127.0.0.1 - - [03/May/2021 18:42:47] \"\u001b[37mPOST /command HTTP/1.1\u001b[0m\" 200 -\n"
     ]
    },
    {
     "name": "stdout",
     "output_type": "stream",
     "text": [
      "{'commandHash': 'ace4e6183a700e54d750fd8da11f38533cffc1eb9802403d09ba91be43931f29'}\n"
     ]
    },
    {
     "name": "stderr",
     "output_type": "stream",
     "text": [
      "127.0.0.1 - - [03/May/2021 18:42:53] \"\u001b[37mPOST /command HTTP/1.1\u001b[0m\" 200 -\n"
     ]
    },
    {
     "name": "stdout",
     "output_type": "stream",
     "text": [
      "{'commandHash': 'adc9b88835386ac0a433b06cb9f74de195cea35b37cc387606711fa80c3175b5'}\n"
     ]
    },
    {
     "name": "stderr",
     "output_type": "stream",
     "text": [
      "127.0.0.1 - - [03/May/2021 18:43:27] \"\u001b[37mGET / HTTP/1.1\u001b[0m\" 200 -\n",
      "127.0.0.1 - - [03/May/2021 18:43:27] \"\u001b[37mGET /appSRP.js HTTP/1.1\u001b[0m\" 200 -\n",
      "127.0.0.1 - - [03/May/2021 18:43:29] \"\u001b[37mPOST /command HTTP/1.1\u001b[0m\" 200 -\n"
     ]
    },
    {
     "name": "stdout",
     "output_type": "stream",
     "text": [
      "{'commandHash': 'adc9b88835386ac0a433b06cb9f74de195cea35b37cc387606711fa80c3175b5'}\n"
     ]
    },
    {
     "name": "stderr",
     "output_type": "stream",
     "text": [
      "127.0.0.1 - - [03/May/2021 18:43:40] \"\u001b[37mPOST /command HTTP/1.1\u001b[0m\" 200 -\n"
     ]
    },
    {
     "name": "stdout",
     "output_type": "stream",
     "text": [
      "{'commandHash': 'adc9b88835386ac0a433b06cb9f74de195cea35b37cc387606711fa80c3175b5'}\n"
     ]
    },
    {
     "name": "stderr",
     "output_type": "stream",
     "text": [
      "127.0.0.1 - - [03/May/2021 18:46:33] \"\u001b[37mGET / HTTP/1.1\u001b[0m\" 200 -\n",
      "127.0.0.1 - - [03/May/2021 18:46:33] \"\u001b[36mGET /appSRP.js HTTP/1.1\u001b[0m\" 304 -\n",
      "127.0.0.1 - - [03/May/2021 18:46:35] \"\u001b[37mPOST /command HTTP/1.1\u001b[0m\" 200 -\n"
     ]
    },
    {
     "name": "stdout",
     "output_type": "stream",
     "text": [
      "{'commandHash': '29910167592ad6d15521f797af82bf57e42d9b9c50159f22926ec46ad37e4608'}\n"
     ]
    },
    {
     "name": "stderr",
     "output_type": "stream",
     "text": [
      "127.0.0.1 - - [03/May/2021 18:46:40] \"\u001b[37mPOST /command HTTP/1.1\u001b[0m\" 200 -\n"
     ]
    },
    {
     "name": "stdout",
     "output_type": "stream",
     "text": [
      "{'commandHash': 'adc9b88835386ac0a433b06cb9f74de195cea35b37cc387606711fa80c3175b5'}\n"
     ]
    },
    {
     "name": "stderr",
     "output_type": "stream",
     "text": [
      "127.0.0.1 - - [03/May/2021 18:46:48] \"\u001b[37mPOST /command HTTP/1.1\u001b[0m\" 200 -\n"
     ]
    },
    {
     "name": "stdout",
     "output_type": "stream",
     "text": [
      "{'commandHash': '77147583c5aa5215eda4fcb67d680ccb845640efe8357577c0698f945183322c'}\n"
     ]
    },
    {
     "name": "stderr",
     "output_type": "stream",
     "text": [
      "127.0.0.1 - - [03/May/2021 18:46:49] \"\u001b[37mPOST /command HTTP/1.1\u001b[0m\" 200 -\n"
     ]
    },
    {
     "name": "stdout",
     "output_type": "stream",
     "text": [
      "{'commandHash': 'adc9b88835386ac0a433b06cb9f74de195cea35b37cc387606711fa80c3175b5'}\n"
     ]
    },
    {
     "name": "stderr",
     "output_type": "stream",
     "text": [
      "127.0.0.1 - - [03/May/2021 18:46:59] \"\u001b[37mPOST /command HTTP/1.1\u001b[0m\" 200 -\n"
     ]
    },
    {
     "name": "stdout",
     "output_type": "stream",
     "text": [
      "{'commandHash': 'adc9b88835386ac0a433b06cb9f74de195cea35b37cc387606711fa80c3175b5'}\n"
     ]
    },
    {
     "name": "stderr",
     "output_type": "stream",
     "text": [
      "127.0.0.1 - - [03/May/2021 18:49:39] \"\u001b[37mGET / HTTP/1.1\u001b[0m\" 200 -\n",
      "127.0.0.1 - - [03/May/2021 18:49:39] \"\u001b[36mGET /appSRP.js HTTP/1.1\u001b[0m\" 304 -\n",
      "127.0.0.1 - - [03/May/2021 18:49:40] \"\u001b[37mPOST /command HTTP/1.1\u001b[0m\" 200 -\n"
     ]
    },
    {
     "name": "stdout",
     "output_type": "stream",
     "text": [
      "{'commandHash': '29910167592ad6d15521f797af82bf57e42d9b9c50159f22926ec46ad37e4608'}\n"
     ]
    },
    {
     "name": "stderr",
     "output_type": "stream",
     "text": [
      "127.0.0.1 - - [03/May/2021 18:49:45] \"\u001b[37mPOST /command HTTP/1.1\u001b[0m\" 200 -\n"
     ]
    },
    {
     "name": "stdout",
     "output_type": "stream",
     "text": [
      "{'commandHash': 'adc9b88835386ac0a433b06cb9f74de195cea35b37cc387606711fa80c3175b5'}\n"
     ]
    },
    {
     "name": "stderr",
     "output_type": "stream",
     "text": [
      "127.0.0.1 - - [03/May/2021 18:49:51] \"\u001b[37mPOST /command HTTP/1.1\u001b[0m\" 200 -\n"
     ]
    },
    {
     "name": "stdout",
     "output_type": "stream",
     "text": [
      "{'commandHash': 'ef6481006c774e44ca2edf790160e780188b6e5adc6f8cacd5632d2e54a96220'}\n"
     ]
    },
    {
     "name": "stderr",
     "output_type": "stream",
     "text": [
      "127.0.0.1 - - [03/May/2021 18:49:51] \"\u001b[37mPOST /command HTTP/1.1\u001b[0m\" 200 -\n"
     ]
    },
    {
     "name": "stdout",
     "output_type": "stream",
     "text": [
      "{'commandHash': 'adc9b88835386ac0a433b06cb9f74de195cea35b37cc387606711fa80c3175b5'}\n"
     ]
    },
    {
     "name": "stderr",
     "output_type": "stream",
     "text": [
      "127.0.0.1 - - [03/May/2021 18:49:54] \"\u001b[37mPOST /command HTTP/1.1\u001b[0m\" 200 -\n"
     ]
    },
    {
     "name": "stdout",
     "output_type": "stream",
     "text": [
      "{'commandHash': 'adc9b88835386ac0a433b06cb9f74de195cea35b37cc387606711fa80c3175b5'}\n"
     ]
    },
    {
     "name": "stderr",
     "output_type": "stream",
     "text": [
      "127.0.0.1 - - [03/May/2021 18:49:55] \"\u001b[37mPOST /command HTTP/1.1\u001b[0m\" 200 -\n"
     ]
    },
    {
     "name": "stdout",
     "output_type": "stream",
     "text": [
      "{'commandHash': '44a0e1f3e41257fbc31121e8218f44ae548e1bcb0c2362ebee5b8ab7fed4f128'}\n"
     ]
    },
    {
     "name": "stderr",
     "output_type": "stream",
     "text": [
      "127.0.0.1 - - [03/May/2021 18:49:59] \"\u001b[37mPOST /command HTTP/1.1\u001b[0m\" 200 -\n"
     ]
    },
    {
     "name": "stdout",
     "output_type": "stream",
     "text": [
      "{'commandHash': 'adc9b88835386ac0a433b06cb9f74de195cea35b37cc387606711fa80c3175b5'}\n"
     ]
    },
    {
     "name": "stderr",
     "output_type": "stream",
     "text": [
      "127.0.0.1 - - [03/May/2021 18:50:05] \"\u001b[37mPOST /command HTTP/1.1\u001b[0m\" 200 -\n"
     ]
    },
    {
     "name": "stdout",
     "output_type": "stream",
     "text": [
      "{'commandHash': 'b8744935395687307a6ac214a683b2c59e9d3fa23f74ed06af9c7129bb248eb2'}\n"
     ]
    },
    {
     "name": "stderr",
     "output_type": "stream",
     "text": [
      "127.0.0.1 - - [03/May/2021 18:50:08] \"\u001b[37mPOST /command HTTP/1.1\u001b[0m\" 200 -\n"
     ]
    },
    {
     "name": "stdout",
     "output_type": "stream",
     "text": [
      "{'commandHash': 'adc9b88835386ac0a433b06cb9f74de195cea35b37cc387606711fa80c3175b5'}\n"
     ]
    },
    {
     "name": "stderr",
     "output_type": "stream",
     "text": [
      "127.0.0.1 - - [03/May/2021 18:57:10] \"\u001b[37mGET / HTTP/1.1\u001b[0m\" 200 -\n",
      "127.0.0.1 - - [03/May/2021 18:57:10] \"\u001b[36mGET /appSRP.js HTTP/1.1\u001b[0m\" 304 -\n",
      "127.0.0.1 - - [03/May/2021 18:57:13] \"\u001b[37mPOST /command HTTP/1.1\u001b[0m\" 200 -\n"
     ]
    },
    {
     "name": "stdout",
     "output_type": "stream",
     "text": [
      "{'commandHash': '29910167592ad6d15521f797af82bf57e42d9b9c50159f22926ec46ad37e4608'}\n"
     ]
    },
    {
     "name": "stderr",
     "output_type": "stream",
     "text": [
      "127.0.0.1 - - [03/May/2021 18:58:02] \"\u001b[37mGET / HTTP/1.1\u001b[0m\" 200 -\n",
      "127.0.0.1 - - [03/May/2021 18:58:02] \"\u001b[36mGET /appSRP.js HTTP/1.1\u001b[0m\" 304 -\n",
      "127.0.0.1 - - [03/May/2021 18:58:02] \"\u001b[37mPOST /command HTTP/1.1\u001b[0m\" 200 -\n"
     ]
    },
    {
     "name": "stdout",
     "output_type": "stream",
     "text": [
      "{'commandHash': '29910167592ad6d15521f797af82bf57e42d9b9c50159f22926ec46ad37e4608'}\n"
     ]
    },
    {
     "name": "stderr",
     "output_type": "stream",
     "text": [
      "127.0.0.1 - - [03/May/2021 19:02:03] \"\u001b[37mGET / HTTP/1.1\u001b[0m\" 200 -\n",
      "127.0.0.1 - - [03/May/2021 19:02:03] \"\u001b[36mGET /appSRP.js HTTP/1.1\u001b[0m\" 304 -\n",
      "127.0.0.1 - - [03/May/2021 19:02:05] \"\u001b[37mPOST /command HTTP/1.1\u001b[0m\" 200 -\n"
     ]
    },
    {
     "name": "stdout",
     "output_type": "stream",
     "text": [
      "{'commandHash': '29910167592ad6d15521f797af82bf57e42d9b9c50159f22926ec46ad37e4608'}\n"
     ]
    },
    {
     "name": "stderr",
     "output_type": "stream",
     "text": [
      "127.0.0.1 - - [03/May/2021 19:05:20] \"\u001b[37mGET / HTTP/1.1\u001b[0m\" 200 -\n",
      "127.0.0.1 - - [03/May/2021 19:05:20] \"\u001b[36mGET /appSRP.js HTTP/1.1\u001b[0m\" 304 -\n",
      "127.0.0.1 - - [03/May/2021 19:05:26] \"\u001b[37mGET / HTTP/1.1\u001b[0m\" 200 -\n",
      "127.0.0.1 - - [03/May/2021 19:05:26] \"\u001b[36mGET /appSRP.js HTTP/1.1\u001b[0m\" 304 -\n",
      "127.0.0.1 - - [03/May/2021 19:05:31] \"\u001b[37mPOST /command HTTP/1.1\u001b[0m\" 200 -\n"
     ]
    },
    {
     "name": "stdout",
     "output_type": "stream",
     "text": [
      "{'commandHash': '29910167592ad6d15521f797af82bf57e42d9b9c50159f22926ec46ad37e4608'}\n"
     ]
    },
    {
     "name": "stderr",
     "output_type": "stream",
     "text": [
      "127.0.0.1 - - [03/May/2021 19:06:01] \"\u001b[37mPOST /command HTTP/1.1\u001b[0m\" 200 -\n"
     ]
    },
    {
     "name": "stdout",
     "output_type": "stream",
     "text": [
      "{'commandHash': 'adc9b88835386ac0a433b06cb9f74de195cea35b37cc387606711fa80c3175b5'}\n"
     ]
    },
    {
     "name": "stderr",
     "output_type": "stream",
     "text": [
      "127.0.0.1 - - [03/May/2021 19:06:07] \"\u001b[37mPOST /command HTTP/1.1\u001b[0m\" 200 -\n"
     ]
    },
    {
     "name": "stdout",
     "output_type": "stream",
     "text": [
      "{'commandHash': '7e6dac442807c3d0e58e11fc329bc5953f679906568b7f97ce0a7dc463c87db8'}\n"
     ]
    },
    {
     "name": "stderr",
     "output_type": "stream",
     "text": [
      "127.0.0.1 - - [03/May/2021 19:06:18] \"\u001b[37mPOST /command HTTP/1.1\u001b[0m\" 200 -\n"
     ]
    },
    {
     "name": "stdout",
     "output_type": "stream",
     "text": [
      "{'commandHash': 'c570203529071e9bb45f196ca4e16262b24cee47e757b707ddfea73d41b6ed96'}\n"
     ]
    },
    {
     "name": "stderr",
     "output_type": "stream",
     "text": [
      "127.0.0.1 - - [03/May/2021 19:08:10] \"\u001b[37mGET / HTTP/1.1\u001b[0m\" 200 -\n",
      "127.0.0.1 - - [03/May/2021 19:08:10] \"\u001b[37mGET /appSRP.js HTTP/1.1\u001b[0m\" 200 -\n",
      "127.0.0.1 - - [03/May/2021 19:08:12] \"\u001b[37mPOST /command HTTP/1.1\u001b[0m\" 200 -\n"
     ]
    },
    {
     "name": "stdout",
     "output_type": "stream",
     "text": [
      "{'commandHash': '29910167592ad6d15521f797af82bf57e42d9b9c50159f22926ec46ad37e4608'}\n"
     ]
    },
    {
     "name": "stderr",
     "output_type": "stream",
     "text": [
      "127.0.0.1 - - [03/May/2021 19:08:20] \"\u001b[37mPOST /command HTTP/1.1\u001b[0m\" 200 -\n"
     ]
    },
    {
     "name": "stdout",
     "output_type": "stream",
     "text": [
      "{'commandHash': '72c1e897804dd57da5919e08dba3bf7fa7c07574f209bed56f7300fbcc4f7fdf'}\n"
     ]
    },
    {
     "name": "stderr",
     "output_type": "stream",
     "text": [
      "127.0.0.1 - - [03/May/2021 19:08:33] \"\u001b[37mPOST /command HTTP/1.1\u001b[0m\" 200 -\n"
     ]
    },
    {
     "name": "stdout",
     "output_type": "stream",
     "text": [
      "{'commandHash': '718d103a98bd77fee7b27dbd76a22fad45872c1a67b369c8f6bda310d30a313d'}\n"
     ]
    },
    {
     "name": "stderr",
     "output_type": "stream",
     "text": [
      "127.0.0.1 - - [03/May/2021 19:09:10] \"\u001b[37mGET / HTTP/1.1\u001b[0m\" 200 -\n",
      "127.0.0.1 - - [03/May/2021 19:09:10] \"\u001b[36mGET /appSRP.js HTTP/1.1\u001b[0m\" 304 -\n",
      "127.0.0.1 - - [03/May/2021 19:09:16] \"\u001b[37mPOST /command HTTP/1.1\u001b[0m\" 200 -\n"
     ]
    },
    {
     "name": "stdout",
     "output_type": "stream",
     "text": [
      "{'commandHash': '72c1e897804dd57da5919e08dba3bf7fa7c07574f209bed56f7300fbcc4f7fdf'}\n"
     ]
    },
    {
     "name": "stderr",
     "output_type": "stream",
     "text": [
      "127.0.0.1 - - [03/May/2021 19:09:29] \"\u001b[37mPOST /command HTTP/1.1\u001b[0m\" 200 -\n"
     ]
    },
    {
     "name": "stdout",
     "output_type": "stream",
     "text": [
      "{'commandHash': '718d103a98bd77fee7b27dbd76a22fad45872c1a67b369c8f6bda310d30a313d'}\n"
     ]
    },
    {
     "name": "stderr",
     "output_type": "stream",
     "text": [
      "127.0.0.1 - - [03/May/2021 19:09:31] \"\u001b[37mPOST /command HTTP/1.1\u001b[0m\" 200 -\n"
     ]
    },
    {
     "name": "stdout",
     "output_type": "stream",
     "text": [
      "{'commandHash': '72c1e897804dd57da5919e08dba3bf7fa7c07574f209bed56f7300fbcc4f7fdf'}\n"
     ]
    },
    {
     "name": "stderr",
     "output_type": "stream",
     "text": [
      "127.0.0.1 - - [03/May/2021 19:12:35] \"\u001b[37mPOST /command HTTP/1.1\u001b[0m\" 200 -\n"
     ]
    },
    {
     "name": "stdout",
     "output_type": "stream",
     "text": [
      "{'commandHash': '72c1e897804dd57da5919e08dba3bf7fa7c07574f209bed56f7300fbcc4f7fdf'}\n"
     ]
    },
    {
     "name": "stderr",
     "output_type": "stream",
     "text": [
      "127.0.0.1 - - [03/May/2021 19:12:43] \"\u001b[37mPOST /command HTTP/1.1\u001b[0m\" 200 -\n"
     ]
    },
    {
     "name": "stdout",
     "output_type": "stream",
     "text": [
      "{'commandHash': 'bea1965a295a98fceb8dd08660bb161d64c06e3387de9e306e92ed677444054e'}\n"
     ]
    },
    {
     "name": "stderr",
     "output_type": "stream",
     "text": [
      "127.0.0.1 - - [03/May/2021 19:12:45] \"\u001b[37mPOST /command HTTP/1.1\u001b[0m\" 200 -\n"
     ]
    },
    {
     "name": "stdout",
     "output_type": "stream",
     "text": [
      "{'commandHash': '72c1e897804dd57da5919e08dba3bf7fa7c07574f209bed56f7300fbcc4f7fdf'}\n"
     ]
    },
    {
     "name": "stderr",
     "output_type": "stream",
     "text": [
      "127.0.0.1 - - [03/May/2021 19:12:56] \"\u001b[37mPOST /command HTTP/1.1\u001b[0m\" 200 -\n"
     ]
    },
    {
     "name": "stdout",
     "output_type": "stream",
     "text": [
      "{'commandHash': '372e87a557ea1a515f2b1c826e7129bb6d68e75ce6201cc3f67a30fc646cf3d0'}\n"
     ]
    },
    {
     "name": "stderr",
     "output_type": "stream",
     "text": [
      "127.0.0.1 - - [03/May/2021 19:14:16] \"\u001b[37mGET / HTTP/1.1\u001b[0m\" 200 -\n",
      "127.0.0.1 - - [03/May/2021 19:14:16] \"\u001b[37mGET /appSRP.js HTTP/1.1\u001b[0m\" 200 -\n",
      "127.0.0.1 - - [03/May/2021 19:14:17] \"\u001b[37mPOST /command HTTP/1.1\u001b[0m\" 200 -\n"
     ]
    },
    {
     "name": "stdout",
     "output_type": "stream",
     "text": [
      "{'commandHash': '29910167592ad6d15521f797af82bf57e42d9b9c50159f22926ec46ad37e4608'}\n"
     ]
    },
    {
     "name": "stderr",
     "output_type": "stream",
     "text": [
      "127.0.0.1 - - [03/May/2021 19:14:23] \"\u001b[37mPOST /command HTTP/1.1\u001b[0m\" 200 -\n"
     ]
    },
    {
     "name": "stdout",
     "output_type": "stream",
     "text": [
      "{'commandHash': '72c1e897804dd57da5919e08dba3bf7fa7c07574f209bed56f7300fbcc4f7fdf'}\n"
     ]
    },
    {
     "name": "stderr",
     "output_type": "stream",
     "text": [
      "127.0.0.1 - - [03/May/2021 19:14:33] \"\u001b[37mPOST /command HTTP/1.1\u001b[0m\" 200 -\n"
     ]
    },
    {
     "name": "stdout",
     "output_type": "stream",
     "text": [
      "{'commandHash': '5bdfb479101d9a0d59956fbd89cb8801704aaf1899e6013e630e4e291f7ef6db'}\n"
     ]
    },
    {
     "name": "stderr",
     "output_type": "stream",
     "text": [
      "127.0.0.1 - - [03/May/2021 19:14:36] \"\u001b[37mPOST /command HTTP/1.1\u001b[0m\" 200 -\n"
     ]
    },
    {
     "name": "stdout",
     "output_type": "stream",
     "text": [
      "{'commandHash': '72c1e897804dd57da5919e08dba3bf7fa7c07574f209bed56f7300fbcc4f7fdf'}\n"
     ]
    },
    {
     "name": "stderr",
     "output_type": "stream",
     "text": [
      "127.0.0.1 - - [03/May/2021 19:14:47] \"\u001b[37mPOST /command HTTP/1.1\u001b[0m\" 200 -\n"
     ]
    },
    {
     "name": "stdout",
     "output_type": "stream",
     "text": [
      "{'commandHash': 'd0194408b666536fcf133d42dcf6bcd4dc3352af7dc909b49ea974bb2ca211d6'}\n"
     ]
    },
    {
     "name": "stderr",
     "output_type": "stream",
     "text": [
      "127.0.0.1 - - [03/May/2021 19:14:50] \"\u001b[37mPOST /command HTTP/1.1\u001b[0m\" 200 -\n"
     ]
    },
    {
     "name": "stdout",
     "output_type": "stream",
     "text": [
      "{'commandHash': '72c1e897804dd57da5919e08dba3bf7fa7c07574f209bed56f7300fbcc4f7fdf'}\n"
     ]
    },
    {
     "name": "stderr",
     "output_type": "stream",
     "text": [
      "127.0.0.1 - - [03/May/2021 19:14:56] \"\u001b[37mPOST /command HTTP/1.1\u001b[0m\" 200 -\n"
     ]
    },
    {
     "name": "stdout",
     "output_type": "stream",
     "text": [
      "{'commandHash': '8d8648352465e137e5642b3e44db92590965d285163f07fd437e907a05b52966'}\n"
     ]
    },
    {
     "name": "stderr",
     "output_type": "stream",
     "text": [
      "127.0.0.1 - - [03/May/2021 19:15:01] \"\u001b[37mPOST /command HTTP/1.1\u001b[0m\" 200 -\n"
     ]
    },
    {
     "name": "stdout",
     "output_type": "stream",
     "text": [
      "{'commandHash': '72c1e897804dd57da5919e08dba3bf7fa7c07574f209bed56f7300fbcc4f7fdf'}\n"
     ]
    },
    {
     "name": "stderr",
     "output_type": "stream",
     "text": [
      "127.0.0.1 - - [03/May/2021 19:15:07] \"\u001b[37mPOST /command HTTP/1.1\u001b[0m\" 200 -\n"
     ]
    },
    {
     "name": "stdout",
     "output_type": "stream",
     "text": [
      "{'commandHash': '294fdadcfe05273e8bee6fb629c3c92d8d8aba53cac49a1f8b421100a717f189'}\n"
     ]
    },
    {
     "name": "stderr",
     "output_type": "stream",
     "text": [
      "127.0.0.1 - - [03/May/2021 19:15:10] \"\u001b[37mPOST /command HTTP/1.1\u001b[0m\" 200 -\n"
     ]
    },
    {
     "name": "stdout",
     "output_type": "stream",
     "text": [
      "{'commandHash': '72c1e897804dd57da5919e08dba3bf7fa7c07574f209bed56f7300fbcc4f7fdf'}\n"
     ]
    },
    {
     "name": "stderr",
     "output_type": "stream",
     "text": [
      "127.0.0.1 - - [03/May/2021 19:15:17] \"\u001b[37mPOST /command HTTP/1.1\u001b[0m\" 200 -\n"
     ]
    },
    {
     "name": "stdout",
     "output_type": "stream",
     "text": [
      "{'commandHash': '0c4bb858e38e1093118c537454daf98594eafdfc9d024c6e4833666680841ac9'}\n"
     ]
    },
    {
     "name": "stderr",
     "output_type": "stream",
     "text": [
      "127.0.0.1 - - [03/May/2021 19:15:20] \"\u001b[37mPOST /command HTTP/1.1\u001b[0m\" 200 -\n"
     ]
    },
    {
     "name": "stdout",
     "output_type": "stream",
     "text": [
      "{'commandHash': '72c1e897804dd57da5919e08dba3bf7fa7c07574f209bed56f7300fbcc4f7fdf'}\n"
     ]
    },
    {
     "name": "stderr",
     "output_type": "stream",
     "text": [
      "127.0.0.1 - - [03/May/2021 19:15:27] \"\u001b[37mPOST /command HTTP/1.1\u001b[0m\" 200 -\n"
     ]
    },
    {
     "name": "stdout",
     "output_type": "stream",
     "text": [
      "{'commandHash': '84c4df5fb0d7035ffc3a18b412808f265409ca2a91711deaba439ef77c1d3d9d'}\n"
     ]
    },
    {
     "name": "stderr",
     "output_type": "stream",
     "text": [
      "127.0.0.1 - - [03/May/2021 19:15:30] \"\u001b[37mPOST /command HTTP/1.1\u001b[0m\" 200 -\n"
     ]
    },
    {
     "name": "stdout",
     "output_type": "stream",
     "text": [
      "{'commandHash': '72c1e897804dd57da5919e08dba3bf7fa7c07574f209bed56f7300fbcc4f7fdf'}\n"
     ]
    },
    {
     "name": "stderr",
     "output_type": "stream",
     "text": [
      "127.0.0.1 - - [03/May/2021 19:15:33] \"\u001b[37mPOST /command HTTP/1.1\u001b[0m\" 200 -\n"
     ]
    },
    {
     "name": "stdout",
     "output_type": "stream",
     "text": [
      "{'commandHash': '6c65fe0305ce249146e0ee1026a1939a0544675faafd42e719f93b645ea182dd'}\n"
     ]
    },
    {
     "name": "stderr",
     "output_type": "stream",
     "text": [
      "127.0.0.1 - - [03/May/2021 19:15:36] \"\u001b[37mPOST /command HTTP/1.1\u001b[0m\" 200 -\n"
     ]
    },
    {
     "name": "stdout",
     "output_type": "stream",
     "text": [
      "{'commandHash': '72c1e897804dd57da5919e08dba3bf7fa7c07574f209bed56f7300fbcc4f7fdf'}\n"
     ]
    },
    {
     "name": "stderr",
     "output_type": "stream",
     "text": [
      "127.0.0.1 - - [03/May/2021 19:15:40] \"\u001b[37mPOST /command HTTP/1.1\u001b[0m\" 200 -\n"
     ]
    },
    {
     "name": "stdout",
     "output_type": "stream",
     "text": [
      "{'commandHash': 'b248f103518f2c4561aaf329e7932ac3b8255eb9f616a1dc3498b284265efed4'}\n"
     ]
    },
    {
     "name": "stderr",
     "output_type": "stream",
     "text": [
      "127.0.0.1 - - [03/May/2021 19:15:43] \"\u001b[37mPOST /command HTTP/1.1\u001b[0m\" 200 -\n"
     ]
    },
    {
     "name": "stdout",
     "output_type": "stream",
     "text": [
      "{'commandHash': '72c1e897804dd57da5919e08dba3bf7fa7c07574f209bed56f7300fbcc4f7fdf'}\n"
     ]
    },
    {
     "name": "stderr",
     "output_type": "stream",
     "text": [
      "127.0.0.1 - - [03/May/2021 19:15:47] \"\u001b[37mPOST /command HTTP/1.1\u001b[0m\" 200 -\n"
     ]
    },
    {
     "name": "stdout",
     "output_type": "stream",
     "text": [
      "{'commandHash': '42974d740db5b12d880bff3120a87e5c1b0a08dc51af225ca8adc162af8b3532'}\n"
     ]
    },
    {
     "name": "stderr",
     "output_type": "stream",
     "text": [
      "127.0.0.1 - - [03/May/2021 19:15:50] \"\u001b[37mPOST /command HTTP/1.1\u001b[0m\" 200 -\n"
     ]
    },
    {
     "name": "stdout",
     "output_type": "stream",
     "text": [
      "{'commandHash': '72c1e897804dd57da5919e08dba3bf7fa7c07574f209bed56f7300fbcc4f7fdf'}\n"
     ]
    },
    {
     "name": "stderr",
     "output_type": "stream",
     "text": [
      "127.0.0.1 - - [03/May/2021 19:15:56] \"\u001b[37mPOST /command HTTP/1.1\u001b[0m\" 200 -\n"
     ]
    },
    {
     "name": "stdout",
     "output_type": "stream",
     "text": [
      "{'commandHash': '6e97e63bdf1e1eafdc3b73d47140cca398a9daed7cb6bd041e54726f191e6e8e'}\n"
     ]
    },
    {
     "name": "stderr",
     "output_type": "stream",
     "text": [
      "127.0.0.1 - - [03/May/2021 19:15:59] \"\u001b[37mPOST /command HTTP/1.1\u001b[0m\" 200 -\n"
     ]
    },
    {
     "name": "stdout",
     "output_type": "stream",
     "text": [
      "{'commandHash': '72c1e897804dd57da5919e08dba3bf7fa7c07574f209bed56f7300fbcc4f7fdf'}\n"
     ]
    },
    {
     "name": "stderr",
     "output_type": "stream",
     "text": [
      "127.0.0.1 - - [03/May/2021 19:16:03] \"\u001b[37mPOST /command HTTP/1.1\u001b[0m\" 200 -\n"
     ]
    },
    {
     "name": "stdout",
     "output_type": "stream",
     "text": [
      "{'commandHash': 'd9373e0904d1c7b97b6f9b918cc25f0bfaf8faac5b13e60e957ed5a625f88afd'}\n"
     ]
    },
    {
     "name": "stderr",
     "output_type": "stream",
     "text": [
      "127.0.0.1 - - [03/May/2021 19:16:06] \"\u001b[37mPOST /command HTTP/1.1\u001b[0m\" 200 -\n"
     ]
    },
    {
     "name": "stdout",
     "output_type": "stream",
     "text": [
      "{'commandHash': '72c1e897804dd57da5919e08dba3bf7fa7c07574f209bed56f7300fbcc4f7fdf'}\n"
     ]
    },
    {
     "name": "stderr",
     "output_type": "stream",
     "text": [
      "127.0.0.1 - - [03/May/2021 19:16:10] \"\u001b[37mPOST /command HTTP/1.1\u001b[0m\" 200 -\n"
     ]
    },
    {
     "name": "stdout",
     "output_type": "stream",
     "text": [
      "{'commandHash': '3ffe98921f0a4d0d3d019697555c96177388f7dabce2baed6725a0c8555447fb'}\n"
     ]
    },
    {
     "name": "stderr",
     "output_type": "stream",
     "text": [
      "127.0.0.1 - - [03/May/2021 19:16:13] \"\u001b[37mPOST /command HTTP/1.1\u001b[0m\" 200 -\n"
     ]
    },
    {
     "name": "stdout",
     "output_type": "stream",
     "text": [
      "{'commandHash': '72c1e897804dd57da5919e08dba3bf7fa7c07574f209bed56f7300fbcc4f7fdf'}\n"
     ]
    },
    {
     "name": "stderr",
     "output_type": "stream",
     "text": [
      "127.0.0.1 - - [03/May/2021 19:16:17] \"\u001b[37mPOST /command HTTP/1.1\u001b[0m\" 200 -\n"
     ]
    },
    {
     "name": "stdout",
     "output_type": "stream",
     "text": [
      "{'commandHash': '6649d600dc6757c31acde507fb03bc30bf40668a63ea997fe34139d342be374a'}\n"
     ]
    },
    {
     "name": "stderr",
     "output_type": "stream",
     "text": [
      "127.0.0.1 - - [03/May/2021 19:16:20] \"\u001b[37mPOST /command HTTP/1.1\u001b[0m\" 200 -\n"
     ]
    },
    {
     "name": "stdout",
     "output_type": "stream",
     "text": [
      "{'commandHash': '72c1e897804dd57da5919e08dba3bf7fa7c07574f209bed56f7300fbcc4f7fdf'}\n"
     ]
    },
    {
     "name": "stderr",
     "output_type": "stream",
     "text": [
      "127.0.0.1 - - [03/May/2021 19:19:49] \"\u001b[37mGET / HTTP/1.1\u001b[0m\" 200 -\n",
      "127.0.0.1 - - [03/May/2021 19:19:49] \"\u001b[36mGET /appSRP.js HTTP/1.1\u001b[0m\" 304 -\n",
      "127.0.0.1 - - [03/May/2021 19:20:23] \"\u001b[37mGET / HTTP/1.1\u001b[0m\" 200 -\n",
      "127.0.0.1 - - [03/May/2021 19:20:23] \"\u001b[36mGET /appSRP.js HTTP/1.1\u001b[0m\" 304 -\n",
      "127.0.0.1 - - [03/May/2021 19:20:38] \"\u001b[37mPOST /command HTTP/1.1\u001b[0m\" 200 -\n"
     ]
    },
    {
     "name": "stdout",
     "output_type": "stream",
     "text": [
      "{'commandHash': '29910167592ad6d15521f797af82bf57e42d9b9c50159f22926ec46ad37e4608'}\n"
     ]
    }
   ],
   "source": [
    "APP_PORT=49055\n",
    "APP_HOST='0.0.0.0'\n",
    "APP_ID=\"608ff071856012aac7511084\"\n",
    "SECRET_KEY=\"e2a3f56dcdc154d470a5172246ad2485e08eb7b7cee5003bdf784607e97480b2\"\n",
    "\n",
    "import datetime\n",
    "from bson.objectid import ObjectId\n",
    "import random\n",
    "import string\n",
    "import hmac\n",
    "import hashlib\n",
    "from hashlib import sha256\n",
    "from flask import Flask\n",
    "from flask import request,redirect\n",
    "from flask import Response,send_from_directory\n",
    "from flask import render_template\n",
    "from os import listdir\n",
    "from os.path import isfile, join\n",
    "import os\n",
    "from pymongo import MongoClient\n",
    "import pymongo\n",
    "import os.path\n",
    "from base64 import b64encode\n",
    "from collections import OrderedDict\n",
    "from hashlib import sha256\n",
    "from hmac import HMAC\n",
    "from urllib.parse import urlparse, parse_qsl, urlencode\n",
    "import json\n",
    "from appServerSRP import signSRP\n",
    "\n",
    "app = Flask(__name__)\n",
    "app.config['TEMPLATES_AUTO_RELOAD'] = True\n",
    "\n",
    "@app.after_request\n",
    "def add_header(r):\n",
    "    r.headers[\"Cache-Control\"] = \"no-cache, no-store, must-revalidate\"\n",
    "    r.headers[\"Pragma\"] = \"no-cache\"\n",
    "    r.headers[\"Expires\"] = \"0\"\n",
    "    r.headers['Cache-Control'] = 'public, max-age=0'\n",
    "    return r\n",
    "\n",
    "@app.route('/',methods=[\"GET\"])\n",
    "def index():\n",
    "    return render_template(\"explorer.html\")\n",
    "\n",
    "@app.route('/command',methods=[\"POST\"])\n",
    "def command():\n",
    "    print(request.json)\n",
    "    sign = signSRP(SECRET_KEY,request.json[\"commandHash\"])\n",
    "    return sign\n",
    "\n",
    "@app.route('/appSRP.js',methods=[\"GET\"])\n",
    "def script():\n",
    "    return send_from_directory('templates', 'appSRP.js')\n",
    "app.run(host=APP_HOST, port=APP_PORT, threaded=True)"
   ]
  }
 ],
 "metadata": {
  "kernelspec": {
   "display_name": "Python 3",
   "language": "python",
   "name": "python3"
  },
  "language_info": {
   "codemirror_mode": {
    "name": "ipython",
    "version": 3
   },
   "file_extension": ".py",
   "mimetype": "text/x-python",
   "name": "python",
   "nbconvert_exporter": "python",
   "pygments_lexer": "ipython3",
   "version": "3.7.6"
  }
 },
 "nbformat": 4,
 "nbformat_minor": 4
}
