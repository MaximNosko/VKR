{
 "cells": [
  {
   "cell_type": "code",
   "execution_count": null,
   "metadata": {},
   "outputs": [
    {
     "name": "stdout",
     "output_type": "stream",
     "text": [
      " * Serving Flask app \"__main__\" (lazy loading)\n",
      " * Environment: production\n",
      "   WARNING: This is a development server. Do not use it in a production deployment.\n",
      "   Use a production WSGI server instead.\n",
      " * Debug mode: off\n"
     ]
    },
    {
     "name": "stderr",
     "output_type": "stream",
     "text": [
      " * Running on http://0.0.0.0:49055/ (Press CTRL+C to quit)\n",
      "127.0.0.1 - - [17/May/2021 15:08:22] \"\u001b[37mGET / HTTP/1.1\u001b[0m\" 200 -\n",
      "127.0.0.1 - - [17/May/2021 15:08:22] \"\u001b[37mGET /appSRP.js HTTP/1.1\u001b[0m\" 200 -\n",
      "127.0.0.1 - - [17/May/2021 15:08:23] \"\u001b[33mGET /favicon.ico HTTP/1.1\u001b[0m\" 404 -\n",
      "127.0.0.1 - - [17/May/2021 15:08:24] \"\u001b[37mPOST /command HTTP/1.1\u001b[0m\" 200 -\n",
      "127.0.0.1 - - [17/May/2021 15:08:30] \"\u001b[37mPOST /command HTTP/1.1\u001b[0m\" 200 -\n",
      "127.0.0.1 - - [17/May/2021 15:08:34] \"\u001b[37mPOST /command HTTP/1.1\u001b[0m\" 200 -\n",
      "127.0.0.1 - - [17/May/2021 15:08:55] \"\u001b[37mPOST /command HTTP/1.1\u001b[0m\" 200 -\n",
      "127.0.0.1 - - [17/May/2021 15:11:35] \"\u001b[37mPOST /command HTTP/1.1\u001b[0m\" 200 -\n",
      "127.0.0.1 - - [17/May/2021 15:12:25] \"\u001b[37mPOST /command HTTP/1.1\u001b[0m\" 200 -\n",
      "127.0.0.1 - - [17/May/2021 15:12:28] \"\u001b[37mPOST /command HTTP/1.1\u001b[0m\" 200 -\n",
      "127.0.0.1 - - [17/May/2021 15:19:37] \"\u001b[37mPOST /command HTTP/1.1\u001b[0m\" 200 -\n",
      "127.0.0.1 - - [17/May/2021 15:19:37] \"\u001b[37mPOST /command HTTP/1.1\u001b[0m\" 200 -\n",
      "127.0.0.1 - - [17/May/2021 15:19:39] \"\u001b[37mPOST /command HTTP/1.1\u001b[0m\" 200 -\n",
      "127.0.0.1 - - [17/May/2021 15:19:46] \"\u001b[37mPOST /command HTTP/1.1\u001b[0m\" 200 -\n",
      "127.0.0.1 - - [17/May/2021 15:19:49] \"\u001b[37mPOST /command HTTP/1.1\u001b[0m\" 200 -\n",
      "127.0.0.1 - - [17/May/2021 15:29:09] \"\u001b[37mPOST /command HTTP/1.1\u001b[0m\" 200 -\n",
      "127.0.0.1 - - [17/May/2021 15:29:21] \"\u001b[37mPOST /command HTTP/1.1\u001b[0m\" 200 -\n",
      "127.0.0.1 - - [17/May/2021 15:29:24] \"\u001b[37mPOST /command HTTP/1.1\u001b[0m\" 200 -\n"
     ]
    }
   ],
   "source": [
    "APP_PORT=49055#порт приложения\n",
    "APP_HOST='0.0.0.0'#хост приложения\n",
    "APP_ID=\"608ff071856012aac7511084\"#идентификатор приложения с Портала СРП\n",
    "SECRET_KEY=\"e2a3f56dcdc154d470a5172246ad2485e08eb7b7cee5003bdf784607e97480b2\"#секретный ключ приложения с Портала СРП\n",
    "\n",
    "import datetime\n",
    "from bson.objectid import ObjectId\n",
    "import random\n",
    "import string\n",
    "import hmac\n",
    "import hashlib\n",
    "from hashlib import sha256\n",
    "from flask import Flask\n",
    "from flask import request,redirect\n",
    "from flask import Response,send_from_directory\n",
    "from flask import render_template\n",
    "from os import listdir\n",
    "from os.path import isfile, join\n",
    "import os\n",
    "from pymongo import MongoClient\n",
    "import pymongo\n",
    "import os.path\n",
    "from base64 import b64encode\n",
    "from collections import OrderedDict\n",
    "from hashlib import sha256\n",
    "from hmac import HMAC\n",
    "from urllib.parse import urlparse, parse_qsl, urlencode\n",
    "import json\n",
    "from appServerSRP import signSRP\n",
    "\n",
    "app = Flask(__name__) #создание объекта сервера\n",
    "app.config['TEMPLATES_AUTO_RELOAD'] = True\n",
    "\n",
    "@app.after_request #Запрет кеширования\n",
    "def add_header(r): \n",
    "    r.headers[\"Cache-Control\"] = \"no-cache, no-store, must-revalidate\"\n",
    "    r.headers[\"Pragma\"] = \"no-cache\"\n",
    "    r.headers[\"Expires\"] = \"0\"\n",
    "    r.headers['Cache-Control'] = 'public, max-age=0'\n",
    "    return r\n",
    "\n",
    "@app.route('/',methods=[\"GET\"])#отображение страницы\n",
    "def index():\n",
    "    return render_template(\"explorer.html\")\n",
    "\n",
    "@app.route('/command',methods=[\"POST\"])#подпись\n",
    "def command():\n",
    "    sign = signSRP(SECRET_KEY,request.json[\"commandHash\"])\n",
    "    return sign\n",
    "\n",
    "@app.route('/appSRP.js',methods=[\"GET\"])#библиотека для работы с СРП\n",
    "def script():\n",
    "    return send_from_directory('templates', 'appSRP.js')\n",
    "app.run(host=APP_HOST, port=APP_PORT, threaded=True)#запуск сервера"
   ]
  }
 ],
 "metadata": {
  "kernelspec": {
   "display_name": "Python 3",
   "language": "python",
   "name": "python3"
  },
  "language_info": {
   "codemirror_mode": {
    "name": "ipython",
    "version": 3
   },
   "file_extension": ".py",
   "mimetype": "text/x-python",
   "name": "python",
   "nbconvert_exporter": "python",
   "pygments_lexer": "ipython3",
   "version": "3.7.6"
  }
 },
 "nbformat": 4,
 "nbformat_minor": 4
}
