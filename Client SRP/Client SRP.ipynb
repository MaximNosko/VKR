{
 "cells": [
  {
   "cell_type": "code",
   "execution_count": null,
   "metadata": {
    "scrolled": true
   },
   "outputs": [
    {
     "name": "stdout",
     "output_type": "stream",
     "text": [
      " * Serving Flask app \"__main__\" (lazy loading)\n",
      " * Environment: production\n",
      "   WARNING: This is a development server. Do not use it in a production deployment.\n",
      "   Use a production WSGI server instead.\n",
      " * Debug mode: off\n"
     ]
    },
    {
     "name": "stderr",
     "output_type": "stream",
     "text": [
      " * Running on http://0.0.0.0:49053/ (Press CTRL+C to quit)\n",
      "127.0.0.1 - - [03/May/2021 19:12:35] \"\u001b[37mOPTIONS / HTTP/1.1\u001b[0m\" 200 -\n"
     ]
    },
    {
     "name": "stdout",
     "output_type": "stream",
     "text": [
      "{'appID': '608ff071856012aac7511084', 'args': {'path': 'C%3A%2FUsers%2Fmaxno%2F%D0%9F%D0%B8%D1%82%D0%BE%D0%BD%2FVKR%2FClient%20SRP%2F'}, 'type': 'list', 'serverSign': 'apoa3p7/q12b23zyds4YxF3yJp2cXR7vcwzTI4ubX2Q='}\n",
      "http://localhost:49055/\n"
     ]
    },
    {
     "name": "stderr",
     "output_type": "stream",
     "text": [
      "127.0.0.1 - - [03/May/2021 19:12:37] \"\u001b[37mPOST / HTTP/1.1\u001b[0m\" 200 -\n"
     ]
    },
    {
     "name": "stdout",
     "output_type": "stream",
     "text": [
      "ПУТЬ\n",
      "C:/Users/maxno/Питон/VKR/Client SRP/\n"
     ]
    },
    {
     "name": "stderr",
     "output_type": "stream",
     "text": [
      "127.0.0.1 - - [03/May/2021 19:12:43] \"\u001b[37mOPTIONS / HTTP/1.1\u001b[0m\" 200 -\n"
     ]
    },
    {
     "name": "stdout",
     "output_type": "stream",
     "text": [
      "{'appID': '608ff071856012aac7511084', 'args': {'newName': '4534.png', 'path': 'C%3A%2FUsers%2Fmaxno%2F%D0%9F%D0%B8%D1%82%D0%BE%D0%BD%2FVKR%2FClient%20SRP%2F4.png'}, 'type': 'rename', 'serverSign': '5pTLCTF/R02pDbJcZ8G+vHhrOuAljfBn4lWrnEVMofc='}\n",
      "http://localhost:49055/\n"
     ]
    },
    {
     "name": "stderr",
     "output_type": "stream",
     "text": [
      "127.0.0.1 - - [03/May/2021 19:12:45] \"\u001b[37mPOST / HTTP/1.1\u001b[0m\" 200 -\n"
     ]
    },
    {
     "name": "stdout",
     "output_type": "stream",
     "text": [
      "{'appID': '608ff071856012aac7511084', 'args': {'path': 'C%3A%2FUsers%2Fmaxno%2F%D0%9F%D0%B8%D1%82%D0%BE%D0%BD%2FVKR%2FClient%20SRP%2F'}, 'type': 'list', 'serverSign': 'apoa3p7/q12b23zyds4YxF3yJp2cXR7vcwzTI4ubX2Q='}\n",
      "http://localhost:49055/\n"
     ]
    },
    {
     "name": "stderr",
     "output_type": "stream",
     "text": [
      "127.0.0.1 - - [03/May/2021 19:12:47] \"\u001b[37mPOST / HTTP/1.1\u001b[0m\" 200 -\n"
     ]
    },
    {
     "name": "stdout",
     "output_type": "stream",
     "text": [
      "ПУТЬ\n",
      "C:/Users/maxno/Питон/VKR/Client SRP/\n"
     ]
    },
    {
     "name": "stderr",
     "output_type": "stream",
     "text": [
      "127.0.0.1 - - [03/May/2021 19:12:56] \"\u001b[37mOPTIONS / HTTP/1.1\u001b[0m\" 200 -\n"
     ]
    },
    {
     "name": "stdout",
     "output_type": "stream",
     "text": [
      "{'appID': '608ff071856012aac7511084', 'args': {'newName': 'хехе.png', 'path': 'C%3A%2FUsers%2Fmaxno%2F%D0%9F%D0%B8%D1%82%D0%BE%D0%BD%2FVKR%2FClient%20SRP%2F4534.png'}, 'type': 'rename', 'serverSign': 'w1jEzlGrx1VzLqjHKKhH02QE2DrJjJT+pwiOWeZ7JJ0='}\n",
      "http://localhost:49055/\n"
     ]
    },
    {
     "name": "stderr",
     "output_type": "stream",
     "text": [
      "127.0.0.1 - - [03/May/2021 19:12:59] \"\u001b[37mPOST / HTTP/1.1\u001b[0m\" 200 -\n",
      "127.0.0.1 - - [03/May/2021 19:14:17] \"\u001b[37mOPTIONS / HTTP/1.1\u001b[0m\" 200 -\n"
     ]
    },
    {
     "name": "stdout",
     "output_type": "stream",
     "text": [
      "{'appID': '608ff071856012aac7511084', 'args': {'path': '%25USERPROFILE%25'}, 'type': 'list', 'serverSign': 'BHTStQJba7f1ML+aIuVOn1gFXAq2RKiZ0AHMrD571xQ='}\n",
      "http://localhost:49055/\n"
     ]
    },
    {
     "name": "stderr",
     "output_type": "stream",
     "text": [
      "127.0.0.1 - - [03/May/2021 19:14:20] \"\u001b[37mPOST / HTTP/1.1\u001b[0m\" 200 -\n"
     ]
    },
    {
     "name": "stdout",
     "output_type": "stream",
     "text": [
      "ПУТЬ\n",
      "%USERPROFILE%\n"
     ]
    },
    {
     "name": "stderr",
     "output_type": "stream",
     "text": [
      "127.0.0.1 - - [03/May/2021 19:14:23] \"\u001b[37mOPTIONS / HTTP/1.1\u001b[0m\" 200 -\n"
     ]
    },
    {
     "name": "stdout",
     "output_type": "stream",
     "text": [
      "{'appID': '608ff071856012aac7511084', 'args': {'path': 'C%3A%2FUsers%2Fmaxno%2F%D0%9F%D0%B8%D1%82%D0%BE%D0%BD%2FVKR%2FClient%20SRP%2F'}, 'type': 'list', 'serverSign': 'apoa3p7/q12b23zyds4YxF3yJp2cXR7vcwzTI4ubX2Q='}\n",
      "http://localhost:49055/\n"
     ]
    },
    {
     "name": "stderr",
     "output_type": "stream",
     "text": [
      "127.0.0.1 - - [03/May/2021 19:14:25] \"\u001b[37mPOST / HTTP/1.1\u001b[0m\" 200 -\n"
     ]
    },
    {
     "name": "stdout",
     "output_type": "stream",
     "text": [
      "ПУТЬ\n",
      "C:/Users/maxno/Питон/VKR/Client SRP/\n"
     ]
    },
    {
     "name": "stderr",
     "output_type": "stream",
     "text": [
      "127.0.0.1 - - [03/May/2021 19:14:33] \"\u001b[37mOPTIONS / HTTP/1.1\u001b[0m\" 200 -\n"
     ]
    },
    {
     "name": "stdout",
     "output_type": "stream",
     "text": [
      "{'appID': '608ff071856012aac7511084', 'args': {'newName': '%D0%BA%D0%B5%D0%BA.png', 'path': 'C%3A%2FUsers%2Fmaxno%2F%D0%9F%D0%B8%D1%82%D0%BE%D0%BD%2FVKR%2FClient%20SRP%2F4534.png'}, 'type': 'rename', 'serverSign': 'gKZJsxu56+gbgKHuG9eu34wW5ocfiqbDatqwWW4V/Ww='}\n",
      "http://localhost:49055/\n"
     ]
    },
    {
     "name": "stderr",
     "output_type": "stream",
     "text": [
      "127.0.0.1 - - [03/May/2021 19:14:35] \"\u001b[37mPOST / HTTP/1.1\u001b[0m\" 200 -\n"
     ]
    },
    {
     "name": "stdout",
     "output_type": "stream",
     "text": [
      "{'appID': '608ff071856012aac7511084', 'args': {'path': 'C%3A%2FUsers%2Fmaxno%2F%D0%9F%D0%B8%D1%82%D0%BE%D0%BD%2FVKR%2FClient%20SRP%2F'}, 'type': 'list', 'serverSign': 'apoa3p7/q12b23zyds4YxF3yJp2cXR7vcwzTI4ubX2Q='}\n",
      "http://localhost:49055/\n"
     ]
    },
    {
     "name": "stderr",
     "output_type": "stream",
     "text": [
      "127.0.0.1 - - [03/May/2021 19:14:38] \"\u001b[37mPOST / HTTP/1.1\u001b[0m\" 200 -\n"
     ]
    },
    {
     "name": "stdout",
     "output_type": "stream",
     "text": [
      "ПУТЬ\n",
      "C:/Users/maxno/Питон/VKR/Client SRP/\n"
     ]
    },
    {
     "name": "stderr",
     "output_type": "stream",
     "text": [
      "127.0.0.1 - - [03/May/2021 19:14:47] \"\u001b[37mOPTIONS / HTTP/1.1\u001b[0m\" 200 -\n"
     ]
    },
    {
     "name": "stdout",
     "output_type": "stream",
     "text": [
      "{'appID': '608ff071856012aac7511084', 'args': {'path': 'C%3A%2FUsers%2Fmaxno%2F%D0%9F%D0%B8%D1%82%D0%BE%D0%BD%2FVKR%2FClient%20SRP%2F%D0%BA%D0%B5%D0%BA.png'}, 'type': 'delete', 'serverSign': 'QE+WeWOieSSOlJWTe87DOs2Jz5e4OPzEL+6K1ylV1JI='}\n",
      "http://localhost:49055/\n"
     ]
    },
    {
     "name": "stderr",
     "output_type": "stream",
     "text": [
      "127.0.0.1 - - [03/May/2021 19:14:50] \"\u001b[37mPOST / HTTP/1.1\u001b[0m\" 200 -\n"
     ]
    },
    {
     "name": "stdout",
     "output_type": "stream",
     "text": [
      "{'appID': '608ff071856012aac7511084', 'args': {'path': 'C%3A%2FUsers%2Fmaxno%2F%D0%9F%D0%B8%D1%82%D0%BE%D0%BD%2FVKR%2FClient%20SRP%2F'}, 'type': 'list', 'serverSign': 'apoa3p7/q12b23zyds4YxF3yJp2cXR7vcwzTI4ubX2Q='}\n",
      "http://localhost:49055/\n"
     ]
    },
    {
     "name": "stderr",
     "output_type": "stream",
     "text": [
      "127.0.0.1 - - [03/May/2021 19:14:52] \"\u001b[37mPOST / HTTP/1.1\u001b[0m\" 200 -\n"
     ]
    },
    {
     "name": "stdout",
     "output_type": "stream",
     "text": [
      "ПУТЬ\n",
      "C:/Users/maxno/Питон/VKR/Client SRP/\n"
     ]
    },
    {
     "name": "stderr",
     "output_type": "stream",
     "text": [
      "127.0.0.1 - - [03/May/2021 19:14:56] \"\u001b[37mOPTIONS / HTTP/1.1\u001b[0m\" 200 -\n"
     ]
    },
    {
     "name": "stdout",
     "output_type": "stream",
     "text": [
      "{'appID': '608ff071856012aac7511084', 'args': {'path': 'C%3A%2FUsers%2Fmaxno%2F%D0%9F%D0%B8%D1%82%D0%BE%D0%BD%2FVKR%2FClient%20SRP%2Fnjfdsgdsf'}, 'type': 'list', 'serverSign': 'JXlyZL7DV2QEYJdCMHSyUS0bnc+o6fgyjGwPyAChWwg='}\n",
      "http://localhost:49055/\n"
     ]
    },
    {
     "name": "stderr",
     "output_type": "stream",
     "text": [
      "127.0.0.1 - - [03/May/2021 19:14:59] \"\u001b[37mPOST / HTTP/1.1\u001b[0m\" 200 -\n"
     ]
    },
    {
     "name": "stdout",
     "output_type": "stream",
     "text": [
      "ПУТЬ\n",
      "C:/Users/maxno/Питон/VKR/Client SRP/njfdsgdsf\n",
      "{'appID': '608ff071856012aac7511084', 'args': {'path': 'C%3A%2FUsers%2Fmaxno%2F%D0%9F%D0%B8%D1%82%D0%BE%D0%BD%2FVKR%2FClient%20SRP%2F'}, 'type': 'list', 'serverSign': 'apoa3p7/q12b23zyds4YxF3yJp2cXR7vcwzTI4ubX2Q='}\n",
      "http://localhost:49055/\n"
     ]
    },
    {
     "name": "stderr",
     "output_type": "stream",
     "text": [
      "127.0.0.1 - - [03/May/2021 19:15:03] \"\u001b[37mPOST / HTTP/1.1\u001b[0m\" 200 -\n"
     ]
    },
    {
     "name": "stdout",
     "output_type": "stream",
     "text": [
      "ПУТЬ\n",
      "C:/Users/maxno/Питон/VKR/Client SRP/\n"
     ]
    },
    {
     "name": "stderr",
     "output_type": "stream",
     "text": [
      "127.0.0.1 - - [03/May/2021 19:15:08] \"\u001b[37mOPTIONS / HTTP/1.1\u001b[0m\" 200 -\n"
     ]
    },
    {
     "name": "stdout",
     "output_type": "stream",
     "text": [
      "{'appID': '608ff071856012aac7511084', 'args': {'newName': '%D0%9F%D0%B0%D0%BF%D0%BA%D0%B0', 'path': 'C%3A%2FUsers%2Fmaxno%2F%D0%9F%D0%B8%D1%82%D0%BE%D0%BD%2FVKR%2FClient%20SRP%2Fnjfdsgdsf'}, 'type': 'rename', 'serverSign': 'rdyX2boeht3XgGWowlMrWtckzk3nRs8yh/xs/RyRbfk='}\n",
      "http://localhost:49055/\n"
     ]
    },
    {
     "name": "stderr",
     "output_type": "stream",
     "text": [
      "127.0.0.1 - - [03/May/2021 19:15:10] \"\u001b[37mPOST / HTTP/1.1\u001b[0m\" 200 -\n"
     ]
    },
    {
     "name": "stdout",
     "output_type": "stream",
     "text": [
      "{'appID': '608ff071856012aac7511084', 'args': {'path': 'C%3A%2FUsers%2Fmaxno%2F%D0%9F%D0%B8%D1%82%D0%BE%D0%BD%2FVKR%2FClient%20SRP%2F'}, 'type': 'list', 'serverSign': 'apoa3p7/q12b23zyds4YxF3yJp2cXR7vcwzTI4ubX2Q='}\n",
      "http://localhost:49055/\n"
     ]
    },
    {
     "name": "stderr",
     "output_type": "stream",
     "text": [
      "127.0.0.1 - - [03/May/2021 19:15:12] \"\u001b[37mPOST / HTTP/1.1\u001b[0m\" 200 -\n"
     ]
    },
    {
     "name": "stdout",
     "output_type": "stream",
     "text": [
      "ПУТЬ\n",
      "C:/Users/maxno/Питон/VKR/Client SRP/\n"
     ]
    },
    {
     "name": "stderr",
     "output_type": "stream",
     "text": [
      "127.0.0.1 - - [03/May/2021 19:15:17] \"\u001b[37mOPTIONS / HTTP/1.1\u001b[0m\" 200 -\n"
     ]
    },
    {
     "name": "stdout",
     "output_type": "stream",
     "text": [
      "{'appID': '608ff071856012aac7511084', 'args': {'path': 'C%3A%2FUsers%2Fmaxno%2F%D0%9F%D0%B8%D1%82%D0%BE%D0%BD%2FVKR%2FClient%20SRP%2F%D0%9F%D0%B0%D0%BF%D0%BA%D0%B0'}, 'type': 'delete', 'serverSign': '+AccLt9/FlPEEqSziRmX/82QbrRug+gbUG0jzfaUT3A='}\n",
      "http://localhost:49055/\n"
     ]
    },
    {
     "name": "stderr",
     "output_type": "stream",
     "text": [
      "127.0.0.1 - - [03/May/2021 19:15:19] \"\u001b[37mPOST / HTTP/1.1\u001b[0m\" 200 -\n"
     ]
    },
    {
     "name": "stdout",
     "output_type": "stream",
     "text": [
      "{'appID': '608ff071856012aac7511084', 'args': {'path': 'C%3A%2FUsers%2Fmaxno%2F%D0%9F%D0%B8%D1%82%D0%BE%D0%BD%2FVKR%2FClient%20SRP%2F'}, 'type': 'list', 'serverSign': 'apoa3p7/q12b23zyds4YxF3yJp2cXR7vcwzTI4ubX2Q='}\n",
      "http://localhost:49055/\n"
     ]
    },
    {
     "name": "stderr",
     "output_type": "stream",
     "text": [
      "127.0.0.1 - - [03/May/2021 19:15:22] \"\u001b[37mPOST / HTTP/1.1\u001b[0m\" 200 -\n"
     ]
    },
    {
     "name": "stdout",
     "output_type": "stream",
     "text": [
      "ПУТЬ\n",
      "C:/Users/maxno/Питон/VKR/Client SRP/\n"
     ]
    },
    {
     "name": "stderr",
     "output_type": "stream",
     "text": [
      "127.0.0.1 - - [03/May/2021 19:15:27] \"\u001b[37mOPTIONS / HTTP/1.1\u001b[0m\" 200 -\n"
     ]
    },
    {
     "name": "stdout",
     "output_type": "stream",
     "text": [
      "{'appID': '608ff071856012aac7511084', 'args': {'path': 'C%3A%2FUsers%2Fmaxno%2F%D0%9F%D0%B8%D1%82%D0%BE%D0%BD%2FVKR%2FClient%20SRP%2Fhmdef'}, 'type': 'delete', 'serverSign': '02seK6X/bFTVMxggAqLhaSi1BmEK3Vm/t/goOi1Vd8A='}\n",
      "http://localhost:49055/\n"
     ]
    },
    {
     "name": "stderr",
     "output_type": "stream",
     "text": [
      "127.0.0.1 - - [03/May/2021 19:15:29] \"\u001b[37mPOST / HTTP/1.1\u001b[0m\" 200 -\n"
     ]
    },
    {
     "name": "stdout",
     "output_type": "stream",
     "text": [
      "{'appID': '608ff071856012aac7511084', 'args': {'path': 'C%3A%2FUsers%2Fmaxno%2F%D0%9F%D0%B8%D1%82%D0%BE%D0%BD%2FVKR%2FClient%20SRP%2F'}, 'type': 'list', 'serverSign': 'apoa3p7/q12b23zyds4YxF3yJp2cXR7vcwzTI4ubX2Q='}\n",
      "http://localhost:49055/\n"
     ]
    },
    {
     "name": "stderr",
     "output_type": "stream",
     "text": [
      "127.0.0.1 - - [03/May/2021 19:15:32] \"\u001b[37mPOST / HTTP/1.1\u001b[0m\" 200 -\n"
     ]
    },
    {
     "name": "stdout",
     "output_type": "stream",
     "text": [
      "ПУТЬ\n",
      "C:/Users/maxno/Питон/VKR/Client SRP/\n"
     ]
    },
    {
     "name": "stderr",
     "output_type": "stream",
     "text": [
      "127.0.0.1 - - [03/May/2021 19:15:33] \"\u001b[37mOPTIONS / HTTP/1.1\u001b[0m\" 200 -\n"
     ]
    },
    {
     "name": "stdout",
     "output_type": "stream",
     "text": [
      "{'appID': '608ff071856012aac7511084', 'args': {'path': 'C%3A%2FUsers%2Fmaxno%2F%D0%9F%D0%B8%D1%82%D0%BE%D0%BD%2FVKR%2FClient%20SRP%2Fhm'}, 'type': 'delete', 'serverSign': 'cYsWwKdKbyoSORWFS0aM0CsnIzraxMIyCcmHCU+1X68='}\n",
      "http://localhost:49055/\n"
     ]
    },
    {
     "name": "stderr",
     "output_type": "stream",
     "text": [
      "127.0.0.1 - - [03/May/2021 19:15:36] \"\u001b[37mPOST / HTTP/1.1\u001b[0m\" 200 -\n"
     ]
    },
    {
     "name": "stdout",
     "output_type": "stream",
     "text": [
      "{'appID': '608ff071856012aac7511084', 'args': {'path': 'C%3A%2FUsers%2Fmaxno%2F%D0%9F%D0%B8%D1%82%D0%BE%D0%BD%2FVKR%2FClient%20SRP%2F'}, 'type': 'list', 'serverSign': 'apoa3p7/q12b23zyds4YxF3yJp2cXR7vcwzTI4ubX2Q='}\n",
      "http://localhost:49055/\n"
     ]
    },
    {
     "name": "stderr",
     "output_type": "stream",
     "text": [
      "127.0.0.1 - - [03/May/2021 19:15:38] \"\u001b[37mPOST / HTTP/1.1\u001b[0m\" 200 -\n"
     ]
    },
    {
     "name": "stdout",
     "output_type": "stream",
     "text": [
      "ПУТЬ\n",
      "C:/Users/maxno/Питон/VKR/Client SRP/\n"
     ]
    },
    {
     "name": "stderr",
     "output_type": "stream",
     "text": [
      "127.0.0.1 - - [03/May/2021 19:15:41] \"\u001b[37mOPTIONS / HTTP/1.1\u001b[0m\" 200 -\n"
     ]
    },
    {
     "name": "stdout",
     "output_type": "stream",
     "text": [
      "{'appID': '608ff071856012aac7511084', 'args': {'path': 'C%3A%2FUsers%2Fmaxno%2F%D0%9F%D0%B8%D1%82%D0%BE%D0%BD%2FVKR%2FClient%20SRP%2F1.png'}, 'type': 'delete', 'serverSign': '+/1r22qk7Ux13B8QN9m9hVc7mr9hRFGfzijY2fIaDCw='}\n",
      "http://localhost:49055/\n"
     ]
    },
    {
     "name": "stderr",
     "output_type": "stream",
     "text": [
      "127.0.0.1 - - [03/May/2021 19:15:43] \"\u001b[37mPOST / HTTP/1.1\u001b[0m\" 200 -\n"
     ]
    },
    {
     "name": "stdout",
     "output_type": "stream",
     "text": [
      "{'appID': '608ff071856012aac7511084', 'args': {'path': 'C%3A%2FUsers%2Fmaxno%2F%D0%9F%D0%B8%D1%82%D0%BE%D0%BD%2FVKR%2FClient%20SRP%2F'}, 'type': 'list', 'serverSign': 'apoa3p7/q12b23zyds4YxF3yJp2cXR7vcwzTI4ubX2Q='}\n",
      "http://localhost:49055/\n"
     ]
    },
    {
     "name": "stderr",
     "output_type": "stream",
     "text": [
      "127.0.0.1 - - [03/May/2021 19:15:45] \"\u001b[37mPOST / HTTP/1.1\u001b[0m\" 200 -\n"
     ]
    },
    {
     "name": "stdout",
     "output_type": "stream",
     "text": [
      "ПУТЬ\n",
      "C:/Users/maxno/Питон/VKR/Client SRP/\n"
     ]
    },
    {
     "name": "stderr",
     "output_type": "stream",
     "text": [
      "127.0.0.1 - - [03/May/2021 19:15:48] \"\u001b[37mOPTIONS / HTTP/1.1\u001b[0m\" 200 -\n"
     ]
    },
    {
     "name": "stdout",
     "output_type": "stream",
     "text": [
      "{'appID': '608ff071856012aac7511084', 'args': {'path': 'C%3A%2FUsers%2Fmaxno%2F%D0%9F%D0%B8%D1%82%D0%BE%D0%BD%2FVKR%2FClient%20SRP%2F1.txt'}, 'type': 'delete', 'serverSign': 'KvB8+Qgl66FjLPZPlbrZi6HwPkdyBgtMWx7PnfHmG7Q='}\n",
      "http://localhost:49055/\n"
     ]
    },
    {
     "name": "stderr",
     "output_type": "stream",
     "text": [
      "127.0.0.1 - - [03/May/2021 19:15:50] \"\u001b[37mPOST / HTTP/1.1\u001b[0m\" 200 -\n"
     ]
    },
    {
     "name": "stdout",
     "output_type": "stream",
     "text": [
      "{'appID': '608ff071856012aac7511084', 'args': {'path': 'C%3A%2FUsers%2Fmaxno%2F%D0%9F%D0%B8%D1%82%D0%BE%D0%BD%2FVKR%2FClient%20SRP%2F'}, 'type': 'list', 'serverSign': 'apoa3p7/q12b23zyds4YxF3yJp2cXR7vcwzTI4ubX2Q='}\n",
      "http://localhost:49055/\n"
     ]
    },
    {
     "name": "stderr",
     "output_type": "stream",
     "text": [
      "127.0.0.1 - - [03/May/2021 19:15:52] \"\u001b[37mPOST / HTTP/1.1\u001b[0m\" 200 -\n"
     ]
    },
    {
     "name": "stdout",
     "output_type": "stream",
     "text": [
      "ПУТЬ\n",
      "C:/Users/maxno/Питон/VKR/Client SRP/\n"
     ]
    },
    {
     "name": "stderr",
     "output_type": "stream",
     "text": [
      "127.0.0.1 - - [03/May/2021 19:15:57] \"\u001b[37mOPTIONS / HTTP/1.1\u001b[0m\" 200 -\n"
     ]
    },
    {
     "name": "stdout",
     "output_type": "stream",
     "text": [
      "{'appID': '608ff071856012aac7511084', 'args': {'path': 'C%3A%2FUsers%2Fmaxno%2F%D0%9F%D0%B8%D1%82%D0%BE%D0%BD%2FVKR%2FClient%20SRP%2F3.png'}, 'type': 'delete', 'serverSign': 'orI09M3LwAJBKXjKp54axcFbqa6jo7zjUwTQLmEEcfs='}\n",
      "http://localhost:49055/\n"
     ]
    },
    {
     "name": "stderr",
     "output_type": "stream",
     "text": [
      "127.0.0.1 - - [03/May/2021 19:15:59] \"\u001b[37mPOST / HTTP/1.1\u001b[0m\" 200 -\n"
     ]
    },
    {
     "name": "stdout",
     "output_type": "stream",
     "text": [
      "{'appID': '608ff071856012aac7511084', 'args': {'path': 'C%3A%2FUsers%2Fmaxno%2F%D0%9F%D0%B8%D1%82%D0%BE%D0%BD%2FVKR%2FClient%20SRP%2F'}, 'type': 'list', 'serverSign': 'apoa3p7/q12b23zyds4YxF3yJp2cXR7vcwzTI4ubX2Q='}\n",
      "http://localhost:49055/\n"
     ]
    },
    {
     "name": "stderr",
     "output_type": "stream",
     "text": [
      "127.0.0.1 - - [03/May/2021 19:16:01] \"\u001b[37mPOST / HTTP/1.1\u001b[0m\" 200 -\n"
     ]
    },
    {
     "name": "stdout",
     "output_type": "stream",
     "text": [
      "ПУТЬ\n",
      "C:/Users/maxno/Питон/VKR/Client SRP/\n"
     ]
    },
    {
     "name": "stderr",
     "output_type": "stream",
     "text": [
      "127.0.0.1 - - [03/May/2021 19:16:03] \"\u001b[37mOPTIONS / HTTP/1.1\u001b[0m\" 200 -\n"
     ]
    },
    {
     "name": "stdout",
     "output_type": "stream",
     "text": [
      "{'appID': '608ff071856012aac7511084', 'args': {'path': 'C%3A%2FUsers%2Fmaxno%2F%D0%9F%D0%B8%D1%82%D0%BE%D0%BD%2FVKR%2FClient%20SRP%2Fansi.txt'}, 'type': 'delete', 'serverSign': '91DkRk/1iRoU4qXN9Zg8F60eWrVx4bL6IjCv+fKZi/Y='}\n",
      "http://localhost:49055/\n"
     ]
    },
    {
     "name": "stderr",
     "output_type": "stream",
     "text": [
      "127.0.0.1 - - [03/May/2021 19:16:06] \"\u001b[37mPOST / HTTP/1.1\u001b[0m\" 200 -\n"
     ]
    },
    {
     "name": "stdout",
     "output_type": "stream",
     "text": [
      "{'appID': '608ff071856012aac7511084', 'args': {'path': 'C%3A%2FUsers%2Fmaxno%2F%D0%9F%D0%B8%D1%82%D0%BE%D0%BD%2FVKR%2FClient%20SRP%2F'}, 'type': 'list', 'serverSign': 'apoa3p7/q12b23zyds4YxF3yJp2cXR7vcwzTI4ubX2Q='}\n",
      "http://localhost:49055/\n"
     ]
    },
    {
     "name": "stderr",
     "output_type": "stream",
     "text": [
      "127.0.0.1 - - [03/May/2021 19:16:08] \"\u001b[37mPOST / HTTP/1.1\u001b[0m\" 200 -\n"
     ]
    },
    {
     "name": "stdout",
     "output_type": "stream",
     "text": [
      "ПУТЬ\n",
      "C:/Users/maxno/Питон/VKR/Client SRP/\n"
     ]
    },
    {
     "name": "stderr",
     "output_type": "stream",
     "text": [
      "127.0.0.1 - - [03/May/2021 19:16:10] \"\u001b[37mOPTIONS / HTTP/1.1\u001b[0m\" 200 -\n"
     ]
    },
    {
     "name": "stdout",
     "output_type": "stream",
     "text": [
      "{'appID': '608ff071856012aac7511084', 'args': {'path': 'C%3A%2FUsers%2Fmaxno%2F%D0%9F%D0%B8%D1%82%D0%BE%D0%BD%2FVKR%2FClient%20SRP%2Flol.txt'}, 'type': 'delete', 'serverSign': 'p3ZYBNhHgv2wFVRUt6ucxtdaqEwk2ktg4iQqQhf8P5U='}\n",
      "http://localhost:49055/\n"
     ]
    },
    {
     "name": "stderr",
     "output_type": "stream",
     "text": [
      "127.0.0.1 - - [03/May/2021 19:16:13] \"\u001b[37mPOST / HTTP/1.1\u001b[0m\" 200 -\n"
     ]
    },
    {
     "name": "stdout",
     "output_type": "stream",
     "text": [
      "{'appID': '608ff071856012aac7511084', 'args': {'path': 'C%3A%2FUsers%2Fmaxno%2F%D0%9F%D0%B8%D1%82%D0%BE%D0%BD%2FVKR%2FClient%20SRP%2F'}, 'type': 'list', 'serverSign': 'apoa3p7/q12b23zyds4YxF3yJp2cXR7vcwzTI4ubX2Q='}\n",
      "http://localhost:49055/\n"
     ]
    },
    {
     "name": "stderr",
     "output_type": "stream",
     "text": [
      "127.0.0.1 - - [03/May/2021 19:16:15] \"\u001b[37mPOST / HTTP/1.1\u001b[0m\" 200 -\n"
     ]
    },
    {
     "name": "stdout",
     "output_type": "stream",
     "text": [
      "ПУТЬ\n",
      "C:/Users/maxno/Питон/VKR/Client SRP/\n"
     ]
    },
    {
     "name": "stderr",
     "output_type": "stream",
     "text": [
      "127.0.0.1 - - [03/May/2021 19:16:17] \"\u001b[37mOPTIONS / HTTP/1.1\u001b[0m\" 200 -\n"
     ]
    },
    {
     "name": "stdout",
     "output_type": "stream",
     "text": [
      "{'appID': '608ff071856012aac7511084', 'args': {'path': 'C%3A%2FUsers%2Fmaxno%2F%D0%9F%D0%B8%D1%82%D0%BE%D0%BD%2FVKR%2FClient%20SRP%2Flol2.txt'}, 'type': 'delete', 'serverSign': '/FODcOFrACx5vztD7wETJH4JL3k5H+q38SjERf5avfQ='}\n",
      "http://localhost:49055/\n"
     ]
    },
    {
     "name": "stderr",
     "output_type": "stream",
     "text": [
      "127.0.0.1 - - [03/May/2021 19:16:19] \"\u001b[37mPOST / HTTP/1.1\u001b[0m\" 200 -\n"
     ]
    },
    {
     "name": "stdout",
     "output_type": "stream",
     "text": [
      "{'appID': '608ff071856012aac7511084', 'args': {'path': 'C%3A%2FUsers%2Fmaxno%2F%D0%9F%D0%B8%D1%82%D0%BE%D0%BD%2FVKR%2FClient%20SRP%2F'}, 'type': 'list', 'serverSign': 'apoa3p7/q12b23zyds4YxF3yJp2cXR7vcwzTI4ubX2Q='}\n",
      "http://localhost:49055/\n"
     ]
    },
    {
     "name": "stderr",
     "output_type": "stream",
     "text": [
      "127.0.0.1 - - [03/May/2021 19:16:22] \"\u001b[37mPOST / HTTP/1.1\u001b[0m\" 200 -\n"
     ]
    },
    {
     "name": "stdout",
     "output_type": "stream",
     "text": [
      "ПУТЬ\n",
      "C:/Users/maxno/Питон/VKR/Client SRP/\n"
     ]
    }
   ],
   "source": [
    "CLIENT_PORT=49053\n",
    "CLIENT_HOST='0.0.0.0'\n",
    "SERVER_URL='http://localhost:49052'\n",
    "\n",
    "import datetime\n",
    "from bson.objectid import ObjectId\n",
    "import random\n",
    "import string\n",
    "import hmac\n",
    "import hashlib\n",
    "from hashlib import sha256\n",
    "from flask import Flask\n",
    "from flask import request,redirect\n",
    "from flask import Response\n",
    "from flask import render_template\n",
    "from os import listdir\n",
    "from os.path import isfile, join\n",
    "import os\n",
    "from pymongo import MongoClient\n",
    "import pymongo\n",
    "import os.path\n",
    "from flask_cors import CORS\n",
    "from collections import OrderedDict\n",
    "import json\n",
    "import requests\n",
    "from urllib.parse import unquote,quote\n",
    "import win32api\n",
    "import shutil\n",
    "\n",
    "app = Flask(__name__)\n",
    "app.config['TEMPLATES_AUTO_RELOAD'] = True\n",
    "CORS(app)\n",
    "\n",
    "@app.after_request\n",
    "def add_header(r):\n",
    "    r.headers[\"Cache-Control\"] = \"no-cache, no-store, must-revalidate\"\n",
    "    r.headers[\"Pragma\"] = \"no-cache\"\n",
    "    r.headers[\"Expires\"] = \"0\"\n",
    "    r.headers['Cache-Control'] = 'public, max-age=0'\n",
    "    return r\n",
    "\n",
    "@app.route('/',methods=[\"POST\"])\n",
    "def comand():\n",
    "    print(request.json)\n",
    "    print(request.headers.get(\"Referer\"))\n",
    "    t=request.json\n",
    "    o=dict()\n",
    "    o[\"type\"]=t[\"type\"]\n",
    "    o[\"appID\"]=t[\"appID\"]\n",
    "    o[\"args\"]=OrderedDict(sorted(t[\"args\"].items(), key=lambda x: x))\n",
    "    o=OrderedDict(sorted(o.items(), key=lambda x: x))\n",
    "    commmandInJSON=json.dumps(o,separators=(',', ':'))\n",
    "    commandHash=sha256(commmandInJSON.encode(\"utf-8\")).hexdigest()\n",
    "    commandObject=dict()\n",
    "    commandObject[\"appID\"]=o[\"appID\"]\n",
    "    commandObject[\"type\"]=o[\"type\"]\n",
    "    commandObject[\"commandHash\"]=commandHash\n",
    "    commandObject[\"serverSign\"]=t[\"serverSign\"]\n",
    "    commandObject[\"appURL\"]=request.headers.get(\"Referer\")\n",
    "    x = requests.post(SERVER_URL, json = commandObject)\n",
    "    responseObject=dict()\n",
    "    responseObject[\"auth\"]=x.text == \"True\"\n",
    "    if responseObject[\"auth\"] == True:\n",
    "        try:\n",
    "            if t[\"type\"]==\"read\":\n",
    "                responseObject[\"result\"]=dict()\n",
    "                responseObject[\"result\"][\"path\"]=t[\"args\"][\"path\"]\n",
    "                with open(unquote(t[\"args\"][\"path\"]), \"rb\") as file:\n",
    "                    responseObject[\"result\"][\"bytes\"]=list(file.read())\n",
    "                    responseObject[\"result\"][\"success\"]=\"True\"\n",
    "            if t[\"type\"]==\"write\":\n",
    "                responseObject[\"result\"]=dict()\n",
    "                responseObject[\"result\"][\"path\"]=t[\"args\"][\"path\"]\n",
    "                with open(unquote(t[\"args\"][\"path\"]), \"wb\") as file:\n",
    "                    file.write(bytearray(t[\"args\"][\"bytes\"]))\n",
    "                    responseObject[\"result\"][\"success\"]=\"True\"\n",
    "            if t[\"type\"]==\"list\":\n",
    "                responseObject[\"result\"]=dict()\n",
    "                path=unquote(t[\"args\"][\"path\"])\n",
    "                print(\"ПУТЬ\")\n",
    "                print(path)\n",
    "                if path==\"\":\n",
    "                    disks = win32api.GetLogicalDriveStrings()\n",
    "                    disks = disks.split('\\000')[:-1]\n",
    "                    print(disks)\n",
    "                    responseObject[\"result\"][\"path\"]=\"\"\n",
    "                    responseObject[\"result\"][\"files\"]=list()\n",
    "                    responseObject[\"result\"][\"folders\"]=[{\"path\":i.replace(\"\\\\\", \"/\"),\"title\":i.replace(\"\\\\\", \"/\")} for i in disks]\n",
    "                else:\n",
    "                    if path[0]==\"%\":\n",
    "                        path=os.environ[path[1:-1]].replace(\"\\\\\", \"/\")\n",
    "                    if path[-1]!=\"/\":\n",
    "                        path=path+\"/\"\n",
    "                    directoryPath,folders,files=next(os.walk(path))\n",
    "                    folders=[{\"title\":quote(i),\"path\":quote(os.path.join(directoryPath,i).replace(\"\\\\\", \"/\"))} for i in folders]\n",
    "                    files=[{\"title\":quote(i),\"path\":quote(os.path.join(directoryPath,i).replace(\"\\\\\", \"/\"))} for i in files]\n",
    "                    responseObject[\"result\"][\"path\"]=directoryPath\n",
    "                    responseObject[\"result\"][\"files\"]=files\n",
    "                    responseObject[\"result\"][\"folders\"]=folders\n",
    "                responseObject[\"result\"][\"success\"]=\"True\"\n",
    "            if t[\"type\"]==\"delete\":\n",
    "                responseObject[\"result\"]=dict()\n",
    "                path=unquote(t[\"args\"][\"path\"]).replace(\"\\\\\", \"/\")\n",
    "                if os.path.isdir(path):\n",
    "                    shutil.rmtree(path)\n",
    "                else:\n",
    "                    os.remove(path)\n",
    "                responseObject[\"result\"][\"success\"]=\"True\"\n",
    "            if t[\"type\"]==\"mkdir\":\n",
    "                responseObject[\"result\"]=dict()\n",
    "                path=unquote(t[\"args\"][\"path\"])\n",
    "                if path==\"\":\n",
    "                    responseObject[\"result\"][\"success\"]=\"False\"\n",
    "                else:\n",
    "                    if path[0]==\"%\":\n",
    "                        responseObject[\"result\"][\"success\"]=\"False\"\n",
    "                    else:\n",
    "                        os.mkdir(path)\n",
    "                        responseObject[\"result\"][\"success\"]=\"True\"\n",
    "            if t[\"type\"]==\"rename\":\n",
    "                responseObject[\"result\"]=dict()\n",
    "                path=unquote(t[\"args\"][\"path\"])\n",
    "                newName=unquote(t[\"args\"][\"newName\"])\n",
    "                if path==\"\":\n",
    "                    responseObject[\"result\"][\"success\"]=\"False\"\n",
    "                else:\n",
    "                    if path[0]==\"%\":\n",
    "                        responseObject[\"result\"][\"success\"]=\"False\"\n",
    "                    else:\n",
    "                        os.rename(path, newName)\n",
    "                        responseObject[\"result\"][\"success\"]=\"True\"\n",
    "        except Exception:\n",
    "            responseObject[\"result\"][\"success\"]=\"False\"\n",
    "    return responseObject\n",
    "app.run(host=CLIENT_HOST, port=CLIENT_PORT, threaded=True)"
   ]
  },
  {
   "cell_type": "code",
   "execution_count": 21,
   "metadata": {
    "scrolled": true
   },
   "outputs": [
    {
     "data": {
      "text/plain": [
       "<generator object walk at 0x0000022A5055E448>"
      ]
     },
     "execution_count": 21,
     "metadata": {},
     "output_type": "execute_result"
    }
   ],
   "source": [
    "os.walk(\"%USERPROFILE%\")"
   ]
  },
  {
   "cell_type": "code",
   "execution_count": 23,
   "metadata": {},
   "outputs": [
    {
     "data": {
      "text/plain": [
       "'sdf/'"
      ]
     },
     "execution_count": 23,
     "metadata": {},
     "output_type": "execute_result"
    }
   ],
   "source": [
    "path=\"sdf\"\n",
    "path=path+\"/\"\n",
    "path"
   ]
  },
  {
   "cell_type": "code",
   "execution_count": 22,
   "metadata": {},
   "outputs": [
    {
     "name": "stdout",
     "output_type": "stream",
     "text": [
      "C:\\Users\\maxno\n"
     ]
    }
   ],
   "source": [
    "import os\n",
    "print(os.environ['USERPROFILE'])"
   ]
  },
  {
   "cell_type": "code",
   "execution_count": 28,
   "metadata": {},
   "outputs": [
    {
     "name": "stdout",
     "output_type": "stream",
     "text": [
      "['C:\\\\', 'D:\\\\']\n"
     ]
    }
   ],
   "source": [
    "import win32api\n",
    "\n",
    "drives = win32api.GetLogicalDriveStrings()\n",
    "drives = drives.split('\\000')[:-1]\n",
    "print(drives)"
   ]
  },
  {
   "cell_type": "code",
   "execution_count": 5,
   "metadata": {},
   "outputs": [
    {
     "ename": "PermissionError",
     "evalue": "[WinError 5] Отказано в доступе: 'C:/Users/maxno/Питон/VKR/Client SRP/hm'",
     "output_type": "error",
     "traceback": [
      "\u001b[1;31m---------------------------------------------------------------------------\u001b[0m",
      "\u001b[1;31mPermissionError\u001b[0m                           Traceback (most recent call last)",
      "\u001b[1;32m<ipython-input-5-fbff4b33841a>\u001b[0m in \u001b[0;36m<module>\u001b[1;34m\u001b[0m\n\u001b[0;32m      1\u001b[0m \u001b[1;32mimport\u001b[0m \u001b[0mos\u001b[0m\u001b[1;33m\u001b[0m\u001b[1;33m\u001b[0m\u001b[0m\n\u001b[1;32m----> 2\u001b[1;33m \u001b[0mos\u001b[0m\u001b[1;33m.\u001b[0m\u001b[0mremove\u001b[0m\u001b[1;33m(\u001b[0m\u001b[1;34m\"C:/Users/maxno/Питон/VKR/Client SRP/hm\"\u001b[0m\u001b[1;33m)\u001b[0m\u001b[1;33m\u001b[0m\u001b[1;33m\u001b[0m\u001b[0m\n\u001b[0m",
      "\u001b[1;31mPermissionError\u001b[0m: [WinError 5] Отказано в доступе: 'C:/Users/maxno/Питон/VKR/Client SRP/hm'"
     ]
    }
   ],
   "source": [
    "import os\n",
    "os.remove(\"C:/Users/maxno/Питон/VKR/Client SRP/hm\")"
   ]
  },
  {
   "cell_type": "code",
   "execution_count": 6,
   "metadata": {},
   "outputs": [],
   "source": [
    "import shutil\n",
    "shutil.rmtree(\"C:/Users/maxno/Питон/VKR/Client SRP/hm\")"
   ]
  },
  {
   "cell_type": "code",
   "execution_count": 11,
   "metadata": {},
   "outputs": [],
   "source": [
    "os.mkdir(\"C:/Users/maxno/Питон/VKR/Client SRP/njfdsgdsf/\")"
   ]
  },
  {
   "cell_type": "code",
   "execution_count": 16,
   "metadata": {},
   "outputs": [],
   "source": [
    "a=\"C:/Users/maxno/Питон/VKR/Client SRP/2.png\"\n",
    "b=\"4.png\"\n",
    "os.rename(a, b)"
   ]
  }
 ],
 "metadata": {
  "kernelspec": {
   "display_name": "Python 3",
   "language": "python",
   "name": "python3"
  },
  "language_info": {
   "codemirror_mode": {
    "name": "ipython",
    "version": 3
   },
   "file_extension": ".py",
   "mimetype": "text/x-python",
   "name": "python",
   "nbconvert_exporter": "python",
   "pygments_lexer": "ipython3",
   "version": "3.7.6"
  }
 },
 "nbformat": 4,
 "nbformat_minor": 4
}
