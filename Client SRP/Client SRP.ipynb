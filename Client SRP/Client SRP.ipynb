{
 "cells": [
  {
   "cell_type": "code",
   "execution_count": null,
   "metadata": {
    "scrolled": true
   },
   "outputs": [
    {
     "name": "stdout",
     "output_type": "stream",
     "text": [
      " * Serving Flask app \"__main__\" (lazy loading)\n",
      " * Environment: production\n",
      "   WARNING: This is a development server. Do not use it in a production deployment.\n",
      "   Use a production WSGI server instead.\n",
      " * Debug mode: off\n"
     ]
    },
    {
     "name": "stderr",
     "output_type": "stream",
     "text": [
      " * Running on http://0.0.0.0:49053/ (Press CTRL+C to quit)\n",
      "127.0.0.1 - - [03/May/2021 18:21:17] \"\u001b[37mOPTIONS / HTTP/1.1\u001b[0m\" 200 -\n"
     ]
    },
    {
     "name": "stdout",
     "output_type": "stream",
     "text": [
      "{'appID': '608ff071856012aac7511084', 'args': {'path': '%25USERPROFILE%25'}, 'type': 'list', 'serverSign': 'BHTStQJba7f1ML+aIuVOn1gFXAq2RKiZ0AHMrD571xQ='}\n",
      "http://localhost:49055/\n"
     ]
    },
    {
     "name": "stderr",
     "output_type": "stream",
     "text": [
      "127.0.0.1 - - [03/May/2021 18:21:19] \"\u001b[37mPOST / HTTP/1.1\u001b[0m\" 200 -\n"
     ]
    },
    {
     "name": "stdout",
     "output_type": "stream",
     "text": [
      "ПУТЬ\n",
      "%USERPROFILE%\n"
     ]
    },
    {
     "name": "stderr",
     "output_type": "stream",
     "text": [
      "127.0.0.1 - - [03/May/2021 18:21:32] \"\u001b[37mOPTIONS / HTTP/1.1\u001b[0m\" 200 -\n"
     ]
    },
    {
     "name": "stdout",
     "output_type": "stream",
     "text": [
      "{'appID': '608ff071856012aac7511084', 'args': {'path': 'C%3A%2FUsers%2Fmaxno%2F%D0%9F%D0%B8%D1%82%D0%BE%D0%BD'}, 'type': 'list', 'serverSign': '0vJ9+vWV6B4bTs+OjtjKPT5w04R/waMj1wnDlToMtco='}\n",
      "http://localhost:49055/\n"
     ]
    },
    {
     "name": "stderr",
     "output_type": "stream",
     "text": [
      "127.0.0.1 - - [03/May/2021 18:21:35] \"\u001b[37mPOST / HTTP/1.1\u001b[0m\" 200 -\n"
     ]
    },
    {
     "name": "stdout",
     "output_type": "stream",
     "text": [
      "ПУТЬ\n",
      "C:/Users/maxno/Питон\n",
      "{'appID': '608ff071856012aac7511084', 'args': {'path': 'C%3A%2FUsers%2Fmaxno%2F%D0%9F%D0%B8%D1%82%D0%BE%D0%BD%2FVKR'}, 'type': 'list', 'serverSign': 'NhLuVrebjRivQyw6q7lONsZ3dg01n68K8FL6N2SX7EI='}\n",
      "http://localhost:49055/\n"
     ]
    },
    {
     "name": "stderr",
     "output_type": "stream",
     "text": [
      "127.0.0.1 - - [03/May/2021 18:21:39] \"\u001b[37mPOST / HTTP/1.1\u001b[0m\" 200 -\n"
     ]
    },
    {
     "name": "stdout",
     "output_type": "stream",
     "text": [
      "ПУТЬ\n",
      "C:/Users/maxno/Питон/VKR\n"
     ]
    },
    {
     "name": "stderr",
     "output_type": "stream",
     "text": [
      "127.0.0.1 - - [03/May/2021 18:21:42] \"\u001b[37mOPTIONS / HTTP/1.1\u001b[0m\" 200 -\n"
     ]
    },
    {
     "name": "stdout",
     "output_type": "stream",
     "text": [
      "{'appID': '608ff071856012aac7511084', 'args': {'path': 'C%3A%2FUsers%2Fmaxno%2F%D0%9F%D0%B8%D1%82%D0%BE%D0%BD%2FVKR%2FClient%20SRP'}, 'type': 'list', 'serverSign': 'xs9Zepl8JVNnaMCLMH3nhsBqq3IYDYpE+x4IqsFJAj4='}\n",
      "http://localhost:49055/\n"
     ]
    },
    {
     "name": "stderr",
     "output_type": "stream",
     "text": [
      "127.0.0.1 - - [03/May/2021 18:21:44] \"\u001b[37mPOST / HTTP/1.1\u001b[0m\" 200 -\n"
     ]
    },
    {
     "name": "stdout",
     "output_type": "stream",
     "text": [
      "ПУТЬ\n",
      "C:/Users/maxno/Питон/VKR/Client SRP\n",
      "{'appID': '608ff071856012aac7511084', 'args': {'path': 'C%3A%2FUsers%2Fmaxno%2F%D0%9F%D0%B8%D1%82%D0%BE%D0%BD%2FVKR%2FClient%20SRP%2Fwsdfvasd'}, 'type': 'delete', 'serverSign': 'ZTckWsDndECrTFR7ljC41E1yJp2rZarWE1d4DdKMw9A='}\n",
      "http://localhost:49055/\n"
     ]
    },
    {
     "name": "stderr",
     "output_type": "stream",
     "text": [
      "127.0.0.1 - - [03/May/2021 18:21:49] \"\u001b[37mPOST / HTTP/1.1\u001b[0m\" 200 -\n",
      "127.0.0.1 - - [03/May/2021 18:21:50] \"\u001b[37mOPTIONS / HTTP/1.1\u001b[0m\" 200 -\n"
     ]
    },
    {
     "name": "stdout",
     "output_type": "stream",
     "text": [
      "{'appID': '608ff071856012aac7511084', 'args': {'path': 'C%3A%2FUsers%2Fmaxno%2F%D0%9F%D0%B8%D1%82%D0%BE%D0%BD%2FVKR%2FClient%20SRP%2F'}, 'type': 'list', 'serverSign': 'apoa3p7/q12b23zyds4YxF3yJp2cXR7vcwzTI4ubX2Q='}\n",
      "http://localhost:49055/\n"
     ]
    },
    {
     "name": "stderr",
     "output_type": "stream",
     "text": [
      "127.0.0.1 - - [03/May/2021 18:21:52] \"\u001b[37mPOST / HTTP/1.1\u001b[0m\" 200 -\n"
     ]
    },
    {
     "name": "stdout",
     "output_type": "stream",
     "text": [
      "ПУТЬ\n",
      "C:/Users/maxno/Питон/VKR/Client SRP/\n"
     ]
    },
    {
     "name": "stderr",
     "output_type": "stream",
     "text": [
      "127.0.0.1 - - [03/May/2021 18:21:56] \"\u001b[37mOPTIONS / HTTP/1.1\u001b[0m\" 200 -\n"
     ]
    },
    {
     "name": "stdout",
     "output_type": "stream",
     "text": [
      "{'appID': '608ff071856012aac7511084', 'args': {'path': 'C%3A%2FUsers%2Fmaxno%2F%D0%9F%D0%B8%D1%82%D0%BE%D0%BD%2FVKR%2FClient%20SRP%2Fsdfvsd.txt'}, 'type': 'delete', 'serverSign': 'As5zz3rIHd/Rx+7VZeAyfhDg/WyhXpB05PBkgD3O7S8='}\n",
      "http://localhost:49055/\n"
     ]
    },
    {
     "name": "stderr",
     "output_type": "stream",
     "text": [
      "127.0.0.1 - - [03/May/2021 18:21:58] \"\u001b[37mPOST / HTTP/1.1\u001b[0m\" 200 -\n"
     ]
    },
    {
     "name": "stdout",
     "output_type": "stream",
     "text": [
      "{'appID': '608ff071856012aac7511084', 'args': {'path': 'C%3A%2FUsers%2Fmaxno%2F%D0%9F%D0%B8%D1%82%D0%BE%D0%BD%2FVKR%2FClient%20SRP%2F'}, 'type': 'list', 'serverSign': 'apoa3p7/q12b23zyds4YxF3yJp2cXR7vcwzTI4ubX2Q='}\n",
      "http://localhost:49055/\n"
     ]
    },
    {
     "name": "stderr",
     "output_type": "stream",
     "text": [
      "127.0.0.1 - - [03/May/2021 18:22:00] \"\u001b[37mPOST / HTTP/1.1\u001b[0m\" 200 -\n"
     ]
    },
    {
     "name": "stdout",
     "output_type": "stream",
     "text": [
      "ПУТЬ\n",
      "C:/Users/maxno/Питон/VKR/Client SRP/\n"
     ]
    },
    {
     "name": "stderr",
     "output_type": "stream",
     "text": [
      "127.0.0.1 - - [03/May/2021 18:22:04] \"\u001b[37mOPTIONS / HTTP/1.1\u001b[0m\" 200 -\n"
     ]
    },
    {
     "name": "stdout",
     "output_type": "stream",
     "text": [
      "{'appID': '608ff071856012aac7511084', 'args': {'path': 'C%3A%2FUsers%2Fmaxno%2F%D0%9F%D0%B8%D1%82%D0%BE%D0%BD%2FVKR%2FClient%20SRP%2Fmeow.txt'}, 'type': 'delete', 'serverSign': 'IbCOoYZs4mHm6yx8hzikMppPg/1HO6+sUhZyfEmRPsk='}\n",
      "http://localhost:49055/\n"
     ]
    },
    {
     "name": "stderr",
     "output_type": "stream",
     "text": [
      "127.0.0.1 - - [03/May/2021 18:22:06] \"\u001b[37mPOST / HTTP/1.1\u001b[0m\" 200 -\n"
     ]
    },
    {
     "name": "stdout",
     "output_type": "stream",
     "text": [
      "{'appID': '608ff071856012aac7511084', 'args': {'path': 'C%3A%2FUsers%2Fmaxno%2F%D0%9F%D0%B8%D1%82%D0%BE%D0%BD%2FVKR%2FClient%20SRP%2F'}, 'type': 'list', 'serverSign': 'apoa3p7/q12b23zyds4YxF3yJp2cXR7vcwzTI4ubX2Q='}\n",
      "http://localhost:49055/\n"
     ]
    },
    {
     "name": "stderr",
     "output_type": "stream",
     "text": [
      "127.0.0.1 - - [03/May/2021 18:22:08] \"\u001b[37mPOST / HTTP/1.1\u001b[0m\" 200 -\n"
     ]
    },
    {
     "name": "stdout",
     "output_type": "stream",
     "text": [
      "ПУТЬ\n",
      "C:/Users/maxno/Питон/VKR/Client SRP/\n"
     ]
    },
    {
     "name": "stderr",
     "output_type": "stream",
     "text": [
      "127.0.0.1 - - [03/May/2021 18:23:02] \"\u001b[37mOPTIONS / HTTP/1.1\u001b[0m\" 200 -\n"
     ]
    },
    {
     "name": "stdout",
     "output_type": "stream",
     "text": [
      "{'appID': '608ff071856012aac7511084', 'args': {'path': '%25USERPROFILE%25'}, 'type': 'list', 'serverSign': 'BHTStQJba7f1ML+aIuVOn1gFXAq2RKiZ0AHMrD571xQ='}\n",
      "http://localhost:49055/\n"
     ]
    },
    {
     "name": "stderr",
     "output_type": "stream",
     "text": [
      "127.0.0.1 - - [03/May/2021 18:23:04] \"\u001b[37mPOST / HTTP/1.1\u001b[0m\" 200 -\n"
     ]
    },
    {
     "name": "stdout",
     "output_type": "stream",
     "text": [
      "ПУТЬ\n",
      "%USERPROFILE%\n"
     ]
    }
   ],
   "source": [
    "CLIENT_PORT=49053\n",
    "CLIENT_HOST='0.0.0.0'\n",
    "SERVER_URL='http://localhost:49052'\n",
    "\n",
    "import datetime\n",
    "from bson.objectid import ObjectId\n",
    "import random\n",
    "import string\n",
    "import hmac\n",
    "import hashlib\n",
    "from hashlib import sha256\n",
    "from flask import Flask\n",
    "from flask import request,redirect\n",
    "from flask import Response\n",
    "from flask import render_template\n",
    "from os import listdir\n",
    "from os.path import isfile, join\n",
    "import os\n",
    "from pymongo import MongoClient\n",
    "import pymongo\n",
    "import os.path\n",
    "from flask_cors import CORS\n",
    "from collections import OrderedDict\n",
    "import json\n",
    "import requests\n",
    "from urllib.parse import unquote,quote\n",
    "import win32api\n",
    "import shutil\n",
    "\n",
    "app = Flask(__name__)\n",
    "app.config['TEMPLATES_AUTO_RELOAD'] = True\n",
    "CORS(app)\n",
    "\n",
    "@app.after_request\n",
    "def add_header(r):\n",
    "    r.headers[\"Cache-Control\"] = \"no-cache, no-store, must-revalidate\"\n",
    "    r.headers[\"Pragma\"] = \"no-cache\"\n",
    "    r.headers[\"Expires\"] = \"0\"\n",
    "    r.headers['Cache-Control'] = 'public, max-age=0'\n",
    "    return r\n",
    "\n",
    "@app.route('/',methods=[\"POST\"])\n",
    "def comand():\n",
    "    print(request.json)\n",
    "    print(request.headers.get(\"Referer\"))\n",
    "    t=request.json\n",
    "    o=dict()\n",
    "    o[\"type\"]=t[\"type\"]\n",
    "    o[\"appID\"]=t[\"appID\"]\n",
    "    o[\"args\"]=OrderedDict(sorted(t[\"args\"].items(), key=lambda x: x))\n",
    "    o=OrderedDict(sorted(o.items(), key=lambda x: x))\n",
    "    commmandInJSON=json.dumps(o,separators=(',', ':'))\n",
    "    commandHash=sha256(commmandInJSON.encode(\"utf-8\")).hexdigest()\n",
    "    commandObject=dict()\n",
    "    commandObject[\"appID\"]=o[\"appID\"]\n",
    "    commandObject[\"type\"]=o[\"type\"]\n",
    "    commandObject[\"commandHash\"]=commandHash\n",
    "    commandObject[\"serverSign\"]=t[\"serverSign\"]\n",
    "    commandObject[\"appURL\"]=request.headers.get(\"Referer\")\n",
    "    x = requests.post(SERVER_URL, json = commandObject)\n",
    "    responseObject=dict()\n",
    "    responseObject[\"auth\"]=x.text == \"True\"\n",
    "    if responseObject[\"auth\"] == True:\n",
    "        try:\n",
    "            if t[\"type\"]==\"read\":\n",
    "                responseObject[\"result\"]=dict()\n",
    "                responseObject[\"result\"][\"path\"]=t[\"args\"][\"path\"]\n",
    "                with open(unquote(t[\"args\"][\"path\"]), \"rb\") as file:\n",
    "                    responseObject[\"result\"][\"bytes\"]=list(file.read())\n",
    "                    responseObject[\"result\"][\"success\"]=\"True\"\n",
    "            if t[\"type\"]==\"write\":\n",
    "                responseObject[\"result\"]=dict()\n",
    "                responseObject[\"result\"][\"path\"]=t[\"args\"][\"path\"]\n",
    "                with open(unquote(t[\"args\"][\"path\"]), \"wb\") as file:\n",
    "                    file.write(bytearray(t[\"args\"][\"bytes\"]))\n",
    "                    responseObject[\"result\"][\"success\"]=\"True\"\n",
    "            if t[\"type\"]==\"list\":\n",
    "                responseObject[\"result\"]=dict()\n",
    "                path=unquote(t[\"args\"][\"path\"])\n",
    "                print(\"ПУТЬ\")\n",
    "                print(path)\n",
    "                if path==\"\":\n",
    "                    disks = win32api.GetLogicalDriveStrings()\n",
    "                    disks = disks.split('\\000')[:-1]\n",
    "                    print(disks)\n",
    "                    responseObject[\"result\"][\"path\"]=\"\"\n",
    "                    responseObject[\"result\"][\"files\"]=list()\n",
    "                    responseObject[\"result\"][\"folders\"]=[{\"path\":i.replace(\"\\\\\", \"/\"),\"title\":i.replace(\"\\\\\", \"/\")} for i in disks]\n",
    "                else:\n",
    "                    if path[0]==\"%\":\n",
    "                        path=os.environ[path[1:-1]].replace(\"\\\\\", \"/\")\n",
    "                    if path[-1]!=\"/\":\n",
    "                        path=path+\"/\"\n",
    "                    directoryPath,folders,files=next(os.walk(path))\n",
    "                    folders=[{\"title\":quote(i),\"path\":quote(os.path.join(directoryPath,i).replace(\"\\\\\", \"/\"))} for i in folders]\n",
    "                    files=[{\"title\":quote(i),\"path\":quote(os.path.join(directoryPath,i).replace(\"\\\\\", \"/\"))} for i in files]\n",
    "                    responseObject[\"result\"][\"path\"]=directoryPath\n",
    "                    responseObject[\"result\"][\"files\"]=files\n",
    "                    responseObject[\"result\"][\"folders\"]=folders\n",
    "                responseObject[\"result\"][\"success\"]=\"True\"\n",
    "            if t[\"type\"]==\"delete\":\n",
    "                responseObject[\"result\"]=dict()\n",
    "                path=unquote(t[\"args\"][\"path\"]).replace(\"\\\\\", \"/\")\n",
    "                if os.path.isdir(path):\n",
    "                    shutil.rmtree(path)\n",
    "                else:\n",
    "                    os.remove(path)\n",
    "                responseObject[\"result\"][\"success\"]=\"True\"\n",
    "        except Exception:\n",
    "            responseObject[\"result\"][\"success\"]=\"False\"\n",
    "    return responseObject\n",
    "app.run(host=CLIENT_HOST, port=CLIENT_PORT, threaded=True)"
   ]
  },
  {
   "cell_type": "code",
   "execution_count": 21,
   "metadata": {
    "scrolled": true
   },
   "outputs": [
    {
     "data": {
      "text/plain": [
       "<generator object walk at 0x0000022A5055E448>"
      ]
     },
     "execution_count": 21,
     "metadata": {},
     "output_type": "execute_result"
    }
   ],
   "source": [
    "os.walk(\"%USERPROFILE%\")"
   ]
  },
  {
   "cell_type": "code",
   "execution_count": 23,
   "metadata": {},
   "outputs": [
    {
     "data": {
      "text/plain": [
       "'sdf/'"
      ]
     },
     "execution_count": 23,
     "metadata": {},
     "output_type": "execute_result"
    }
   ],
   "source": [
    "path=\"sdf\"\n",
    "path=path+\"/\"\n",
    "path"
   ]
  },
  {
   "cell_type": "code",
   "execution_count": 22,
   "metadata": {},
   "outputs": [
    {
     "name": "stdout",
     "output_type": "stream",
     "text": [
      "C:\\Users\\maxno\n"
     ]
    }
   ],
   "source": [
    "import os\n",
    "print(os.environ['USERPROFILE'])"
   ]
  },
  {
   "cell_type": "code",
   "execution_count": 28,
   "metadata": {},
   "outputs": [
    {
     "name": "stdout",
     "output_type": "stream",
     "text": [
      "['C:\\\\', 'D:\\\\']\n"
     ]
    }
   ],
   "source": [
    "import win32api\n",
    "\n",
    "drives = win32api.GetLogicalDriveStrings()\n",
    "drives = drives.split('\\000')[:-1]\n",
    "print(drives)"
   ]
  },
  {
   "cell_type": "code",
   "execution_count": 5,
   "metadata": {},
   "outputs": [
    {
     "ename": "PermissionError",
     "evalue": "[WinError 5] Отказано в доступе: 'C:/Users/maxno/Питон/VKR/Client SRP/hm'",
     "output_type": "error",
     "traceback": [
      "\u001b[1;31m---------------------------------------------------------------------------\u001b[0m",
      "\u001b[1;31mPermissionError\u001b[0m                           Traceback (most recent call last)",
      "\u001b[1;32m<ipython-input-5-fbff4b33841a>\u001b[0m in \u001b[0;36m<module>\u001b[1;34m\u001b[0m\n\u001b[0;32m      1\u001b[0m \u001b[1;32mimport\u001b[0m \u001b[0mos\u001b[0m\u001b[1;33m\u001b[0m\u001b[1;33m\u001b[0m\u001b[0m\n\u001b[1;32m----> 2\u001b[1;33m \u001b[0mos\u001b[0m\u001b[1;33m.\u001b[0m\u001b[0mremove\u001b[0m\u001b[1;33m(\u001b[0m\u001b[1;34m\"C:/Users/maxno/Питон/VKR/Client SRP/hm\"\u001b[0m\u001b[1;33m)\u001b[0m\u001b[1;33m\u001b[0m\u001b[1;33m\u001b[0m\u001b[0m\n\u001b[0m",
      "\u001b[1;31mPermissionError\u001b[0m: [WinError 5] Отказано в доступе: 'C:/Users/maxno/Питон/VKR/Client SRP/hm'"
     ]
    }
   ],
   "source": [
    "import os\n",
    "os.remove(\"C:/Users/maxno/Питон/VKR/Client SRP/hm\")"
   ]
  },
  {
   "cell_type": "code",
   "execution_count": 6,
   "metadata": {},
   "outputs": [],
   "source": [
    "import shutil\n",
    "shutil.rmtree(\"C:/Users/maxno/Питон/VKR/Client SRP/hm\")"
   ]
  },
  {
   "cell_type": "code",
   "execution_count": null,
   "metadata": {},
   "outputs": [],
   "source": []
  }
 ],
 "metadata": {
  "kernelspec": {
   "display_name": "Python 3",
   "language": "python",
   "name": "python3"
  },
  "language_info": {
   "codemirror_mode": {
    "name": "ipython",
    "version": 3
   },
   "file_extension": ".py",
   "mimetype": "text/x-python",
   "name": "python",
   "nbconvert_exporter": "python",
   "pygments_lexer": "ipython3",
   "version": "3.7.6"
  }
 },
 "nbformat": 4,
 "nbformat_minor": 4
}
