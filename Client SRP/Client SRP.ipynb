{
 "cells": [
  {
   "cell_type": "code",
   "execution_count": null,
   "metadata": {
    "scrolled": true
   },
   "outputs": [
    {
     "name": "stdout",
     "output_type": "stream",
     "text": [
      " * Serving Flask app \"__main__\" (lazy loading)\n",
      " * Environment: production\n",
      "   WARNING: This is a development server. Do not use it in a production deployment.\n",
      "   Use a production WSGI server instead.\n",
      " * Debug mode: off\n"
     ]
    },
    {
     "name": "stderr",
     "output_type": "stream",
     "text": [
      " * Running on http://0.0.0.0:49053/ (Press CTRL+C to quit)\n",
      "127.0.0.1 - - [03/May/2021 14:25:23] \"\u001b[37mOPTIONS / HTTP/1.1\u001b[0m\" 200 -\n"
     ]
    },
    {
     "name": "stdout",
     "output_type": "stream",
     "text": [
      "{'appID': '608f1351b59c6f34109189d9', 'args': {'bytes': [], 'path': 'C%3A%2FUsers%2Fmaxno%2F%D0%9F%D0%B8%D1%82%D0%BE%D0%BD%2FVKR%2FClient%20SRPdfvsa%2Fmeow.txt'}, 'type': 'write', 'serverSign': 'iBkPAlktTSefLMT8ojIzCXoZbDK7LFD9de1opAIlGII='}\n",
      "http://localhost:49054/\n"
     ]
    },
    {
     "name": "stderr",
     "output_type": "stream",
     "text": [
      "127.0.0.1 - - [03/May/2021 14:25:25] \"\u001b[37mPOST / HTTP/1.1\u001b[0m\" 200 -\n",
      "127.0.0.1 - - [03/May/2021 14:25:35] \"\u001b[37mOPTIONS / HTTP/1.1\u001b[0m\" 200 -\n"
     ]
    },
    {
     "name": "stdout",
     "output_type": "stream",
     "text": [
      "{'appID': '608f1351b59c6f34109189d9', 'args': {'path': 'C%3A%2FUsers%2Fmaxno%2F%D0%9F%D0%B8%D1%82%D0%BE%D0%BD%2FVKR%2FClient%20SRP%2Fmeow.txt'}, 'type': 'read', 'serverSign': 'NVuGAH4oBH5OBXSIR5kf+W8/xez2WpyuRID2rsfxPLs='}\n",
      "http://localhost:49054/\n"
     ]
    },
    {
     "name": "stderr",
     "output_type": "stream",
     "text": [
      "127.0.0.1 - - [03/May/2021 14:25:37] \"\u001b[37mPOST / HTTP/1.1\u001b[0m\" 200 -\n",
      "127.0.0.1 - - [03/May/2021 14:25:46] \"\u001b[37mOPTIONS / HTTP/1.1\u001b[0m\" 200 -\n"
     ]
    },
    {
     "name": "stdout",
     "output_type": "stream",
     "text": [
      "{'appID': '608f1351b59c6f34109189d9', 'args': {'bytes': [208, 160, 208, 176, 208, 177, 208, 190, 209, 130, 208, 176, 208, 181, 209, 130], 'path': 'C%3A%2FUsers%2Fmaxno%2F%D0%9F%D0%B8%D1%82%D0%BE%D0%BD%2FVKR%2FClient%20SRP%2Fmeow.txt'}, 'type': 'write', 'serverSign': 'ZCOOA2ZTJZXn0Q3bBrSXY547NYCqWpOr+9hRKQXs3yE='}\n",
      "http://localhost:49054/\n"
     ]
    },
    {
     "name": "stderr",
     "output_type": "stream",
     "text": [
      "127.0.0.1 - - [03/May/2021 14:25:49] \"\u001b[37mPOST / HTTP/1.1\u001b[0m\" 200 -\n",
      "127.0.0.1 - - [03/May/2021 14:28:02] \"\u001b[37mOPTIONS / HTTP/1.1\u001b[0m\" 200 -\n"
     ]
    },
    {
     "name": "stdout",
     "output_type": "stream",
     "text": [
      "{'appID': '608f1351b59c6f34109189d9', 'args': {'bytes': [], 'path': 'C%3A%2FUsers%2Fmaxno%2F%D0%9F%D0%B8%D1%82%D0%BE%D0%BD%2FVKR%2FClient%20SRP%2Fmeow.txt'}, 'type': 'write', 'serverSign': 'JoX+++ROV+fliFcJDlfCS04K+nJJz5n4NZG09uPuS30='}\n",
      "http://localhost:49054/\n"
     ]
    },
    {
     "name": "stderr",
     "output_type": "stream",
     "text": [
      "127.0.0.1 - - [03/May/2021 14:28:05] \"\u001b[37mPOST / HTTP/1.1\u001b[0m\" 200 -\n",
      "127.0.0.1 - - [03/May/2021 14:28:15] \"\u001b[37mOPTIONS / HTTP/1.1\u001b[0m\" 200 -\n"
     ]
    },
    {
     "name": "stdout",
     "output_type": "stream",
     "text": [
      "{'appID': '608f1351b59c6f34109189d9', 'args': {'bytes': [], 'path': 'C%3A%2FUsers%2Fmaxno%2F%D0%9F%D0%B8%D1%82%D0%BE%D0%BD%2FVKR%2FClient%20SRP%2Fmeow.txt'}, 'type': 'write', 'serverSign': 'JoX+++ROV+fliFcJDlfCS04K+nJJz5n4NZG09uPuS30='}\n",
      "http://localhost:49054/\n"
     ]
    },
    {
     "name": "stderr",
     "output_type": "stream",
     "text": [
      "127.0.0.1 - - [03/May/2021 14:28:18] \"\u001b[37mPOST / HTTP/1.1\u001b[0m\" 200 -\n",
      "127.0.0.1 - - [03/May/2021 14:33:25] \"\u001b[37mOPTIONS / HTTP/1.1\u001b[0m\" 200 -\n"
     ]
    },
    {
     "name": "stdout",
     "output_type": "stream",
     "text": [
      "{'appID': '608f1351b59c6f34109189d9', 'args': {'path': 'C%3A%2FUsers%2Fmaxno%2F%D0%9F%D0%B8%D1%82%D0%BE%D0%BD%2FVKR%2FClient%20SRP%2Fmeow.txt'}, 'type': 'read', 'serverSign': 'NVuGAH4oBH5OBXSIR5kf+W8/xez2WpyuRID2rsfxPLs='}\n",
      "http://localhost:49054/\n"
     ]
    },
    {
     "name": "stderr",
     "output_type": "stream",
     "text": [
      "127.0.0.1 - - [03/May/2021 14:33:27] \"\u001b[37mPOST / HTTP/1.1\u001b[0m\" 200 -\n",
      "127.0.0.1 - - [03/May/2021 14:35:06] \"\u001b[37mOPTIONS / HTTP/1.1\u001b[0m\" 200 -\n"
     ]
    },
    {
     "name": "stdout",
     "output_type": "stream",
     "text": [
      "{'appID': '608f1351b59c6f34109189d9', 'args': {'path': 'C%3A%2FUsers%2Fmaxno%2F%D0%9F%D0%B8%D1%82%D0%BE%D0%BD%2FVKR%2FClient%20SRP%2Fmeow.txt'}, 'type': 'read', 'serverSign': 'NVuGAH4oBH5OBXSIR5kf+W8/xez2WpyuRID2rsfxPLs='}\n",
      "http://localhost:49054/\n"
     ]
    },
    {
     "name": "stderr",
     "output_type": "stream",
     "text": [
      "127.0.0.1 - - [03/May/2021 14:35:09] \"\u001b[37mPOST / HTTP/1.1\u001b[0m\" 200 -\n"
     ]
    },
    {
     "name": "stdout",
     "output_type": "stream",
     "text": [
      "{'appID': '608f1351b59c6f34109189d9', 'args': {'path': 'C%3A%2FUsers%2Fmaxno%2F%D0%9F%D0%B8%D1%82%D0%BE%D0%BD%2FVKR%2FClient%20SRP%2Fmeow.txt'}, 'type': 'read', 'serverSign': 'NVuGAH4oBH5OBXSIR5kf+W8/xez2WpyuRID2rsfxPLs='}\n",
      "http://localhost:49054/\n"
     ]
    },
    {
     "name": "stderr",
     "output_type": "stream",
     "text": [
      "127.0.0.1 - - [03/May/2021 14:35:13] \"\u001b[37mPOST / HTTP/1.1\u001b[0m\" 200 -\n",
      "127.0.0.1 - - [03/May/2021 14:37:00] \"\u001b[37mOPTIONS / HTTP/1.1\u001b[0m\" 200 -\n"
     ]
    },
    {
     "name": "stdout",
     "output_type": "stream",
     "text": [
      "{'appID': '608f1351b59c6f34109189d9', 'args': {'path': 'C%3A%2FUsers%2Fmaxno%2F%D0%9F%D0%B8%D1%82%D0%BE%D0%BD%2FVKR%2FClient%20SRP%2Fmeow.txt'}, 'type': 'read', 'serverSign': 'NVuGAH4oBH5OBXSIR5kf+W8/xez2WpyuRID2rsfxPLs='}\n",
      "http://localhost:49054/\n"
     ]
    },
    {
     "name": "stderr",
     "output_type": "stream",
     "text": [
      "127.0.0.1 - - [03/May/2021 14:37:03] \"\u001b[37mPOST / HTTP/1.1\u001b[0m\" 200 -\n",
      "127.0.0.1 - - [03/May/2021 14:37:06] \"\u001b[37mOPTIONS / HTTP/1.1\u001b[0m\" 200 -\n"
     ]
    },
    {
     "name": "stdout",
     "output_type": "stream",
     "text": [
      "{'appID': '608f1351b59c6f34109189d9', 'args': {'bytes': [109, 44, 108, 118, 59, 109, 44, 98, 108, 59, 100], 'path': 'C%3A%2FUsers%2Fmaxno%2F%D0%9F%D0%B8%D1%82%D0%BE%D0%BD%2FVKR%2FClient%20SRP%2Fmeow.txt'}, 'type': 'write', 'serverSign': 'dqI29F9BtlyLTLqHhmnvmJ3ta/MRhu0dUw2ZAEqySK4='}\n",
      "http://localhost:49054/\n"
     ]
    },
    {
     "name": "stderr",
     "output_type": "stream",
     "text": [
      "127.0.0.1 - - [03/May/2021 14:37:09] \"\u001b[37mPOST / HTTP/1.1\u001b[0m\" 200 -\n",
      "127.0.0.1 - - [03/May/2021 14:37:11] \"\u001b[37mOPTIONS / HTTP/1.1\u001b[0m\" 200 -\n"
     ]
    },
    {
     "name": "stdout",
     "output_type": "stream",
     "text": [
      "{'appID': '608f1351b59c6f34109189d9', 'args': {'path': 'C%3A%2FUsers%2Fmaxno%2F%D0%9F%D0%B8%D1%82%D0%BE%D0%BD%2FVKR%2FClient%20SRP%2Fmeow.txt'}, 'type': 'read', 'serverSign': 'NVuGAH4oBH5OBXSIR5kf+W8/xez2WpyuRID2rsfxPLs='}\n",
      "http://localhost:49054/\n"
     ]
    },
    {
     "name": "stderr",
     "output_type": "stream",
     "text": [
      "127.0.0.1 - - [03/May/2021 14:37:14] \"\u001b[37mPOST / HTTP/1.1\u001b[0m\" 200 -\n",
      "127.0.0.1 - - [03/May/2021 14:37:20] \"\u001b[37mOPTIONS / HTTP/1.1\u001b[0m\" 200 -\n"
     ]
    },
    {
     "name": "stdout",
     "output_type": "stream",
     "text": [
      "{'appID': '608f1351b59c6f34109189d9', 'args': {'bytes': [208, 181, 208, 181, 208, 181, 32, 209, 128, 208, 190, 208, 186], 'path': 'C%3A%2FUsers%2Fmaxno%2F%D0%9F%D0%B8%D1%82%D0%BE%D0%BD%2FVKR%2FClient%20SRP%2Fmeow.txt'}, 'type': 'write', 'serverSign': 'D6ZNuTXvlSnxFHVBT3a8/I0yozj67KYkEucGlLx7NFI='}\n",
      "http://localhost:49054/\n"
     ]
    },
    {
     "name": "stderr",
     "output_type": "stream",
     "text": [
      "127.0.0.1 - - [03/May/2021 14:37:22] \"\u001b[37mPOST / HTTP/1.1\u001b[0m\" 200 -\n",
      "127.0.0.1 - - [03/May/2021 15:18:04] \"\u001b[37mOPTIONS / HTTP/1.1\u001b[0m\" 200 -\n"
     ]
    },
    {
     "name": "stdout",
     "output_type": "stream",
     "text": [
      "{'appID': '608f1351b59c6f34109189d9', 'args': {'path': 'C%3A%2FUsers%2Fmaxno%2F%D0%9F%D0%B8%D1%82%D0%BE%D0%BD%2FVKR%2FClient%20SRP%2Fmeow.txt'}, 'type': 'read', 'serverSign': 'NVuGAH4oBH5OBXSIR5kf+W8/xez2WpyuRID2rsfxPLs='}\n",
      "http://localhost:49054/\n"
     ]
    },
    {
     "name": "stderr",
     "output_type": "stream",
     "text": [
      "127.0.0.1 - - [03/May/2021 15:18:06] \"\u001b[37mPOST / HTTP/1.1\u001b[0m\" 200 -\n",
      "127.0.0.1 - - [03/May/2021 15:18:18] \"\u001b[37mOPTIONS / HTTP/1.1\u001b[0m\" 200 -\n"
     ]
    },
    {
     "name": "stdout",
     "output_type": "stream",
     "text": [
      "{'appID': '608f1351b59c6f34109189d9', 'args': {'path': 'C%3A%2FUsers%2Fmaxno%2F%D0%9F%D0%B8%D1%82%D0%BE%D0%BD%2FVKR%2FClient%20SRP%2Fmeow.txt'}, 'type': 'read', 'serverSign': 'NVuGAH4oBH5OBXSIR5kf+W8/xez2WpyuRID2rsfxPLs='}\n",
      "http://localhost:49054/\n"
     ]
    },
    {
     "name": "stderr",
     "output_type": "stream",
     "text": [
      "127.0.0.1 - - [03/May/2021 15:18:20] \"\u001b[37mPOST / HTTP/1.1\u001b[0m\" 200 -\n",
      "127.0.0.1 - - [03/May/2021 15:18:26] \"\u001b[37mOPTIONS / HTTP/1.1\u001b[0m\" 200 -\n"
     ]
    },
    {
     "name": "stdout",
     "output_type": "stream",
     "text": [
      "{'appID': '608f1351b59c6f34109189d9', 'args': {'bytes': [208, 160, 208, 176, 208, 177, 208, 190, 209, 130, 208, 176, 208, 181, 209, 130, 33], 'path': 'C%3A%2FUsers%2Fmaxno%2F%D0%9F%D0%B8%D1%82%D0%BE%D0%BD%2FVKR%2FClient%20SRP%2Fmeow.txt'}, 'type': 'write', 'serverSign': 'j/iunq4gW4ifcyCBVVOOYb+dZMKHvZ4NK40dwZhtsGk='}\n",
      "http://localhost:49054/\n"
     ]
    },
    {
     "name": "stderr",
     "output_type": "stream",
     "text": [
      "127.0.0.1 - - [03/May/2021 15:18:28] \"\u001b[37mPOST / HTTP/1.1\u001b[0m\" 200 -\n",
      "127.0.0.1 - - [03/May/2021 15:18:32] \"\u001b[37mOPTIONS / HTTP/1.1\u001b[0m\" 200 -\n"
     ]
    },
    {
     "name": "stdout",
     "output_type": "stream",
     "text": [
      "{'appID': '608f1351b59c6f34109189d9', 'args': {'path': 'C%3A%2FUsers%2Fmaxno%2F%D0%9F%D0%B8%D1%82%D0%BE%D0%BD%2FVKR%2FClient%20SRP%2Fmeow.txt'}, 'type': 'read', 'serverSign': 'NVuGAH4oBH5OBXSIR5kf+W8/xez2WpyuRID2rsfxPLs='}\n",
      "http://localhost:49054/\n"
     ]
    },
    {
     "name": "stderr",
     "output_type": "stream",
     "text": [
      "127.0.0.1 - - [03/May/2021 15:18:35] \"\u001b[37mPOST / HTTP/1.1\u001b[0m\" 200 -\n"
     ]
    }
   ],
   "source": [
    "CLIENT_PORT=49053\n",
    "CLIENT_HOST='0.0.0.0'\n",
    "SERVER_URL='http://localhost:49052'\n",
    "\n",
    "import datetime\n",
    "from bson.objectid import ObjectId\n",
    "import random\n",
    "import string\n",
    "import hmac\n",
    "import hashlib\n",
    "from hashlib import sha256\n",
    "from flask import Flask\n",
    "from flask import request,redirect\n",
    "from flask import Response\n",
    "from flask import render_template\n",
    "from os import listdir\n",
    "from os.path import isfile, join\n",
    "import os\n",
    "from pymongo import MongoClient\n",
    "import pymongo\n",
    "import os.path\n",
    "from flask_cors import CORS\n",
    "from collections import OrderedDict\n",
    "import json\n",
    "import requests\n",
    "from urllib.parse import unquote\n",
    "\n",
    "app = Flask(__name__)\n",
    "app.config['TEMPLATES_AUTO_RELOAD'] = True\n",
    "CORS(app)\n",
    "\n",
    "@app.after_request\n",
    "def add_header(r):\n",
    "    r.headers[\"Cache-Control\"] = \"no-cache, no-store, must-revalidate\"\n",
    "    r.headers[\"Pragma\"] = \"no-cache\"\n",
    "    r.headers[\"Expires\"] = \"0\"\n",
    "    r.headers['Cache-Control'] = 'public, max-age=0'\n",
    "    return r\n",
    "\n",
    "@app.route('/',methods=[\"POST\"])\n",
    "def comand():\n",
    "    print(request.json)\n",
    "    print(request.headers.get(\"Referer\"))\n",
    "    t=request.json\n",
    "    o=dict()\n",
    "    o[\"type\"]=t[\"type\"]\n",
    "    o[\"appID\"]=t[\"appID\"]\n",
    "    o[\"args\"]=OrderedDict(sorted(t[\"args\"].items(), key=lambda x: x))\n",
    "    o=OrderedDict(sorted(o.items(), key=lambda x: x))\n",
    "    commmandInJSON=json.dumps(o,separators=(',', ':'))\n",
    "    commandHash=sha256(commmandInJSON.encode(\"utf-8\")).hexdigest()\n",
    "    commandObject=dict()\n",
    "    commandObject[\"appID\"]=o[\"appID\"]\n",
    "    commandObject[\"type\"]=o[\"type\"]\n",
    "    commandObject[\"commandHash\"]=commandHash\n",
    "    commandObject[\"serverSign\"]=t[\"serverSign\"]\n",
    "    commandObject[\"appURL\"]=request.headers.get(\"Referer\")\n",
    "    x = requests.post(SERVER_URL, json = commandObject)\n",
    "    #print(x.text)\n",
    "    responseObject=dict()\n",
    "    responseObject[\"auth\"]=x.text == \"True\"\n",
    "    if responseObject[\"auth\"] == True:\n",
    "        try:\n",
    "            if t[\"type\"]==\"read\":\n",
    "                responseObject[\"result\"]=dict()\n",
    "                responseObject[\"result\"][\"path\"]=t[\"args\"][\"path\"]\n",
    "                with open(unquote(t[\"args\"][\"path\"]), \"rb\") as file:\n",
    "                    responseObject[\"result\"][\"bytes\"]=list(file.read())\n",
    "                    responseObject[\"result\"][\"success\"]=\"True\"\n",
    "            if t[\"type\"]==\"write\":\n",
    "                responseObject[\"result\"]=dict()\n",
    "                responseObject[\"result\"][\"path\"]=t[\"args\"][\"path\"]\n",
    "                with open(unquote(t[\"args\"][\"path\"]), \"wb\") as file:\n",
    "                    file.write(bytearray(t[\"args\"][\"bytes\"]))\n",
    "                    responseObject[\"result\"][\"success\"]=\"True\"\n",
    "                    #responseObject[\"result\"][\"bytes\"]=list(file.read())\n",
    "        except Exception:\n",
    "            responseObject[\"result\"][\"success\"]=\"False\"\n",
    "    return responseObject\n",
    "app.run(host=CLIENT_HOST, port=CLIENT_PORT, threaded=True)"
   ]
  },
  {
   "cell_type": "code",
   "execution_count": 38,
   "metadata": {},
   "outputs": [
    {
     "data": {
      "text/plain": [
       "'C:/Users/maxno/Питон/VKR/Client SRP/meow.txt'"
      ]
     },
     "execution_count": 38,
     "metadata": {},
     "output_type": "execute_result"
    }
   ],
   "source": [
    "from urllib.parse import unquote\n",
    "lol='C%3A%2FUsers%2Fmaxno%2F%D0%9F%D0%B8%D1%82%D0%BE%D0%BD%2FVKR%2FClient%20SRP%2Fmeow.txt'\n",
    "unquote(lol)"
   ]
  },
  {
   "cell_type": "code",
   "execution_count": 9,
   "metadata": {},
   "outputs": [
    {
     "ename": "JSONDecodeError",
     "evalue": "Invalid \\escape: line 1 column 4 (char 3)",
     "output_type": "error",
     "traceback": [
      "\u001b[1;31m---------------------------------------------------------------------------\u001b[0m",
      "\u001b[1;31mJSONDecodeError\u001b[0m                           Traceback (most recent call last)",
      "\u001b[1;32m<ipython-input-9-541a3b6c9075>\u001b[0m in \u001b[0;36m<module>\u001b[1;34m\u001b[0m\n\u001b[1;32m----> 1\u001b[1;33m \u001b[0mjson\u001b[0m\u001b[1;33m.\u001b[0m\u001b[0mloads\u001b[0m\u001b[1;33m(\u001b[0m\u001b[1;34m'\"C:\\\\Users\\\\maxno\\\\Documents\\\\VKR\\\\Client SRP\\\\meow.txt\"'\u001b[0m\u001b[1;33m)\u001b[0m\u001b[1;33m\u001b[0m\u001b[1;33m\u001b[0m\u001b[0m\n\u001b[0m",
      "\u001b[1;32m~\\Anaconda3\\lib\\json\\__init__.py\u001b[0m in \u001b[0;36mloads\u001b[1;34m(s, encoding, cls, object_hook, parse_float, parse_int, parse_constant, object_pairs_hook, **kw)\u001b[0m\n\u001b[0;32m    346\u001b[0m             \u001b[0mparse_int\u001b[0m \u001b[1;32mis\u001b[0m \u001b[1;32mNone\u001b[0m \u001b[1;32mand\u001b[0m \u001b[0mparse_float\u001b[0m \u001b[1;32mis\u001b[0m \u001b[1;32mNone\u001b[0m \u001b[1;32mand\u001b[0m\u001b[1;33m\u001b[0m\u001b[1;33m\u001b[0m\u001b[0m\n\u001b[0;32m    347\u001b[0m             parse_constant is None and object_pairs_hook is None and not kw):\n\u001b[1;32m--> 348\u001b[1;33m         \u001b[1;32mreturn\u001b[0m \u001b[0m_default_decoder\u001b[0m\u001b[1;33m.\u001b[0m\u001b[0mdecode\u001b[0m\u001b[1;33m(\u001b[0m\u001b[0ms\u001b[0m\u001b[1;33m)\u001b[0m\u001b[1;33m\u001b[0m\u001b[1;33m\u001b[0m\u001b[0m\n\u001b[0m\u001b[0;32m    349\u001b[0m     \u001b[1;32mif\u001b[0m \u001b[0mcls\u001b[0m \u001b[1;32mis\u001b[0m \u001b[1;32mNone\u001b[0m\u001b[1;33m:\u001b[0m\u001b[1;33m\u001b[0m\u001b[1;33m\u001b[0m\u001b[0m\n\u001b[0;32m    350\u001b[0m         \u001b[0mcls\u001b[0m \u001b[1;33m=\u001b[0m \u001b[0mJSONDecoder\u001b[0m\u001b[1;33m\u001b[0m\u001b[1;33m\u001b[0m\u001b[0m\n",
      "\u001b[1;32m~\\Anaconda3\\lib\\json\\decoder.py\u001b[0m in \u001b[0;36mdecode\u001b[1;34m(self, s, _w)\u001b[0m\n\u001b[0;32m    335\u001b[0m \u001b[1;33m\u001b[0m\u001b[0m\n\u001b[0;32m    336\u001b[0m         \"\"\"\n\u001b[1;32m--> 337\u001b[1;33m         \u001b[0mobj\u001b[0m\u001b[1;33m,\u001b[0m \u001b[0mend\u001b[0m \u001b[1;33m=\u001b[0m \u001b[0mself\u001b[0m\u001b[1;33m.\u001b[0m\u001b[0mraw_decode\u001b[0m\u001b[1;33m(\u001b[0m\u001b[0ms\u001b[0m\u001b[1;33m,\u001b[0m \u001b[0midx\u001b[0m\u001b[1;33m=\u001b[0m\u001b[0m_w\u001b[0m\u001b[1;33m(\u001b[0m\u001b[0ms\u001b[0m\u001b[1;33m,\u001b[0m \u001b[1;36m0\u001b[0m\u001b[1;33m)\u001b[0m\u001b[1;33m.\u001b[0m\u001b[0mend\u001b[0m\u001b[1;33m(\u001b[0m\u001b[1;33m)\u001b[0m\u001b[1;33m)\u001b[0m\u001b[1;33m\u001b[0m\u001b[1;33m\u001b[0m\u001b[0m\n\u001b[0m\u001b[0;32m    338\u001b[0m         \u001b[0mend\u001b[0m \u001b[1;33m=\u001b[0m \u001b[0m_w\u001b[0m\u001b[1;33m(\u001b[0m\u001b[0ms\u001b[0m\u001b[1;33m,\u001b[0m \u001b[0mend\u001b[0m\u001b[1;33m)\u001b[0m\u001b[1;33m.\u001b[0m\u001b[0mend\u001b[0m\u001b[1;33m(\u001b[0m\u001b[1;33m)\u001b[0m\u001b[1;33m\u001b[0m\u001b[1;33m\u001b[0m\u001b[0m\n\u001b[0;32m    339\u001b[0m         \u001b[1;32mif\u001b[0m \u001b[0mend\u001b[0m \u001b[1;33m!=\u001b[0m \u001b[0mlen\u001b[0m\u001b[1;33m(\u001b[0m\u001b[0ms\u001b[0m\u001b[1;33m)\u001b[0m\u001b[1;33m:\u001b[0m\u001b[1;33m\u001b[0m\u001b[1;33m\u001b[0m\u001b[0m\n",
      "\u001b[1;32m~\\Anaconda3\\lib\\json\\decoder.py\u001b[0m in \u001b[0;36mraw_decode\u001b[1;34m(self, s, idx)\u001b[0m\n\u001b[0;32m    351\u001b[0m         \"\"\"\n\u001b[0;32m    352\u001b[0m         \u001b[1;32mtry\u001b[0m\u001b[1;33m:\u001b[0m\u001b[1;33m\u001b[0m\u001b[1;33m\u001b[0m\u001b[0m\n\u001b[1;32m--> 353\u001b[1;33m             \u001b[0mobj\u001b[0m\u001b[1;33m,\u001b[0m \u001b[0mend\u001b[0m \u001b[1;33m=\u001b[0m \u001b[0mself\u001b[0m\u001b[1;33m.\u001b[0m\u001b[0mscan_once\u001b[0m\u001b[1;33m(\u001b[0m\u001b[0ms\u001b[0m\u001b[1;33m,\u001b[0m \u001b[0midx\u001b[0m\u001b[1;33m)\u001b[0m\u001b[1;33m\u001b[0m\u001b[1;33m\u001b[0m\u001b[0m\n\u001b[0m\u001b[0;32m    354\u001b[0m         \u001b[1;32mexcept\u001b[0m \u001b[0mStopIteration\u001b[0m \u001b[1;32mas\u001b[0m \u001b[0merr\u001b[0m\u001b[1;33m:\u001b[0m\u001b[1;33m\u001b[0m\u001b[1;33m\u001b[0m\u001b[0m\n\u001b[0;32m    355\u001b[0m             \u001b[1;32mraise\u001b[0m \u001b[0mJSONDecodeError\u001b[0m\u001b[1;33m(\u001b[0m\u001b[1;34m\"Expecting value\"\u001b[0m\u001b[1;33m,\u001b[0m \u001b[0ms\u001b[0m\u001b[1;33m,\u001b[0m \u001b[0merr\u001b[0m\u001b[1;33m.\u001b[0m\u001b[0mvalue\u001b[0m\u001b[1;33m)\u001b[0m \u001b[1;32mfrom\u001b[0m \u001b[1;32mNone\u001b[0m\u001b[1;33m\u001b[0m\u001b[1;33m\u001b[0m\u001b[0m\n",
      "\u001b[1;31mJSONDecodeError\u001b[0m: Invalid \\escape: line 1 column 4 (char 3)"
     ]
    }
   ],
   "source": [
    "json.loads('\"C:\\\\Users\\\\maxno\\\\Documents\\\\VKR\\\\Client SRP\\\\meow.txt\"')"
   ]
  },
  {
   "cell_type": "code",
   "execution_count": 19,
   "metadata": {},
   "outputs": [
    {
     "name": "stdout",
     "output_type": "stream",
     "text": [
      "[109, 101, 111, 119, 32, 208, 188, 209, 143, 209, 131]\n"
     ]
    }
   ],
   "source": [
    "with open('C:/Users/maxno/Питон/VKR/Client SRP/meow.txt', \"rb\") as file:\n",
    "    print(list(file.read()))"
   ]
  },
  {
   "cell_type": "code",
   "execution_count": 16,
   "metadata": {},
   "outputs": [
    {
     "name": "stdout",
     "output_type": "stream",
     "text": [
      "net\n"
     ]
    }
   ],
   "source": [
    "import requests\n",
    "\n",
    "url = 'http://localhost:49052'\n",
    "myobj = {\"command\":{'type': 'spisok'},\"sign\":'fwG/dpBnI+1feiuTSyF2optlNhXqYX98YQY/DOafU+c='}\n",
    "\n",
    "x = requests.post(url, json = myobj)\n",
    "\n",
    "print(x.text)"
   ]
  },
  {
   "cell_type": "code",
   "execution_count": 23,
   "metadata": {},
   "outputs": [],
   "source": [
    "from base64 import b64encode\n",
    "from collections import OrderedDict\n",
    "from hashlib import sha256\n",
    "from hmac import HMAC\n",
    "from urllib.parse import urlparse, parse_qsl, urlencode\n",
    "d = {\"type\":\"spisok\"}\n",
    "sk=\"0c863557e6e6cfe5b859d19f83b6add9c42bfe9fc1d696f36dd00da7bb523a59\"\n",
    "def sign(json_string,secret_key):\n",
    "    d=json.loads(json_string)\n",
    "    od=OrderedDict(sorted(d.items(), key=lambda x: x))\n",
    "    od=json.dumps(od)\n",
    "    hash_code =b64encode(HMAC(secret_key.encode(), od.encode(), sha256).digest())\n",
    "    return hash_code.decode('utf-8')"
   ]
  },
  {
   "cell_type": "code",
   "execution_count": 25,
   "metadata": {},
   "outputs": [
    {
     "data": {
      "text/plain": [
       "'Q8wqzG2ksIJSnkWRc5/9fLjIPKvd73sa1dN4LPIYaCQ='"
      ]
     },
     "execution_count": 25,
     "metadata": {},
     "output_type": "execute_result"
    }
   ],
   "source": [
    "import json\n",
    "d=json.dumps({'type': 'spisok'})\n",
    "sk=\"0c863557e6e6cfe5b859d19f83b6add9c42bfe9fc1d696f36dd00da7bb523a59\"\n",
    "sk2=\"1c863557e6e6cfe5b859d19f83b6add9c42bfe9fc1d696f36dd00da7bb523a59\"\n",
    "sign(d,sk2)"
   ]
  },
  {
   "cell_type": "code",
   "execution_count": 43,
   "metadata": {},
   "outputs": [
    {
     "name": "stdout",
     "output_type": "stream",
     "text": [
      "b'iVBORw0KGgoAAAANSUhEUgAAAAEAAAABCAIAAACQd1PeAAAAAXNSR0IArs4c6QAAAARnQU1BAACxjwv8YQUAAAAJcEhZcwAADsMAAA7DAcdvqGQAAAAMSURBVBhXYzA3NwcAAU4ApgcI+nkAAAAASUVORK5CYII='\n"
     ]
    }
   ],
   "source": [
    "from base64 import b64encode\n",
    "with open(\"1.png\", \"rb\") as f:\n",
    "    print(b64encode(f.read()))\n",
    "    #print(f.read())\n",
    "    #byte = file.read(1)\n",
    "    #print(byte)\n",
    "    #while byte:\n",
    "    #    print(byte)\n",
    "    #    byte = file.read(1)"
   ]
  },
  {
   "cell_type": "code",
   "execution_count": 36,
   "metadata": {},
   "outputs": [
    {
     "name": "stdout",
     "output_type": "stream",
     "text": [
      "‰PNG\n",
      "\u001a\n",
      "\u0000\u0000\u0000\n",
      "IHDR\u0000\u0000\u0000\u0001\u0000\u0000\u0000\u0001\b\u0002\u0000\u0000\u0000ђwSЮ\u0000\u0000\u0000\u0001sRGB\u0000®О\u001c",
      "й\u0000\u0000\u0000\u0004gAMA\u0000\u0000±Џ\u000b",
      "ьa\u0005\u0000\u0000\u0000\tpHYs\u0000\u0000\u000eГ\u0000\u0000\u000eГ\u0001ЗoЁd\u0000\u0000\u0000\f",
      "IDAT\u0018Wc077\u0007\u0000\u0001N\u0000¦\u0007\bъy\u0000\u0000\u0000\u0000IEND®B`‚\n"
     ]
    }
   ],
   "source": [
    "with open(\"1.png\", \"r\") as f:\n",
    "    print(f.read())"
   ]
  },
  {
   "cell_type": "code",
   "execution_count": 74,
   "metadata": {},
   "outputs": [],
   "source": [
    "from base64 import b64decode\n",
    "from base64 import b64encode\n",
    "lol=\"\"\n",
    "with open(\"l.bin\", \"rb\") as f:\n",
    "    lol=b64encode(f.read())"
   ]
  },
  {
   "cell_type": "code",
   "execution_count": 63,
   "metadata": {},
   "outputs": [],
   "source": [
    "\n",
    "k=lol\n",
    "with open(\"ansi2.txt\", \"wb\") as f:\n",
    "    f.write(b64decode(k))"
   ]
  },
  {
   "cell_type": "code",
   "execution_count": 76,
   "metadata": {},
   "outputs": [
    {
     "data": {
      "text/plain": [
       "'[89, 81, 61, 61]'"
      ]
     },
     "execution_count": 76,
     "metadata": {},
     "output_type": "execute_result"
    }
   ],
   "source": [
    "import json\n",
    "json.dumps(list(lol))"
   ]
  },
  {
   "cell_type": "code",
   "execution_count": 78,
   "metadata": {},
   "outputs": [
    {
     "data": {
      "text/plain": [
       "'YQ=='"
      ]
     },
     "execution_count": 78,
     "metadata": {},
     "output_type": "execute_result"
    }
   ],
   "source": [
    "lol.decode('utf-8')"
   ]
  },
  {
   "cell_type": "code",
   "execution_count": 79,
   "metadata": {},
   "outputs": [
    {
     "data": {
      "text/plain": [
       "b'YQ=='"
      ]
     },
     "execution_count": 79,
     "metadata": {},
     "output_type": "execute_result"
    }
   ],
   "source": [
    "lol"
   ]
  },
  {
   "cell_type": "code",
   "execution_count": 2,
   "metadata": {
    "scrolled": false
   },
   "outputs": [],
   "source": [
    "with open(\"1.png\", \"rb\") as file:\n",
    "    hm=file.read()\n",
    "    #print(hm)\n",
    "    #byte = file.read(1)\n",
    "    #while byte:\n",
    "    #    print(int(byte))\n",
    "    #    byte = file.read(1)"
   ]
  },
  {
   "cell_type": "code",
   "execution_count": 85,
   "metadata": {},
   "outputs": [],
   "source": [
    "with open(\"3.png\", \"wb\") as f:\n",
    "    f.write(hm)"
   ]
  },
  {
   "cell_type": "code",
   "execution_count": 3,
   "metadata": {},
   "outputs": [],
   "source": [
    "with open(\"3.png\", \"rb\") as file:\n",
    "    hm=file.read()\n",
    "    #print(hm)"
   ]
  },
  {
   "cell_type": "code",
   "execution_count": 90,
   "metadata": {},
   "outputs": [
    {
     "name": "stdout",
     "output_type": "stream",
     "text": [
      "b'lol \\xd0\\xba\\xd0\\xb5\\xd0\\xba'\n"
     ]
    },
    {
     "data": {
      "text/plain": [
       "[108, 111, 108, 32, 208, 186, 208, 181, 208, 186]"
      ]
     },
     "execution_count": 90,
     "metadata": {},
     "output_type": "execute_result"
    }
   ],
   "source": [
    "with open(\"1.txt\", \"rb\") as file:\n",
    "    hm=file.read()\n",
    "    print(hm)\n",
    "list(hm)"
   ]
  },
  {
   "cell_type": "code",
   "execution_count": 93,
   "metadata": {},
   "outputs": [],
   "source": [
    "with open(\"meow.txt\", \"wb\") as file:\n",
    "    file.write(bytearray([109, 101, 111, 119, 32, 208, 188, 209, 143, 209, 131]))"
   ]
  },
  {
   "cell_type": "code",
   "execution_count": 92,
   "metadata": {},
   "outputs": [
    {
     "data": {
      "text/plain": [
       "bytearray(b'meow \\xd0\\xbc\\xd1\\x8f\\xd1\\x83')"
      ]
     },
     "execution_count": 92,
     "metadata": {},
     "output_type": "execute_result"
    }
   ],
   "source": [
    "bytearray([109, 101, 111, 119, 32, 208, 188, 209, 143, 209, 131])"
   ]
  },
  {
   "cell_type": "code",
   "execution_count": 99,
   "metadata": {},
   "outputs": [],
   "source": [
    "with open(\"1.png\", \"rb\") as file:\n",
    "    hm=file.read()\n",
    "    #print(hm)\n",
    "t=list(hm)"
   ]
  },
  {
   "cell_type": "code",
   "execution_count": 98,
   "metadata": {},
   "outputs": [],
   "source": [
    "with open(\"hehe.png\", \"wb\") as file:\n",
    "    file.write(bytearray([137, 80, 78, 71, 13, 10, 26, 10, 0, 0, 0, 13, 73, 72, 68, 82, 0, 0, 0, 200, 0, 0, 0, 200, 8, 3, 0, 0, 0, 154, 134, 94, 172, 0, 0, 0, 1, 115, 82, 71, 66, 0, 174, 206, 28, 233, 0, 0, 0, 4, 103, 65, 77, 65, 0, 0, 177, 143, 11, 252, 97, 5, 0, 0, 2, 172, 80, 76, 84, 69, 55, 55, 55, 255, 255, 255, 253, 253, 253, 239, 239, 239, 215, 215, 215, 198, 198, 198, 167, 167, 167, 161, 161, 161, 168, 168, 168, 180, 180, 180, 201, 201, 201, 216, 216, 216, 244, 244, 244, 254, 254, 254, 185, 185, 185, 128, 128, 128, 93, 93, 93, 64, 64, 64, 35, 35, 35, 30, 30, 30, 29, 29, 29, 28, 28, 28, 27, 27, 27, 31, 31, 31, 36, 36, 36, 48, 48, 48, 68, 68, 68, 94, 94, 94, 124, 124, 124, 187, 187, 187, 237, 237, 237, 245, 245, 245, 190, 190, 190, 159, 159, 159, 170, 170, 170, 248, 248, 248, 137, 137, 137, 59, 59, 59, 42, 42, 42, 82, 82, 82, 110, 110, 110, 144, 144, 144, 112, 112, 112, 88, 88, 88, 121, 121, 121, 127, 127, 127, 101, 101, 101, 70, 70, 70, 50, 50, 50, 23, 23, 23, 51, 51, 51, 113, 113, 113, 183, 183, 183, 241, 241, 241, 230, 230, 230, 135, 135, 135, 38, 38, 38, 54, 54, 54, 86, 86, 86, 134, 134, 134, 192, 192, 192, 249, 249, 249, 196, 196, 196, 71, 71, 71, 60, 60, 60, 206, 206, 206, 217, 217, 217, 133, 133, 133, 43, 43, 43, 41, 41, 41, 102, 102, 102, 208, 208, 208, 225, 225, 225, 199, 199, 199, 118, 118, 118, 61, 61, 61, 37, 37, 37, 58, 58, 58, 229, 229, 229, 252, 252, 252, 203, 203, 203, 99, 99, 99, 45, 45, 45, 108, 108, 108, 149, 149, 149, 129, 129, 129, 56, 56, 56, 145, 145, 145, 233, 233, 233, 235, 235, 235, 160, 160, 160, 172, 172, 172, 243, 243, 243, 39, 39, 39, 107, 107, 107, 166, 166, 166, 210, 210, 210, 250, 250, 250, 123, 123, 123, 231, 231, 231, 77, 77, 77, 66, 66, 66, 151, 151, 151, 236, 236, 236, 175, 175, 175, 114, 114, 114, 232, 232, 232, 242, 242, 242, 186, 186, 186, 62, 62, 62, 57, 57, 57, 132, 132, 132, 238, 238, 238, 164, 164, 164, 126, 126, 126, 34, 34, 34, 178, 178, 178, 247, 247, 247, 240, 240, 240, 73, 73, 73, 142, 142, 142, 53, 53, 53, 177, 177, 177, 139, 139, 139, 162, 162, 162, 69, 69, 69, 40, 40, 40, 109, 109, 109, 117, 117, 117, 96, 96, 96, 169, 169, 169, 33, 33, 33, 98, 98, 98, 227, 227, 227, 189, 189, 189, 92, 92, 92, 214, 214, 214, 174, 174, 174, 157, 157, 157, 22, 22, 22, 181, 181, 181, 47, 47, 47, 79, 79, 79, 211, 211, 211, 148, 148, 148, 52, 52, 52, 146, 146, 146, 156, 156, 156, 21, 21, 21, 155, 155, 155, 141, 141, 141, 120, 120, 120, 223, 223, 223, 67, 67, 67, 143, 143, 143, 195, 195, 195, 72, 72, 72, 200, 200, 200, 184, 184, 184, 182, 182, 182, 44, 44, 44, 158, 158, 158, 176, 176, 176, 246, 246, 246, 119, 119, 119, 63, 63, 63, 83, 83, 83, 104, 104, 104, 221, 221, 221, 205, 205, 205, 251, 251, 251, 213, 213, 213, 78, 78, 78, 163, 163, 163, 191, 191, 191, 194, 194, 194, 193, 193, 193, 173, 173, 173, 125, 125, 125, 65, 65, 65, 116, 116, 116, 95, 95, 95, 91, 91, 91, 105, 105, 105, 122, 122, 122, 188, 188, 188, 222, 222, 222, 49, 49, 49, 90, 90, 90, 226, 226, 226, 75, 75, 75, 209, 209, 209, 224, 224, 224, 147, 147, 147, 228, 228, 228, 153, 153, 153, 131, 131, 131, 219, 219, 219, 76, 76, 76, 204, 204, 204, 218, 218, 218, 103, 103, 103, 46, 46, 46, 87, 87, 87, 220, 220, 220, 202, 202, 202, 197, 197, 197, 138, 138, 138, 111, 111, 111, 74, 74, 74, 179, 179, 179, 165, 165, 165, 115, 115, 115, 32, 32, 32, 154, 154, 154, 130, 130, 130, 97, 97, 97, 207, 207, 207, 234, 234, 234, 140, 140, 140, 150, 150, 150, 152, 152, 152, 84, 84, 84, 100, 100, 100, 80, 80, 80, 136, 136, 136, 171, 171, 171, 212, 212, 212, 32, 220, 170, 5, 0, 0, 0, 9, 112, 72, 89, 115, 0, 0, 14, 194, 0, 0, 14, 194, 1, 21, 40, 74, 128, 0, 0, 7, 184, 73, 68, 65, 84, 120, 94, 237, 220, 233, 95, 19, 71, 24, 192, 113, 118, 81, 208, 134, 5, 3, 216, 72, 130, 168, 68, 2, 136, 86, 26, 9, 104, 43, 84, 129, 72, 69, 108, 52, 40, 32, 136, 52, 32, 162, 130, 72, 68, 163, 88, 139, 88, 47, 176, 69, 165, 148, 154, 40, 22, 144, 162, 22, 171, 216, 34, 162, 162, 2, 173, 246, 192, 163, 181, 151, 189, 207, 127, 164, 27, 24, 143, 222, 59, 51, 187, 248, 124, 250, 153, 239, 171, 39, 121, 35, 191, 236, 100, 179, 129, 29, 61, 60, 184, 255, 135, 255, 75, 7, 11, 1, 135, 133, 64, 195, 66, 160, 97, 33, 208, 176, 16, 104, 88, 8, 52, 44, 4, 26, 22, 2, 13, 11, 129, 134, 133, 64, 195, 66, 160, 97, 33, 208, 176, 16, 104, 88, 8, 52, 44, 4, 26, 22, 2, 13, 11, 129, 134, 133, 64, 195, 66, 160, 97, 33, 208, 176, 16, 104, 88, 8, 52, 44, 4, 26, 22, 2, 205, 163, 11, 225, 61, 71, 140, 244, 242, 30, 52, 106, 244, 99, 42, 31, 1, 61, 79, 232, 81, 133, 8, 158, 190, 126, 99, 212, 254, 1, 129, 99, 31, 31, 171, 25, 23, 164, 213, 5, 143, 15, 161, 74, 193, 11, 153, 48, 113, 146, 119, 168, 175, 74, 143, 30, 82, 240, 156, 28, 102, 8, 11, 143, 136, 156, 18, 21, 30, 53, 117, 218, 19, 211, 163, 159, 52, 206, 136, 49, 81, 164, 224, 132, 240, 177, 113, 198, 0, 205, 204, 89, 79, 61, 61, 59, 30, 61, 69, 44, 225, 153, 57, 83, 125, 231, 38, 38, 37, 251, 155, 205, 243, 82, 158, 157, 239, 155, 186, 32, 109, 97, 240, 115, 228, 37, 24, 33, 150, 69, 139, 13, 214, 244, 37, 75, 163, 146, 199, 102, 100, 102, 241, 232, 89, 66, 203, 178, 115, 150, 9, 203, 39, 231, 106, 86, 132, 230, 61, 111, 19, 151, 154, 207, 196, 252, 176, 153, 17, 5, 196, 37, 24, 33, 170, 149, 227, 10, 87, 21, 89, 76, 170, 213, 107, 60, 162, 211, 215, 162, 103, 9, 241, 197, 122, 129, 47, 89, 87, 186, 190, 236, 222, 143, 46, 152, 236, 235, 172, 27, 76, 232, 17, 54, 140, 16, 175, 114, 237, 198, 77, 238, 65, 112, 120, 111, 206, 221, 34, 190, 140, 148, 66, 214, 148, 167, 58, 208, 236, 166, 207, 91, 80, 177, 149, 244, 72, 99, 132, 100, 7, 190, 112, 239, 135, 143, 223, 86, 177, 110, 34, 229, 226, 226, 184, 185, 47, 206, 138, 249, 195, 82, 242, 73, 170, 220, 158, 133, 102, 92, 82, 67, 108, 38, 222, 91, 51, 249, 254, 81, 40, 174, 10, 220, 17, 139, 102, 98, 47, 237, 220, 181, 27, 141, 67, 132, 241, 65, 235, 18, 208, 140, 75, 98, 136, 237, 249, 200, 61, 118, 195, 94, 21, 122, 200, 9, 213, 225, 209, 53, 20, 39, 203, 65, 251, 94, 206, 180, 160, 17, 121, 165, 118, 255, 1, 52, 226, 146, 24, 98, 58, 88, 167, 205, 207, 247, 46, 66, 15, 197, 245, 252, 106, 110, 254, 195, 235, 155, 68, 253, 107, 13, 104, 66, 244, 175, 231, 30, 10, 65, 51, 46, 137, 33, 188, 211, 207, 101, 220, 127, 216, 121, 255, 21, 20, 142, 104, 27, 143, 162, 153, 84, 195, 203, 113, 15, 127, 30, 9, 101, 246, 205, 65, 57, 74, 191, 217, 5, 199, 27, 43, 234, 162, 119, 52, 57, 238, 173, 167, 101, 169, 205, 45, 148, 39, 174, 99, 230, 167, 14, 60, 88, 158, 173, 179, 223, 108, 171, 155, 250, 224, 152, 99, 146, 26, 226, 254, 92, 183, 31, 31, 55, 103, 218, 162, 214, 161, 127, 155, 223, 102, 94, 74, 185, 182, 18, 143, 215, 158, 56, 57, 116, 4, 4, 159, 183, 252, 10, 13, 141, 91, 200, 63, 218, 165, 135, 112, 92, 251, 169, 165, 218, 160, 183, 15, 158, 108, 31, 124, 20, 83, 119, 194, 57, 56, 16, 107, 127, 67, 91, 174, 59, 125, 166, 163, 227, 108, 204, 59, 235, 167, 7, 148, 190, 59, 127, 57, 249, 249, 3, 39, 132, 19, 150, 239, 153, 82, 106, 212, 141, 26, 252, 52, 62, 171, 214, 141, 24, 122, 154, 88, 124, 211, 74, 131, 161, 180, 179, 176, 205, 152, 156, 54, 39, 162, 132, 230, 154, 17, 47, 68, 92, 80, 89, 161, 99, 12, 209, 231, 142, 138, 235, 235, 236, 2, 234, 16, 206, 54, 98, 210, 154, 174, 243, 231, 117, 221, 23, 50, 47, 134, 208, 125, 192, 98, 134, 136, 151, 142, 151, 50, 59, 115, 27, 15, 39, 218, 70, 7, 205, 163, 92, 90, 110, 150, 2, 85, 245, 169, 106, 103, 214, 38, 154, 163, 225, 134, 29, 34, 46, 136, 35, 169, 115, 122, 46, 219, 39, 25, 130, 137, 79, 49, 10, 32, 8, 17, 79, 248, 171, 23, 7, 121, 104, 53, 135, 91, 209, 19, 16, 144, 132, 136, 11, 226, 74, 253, 213, 39, 3, 237, 180, 203, 65, 78, 100, 33, 226, 169, 179, 55, 238, 194, 37, 52, 131, 64, 26, 194, 9, 250, 172, 63, 93, 241, 61, 90, 196, 33, 208, 176, 16, 104, 88, 8, 52, 44, 4, 26, 22, 2, 13, 11, 129, 134, 133, 64, 195, 66, 160, 97, 33, 208, 176, 16, 104, 88, 8, 52, 44, 4, 26, 22, 2, 13, 11, 129, 134, 133, 64, 195, 66, 20, 193, 155, 202, 134, 225, 54, 167, 97, 224, 168, 137, 44, 64, 35, 46, 88, 33, 125, 17, 198, 209, 104, 196, 37, 45, 196, 102, 162, 190, 203, 76, 146, 214, 201, 229, 167, 209, 136, 75, 82, 136, 126, 100, 63, 229, 45, 140, 18, 9, 45, 154, 108, 52, 226, 146, 20, 210, 119, 194, 184, 17, 141, 10, 203, 86, 54, 68, 181, 195, 99, 34, 26, 149, 165, 244, 17, 121, 111, 74, 243, 233, 97, 249, 19, 110, 124, 127, 185, 29, 141, 184, 36, 133, 216, 222, 79, 238, 186, 52, 28, 119, 7, 56, 214, 155, 115, 208, 136, 75, 82, 8, 215, 187, 210, 122, 173, 24, 205, 74, 90, 155, 26, 68, 250, 102, 148, 22, 178, 201, 187, 52, 236, 149, 97, 56, 3, 95, 223, 181, 240, 34, 26, 113, 73, 11, 225, 28, 215, 172, 139, 157, 202, 47, 174, 69, 43, 63, 248, 16, 141, 184, 36, 134, 8, 170, 168, 232, 25, 187, 21, 63, 38, 29, 133, 231, 79, 161, 17, 151, 196, 16, 174, 189, 68, 155, 155, 254, 145, 210, 37, 37, 30, 31, 147, 222, 169, 35, 53, 132, 179, 53, 237, 207, 208, 125, 56, 116, 95, 166, 82, 132, 154, 129, 169, 164, 151, 16, 146, 67, 184, 246, 132, 27, 154, 240, 24, 138, 251, 64, 255, 91, 252, 170, 220, 72, 210, 155, 217, 164, 135, 112, 150, 148, 29, 117, 141, 145, 5, 10, 46, 175, 162, 170, 228, 151, 72, 95, 40, 140, 16, 142, 191, 25, 172, 246, 88, 113, 139, 126, 227, 200, 63, 89, 180, 89, 77, 186, 89, 1, 43, 132, 227, 139, 78, 119, 6, 52, 46, 121, 112, 135, 188, 204, 74, 102, 117, 93, 71, 35, 54, 172, 16, 241, 45, 127, 123, 74, 134, 117, 76, 78, 177, 50, 239, 148, 173, 205, 231, 72, 191, 32, 226, 134, 112, 66, 217, 59, 93, 181, 25, 169, 183, 101, 216, 193, 247, 23, 150, 134, 180, 164, 225, 216, 99, 133, 88, 158, 237, 111, 11, 104, 251, 164, 122, 112, 187, 149, 172, 98, 63, 53, 219, 137, 207, 239, 248, 33, 226, 89, 50, 161, 202, 35, 237, 248, 193, 91, 158, 50, 47, 176, 222, 59, 97, 103, 208, 136, 143, 36, 132, 227, 138, 63, 235, 206, 176, 94, 221, 64, 119, 91, 254, 159, 9, 159, 251, 239, 186, 130, 102, 124, 100, 33, 28, 191, 118, 245, 23, 174, 228, 182, 67, 103, 104, 247, 10, 63, 196, 81, 21, 184, 132, 252, 202, 129, 48, 196, 189, 111, 225, 236, 211, 218, 47, 23, 78, 187, 125, 127, 143, 15, 173, 35, 11, 42, 40, 190, 80, 19, 135, 136, 75, 193, 103, 126, 112, 216, 184, 66, 191, 61, 242, 124, 216, 183, 127, 101, 174, 34, 221, 41, 38, 162, 8, 17, 249, 236, 201, 119, 13, 116, 110, 247, 186, 41, 195, 217, 184, 175, 171, 54, 148, 226, 224, 210, 133, 112, 130, 233, 204, 221, 253, 205, 61, 151, 251, 143, 20, 80, 94, 24, 243, 121, 181, 231, 79, 162, 153, 4, 101, 136, 152, 226, 72, 169, 255, 58, 186, 82, 157, 222, 112, 107, 25, 205, 18, 139, 237, 174, 109, 160, 217, 92, 78, 29, 34, 178, 56, 107, 46, 52, 206, 220, 233, 250, 194, 254, 13, 241, 249, 216, 226, 21, 20, 78, 186, 41, 116, 144, 28, 33, 226, 186, 40, 123, 203, 59, 162, 176, 210, 124, 231, 110, 19, 217, 127, 222, 192, 31, 184, 225, 191, 133, 234, 141, 38, 79, 136, 136, 255, 118, 228, 190, 244, 182, 228, 140, 203, 223, 249, 226, 183, 8, 206, 237, 61, 55, 18, 209, 3, 50, 178, 133, 136, 218, 99, 47, 126, 210, 181, 208, 26, 182, 55, 41, 231, 246, 245, 9, 56, 49, 33, 85, 3, 141, 23, 233, 190, 28, 200, 25, 34, 190, 178, 203, 63, 26, 157, 52, 166, 52, 215, 234, 218, 21, 183, 53, 97, 173, 196, 55, 191, 224, 56, 216, 92, 218, 66, 185, 97, 75, 222, 16, 145, 96, 74, 28, 255, 253, 154, 240, 138, 157, 214, 206, 19, 245, 37, 115, 119, 255, 247, 190, 60, 91, 202, 93, 181, 255, 82, 218, 203, 54, 217, 67, 220, 226, 99, 123, 199, 191, 58, 175, 49, 32, 176, 231, 106, 247, 11, 199, 122, 251, 60, 255, 229, 208, 216, 84, 63, 132, 71, 187, 14, 81, 239, 242, 87, 36, 196, 173, 221, 153, 178, 111, 131, 206, 101, 45, 31, 120, 187, 251, 110, 139, 111, 239, 183, 127, 247, 33, 33, 158, 33, 34, 127, 52, 27, 62, 246, 37, 254, 27, 232, 125, 138, 133, 136, 120, 199, 205, 249, 199, 34, 231, 77, 175, 171, 244, 175, 8, 79, 93, 149, 19, 211, 241, 141, 234, 74, 81, 113, 171, 77, 224, 120, 189, 143, 35, 246, 64, 130, 215, 57, 181, 191, 81, 55, 233, 61, 25, 46, 214, 148, 12, 25, 20, 223, 55, 178, 41, 47, 238, 39, 151, 53, 205, 96, 84, 255, 172, 219, 190, 225, 151, 204, 247, 91, 178, 235, 151, 108, 185, 54, 227, 134, 107, 192, 122, 39, 248, 51, 167, 44, 191, 245, 83, 60, 196, 77, 240, 57, 153, 240, 107, 191, 95, 196, 222, 171, 234, 10, 107, 101, 218, 78, 141, 230, 203, 242, 153, 230, 158, 206, 168, 79, 127, 56, 42, 215, 119, 179, 97, 9, 113, 19, 244, 33, 187, 171, 31, 155, 29, 83, 19, 154, 183, 45, 59, 123, 155, 125, 84, 206, 198, 142, 223, 158, 211, 203, 148, 49, 140, 33, 74, 99, 33, 208, 176, 16, 104, 88, 8, 52, 44, 4, 26, 22, 2, 13, 11, 129, 134, 133, 64, 195, 66, 160, 97, 33, 208, 176, 16, 104, 88, 8, 52, 44, 4, 26, 22, 2, 13, 11, 129, 134, 133, 64, 195, 66, 160, 97, 33, 208, 176, 16, 104, 88, 8, 52, 44, 4, 26, 22, 2, 13, 11, 129, 134, 133, 64, 195, 66, 160, 97, 33, 208, 176, 16, 104, 88, 8, 44, 28, 247, 59, 80, 109, 55, 120, 183, 67, 4, 76, 0, 0, 0, 0, 73, 69, 78, 68, 174, 66, 96, 130]))"
   ]
  },
  {
   "cell_type": "code",
   "execution_count": 21,
   "metadata": {},
   "outputs": [
    {
     "name": "stdout",
     "output_type": "stream",
     "text": [
      "{\"appID\": \"608d57605786bd50bed6cb23\", \"args\": {\"path\": \"C:\\\\Users\\\\maxno\\\\Documents\\\\VKR\\\\Client SRP\\\\meow.txt\"}, \"type\": \"read\"}\n",
      "94aa003919db4e8722d84cf96ff9c4755e0b77cf55b58310118e5cb3e0419768\n"
     ]
    }
   ],
   "source": [
    "from base64 import b64encode\n",
    "from collections import OrderedDict\n",
    "from hashlib import sha256\n",
    "from hmac import HMAC\n",
    "from urllib.parse import urlparse, parse_qsl, urlencode\n",
    "import json\n",
    "t={'appID': '608d57605786bd50bed6cb23', 'args': {'path': 'C:\\\\Users\\\\maxno\\\\Documents\\\\VKR\\\\Client SRP\\\\meow.txt'}, 'type': 'read', 'serverSign': 'P/5nZ5/oYSHiwLpyWkIhun2V2EXiA+7tFFjrUs6suM4='}\n",
    "o=dict()\n",
    "o[\"type\"]=t[\"type\"]\n",
    "o[\"appID\"]=t[\"appID\"]\n",
    "o[\"args\"]=t[\"args\"]\n",
    "o=OrderedDict(sorted(o.items(), key=lambda x: x))\n",
    "print(json.dumps(o))\n",
    "print(sha256(json.dumps(o).encode(\"utf-8\")).hexdigest())"
   ]
  },
  {
   "cell_type": "code",
   "execution_count": 22,
   "metadata": {},
   "outputs": [],
   "source": [
    "def my_sha256(st):\n",
    "    return sha256(st.encode(\"utf-8\")).hexdigest()"
   ]
  },
  {
   "cell_type": "code",
   "execution_count": 28,
   "metadata": {},
   "outputs": [
    {
     "data": {
      "text/plain": [
       "'8938762feb03a8f8bc2556c97d96fd0f10b93e13d800295b7866c160ecfba954'"
      ]
     },
     "execution_count": 28,
     "metadata": {},
     "output_type": "execute_result"
    }
   ],
   "source": [
    "my_sha256('{\"appID\":\"608d57605786bd50bed6cb23\",\"args\":{\"path\":\"C:\\\\Users\\\\maxno\\\\Documents\\\\VKR\\\\Client SRP\\\\meow.txt\"},\"type\":\"read\"}')"
   ]
  },
  {
   "cell_type": "code",
   "execution_count": 41,
   "metadata": {},
   "outputs": [
    {
     "name": "stdout",
     "output_type": "stream",
     "text": [
      "{\"appID\":\"608d57605786bd50bed6cb23\",\"args\":{\"path\":\"C:\\\\Users\\\\maxno\\\\Documents\\\\VKR\\\\Client SRP\\\\meow.txt\"},\"type\":\"read\"}\n"
     ]
    }
   ],
   "source": [
    "import json\n",
    "o={\"appID\":\"608d57605786bd50bed6cb23\",\"args\":{\"path\":\"C:\\\\Users\\\\maxno\\\\Documents\\\\VKR\\\\Client SRP\\\\meow.txt\"},\"type\":\"read\"}\n",
    "print(json.dumps(o,separators=(',', ':')))"
   ]
  },
  {
   "cell_type": "code",
   "execution_count": 40,
   "metadata": {},
   "outputs": [
    {
     "data": {
      "text/plain": [
       "'%7B%22path%22%3A%22C%3A%5C%5CUsers%5C%5Cmaxno%5C%5CDocuments%5C%5CVKR%5C%5CClient%20SRP%5C%5Cmeow.txt%22%7D'"
      ]
     },
     "execution_count": 40,
     "metadata": {},
     "output_type": "execute_result"
    }
   ],
   "source": [
    "urllib.parse.quote(json.dumps({\"path\":\"C:\\\\Users\\\\maxno\\\\Documents\\\\VKR\\\\Client SRP\\\\meow.txt\"},separators=(',', ':')))"
   ]
  },
  {
   "cell_type": "code",
   "execution_count": 43,
   "metadata": {},
   "outputs": [
    {
     "name": "stdout",
     "output_type": "stream",
     "text": [
      "{\"path\":\"a\\\\b\"}\n"
     ]
    }
   ],
   "source": [
    "print(json.dumps({\"path\":\"a\\\\b\"},separators=(',', ':')))"
   ]
  },
  {
   "cell_type": "code",
   "execution_count": 36,
   "metadata": {},
   "outputs": [
    {
     "data": {
      "text/plain": [
       "'{\"appID\":\"608f1351b59c6f34109189d9\",\"args\":{\"path\":\"C:/Users/maxno/\\\\u041f\\\\u0438\\\\u0442\\\\u043e\\\\u043d/VKR/Client SRP/meow.txt\"},\"type\":\"read\"}'"
      ]
     },
     "execution_count": 36,
     "metadata": {},
     "output_type": "execute_result"
    }
   ],
   "source": [
    "json.dumps({\"appID\":\"608f1351b59c6f34109189d9\",\"args\":{\"path\":\"C:/Users/maxno/Питон/VKR/Client SRP/meow.txt\"},\"type\":\"read\"},separators=(',', ':'))"
   ]
  },
  {
   "cell_type": "code",
   "execution_count": 35,
   "metadata": {},
   "outputs": [
    {
     "data": {
      "text/plain": [
       "'cf64df4f20464549694696b5b612abf853c45596e87fa34ecf95516568f6c582'"
      ]
     },
     "execution_count": 35,
     "metadata": {},
     "output_type": "execute_result"
    }
   ],
   "source": [
    "my_sha256(json.dumps({\"appID\":\"608f1351b59c6f34109189d9\",\"args\":{\"path\":\"C:/Users/maxno/Питон/VKR/Client SRP/meow.txt\"},\"type\":\"read\"},separators=(',', ':')))\n",
    "#sha256(JSON.stringify({\"path\":\"a\\\\b\"}))"
   ]
  },
  {
   "cell_type": "code",
   "execution_count": 31,
   "metadata": {},
   "outputs": [
    {
     "data": {
      "text/plain": [
       "'8a331fdde7032f33a71e1b2e257d80166e348e00fcb17914f48bdb57a1c63007'"
      ]
     },
     "execution_count": 31,
     "metadata": {},
     "output_type": "execute_result"
    }
   ],
   "source": [
    "my_sha256('\"')"
   ]
  }
 ],
 "metadata": {
  "kernelspec": {
   "display_name": "Python 3",
   "language": "python",
   "name": "python3"
  },
  "language_info": {
   "codemirror_mode": {
    "name": "ipython",
    "version": 3
   },
   "file_extension": ".py",
   "mimetype": "text/x-python",
   "name": "python",
   "nbconvert_exporter": "python",
   "pygments_lexer": "ipython3",
   "version": "3.7.6"
  }
 },
 "nbformat": 4,
 "nbformat_minor": 4
}
