{
 "cells": [
  {
   "cell_type": "code",
   "execution_count": 2,
   "metadata": {
    "scrolled": true
   },
   "outputs": [
    {
     "name": "stdout",
     "output_type": "stream",
     "text": [
      " * Serving Flask app \"__main__\" (lazy loading)\n",
      " * Environment: production\n",
      "   WARNING: This is a development server. Do not use it in a production deployment.\n",
      "   Use a production WSGI server instead.\n",
      " * Debug mode: off\n"
     ]
    },
    {
     "name": "stderr",
     "output_type": "stream",
     "text": [
      " * Running on http://0.0.0.0:49053/ (Press CTRL+C to quit)\n",
      "127.0.0.1 - - [03/May/2021 15:28:21] \"\u001b[37mOPTIONS / HTTP/1.1\u001b[0m\" 200 -\n"
     ]
    },
    {
     "name": "stdout",
     "output_type": "stream",
     "text": [
      "{'appID': '608f1351b59c6f34109189d9', 'args': {'path': 'C%3A%2FUsers%2Fmaxno%2F%D0%9F%D0%B8%D1%82%D0%BE%D0%BD%2FVKR%2FClient%20SRP%2Fmeow.txt'}, 'type': 'read', 'serverSign': 'NVuGAH4oBH5OBXSIR5kf+W8/xez2WpyuRID2rsfxPLs='}\n",
      "http://localhost:49054/\n"
     ]
    },
    {
     "name": "stderr",
     "output_type": "stream",
     "text": [
      "127.0.0.1 - - [03/May/2021 15:28:24] \"\u001b[37mPOST / HTTP/1.1\u001b[0m\" 200 -\n"
     ]
    }
   ],
   "source": [
    "CLIENT_PORT=49053\n",
    "CLIENT_HOST='0.0.0.0'\n",
    "SERVER_URL='http://localhost:49052'\n",
    "\n",
    "import datetime\n",
    "from bson.objectid import ObjectId\n",
    "import random\n",
    "import string\n",
    "import hmac\n",
    "import hashlib\n",
    "from hashlib import sha256\n",
    "from flask import Flask\n",
    "from flask import request,redirect\n",
    "from flask import Response\n",
    "from flask import render_template\n",
    "from os import listdir\n",
    "from os.path import isfile, join\n",
    "import os\n",
    "from pymongo import MongoClient\n",
    "import pymongo\n",
    "import os.path\n",
    "from flask_cors import CORS\n",
    "from collections import OrderedDict\n",
    "import json\n",
    "import requests\n",
    "from urllib.parse import unquote\n",
    "\n",
    "app = Flask(__name__)\n",
    "app.config['TEMPLATES_AUTO_RELOAD'] = True\n",
    "CORS(app)\n",
    "\n",
    "@app.after_request\n",
    "def add_header(r):\n",
    "    r.headers[\"Cache-Control\"] = \"no-cache, no-store, must-revalidate\"\n",
    "    r.headers[\"Pragma\"] = \"no-cache\"\n",
    "    r.headers[\"Expires\"] = \"0\"\n",
    "    r.headers['Cache-Control'] = 'public, max-age=0'\n",
    "    return r\n",
    "\n",
    "@app.route('/',methods=[\"POST\"])\n",
    "def comand():\n",
    "    print(request.json)\n",
    "    print(request.headers.get(\"Referer\"))\n",
    "    t=request.json\n",
    "    o=dict()\n",
    "    o[\"type\"]=t[\"type\"]\n",
    "    o[\"appID\"]=t[\"appID\"]\n",
    "    o[\"args\"]=OrderedDict(sorted(t[\"args\"].items(), key=lambda x: x))\n",
    "    o=OrderedDict(sorted(o.items(), key=lambda x: x))\n",
    "    commmandInJSON=json.dumps(o,separators=(',', ':'))\n",
    "    commandHash=sha256(commmandInJSON.encode(\"utf-8\")).hexdigest()\n",
    "    commandObject=dict()\n",
    "    commandObject[\"appID\"]=o[\"appID\"]\n",
    "    commandObject[\"type\"]=o[\"type\"]\n",
    "    commandObject[\"commandHash\"]=commandHash\n",
    "    commandObject[\"serverSign\"]=t[\"serverSign\"]\n",
    "    commandObject[\"appURL\"]=request.headers.get(\"Referer\")\n",
    "    x = requests.post(SERVER_URL, json = commandObject)\n",
    "    responseObject=dict()\n",
    "    responseObject[\"auth\"]=x.text == \"True\"\n",
    "    if responseObject[\"auth\"] == True:\n",
    "        try:\n",
    "            if t[\"type\"]==\"read\":\n",
    "                responseObject[\"result\"]=dict()\n",
    "                responseObject[\"result\"][\"path\"]=t[\"args\"][\"path\"]\n",
    "                with open(unquote(t[\"args\"][\"path\"]), \"rb\") as file:\n",
    "                    responseObject[\"result\"][\"bytes\"]=list(file.read())\n",
    "                    responseObject[\"result\"][\"success\"]=\"True\"\n",
    "            if t[\"type\"]==\"write\":\n",
    "                responseObject[\"result\"]=dict()\n",
    "                responseObject[\"result\"][\"path\"]=t[\"args\"][\"path\"]\n",
    "                with open(unquote(t[\"args\"][\"path\"]), \"wb\") as file:\n",
    "                    file.write(bytearray(t[\"args\"][\"bytes\"]))\n",
    "                    responseObject[\"result\"][\"success\"]=\"True\"\n",
    "            if t[\"type\"]==\"list\":\n",
    "                responseObject[\"result\"]=dict()\n",
    "                responseObject[\"result\"][\"path\"]=t[\"args\"][\"path\"]\n",
    "                #with open(unquote(t[\"args\"][\"path\"]), \"wb\") as file:\n",
    "                #    file.write(bytearray(t[\"args\"][\"bytes\"]))\n",
    "                responseObject[\"result\"][\"list\"]=os.listdir('.')\n",
    "                responseObject[\"result\"][\"success\"]=\"True\"\n",
    "        except Exception:\n",
    "            responseObject[\"result\"][\"success\"]=\"False\"\n",
    "    return responseObject\n",
    "app.run(host=CLIENT_HOST, port=CLIENT_PORT, threaded=True)"
   ]
  }
 ],
 "metadata": {
  "kernelspec": {
   "display_name": "Python 3",
   "language": "python",
   "name": "python3"
  },
  "language_info": {
   "codemirror_mode": {
    "name": "ipython",
    "version": 3
   },
   "file_extension": ".py",
   "mimetype": "text/x-python",
   "name": "python",
   "nbconvert_exporter": "python",
   "pygments_lexer": "ipython3",
   "version": "3.7.6"
  }
 },
 "nbformat": 4,
 "nbformat_minor": 4
}
