{
 "cells": [
  {
   "cell_type": "code",
   "execution_count": null,
   "metadata": {},
   "outputs": [
    {
     "name": "stdout",
     "output_type": "stream",
     "text": [
      " * Serving Flask app \"__main__\" (lazy loading)\n",
      " * Environment: production\n",
      "   WARNING: This is a development server. Do not use it in a production deployment.\n",
      "   Use a production WSGI server instead.\n",
      " * Debug mode: off\n"
     ]
    },
    {
     "name": "stderr",
     "output_type": "stream",
     "text": [
      " * Running on http://0.0.0.0:49054/ (Press CTRL+C to quit)\n",
      "127.0.0.1 - - [03/May/2021 00:45:49] \"\u001b[37mGET / HTTP/1.1\u001b[0m\" 200 -\n",
      "127.0.0.1 - - [03/May/2021 00:45:50] \"\u001b[37mPOST /command HTTP/1.1\u001b[0m\" 200 -\n"
     ]
    },
    {
     "name": "stdout",
     "output_type": "stream",
     "text": [
      "{'commandHash': 'baabb9f7c711a9fa68a9f9899b5e27b96f29abab687b1f228cc1cb20a18f9560'}\n"
     ]
    },
    {
     "name": "stderr",
     "output_type": "stream",
     "text": [
      "127.0.0.1 - - [03/May/2021 00:47:11] \"\u001b[37mGET / HTTP/1.1\u001b[0m\" 200 -\n",
      "127.0.0.1 - - [03/May/2021 00:47:12] \"\u001b[37mPOST /command HTTP/1.1\u001b[0m\" 200 -\n"
     ]
    },
    {
     "name": "stdout",
     "output_type": "stream",
     "text": [
      "{'commandHash': 'baabb9f7c711a9fa68a9f9899b5e27b96f29abab687b1f228cc1cb20a18f9560'}\n"
     ]
    },
    {
     "name": "stderr",
     "output_type": "stream",
     "text": [
      "127.0.0.1 - - [03/May/2021 00:47:48] \"\u001b[37mPOST /command HTTP/1.1\u001b[0m\" 200 -\n"
     ]
    },
    {
     "name": "stdout",
     "output_type": "stream",
     "text": [
      "{'commandHash': 'baabb9f7c711a9fa68a9f9899b5e27b96f29abab687b1f228cc1cb20a18f9560'}\n"
     ]
    },
    {
     "name": "stderr",
     "output_type": "stream",
     "text": [
      "127.0.0.1 - - [03/May/2021 00:48:23] \"\u001b[37mPOST /command HTTP/1.1\u001b[0m\" 200 -\n"
     ]
    },
    {
     "name": "stdout",
     "output_type": "stream",
     "text": [
      "{'commandHash': 'baabb9f7c711a9fa68a9f9899b5e27b96f29abab687b1f228cc1cb20a18f9560'}\n"
     ]
    },
    {
     "name": "stderr",
     "output_type": "stream",
     "text": [
      "127.0.0.1 - - [03/May/2021 00:48:51] \"\u001b[37mGET / HTTP/1.1\u001b[0m\" 200 -\n",
      "127.0.0.1 - - [03/May/2021 00:48:52] \"\u001b[37mPOST /command HTTP/1.1\u001b[0m\" 200 -\n"
     ]
    },
    {
     "name": "stdout",
     "output_type": "stream",
     "text": [
      "{'commandHash': 'baabb9f7c711a9fa68a9f9899b5e27b96f29abab687b1f228cc1cb20a18f9560'}\n"
     ]
    },
    {
     "name": "stderr",
     "output_type": "stream",
     "text": [
      "127.0.0.1 - - [03/May/2021 00:49:38] \"\u001b[37mGET / HTTP/1.1\u001b[0m\" 200 -\n",
      "127.0.0.1 - - [03/May/2021 00:49:39] \"\u001b[37mPOST /command HTTP/1.1\u001b[0m\" 200 -\n"
     ]
    },
    {
     "name": "stdout",
     "output_type": "stream",
     "text": [
      "{'commandHash': 'baabb9f7c711a9fa68a9f9899b5e27b96f29abab687b1f228cc1cb20a18f9560'}\n"
     ]
    },
    {
     "name": "stderr",
     "output_type": "stream",
     "text": [
      "127.0.0.1 - - [03/May/2021 00:51:00] \"\u001b[37mPOST /command HTTP/1.1\u001b[0m\" 200 -\n"
     ]
    },
    {
     "name": "stdout",
     "output_type": "stream",
     "text": [
      "{'commandHash': 'baabb9f7c711a9fa68a9f9899b5e27b96f29abab687b1f228cc1cb20a18f9560'}\n"
     ]
    },
    {
     "name": "stderr",
     "output_type": "stream",
     "text": [
      "127.0.0.1 - - [03/May/2021 00:53:26] \"\u001b[37mPOST /command HTTP/1.1\u001b[0m\" 200 -\n"
     ]
    },
    {
     "name": "stdout",
     "output_type": "stream",
     "text": [
      "{'commandHash': 'baabb9f7c711a9fa68a9f9899b5e27b96f29abab687b1f228cc1cb20a18f9560'}\n"
     ]
    },
    {
     "name": "stderr",
     "output_type": "stream",
     "text": [
      "127.0.0.1 - - [03/May/2021 00:56:34] \"\u001b[37mPOST /command HTTP/1.1\u001b[0m\" 200 -\n"
     ]
    },
    {
     "name": "stdout",
     "output_type": "stream",
     "text": [
      "{'commandHash': 'baabb9f7c711a9fa68a9f9899b5e27b96f29abab687b1f228cc1cb20a18f9560'}\n"
     ]
    },
    {
     "name": "stderr",
     "output_type": "stream",
     "text": [
      "127.0.0.1 - - [03/May/2021 00:57:10] \"\u001b[37mPOST /command HTTP/1.1\u001b[0m\" 200 -\n"
     ]
    },
    {
     "name": "stdout",
     "output_type": "stream",
     "text": [
      "{'commandHash': 'baabb9f7c711a9fa68a9f9899b5e27b96f29abab687b1f228cc1cb20a18f9560'}\n"
     ]
    },
    {
     "name": "stderr",
     "output_type": "stream",
     "text": [
      "127.0.0.1 - - [03/May/2021 00:57:32] \"\u001b[37mGET / HTTP/1.1\u001b[0m\" 200 -\n",
      "127.0.0.1 - - [03/May/2021 00:57:33] \"\u001b[37mPOST /command HTTP/1.1\u001b[0m\" 200 -\n"
     ]
    },
    {
     "name": "stdout",
     "output_type": "stream",
     "text": [
      "{'commandHash': 'c7174cbc348ebc05e2e7fe246b9584d2b5d93dca7241c8e92f025ee5b2743090'}\n"
     ]
    },
    {
     "name": "stderr",
     "output_type": "stream",
     "text": [
      "127.0.0.1 - - [03/May/2021 01:05:45] \"\u001b[37mPOST /command HTTP/1.1\u001b[0m\" 200 -\n"
     ]
    },
    {
     "name": "stdout",
     "output_type": "stream",
     "text": [
      "{'commandHash': 'c7174cbc348ebc05e2e7fe246b9584d2b5d93dca7241c8e92f025ee5b2743090'}\n"
     ]
    },
    {
     "name": "stderr",
     "output_type": "stream",
     "text": [
      "127.0.0.1 - - [03/May/2021 01:05:51] \"\u001b[37mGET / HTTP/1.1\u001b[0m\" 200 -\n",
      "127.0.0.1 - - [03/May/2021 01:05:52] \"\u001b[37mPOST /command HTTP/1.1\u001b[0m\" 200 -\n"
     ]
    },
    {
     "name": "stdout",
     "output_type": "stream",
     "text": [
      "{'commandHash': 'baabb9f7c711a9fa68a9f9899b5e27b96f29abab687b1f228cc1cb20a18f9560'}\n"
     ]
    },
    {
     "name": "stderr",
     "output_type": "stream",
     "text": [
      "127.0.0.1 - - [03/May/2021 01:11:33] \"\u001b[37mGET / HTTP/1.1\u001b[0m\" 200 -\n",
      "127.0.0.1 - - [03/May/2021 01:11:34] \"\u001b[37mPOST /command HTTP/1.1\u001b[0m\" 200 -\n"
     ]
    },
    {
     "name": "stdout",
     "output_type": "stream",
     "text": [
      "{'commandHash': 'baabb9f7c711a9fa68a9f9899b5e27b96f29abab687b1f228cc1cb20a18f9560'}\n"
     ]
    },
    {
     "name": "stderr",
     "output_type": "stream",
     "text": [
      "127.0.0.1 - - [03/May/2021 01:13:18] \"\u001b[37mGET / HTTP/1.1\u001b[0m\" 200 -\n",
      "127.0.0.1 - - [03/May/2021 01:13:18] \"\u001b[37mPOST /command HTTP/1.1\u001b[0m\" 200 -\n"
     ]
    },
    {
     "name": "stdout",
     "output_type": "stream",
     "text": [
      "{'commandHash': 'baabb9f7c711a9fa68a9f9899b5e27b96f29abab687b1f228cc1cb20a18f9560'}\n"
     ]
    },
    {
     "name": "stderr",
     "output_type": "stream",
     "text": [
      "127.0.0.1 - - [03/May/2021 01:17:37] \"\u001b[37mGET / HTTP/1.1\u001b[0m\" 200 -\n",
      "127.0.0.1 - - [03/May/2021 01:17:38] \"\u001b[37mPOST /command HTTP/1.1\u001b[0m\" 200 -\n"
     ]
    },
    {
     "name": "stdout",
     "output_type": "stream",
     "text": [
      "{'commandHash': 'deffdc22eb39dcb740ea5771244a628423f2c99e38b90f5bd6664d12bff242f2'}\n"
     ]
    },
    {
     "name": "stderr",
     "output_type": "stream",
     "text": [
      "127.0.0.1 - - [03/May/2021 01:20:27] \"\u001b[37mGET / HTTP/1.1\u001b[0m\" 200 -\n",
      "[2021-05-03 01:20:29,439] ERROR in app: Exception on /command [POST]\n",
      "Traceback (most recent call last):\n",
      "  File \"C:\\Users\\maxno\\Anaconda3\\lib\\site-packages\\flask\\app.py\", line 2446, in wsgi_app\n",
      "    response = self.full_dispatch_request()\n",
      "  File \"C:\\Users\\maxno\\Anaconda3\\lib\\site-packages\\flask\\app.py\", line 1951, in full_dispatch_request\n",
      "    rv = self.handle_user_exception(e)\n",
      "  File \"C:\\Users\\maxno\\Anaconda3\\lib\\site-packages\\flask\\app.py\", line 1820, in handle_user_exception\n",
      "    reraise(exc_type, exc_value, tb)\n",
      "  File \"C:\\Users\\maxno\\Anaconda3\\lib\\site-packages\\flask\\_compat.py\", line 39, in reraise\n",
      "    raise value\n",
      "  File \"C:\\Users\\maxno\\Anaconda3\\lib\\site-packages\\flask\\app.py\", line 1949, in full_dispatch_request\n",
      "    rv = self.dispatch_request()\n",
      "  File \"C:\\Users\\maxno\\Anaconda3\\lib\\site-packages\\flask\\app.py\", line 1935, in dispatch_request\n",
      "    return self.view_functions[rule.endpoint](**req.view_args)\n",
      "  File \"<ipython-input-5-d5c457b1d872>\", line 52, in command\n",
      "    hash_code = b64encode(HMAC(SECRET_KEY.encode(), request.json[\"commandHash\"].encode(), sha256).digest())\n",
      "KeyError: 'commandHash'\n",
      "127.0.0.1 - - [03/May/2021 01:20:29] \"\u001b[35m\u001b[1mPOST /command HTTP/1.1\u001b[0m\" 500 -\n"
     ]
    },
    {
     "name": "stdout",
     "output_type": "stream",
     "text": [
      "{}\n"
     ]
    },
    {
     "name": "stderr",
     "output_type": "stream",
     "text": [
      "127.0.0.1 - - [03/May/2021 01:20:41] \"\u001b[37mGET / HTTP/1.1\u001b[0m\" 200 -\n",
      "127.0.0.1 - - [03/May/2021 01:20:50] \"\u001b[37mGET / HTTP/1.1\u001b[0m\" 200 -\n",
      "[2021-05-03 01:20:51,655] ERROR in app: Exception on /command [POST]\n",
      "Traceback (most recent call last):\n",
      "  File \"C:\\Users\\maxno\\Anaconda3\\lib\\site-packages\\flask\\app.py\", line 2446, in wsgi_app\n",
      "    response = self.full_dispatch_request()\n",
      "  File \"C:\\Users\\maxno\\Anaconda3\\lib\\site-packages\\flask\\app.py\", line 1951, in full_dispatch_request\n",
      "    rv = self.handle_user_exception(e)\n",
      "  File \"C:\\Users\\maxno\\Anaconda3\\lib\\site-packages\\flask\\app.py\", line 1820, in handle_user_exception\n",
      "    reraise(exc_type, exc_value, tb)\n",
      "  File \"C:\\Users\\maxno\\Anaconda3\\lib\\site-packages\\flask\\_compat.py\", line 39, in reraise\n",
      "    raise value\n",
      "  File \"C:\\Users\\maxno\\Anaconda3\\lib\\site-packages\\flask\\app.py\", line 1949, in full_dispatch_request\n",
      "    rv = self.dispatch_request()\n",
      "  File \"C:\\Users\\maxno\\Anaconda3\\lib\\site-packages\\flask\\app.py\", line 1935, in dispatch_request\n",
      "    return self.view_functions[rule.endpoint](**req.view_args)\n",
      "  File \"<ipython-input-5-d5c457b1d872>\", line 52, in command\n",
      "    hash_code = b64encode(HMAC(SECRET_KEY.encode(), request.json[\"commandHash\"].encode(), sha256).digest())\n",
      "KeyError: 'commandHash'\n",
      "127.0.0.1 - - [03/May/2021 01:20:51] \"\u001b[35m\u001b[1mPOST /command HTTP/1.1\u001b[0m\" 500 -\n"
     ]
    },
    {
     "name": "stdout",
     "output_type": "stream",
     "text": [
      "{}\n"
     ]
    },
    {
     "name": "stderr",
     "output_type": "stream",
     "text": [
      "127.0.0.1 - - [03/May/2021 01:23:11] \"\u001b[37mGET / HTTP/1.1\u001b[0m\" 200 -\n",
      "127.0.0.1 - - [03/May/2021 01:23:48] \"\u001b[37mGET / HTTP/1.1\u001b[0m\" 200 -\n",
      "127.0.0.1 - - [03/May/2021 01:25:03] \"\u001b[37mGET / HTTP/1.1\u001b[0m\" 200 -\n",
      "127.0.0.1 - - [03/May/2021 01:25:04] \"\u001b[37mPOST /command HTTP/1.1\u001b[0m\" 200 -\n"
     ]
    },
    {
     "name": "stdout",
     "output_type": "stream",
     "text": [
      "{'commandHash': '881567f4bca3b12340c041ec12c709606b2273983b35c2a12c7363dd9007f7e6'}\n"
     ]
    },
    {
     "name": "stderr",
     "output_type": "stream",
     "text": [
      "127.0.0.1 - - [03/May/2021 01:36:50] \"\u001b[37mGET / HTTP/1.1\u001b[0m\" 200 -\n",
      "127.0.0.1 - - [03/May/2021 01:36:51] \"\u001b[37mPOST /command HTTP/1.1\u001b[0m\" 200 -\n"
     ]
    },
    {
     "name": "stdout",
     "output_type": "stream",
     "text": [
      "{'commandHash': '2cdaeb6d48b5ccd8d6666cf725fa86eaa4cf7aacb172dcdb9082e466af42d94a'}\n"
     ]
    },
    {
     "name": "stderr",
     "output_type": "stream",
     "text": [
      "127.0.0.1 - - [03/May/2021 01:37:33] \"\u001b[37mPOST /command HTTP/1.1\u001b[0m\" 200 -\n"
     ]
    },
    {
     "name": "stdout",
     "output_type": "stream",
     "text": [
      "{'commandHash': '2cdaeb6d48b5ccd8d6666cf725fa86eaa4cf7aacb172dcdb9082e466af42d94a'}\n"
     ]
    },
    {
     "name": "stderr",
     "output_type": "stream",
     "text": [
      "127.0.0.1 - - [03/May/2021 01:39:30] \"\u001b[37mGET / HTTP/1.1\u001b[0m\" 200 -\n",
      "127.0.0.1 - - [03/May/2021 01:39:31] \"\u001b[37mPOST /command HTTP/1.1\u001b[0m\" 200 -\n"
     ]
    },
    {
     "name": "stdout",
     "output_type": "stream",
     "text": [
      "{'commandHash': '2cdaeb6d48b5ccd8d6666cf725fa86eaa4cf7aacb172dcdb9082e466af42d94a'}\n"
     ]
    },
    {
     "name": "stderr",
     "output_type": "stream",
     "text": [
      "127.0.0.1 - - [03/May/2021 01:41:05] \"\u001b[37mGET / HTTP/1.1\u001b[0m\" 200 -\n",
      "127.0.0.1 - - [03/May/2021 01:41:06] \"\u001b[37mPOST /command HTTP/1.1\u001b[0m\" 200 -\n"
     ]
    },
    {
     "name": "stdout",
     "output_type": "stream",
     "text": [
      "{'commandHash': '2cdaeb6d48b5ccd8d6666cf725fa86eaa4cf7aacb172dcdb9082e466af42d94a'}\n"
     ]
    },
    {
     "name": "stderr",
     "output_type": "stream",
     "text": [
      "127.0.0.1 - - [03/May/2021 01:41:44] \"\u001b[37mGET / HTTP/1.1\u001b[0m\" 200 -\n",
      "127.0.0.1 - - [03/May/2021 01:41:46] \"\u001b[37mPOST /command HTTP/1.1\u001b[0m\" 200 -\n"
     ]
    },
    {
     "name": "stdout",
     "output_type": "stream",
     "text": [
      "{'commandHash': '2cdaeb6d48b5ccd8d6666cf725fa86eaa4cf7aacb172dcdb9082e466af42d94a'}\n"
     ]
    },
    {
     "name": "stderr",
     "output_type": "stream",
     "text": [
      "127.0.0.1 - - [03/May/2021 01:43:28] \"\u001b[37mGET / HTTP/1.1\u001b[0m\" 200 -\n",
      "127.0.0.1 - - [03/May/2021 01:43:29] \"\u001b[37mPOST /command HTTP/1.1\u001b[0m\" 200 -\n"
     ]
    },
    {
     "name": "stdout",
     "output_type": "stream",
     "text": [
      "{'commandHash': '2cdaeb6d48b5ccd8d6666cf725fa86eaa4cf7aacb172dcdb9082e466af42d94a'}\n"
     ]
    },
    {
     "name": "stderr",
     "output_type": "stream",
     "text": [
      "127.0.0.1 - - [03/May/2021 01:44:13] \"\u001b[37mPOST /command HTTP/1.1\u001b[0m\" 200 -\n"
     ]
    },
    {
     "name": "stdout",
     "output_type": "stream",
     "text": [
      "{'commandHash': '2cdaeb6d48b5ccd8d6666cf725fa86eaa4cf7aacb172dcdb9082e466af42d94a'}\n"
     ]
    },
    {
     "name": "stderr",
     "output_type": "stream",
     "text": [
      "127.0.0.1 - - [03/May/2021 01:44:53] \"\u001b[37mPOST /command HTTP/1.1\u001b[0m\" 200 -\n"
     ]
    },
    {
     "name": "stdout",
     "output_type": "stream",
     "text": [
      "{'commandHash': '2cdaeb6d48b5ccd8d6666cf725fa86eaa4cf7aacb172dcdb9082e466af42d94a'}\n"
     ]
    },
    {
     "name": "stderr",
     "output_type": "stream",
     "text": [
      "127.0.0.1 - - [03/May/2021 01:53:38] \"\u001b[37mPOST /command HTTP/1.1\u001b[0m\" 200 -\n"
     ]
    },
    {
     "name": "stdout",
     "output_type": "stream",
     "text": [
      "{'commandHash': '2cdaeb6d48b5ccd8d6666cf725fa86eaa4cf7aacb172dcdb9082e466af42d94a'}\n"
     ]
    },
    {
     "name": "stderr",
     "output_type": "stream",
     "text": [
      "127.0.0.1 - - [03/May/2021 01:57:03] \"\u001b[37mPOST /command HTTP/1.1\u001b[0m\" 200 -\n"
     ]
    },
    {
     "name": "stdout",
     "output_type": "stream",
     "text": [
      "{'commandHash': '2cdaeb6d48b5ccd8d6666cf725fa86eaa4cf7aacb172dcdb9082e466af42d94a'}\n"
     ]
    },
    {
     "name": "stderr",
     "output_type": "stream",
     "text": [
      "127.0.0.1 - - [03/May/2021 01:57:06] \"\u001b[37mGET / HTTP/1.1\u001b[0m\" 200 -\n",
      "127.0.0.1 - - [03/May/2021 01:58:03] \"\u001b[37mGET / HTTP/1.1\u001b[0m\" 200 -\n",
      "127.0.0.1 - - [03/May/2021 01:58:04] \"\u001b[37mPOST /command HTTP/1.1\u001b[0m\" 200 -\n"
     ]
    },
    {
     "name": "stdout",
     "output_type": "stream",
     "text": [
      "{'commandHash': '2cdaeb6d48b5ccd8d6666cf725fa86eaa4cf7aacb172dcdb9082e466af42d94a'}\n"
     ]
    },
    {
     "name": "stderr",
     "output_type": "stream",
     "text": [
      "127.0.0.1 - - [03/May/2021 02:01:26] \"\u001b[37mGET / HTTP/1.1\u001b[0m\" 200 -\n",
      "127.0.0.1 - - [03/May/2021 02:01:27] \"\u001b[37mPOST /command HTTP/1.1\u001b[0m\" 200 -\n"
     ]
    },
    {
     "name": "stdout",
     "output_type": "stream",
     "text": [
      "{'commandHash': '2cdaeb6d48b5ccd8d6666cf725fa86eaa4cf7aacb172dcdb9082e466af42d94a'}\n"
     ]
    }
   ],
   "source": [
    "APP_PORT=49054\n",
    "APP_HOST='0.0.0.0'\n",
    "APP_ID=\"608f1351b59c6f34109189d9\"\n",
    "SECRET_KEY=\"a7ed6223a0e28d7ade13a6b9c7902e729d43ba4695f88e436be8d16a70796d57\"\n",
    "\n",
    "import datetime\n",
    "from bson.objectid import ObjectId\n",
    "import random\n",
    "import string\n",
    "import hmac\n",
    "import hashlib\n",
    "from hashlib import sha256\n",
    "from flask import Flask\n",
    "from flask import request,redirect\n",
    "from flask import Response\n",
    "from flask import render_template\n",
    "from os import listdir\n",
    "from os.path import isfile, join\n",
    "import os\n",
    "from pymongo import MongoClient\n",
    "import pymongo\n",
    "import os.path\n",
    "from base64 import b64encode\n",
    "from collections import OrderedDict\n",
    "from hashlib import sha256\n",
    "from hmac import HMAC\n",
    "from urllib.parse import urlparse, parse_qsl, urlencode\n",
    "import json\n",
    "\n",
    "\n",
    "app = Flask(__name__)\n",
    "app.config['TEMPLATES_AUTO_RELOAD'] = True\n",
    "\n",
    "@app.after_request\n",
    "def add_header(r):\n",
    "    r.headers[\"Cache-Control\"] = \"no-cache, no-store, must-revalidate\"\n",
    "    r.headers[\"Pragma\"] = \"no-cache\"\n",
    "    r.headers[\"Expires\"] = \"0\"\n",
    "    r.headers['Cache-Control'] = 'public, max-age=0'\n",
    "    return r\n",
    "\n",
    "@app.route('/',methods=[\"GET\"])\n",
    "def index():\n",
    "    return render_template(\"notepad.html\")\n",
    "\n",
    "@app.route('/command',methods=[\"POST\"])\n",
    "def command():\n",
    "    #print(request.json)\n",
    "    #od=OrderedDict(sorted(request.json.items(), key=lambda x: x[0]))\n",
    "    #od[\"args\"]=OrderedDict(sorted(od[\"args\"].items(), key=lambda x: x[0]))\n",
    "    print(request.json)\n",
    "    hash_code = b64encode(HMAC(SECRET_KEY.encode(), request.json[\"commandHash\"].encode(), sha256).digest())\n",
    "    return hash_code.decode('utf-8')\n",
    "\n",
    "app.run(host=APP_HOST, port=APP_PORT, threaded=True)"
   ]
  },
  {
   "cell_type": "code",
   "execution_count": 3,
   "metadata": {},
   "outputs": [
    {
     "data": {
      "text/plain": [
       "b'WEqgIodx4aVwjOalMDva3E2jSfqOXPeCKjZWz24hYsE='"
      ]
     },
     "execution_count": 3,
     "metadata": {},
     "output_type": "execute_result"
    }
   ],
   "source": [
    "SECRET_KEY=\"a7ed6223a0e28d7ade13a6b9c7902e729d43ba4695f88e436be8d16a70796d57\"\n",
    "hash_code = b64encode(HMAC(SECRET_KEY.encode(), \"lol\".encode(), sha256).digest())\n",
    "hash_code"
   ]
  },
  {
   "cell_type": "code",
   "execution_count": 4,
   "metadata": {},
   "outputs": [
    {
     "data": {
      "text/plain": [
       "b'Q5+vkB8kgfCHvahbFAIRDC0tOO3bVjpXlBWBItkhLyU='"
      ]
     },
     "execution_count": 4,
     "metadata": {},
     "output_type": "execute_result"
    }
   ],
   "source": [
    "SECRET_KEY=\"a7ed6223a0e28d7ade13a6b9c7902e729d43ba4695f88e436be8d16a70796d57\"\n",
    "hash_code = b64encode(HMAC(SECRET_KEY.encode(), urlencode({'commandHash': 'baabb9f7c711a9fa68a9f9899b5e27b96f29abab687b1f228cc1cb20a18f9560'}, doseq=True).encode(), sha256).digest())\n",
    "hash_code"
   ]
  }
 ],
 "metadata": {
  "kernelspec": {
   "display_name": "Python 3",
   "language": "python",
   "name": "python3"
  },
  "language_info": {
   "codemirror_mode": {
    "name": "ipython",
    "version": 3
   },
   "file_extension": ".py",
   "mimetype": "text/x-python",
   "name": "python",
   "nbconvert_exporter": "python",
   "pygments_lexer": "ipython3",
   "version": "3.7.6"
  }
 },
 "nbformat": 4,
 "nbformat_minor": 4
}
