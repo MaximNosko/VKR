{
 "cells": [
  {
   "cell_type": "code",
   "execution_count": null,
   "metadata": {},
   "outputs": [
    {
     "name": "stdout",
     "output_type": "stream",
     "text": [
      " * Serving Flask app \"__main__\" (lazy loading)\n",
      " * Environment: production\n",
      "   WARNING: This is a development server. Do not use it in a production deployment.\n",
      "   Use a production WSGI server instead.\n",
      " * Debug mode: off\n"
     ]
    },
    {
     "name": "stderr",
     "output_type": "stream",
     "text": [
      " * Running on http://0.0.0.0:49054/ (Press CTRL+C to quit)\n",
      "127.0.0.1 - - [03/May/2021 15:14:45] \"\u001b[37mGET / HTTP/1.1\u001b[0m\" 200 -\n",
      "127.0.0.1 - - [03/May/2021 15:14:45] \"\u001b[37mGET /appSRP.js HTTP/1.1\u001b[0m\" 200 -\n",
      "127.0.0.1 - - [03/May/2021 15:16:04] \"\u001b[37mGET / HTTP/1.1\u001b[0m\" 200 -\n",
      "127.0.0.1 - - [03/May/2021 15:16:04] \"\u001b[37mGET /appSRP.js HTTP/1.1\u001b[0m\" 200 -\n",
      "127.0.0.1 - - [03/May/2021 15:16:19] \"\u001b[37mGET / HTTP/1.1\u001b[0m\" 200 -\n",
      "127.0.0.1 - - [03/May/2021 15:16:19] \"\u001b[37mGET /appSRP.js HTTP/1.1\u001b[0m\" 200 -\n",
      "127.0.0.1 - - [03/May/2021 15:17:19] \"\u001b[37mGET / HTTP/1.1\u001b[0m\" 200 -\n",
      "127.0.0.1 - - [03/May/2021 15:17:19] \"\u001b[37mGET /appSRP.js HTTP/1.1\u001b[0m\" 200 -\n",
      "127.0.0.1 - - [03/May/2021 15:17:31] \"\u001b[37mGET / HTTP/1.1\u001b[0m\" 200 -\n",
      "127.0.0.1 - - [03/May/2021 15:17:31] \"\u001b[37mGET /appSRP.js HTTP/1.1\u001b[0m\" 200 -\n",
      "127.0.0.1 - - [03/May/2021 15:18:01] \"\u001b[37mGET / HTTP/1.1\u001b[0m\" 200 -\n",
      "127.0.0.1 - - [03/May/2021 15:18:01] \"\u001b[36mGET /appSRP.js HTTP/1.1\u001b[0m\" 304 -\n",
      "127.0.0.1 - - [03/May/2021 15:18:03] \"\u001b[37mPOST /command HTTP/1.1\u001b[0m\" 200 -\n"
     ]
    },
    {
     "name": "stdout",
     "output_type": "stream",
     "text": [
      "{'commandHash': '2cdaeb6d48b5ccd8d6666cf725fa86eaa4cf7aacb172dcdb9082e466af42d94a'}\n"
     ]
    },
    {
     "name": "stderr",
     "output_type": "stream",
     "text": [
      "127.0.0.1 - - [03/May/2021 15:18:16] \"\u001b[37mGET / HTTP/1.1\u001b[0m\" 200 -\n",
      "127.0.0.1 - - [03/May/2021 15:18:16] \"\u001b[37mGET /appSRP.js HTTP/1.1\u001b[0m\" 200 -\n",
      "127.0.0.1 - - [03/May/2021 15:18:18] \"\u001b[37mPOST /command HTTP/1.1\u001b[0m\" 200 -\n"
     ]
    },
    {
     "name": "stdout",
     "output_type": "stream",
     "text": [
      "{'commandHash': '2cdaeb6d48b5ccd8d6666cf725fa86eaa4cf7aacb172dcdb9082e466af42d94a'}\n"
     ]
    },
    {
     "name": "stderr",
     "output_type": "stream",
     "text": [
      "127.0.0.1 - - [03/May/2021 15:18:26] \"\u001b[37mPOST /command HTTP/1.1\u001b[0m\" 200 -\n"
     ]
    },
    {
     "name": "stdout",
     "output_type": "stream",
     "text": [
      "{'commandHash': '9cadb22661ac5567c4a45bed000b2c3cf2f106f031cc31f1d778cc0f776e28fd'}\n"
     ]
    },
    {
     "name": "stderr",
     "output_type": "stream",
     "text": [
      "127.0.0.1 - - [03/May/2021 15:18:29] \"\u001b[37mGET / HTTP/1.1\u001b[0m\" 200 -\n",
      "127.0.0.1 - - [03/May/2021 15:18:30] \"\u001b[36mGET /appSRP.js HTTP/1.1\u001b[0m\" 304 -\n",
      "127.0.0.1 - - [03/May/2021 15:18:32] \"\u001b[37mPOST /command HTTP/1.1\u001b[0m\" 200 -\n"
     ]
    },
    {
     "name": "stdout",
     "output_type": "stream",
     "text": [
      "{'commandHash': '2cdaeb6d48b5ccd8d6666cf725fa86eaa4cf7aacb172dcdb9082e466af42d94a'}\n"
     ]
    }
   ],
   "source": [
    "APP_PORT=49054\n",
    "APP_HOST='0.0.0.0'\n",
    "APP_ID=\"608f1351b59c6f34109189d9\"\n",
    "SECRET_KEY=\"a7ed6223a0e28d7ade13a6b9c7902e729d43ba4695f88e436be8d16a70796d57\"\n",
    "\n",
    "import datetime\n",
    "from bson.objectid import ObjectId\n",
    "import random\n",
    "import string\n",
    "import hmac\n",
    "import hashlib\n",
    "from hashlib import sha256\n",
    "from flask import Flask\n",
    "from flask import request,redirect\n",
    "from flask import Response,send_from_directory\n",
    "from flask import render_template\n",
    "from os import listdir\n",
    "from os.path import isfile, join\n",
    "import os\n",
    "from pymongo import MongoClient\n",
    "import pymongo\n",
    "import os.path\n",
    "from base64 import b64encode\n",
    "from collections import OrderedDict\n",
    "from hashlib import sha256\n",
    "from hmac import HMAC\n",
    "from urllib.parse import urlparse, parse_qsl, urlencode\n",
    "import json\n",
    "\n",
    "\n",
    "app = Flask(__name__)\n",
    "app.config['TEMPLATES_AUTO_RELOAD'] = True\n",
    "\n",
    "@app.after_request\n",
    "def add_header(r):\n",
    "    r.headers[\"Cache-Control\"] = \"no-cache, no-store, must-revalidate\"\n",
    "    r.headers[\"Pragma\"] = \"no-cache\"\n",
    "    r.headers[\"Expires\"] = \"0\"\n",
    "    r.headers['Cache-Control'] = 'public, max-age=0'\n",
    "    return r\n",
    "\n",
    "@app.route('/',methods=[\"GET\"])\n",
    "def index():\n",
    "    return render_template(\"notepad.html\")\n",
    "\n",
    "@app.route('/command',methods=[\"POST\"])\n",
    "def command():\n",
    "    #print(request.json)\n",
    "    #od=OrderedDict(sorted(request.json.items(), key=lambda x: x[0]))\n",
    "    #od[\"args\"]=OrderedDict(sorted(od[\"args\"].items(), key=lambda x: x[0]))\n",
    "    print(request.json)\n",
    "    hash_code = b64encode(HMAC(SECRET_KEY.encode(), request.json[\"commandHash\"].encode(), sha256).digest())\n",
    "    return hash_code.decode('utf-8')\n",
    "\n",
    "@app.route('/appSRP.js',methods=[\"GET\"])\n",
    "def script():\n",
    "    return send_from_directory('templates', 'appSRP.js')\n",
    "app.run(host=APP_HOST, port=APP_PORT, threaded=True)"
   ]
  },
  {
   "cell_type": "code",
   "execution_count": 3,
   "metadata": {},
   "outputs": [
    {
     "data": {
      "text/plain": [
       "b'WEqgIodx4aVwjOalMDva3E2jSfqOXPeCKjZWz24hYsE='"
      ]
     },
     "execution_count": 3,
     "metadata": {},
     "output_type": "execute_result"
    }
   ],
   "source": [
    "SECRET_KEY=\"a7ed6223a0e28d7ade13a6b9c7902e729d43ba4695f88e436be8d16a70796d57\"\n",
    "hash_code = b64encode(HMAC(SECRET_KEY.encode(), \"lol\".encode(), sha256).digest())\n",
    "hash_code"
   ]
  },
  {
   "cell_type": "code",
   "execution_count": 4,
   "metadata": {},
   "outputs": [
    {
     "data": {
      "text/plain": [
       "b'Q5+vkB8kgfCHvahbFAIRDC0tOO3bVjpXlBWBItkhLyU='"
      ]
     },
     "execution_count": 4,
     "metadata": {},
     "output_type": "execute_result"
    }
   ],
   "source": [
    "SECRET_KEY=\"a7ed6223a0e28d7ade13a6b9c7902e729d43ba4695f88e436be8d16a70796d57\"\n",
    "hash_code = b64encode(HMAC(SECRET_KEY.encode(), urlencode({'commandHash': 'baabb9f7c711a9fa68a9f9899b5e27b96f29abab687b1f228cc1cb20a18f9560'}, doseq=True).encode(), sha256).digest())\n",
    "hash_code"
   ]
  }
 ],
 "metadata": {
  "kernelspec": {
   "display_name": "Python 3",
   "language": "python",
   "name": "python3"
  },
  "language_info": {
   "codemirror_mode": {
    "name": "ipython",
    "version": 3
   },
   "file_extension": ".py",
   "mimetype": "text/x-python",
   "name": "python",
   "nbconvert_exporter": "python",
   "pygments_lexer": "ipython3",
   "version": "3.7.6"
  }
 },
 "nbformat": 4,
 "nbformat_minor": 4
}
