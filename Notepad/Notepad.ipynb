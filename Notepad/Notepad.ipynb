{
 "cells": [
  {
   "cell_type": "code",
   "execution_count": null,
   "metadata": {},
   "outputs": [
    {
     "name": "stdout",
     "output_type": "stream",
     "text": [
      " * Serving Flask app \"__main__\" (lazy loading)\n",
      " * Environment: production\n",
      "   WARNING: This is a development server. Do not use it in a production deployment.\n",
      "   Use a production WSGI server instead.\n",
      " * Debug mode: off\n"
     ]
    },
    {
     "name": "stderr",
     "output_type": "stream",
     "text": [
      " * Running on http://0.0.0.0:49054/ (Press CTRL+C to quit)\n",
      "127.0.0.1 - - [03/May/2021 15:28:20] \"\u001b[37mGET / HTTP/1.1\u001b[0m\" 200 -\n",
      "127.0.0.1 - - [03/May/2021 15:28:20] \"\u001b[36mGET /appSRP.js HTTP/1.1\u001b[0m\" 304 -\n",
      "127.0.0.1 - - [03/May/2021 15:28:21] \"\u001b[37mPOST /command HTTP/1.1\u001b[0m\" 200 -\n"
     ]
    },
    {
     "name": "stdout",
     "output_type": "stream",
     "text": [
      "{'commandHash': '2cdaeb6d48b5ccd8d6666cf725fa86eaa4cf7aacb172dcdb9082e466af42d94a'}\n"
     ]
    }
   ],
   "source": [
    "APP_PORT=49054\n",
    "APP_HOST='0.0.0.0'\n",
    "APP_ID=\"608f1351b59c6f34109189d9\"\n",
    "SECRET_KEY=\"a7ed6223a0e28d7ade13a6b9c7902e729d43ba4695f88e436be8d16a70796d57\"\n",
    "\n",
    "import datetime\n",
    "from bson.objectid import ObjectId\n",
    "import random\n",
    "import string\n",
    "import hmac\n",
    "import hashlib\n",
    "from hashlib import sha256\n",
    "from flask import Flask\n",
    "from flask import request,redirect\n",
    "from flask import Response,send_from_directory\n",
    "from flask import render_template\n",
    "from os import listdir\n",
    "from os.path import isfile, join\n",
    "import os\n",
    "from pymongo import MongoClient\n",
    "import pymongo\n",
    "import os.path\n",
    "from base64 import b64encode\n",
    "from collections import OrderedDict\n",
    "from hashlib import sha256\n",
    "from hmac import HMAC\n",
    "from urllib.parse import urlparse, parse_qsl, urlencode\n",
    "import json\n",
    "from appServerSRP import signSRP\n",
    "\n",
    "\n",
    "app = Flask(__name__)\n",
    "app.config['TEMPLATES_AUTO_RELOAD'] = True\n",
    "\n",
    "@app.after_request\n",
    "def add_header(r):\n",
    "    r.headers[\"Cache-Control\"] = \"no-cache, no-store, must-revalidate\"\n",
    "    r.headers[\"Pragma\"] = \"no-cache\"\n",
    "    r.headers[\"Expires\"] = \"0\"\n",
    "    r.headers['Cache-Control'] = 'public, max-age=0'\n",
    "    return r\n",
    "\n",
    "@app.route('/',methods=[\"GET\"])\n",
    "def index():\n",
    "    return render_template(\"notepad.html\")\n",
    "\n",
    "@app.route('/command',methods=[\"POST\"])\n",
    "def command():\n",
    "    print(request.json)\n",
    "    sign = signSRP(SECRET_KEY,request.json[\"commandHash\"])\n",
    "    return sign\n",
    "\n",
    "@app.route('/appSRP.js',methods=[\"GET\"])\n",
    "def script():\n",
    "    return send_from_directory('templates', 'appSRP.js')\n",
    "app.run(host=APP_HOST, port=APP_PORT, threaded=True)"
   ]
  }
 ],
 "metadata": {
  "kernelspec": {
   "display_name": "Python 3",
   "language": "python",
   "name": "python3"
  },
  "language_info": {
   "codemirror_mode": {
    "name": "ipython",
    "version": 3
   },
   "file_extension": ".py",
   "mimetype": "text/x-python",
   "name": "python",
   "nbconvert_exporter": "python",
   "pygments_lexer": "ipython3",
   "version": "3.7.6"
  }
 },
 "nbformat": 4,
 "nbformat_minor": 4
}
