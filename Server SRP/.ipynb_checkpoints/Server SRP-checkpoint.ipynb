{
 "cells": [
  {
   "cell_type": "code",
   "execution_count": 3,
   "metadata": {},
   "outputs": [
    {
     "name": "stdout",
     "output_type": "stream",
     "text": [
      " * Serving Flask app \"__main__\" (lazy loading)\n",
      " * Environment: production\n",
      "   WARNING: This is a development server. Do not use it in a production deployment.\n",
      "   Use a production WSGI server instead.\n",
      " * Debug mode: off\n"
     ]
    },
    {
     "name": "stderr",
     "output_type": "stream",
     "text": [
      " * Running on http://0.0.0.0:49052/ (Press CTRL+C to quit)\n"
     ]
    }
   ],
   "source": [
    "SERVER_PORT=49052#порт сервера\n",
    "SERVER_HOST='0.0.0.0'#хост сервера\n",
    "DATABASE_PORT=27017#порт Базы данных СРП\n",
    "\n",
    "import datetime\n",
    "from bson.objectid import ObjectId\n",
    "import random\n",
    "import string\n",
    "import hmac\n",
    "import hashlib\n",
    "from hashlib import sha256\n",
    "from flask import Flask\n",
    "from flask import request,redirect\n",
    "from flask import Response\n",
    "from flask import render_template\n",
    "from os import listdir\n",
    "from os.path import isfile, join\n",
    "import os\n",
    "from pymongo import MongoClient\n",
    "import pymongo\n",
    "import os.path\n",
    "from base64 import b64encode\n",
    "from collections import OrderedDict\n",
    "from hashlib import sha256\n",
    "from hmac import HMAC\n",
    "from urllib.parse import urlparse, parse_qsl, urlencode\n",
    "import json\n",
    "\n",
    "app = Flask(__name__)#создание объекта сервера\n",
    "app.config['TEMPLATES_AUTO_RELOAD'] = True\n",
    "\n",
    "@app.after_request#запрет кеширования\n",
    "def add_header(r):\n",
    "    r.headers[\"Cache-Control\"] = \"no-cache, no-store, must-revalidate\"\n",
    "    r.headers[\"Pragma\"] = \"no-cache\"\n",
    "    r.headers[\"Expires\"] = \"0\"\n",
    "    r.headers['Cache-Control'] = 'public, max-age=0'\n",
    "    return r\n",
    "\n",
    "@app.route('/',methods=[\"POST\"])#проверка команды\n",
    "def command():\n",
    "    t=request.json#данные от Клиента СРП\n",
    "    client = MongoClient(port=DATABASE_PORT)\n",
    "    db=client.srp\n",
    "    appID=t[\"appID\"]\n",
    "    appObject=db.apps.find_one({\"_id\":ObjectId(request.json[\"appID\"])})#поиск объекта приложения\n",
    "    tSign=b64encode(HMAC(appObject[\"secretKey\"].encode(), request.json[\"commandHash\"].encode(), sha256).digest())#вычисление подписи\n",
    "    if request.json[\"appURL\"]!=appObject[\"appSite\"]:#проверка соответствия адреса приложения заявленному\n",
    "        return \"False\"#если приложение было запущено по другому адресу, команда не будет выполнена\n",
    "    if tSign.decode(\"utf-8\")==request.json[\"serverSign\"]:#проверка правильности подписи\n",
    "        allowedCommands=list()#лист с доступными для приложения командами\n",
    "        for i in [\"list\",\"read\",\"write\",\"delete\",\"mkdir\",\"rename\"]:\n",
    "            if appObject[i]==\"on\":#команда доступна, если ей соответствует значение on\n",
    "                allowedCommands.append(i)\n",
    "        return str(request.json[\"type\"] in allowedCommands)#проверка наличия команды в списке разрешённых\n",
    "    else:\n",
    "        return \"False\"#если подпись не совпала, решение отрицательное\n",
    "\n",
    "app.run(host=SERVER_HOST, port=SERVER_PORT, threaded=True)#запуск сервера"
   ]
  }
 ],
 "metadata": {
  "kernelspec": {
   "display_name": "Python 3",
   "language": "python",
   "name": "python3"
  },
  "language_info": {
   "codemirror_mode": {
    "name": "ipython",
    "version": 3
   },
   "file_extension": ".py",
   "mimetype": "text/x-python",
   "name": "python",
   "nbconvert_exporter": "python",
   "pygments_lexer": "ipython3",
   "version": "3.7.6"
  }
 },
 "nbformat": 4,
 "nbformat_minor": 4
}
