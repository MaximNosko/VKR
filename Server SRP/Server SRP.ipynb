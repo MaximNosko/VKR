{
 "cells": [
  {
   "cell_type": "code",
   "execution_count": null,
   "metadata": {},
   "outputs": [
    {
     "name": "stdout",
     "output_type": "stream",
     "text": [
      " * Serving Flask app \"__main__\" (lazy loading)\n",
      " * Environment: production\n",
      "   WARNING: This is a development server. Do not use it in a production deployment.\n",
      "   Use a production WSGI server instead.\n",
      " * Debug mode: off\n"
     ]
    },
    {
     "name": "stderr",
     "output_type": "stream",
     "text": [
      " * Running on http://0.0.0.0:49052/ (Press CTRL+C to quit)\n",
      "127.0.0.1 - - [03/May/2021 19:09:18] \"\u001b[37mPOST / HTTP/1.1\u001b[0m\" 200 -\n"
     ]
    },
    {
     "name": "stdout",
     "output_type": "stream",
     "text": [
      "{'appID': '608ff071856012aac7511084', 'type': 'list', 'commandHash': '72c1e897804dd57da5919e08dba3bf7fa7c07574f209bed56f7300fbcc4f7fdf', 'serverSign': 'apoa3p7/q12b23zyds4YxF3yJp2cXR7vcwzTI4ubX2Q=', 'appURL': 'http://localhost:49055/'}\n",
      "b'apoa3p7/q12b23zyds4YxF3yJp2cXR7vcwzTI4ubX2Q='\n",
      "['list', 'delete', 'mkdir', 'rename']\n"
     ]
    },
    {
     "name": "stderr",
     "output_type": "stream",
     "text": [
      "127.0.0.1 - - [03/May/2021 19:09:31] \"\u001b[37mPOST / HTTP/1.1\u001b[0m\" 200 -\n"
     ]
    },
    {
     "name": "stdout",
     "output_type": "stream",
     "text": [
      "{'appID': '608ff071856012aac7511084', 'type': 'rename', 'commandHash': '718d103a98bd77fee7b27dbd76a22fad45872c1a67b369c8f6bda310d30a313d', 'serverSign': 'jt3i5gyxne8NG7OZe7L+DlI4qa3GJWiQu0RhzRXV2dY=', 'appURL': 'http://localhost:49055/'}\n",
      "b'jt3i5gyxne8NG7OZe7L+DlI4qa3GJWiQu0RhzRXV2dY='\n",
      "['list', 'delete', 'mkdir', 'rename']\n"
     ]
    },
    {
     "name": "stderr",
     "output_type": "stream",
     "text": [
      "127.0.0.1 - - [03/May/2021 19:09:33] \"\u001b[37mPOST / HTTP/1.1\u001b[0m\" 200 -\n"
     ]
    },
    {
     "name": "stdout",
     "output_type": "stream",
     "text": [
      "{'appID': '608ff071856012aac7511084', 'type': 'list', 'commandHash': '72c1e897804dd57da5919e08dba3bf7fa7c07574f209bed56f7300fbcc4f7fdf', 'serverSign': 'apoa3p7/q12b23zyds4YxF3yJp2cXR7vcwzTI4ubX2Q=', 'appURL': 'http://localhost:49055/'}\n",
      "b'apoa3p7/q12b23zyds4YxF3yJp2cXR7vcwzTI4ubX2Q='\n",
      "['list', 'delete', 'mkdir', 'rename']\n"
     ]
    },
    {
     "name": "stderr",
     "output_type": "stream",
     "text": [
      "127.0.0.1 - - [03/May/2021 19:12:37] \"\u001b[37mPOST / HTTP/1.1\u001b[0m\" 200 -\n"
     ]
    },
    {
     "name": "stdout",
     "output_type": "stream",
     "text": [
      "{'appID': '608ff071856012aac7511084', 'type': 'list', 'commandHash': '72c1e897804dd57da5919e08dba3bf7fa7c07574f209bed56f7300fbcc4f7fdf', 'serverSign': 'apoa3p7/q12b23zyds4YxF3yJp2cXR7vcwzTI4ubX2Q=', 'appURL': 'http://localhost:49055/'}\n",
      "b'apoa3p7/q12b23zyds4YxF3yJp2cXR7vcwzTI4ubX2Q='\n",
      "['list', 'delete', 'mkdir', 'rename']\n"
     ]
    },
    {
     "name": "stderr",
     "output_type": "stream",
     "text": [
      "127.0.0.1 - - [03/May/2021 19:12:45] \"\u001b[37mPOST / HTTP/1.1\u001b[0m\" 200 -\n"
     ]
    },
    {
     "name": "stdout",
     "output_type": "stream",
     "text": [
      "{'appID': '608ff071856012aac7511084', 'type': 'rename', 'commandHash': 'bea1965a295a98fceb8dd08660bb161d64c06e3387de9e306e92ed677444054e', 'serverSign': '5pTLCTF/R02pDbJcZ8G+vHhrOuAljfBn4lWrnEVMofc=', 'appURL': 'http://localhost:49055/'}\n",
      "b'5pTLCTF/R02pDbJcZ8G+vHhrOuAljfBn4lWrnEVMofc='\n",
      "['list', 'delete', 'mkdir', 'rename']\n"
     ]
    },
    {
     "name": "stderr",
     "output_type": "stream",
     "text": [
      "127.0.0.1 - - [03/May/2021 19:12:47] \"\u001b[37mPOST / HTTP/1.1\u001b[0m\" 200 -\n"
     ]
    },
    {
     "name": "stdout",
     "output_type": "stream",
     "text": [
      "{'appID': '608ff071856012aac7511084', 'type': 'list', 'commandHash': '72c1e897804dd57da5919e08dba3bf7fa7c07574f209bed56f7300fbcc4f7fdf', 'serverSign': 'apoa3p7/q12b23zyds4YxF3yJp2cXR7vcwzTI4ubX2Q=', 'appURL': 'http://localhost:49055/'}\n",
      "b'apoa3p7/q12b23zyds4YxF3yJp2cXR7vcwzTI4ubX2Q='\n",
      "['list', 'delete', 'mkdir', 'rename']\n"
     ]
    },
    {
     "name": "stderr",
     "output_type": "stream",
     "text": [
      "127.0.0.1 - - [03/May/2021 19:12:59] \"\u001b[37mPOST / HTTP/1.1\u001b[0m\" 200 -\n"
     ]
    },
    {
     "name": "stdout",
     "output_type": "stream",
     "text": [
      "{'appID': '608ff071856012aac7511084', 'type': 'rename', 'commandHash': 'af1808237a2c9e771366f4baed6722231f6924be21d27a06f47f8fb6e39c6fa6', 'serverSign': 'w1jEzlGrx1VzLqjHKKhH02QE2DrJjJT+pwiOWeZ7JJ0=', 'appURL': 'http://localhost:49055/'}\n",
      "b'xnolRkpUGepgs5D0zgZC28kVogbcTsEFjZ5uuYON3Yo='\n"
     ]
    },
    {
     "name": "stderr",
     "output_type": "stream",
     "text": [
      "127.0.0.1 - - [03/May/2021 19:14:20] \"\u001b[37mPOST / HTTP/1.1\u001b[0m\" 200 -\n"
     ]
    },
    {
     "name": "stdout",
     "output_type": "stream",
     "text": [
      "{'appID': '608ff071856012aac7511084', 'type': 'list', 'commandHash': '29910167592ad6d15521f797af82bf57e42d9b9c50159f22926ec46ad37e4608', 'serverSign': 'BHTStQJba7f1ML+aIuVOn1gFXAq2RKiZ0AHMrD571xQ=', 'appURL': 'http://localhost:49055/'}\n",
      "b'BHTStQJba7f1ML+aIuVOn1gFXAq2RKiZ0AHMrD571xQ='\n",
      "['list', 'delete', 'mkdir', 'rename']\n"
     ]
    },
    {
     "name": "stderr",
     "output_type": "stream",
     "text": [
      "127.0.0.1 - - [03/May/2021 19:14:25] \"\u001b[37mPOST / HTTP/1.1\u001b[0m\" 200 -\n"
     ]
    },
    {
     "name": "stdout",
     "output_type": "stream",
     "text": [
      "{'appID': '608ff071856012aac7511084', 'type': 'list', 'commandHash': '72c1e897804dd57da5919e08dba3bf7fa7c07574f209bed56f7300fbcc4f7fdf', 'serverSign': 'apoa3p7/q12b23zyds4YxF3yJp2cXR7vcwzTI4ubX2Q=', 'appURL': 'http://localhost:49055/'}\n",
      "b'apoa3p7/q12b23zyds4YxF3yJp2cXR7vcwzTI4ubX2Q='\n",
      "['list', 'delete', 'mkdir', 'rename']\n"
     ]
    },
    {
     "name": "stderr",
     "output_type": "stream",
     "text": [
      "127.0.0.1 - - [03/May/2021 19:14:35] \"\u001b[37mPOST / HTTP/1.1\u001b[0m\" 200 -\n"
     ]
    },
    {
     "name": "stdout",
     "output_type": "stream",
     "text": [
      "{'appID': '608ff071856012aac7511084', 'type': 'rename', 'commandHash': '5bdfb479101d9a0d59956fbd89cb8801704aaf1899e6013e630e4e291f7ef6db', 'serverSign': 'gKZJsxu56+gbgKHuG9eu34wW5ocfiqbDatqwWW4V/Ww=', 'appURL': 'http://localhost:49055/'}\n",
      "b'gKZJsxu56+gbgKHuG9eu34wW5ocfiqbDatqwWW4V/Ww='\n",
      "['list', 'delete', 'mkdir', 'rename']\n"
     ]
    },
    {
     "name": "stderr",
     "output_type": "stream",
     "text": [
      "127.0.0.1 - - [03/May/2021 19:14:38] \"\u001b[37mPOST / HTTP/1.1\u001b[0m\" 200 -\n"
     ]
    },
    {
     "name": "stdout",
     "output_type": "stream",
     "text": [
      "{'appID': '608ff071856012aac7511084', 'type': 'list', 'commandHash': '72c1e897804dd57da5919e08dba3bf7fa7c07574f209bed56f7300fbcc4f7fdf', 'serverSign': 'apoa3p7/q12b23zyds4YxF3yJp2cXR7vcwzTI4ubX2Q=', 'appURL': 'http://localhost:49055/'}\n",
      "b'apoa3p7/q12b23zyds4YxF3yJp2cXR7vcwzTI4ubX2Q='\n",
      "['list', 'delete', 'mkdir', 'rename']\n"
     ]
    },
    {
     "name": "stderr",
     "output_type": "stream",
     "text": [
      "127.0.0.1 - - [03/May/2021 19:14:50] \"\u001b[37mPOST / HTTP/1.1\u001b[0m\" 200 -\n"
     ]
    },
    {
     "name": "stdout",
     "output_type": "stream",
     "text": [
      "{'appID': '608ff071856012aac7511084', 'type': 'delete', 'commandHash': 'd0194408b666536fcf133d42dcf6bcd4dc3352af7dc909b49ea974bb2ca211d6', 'serverSign': 'QE+WeWOieSSOlJWTe87DOs2Jz5e4OPzEL+6K1ylV1JI=', 'appURL': 'http://localhost:49055/'}\n",
      "b'QE+WeWOieSSOlJWTe87DOs2Jz5e4OPzEL+6K1ylV1JI='\n",
      "['list', 'delete', 'mkdir', 'rename']\n"
     ]
    },
    {
     "name": "stderr",
     "output_type": "stream",
     "text": [
      "127.0.0.1 - - [03/May/2021 19:14:52] \"\u001b[37mPOST / HTTP/1.1\u001b[0m\" 200 -\n"
     ]
    },
    {
     "name": "stdout",
     "output_type": "stream",
     "text": [
      "{'appID': '608ff071856012aac7511084', 'type': 'list', 'commandHash': '72c1e897804dd57da5919e08dba3bf7fa7c07574f209bed56f7300fbcc4f7fdf', 'serverSign': 'apoa3p7/q12b23zyds4YxF3yJp2cXR7vcwzTI4ubX2Q=', 'appURL': 'http://localhost:49055/'}\n",
      "b'apoa3p7/q12b23zyds4YxF3yJp2cXR7vcwzTI4ubX2Q='\n",
      "['list', 'delete', 'mkdir', 'rename']\n"
     ]
    },
    {
     "name": "stderr",
     "output_type": "stream",
     "text": [
      "127.0.0.1 - - [03/May/2021 19:14:59] \"\u001b[37mPOST / HTTP/1.1\u001b[0m\" 200 -\n"
     ]
    },
    {
     "name": "stdout",
     "output_type": "stream",
     "text": [
      "{'appID': '608ff071856012aac7511084', 'type': 'list', 'commandHash': '8d8648352465e137e5642b3e44db92590965d285163f07fd437e907a05b52966', 'serverSign': 'JXlyZL7DV2QEYJdCMHSyUS0bnc+o6fgyjGwPyAChWwg=', 'appURL': 'http://localhost:49055/'}\n",
      "b'JXlyZL7DV2QEYJdCMHSyUS0bnc+o6fgyjGwPyAChWwg='\n",
      "['list', 'delete', 'mkdir', 'rename']\n"
     ]
    },
    {
     "name": "stderr",
     "output_type": "stream",
     "text": [
      "127.0.0.1 - - [03/May/2021 19:15:03] \"\u001b[37mPOST / HTTP/1.1\u001b[0m\" 200 -\n"
     ]
    },
    {
     "name": "stdout",
     "output_type": "stream",
     "text": [
      "{'appID': '608ff071856012aac7511084', 'type': 'list', 'commandHash': '72c1e897804dd57da5919e08dba3bf7fa7c07574f209bed56f7300fbcc4f7fdf', 'serverSign': 'apoa3p7/q12b23zyds4YxF3yJp2cXR7vcwzTI4ubX2Q=', 'appURL': 'http://localhost:49055/'}\n",
      "b'apoa3p7/q12b23zyds4YxF3yJp2cXR7vcwzTI4ubX2Q='\n",
      "['list', 'delete', 'mkdir', 'rename']\n"
     ]
    },
    {
     "name": "stderr",
     "output_type": "stream",
     "text": [
      "127.0.0.1 - - [03/May/2021 19:15:10] \"\u001b[37mPOST / HTTP/1.1\u001b[0m\" 200 -\n"
     ]
    },
    {
     "name": "stdout",
     "output_type": "stream",
     "text": [
      "{'appID': '608ff071856012aac7511084', 'type': 'rename', 'commandHash': '294fdadcfe05273e8bee6fb629c3c92d8d8aba53cac49a1f8b421100a717f189', 'serverSign': 'rdyX2boeht3XgGWowlMrWtckzk3nRs8yh/xs/RyRbfk=', 'appURL': 'http://localhost:49055/'}\n",
      "b'rdyX2boeht3XgGWowlMrWtckzk3nRs8yh/xs/RyRbfk='\n",
      "['list', 'delete', 'mkdir', 'rename']\n"
     ]
    },
    {
     "name": "stderr",
     "output_type": "stream",
     "text": [
      "127.0.0.1 - - [03/May/2021 19:15:12] \"\u001b[37mPOST / HTTP/1.1\u001b[0m\" 200 -\n"
     ]
    },
    {
     "name": "stdout",
     "output_type": "stream",
     "text": [
      "{'appID': '608ff071856012aac7511084', 'type': 'list', 'commandHash': '72c1e897804dd57da5919e08dba3bf7fa7c07574f209bed56f7300fbcc4f7fdf', 'serverSign': 'apoa3p7/q12b23zyds4YxF3yJp2cXR7vcwzTI4ubX2Q=', 'appURL': 'http://localhost:49055/'}\n",
      "b'apoa3p7/q12b23zyds4YxF3yJp2cXR7vcwzTI4ubX2Q='\n",
      "['list', 'delete', 'mkdir', 'rename']\n"
     ]
    },
    {
     "name": "stderr",
     "output_type": "stream",
     "text": [
      "127.0.0.1 - - [03/May/2021 19:15:19] \"\u001b[37mPOST / HTTP/1.1\u001b[0m\" 200 -\n"
     ]
    },
    {
     "name": "stdout",
     "output_type": "stream",
     "text": [
      "{'appID': '608ff071856012aac7511084', 'type': 'delete', 'commandHash': '0c4bb858e38e1093118c537454daf98594eafdfc9d024c6e4833666680841ac9', 'serverSign': '+AccLt9/FlPEEqSziRmX/82QbrRug+gbUG0jzfaUT3A=', 'appURL': 'http://localhost:49055/'}\n",
      "b'+AccLt9/FlPEEqSziRmX/82QbrRug+gbUG0jzfaUT3A='\n",
      "['list', 'delete', 'mkdir', 'rename']\n"
     ]
    },
    {
     "name": "stderr",
     "output_type": "stream",
     "text": [
      "127.0.0.1 - - [03/May/2021 19:15:22] \"\u001b[37mPOST / HTTP/1.1\u001b[0m\" 200 -\n"
     ]
    },
    {
     "name": "stdout",
     "output_type": "stream",
     "text": [
      "{'appID': '608ff071856012aac7511084', 'type': 'list', 'commandHash': '72c1e897804dd57da5919e08dba3bf7fa7c07574f209bed56f7300fbcc4f7fdf', 'serverSign': 'apoa3p7/q12b23zyds4YxF3yJp2cXR7vcwzTI4ubX2Q=', 'appURL': 'http://localhost:49055/'}\n",
      "b'apoa3p7/q12b23zyds4YxF3yJp2cXR7vcwzTI4ubX2Q='\n",
      "['list', 'delete', 'mkdir', 'rename']\n"
     ]
    },
    {
     "name": "stderr",
     "output_type": "stream",
     "text": [
      "127.0.0.1 - - [03/May/2021 19:15:29] \"\u001b[37mPOST / HTTP/1.1\u001b[0m\" 200 -\n"
     ]
    },
    {
     "name": "stdout",
     "output_type": "stream",
     "text": [
      "{'appID': '608ff071856012aac7511084', 'type': 'delete', 'commandHash': '84c4df5fb0d7035ffc3a18b412808f265409ca2a91711deaba439ef77c1d3d9d', 'serverSign': '02seK6X/bFTVMxggAqLhaSi1BmEK3Vm/t/goOi1Vd8A=', 'appURL': 'http://localhost:49055/'}\n",
      "b'02seK6X/bFTVMxggAqLhaSi1BmEK3Vm/t/goOi1Vd8A='\n",
      "['list', 'delete', 'mkdir', 'rename']\n"
     ]
    },
    {
     "name": "stderr",
     "output_type": "stream",
     "text": [
      "127.0.0.1 - - [03/May/2021 19:15:32] \"\u001b[37mPOST / HTTP/1.1\u001b[0m\" 200 -\n"
     ]
    },
    {
     "name": "stdout",
     "output_type": "stream",
     "text": [
      "{'appID': '608ff071856012aac7511084', 'type': 'list', 'commandHash': '72c1e897804dd57da5919e08dba3bf7fa7c07574f209bed56f7300fbcc4f7fdf', 'serverSign': 'apoa3p7/q12b23zyds4YxF3yJp2cXR7vcwzTI4ubX2Q=', 'appURL': 'http://localhost:49055/'}\n",
      "b'apoa3p7/q12b23zyds4YxF3yJp2cXR7vcwzTI4ubX2Q='\n",
      "['list', 'delete', 'mkdir', 'rename']\n"
     ]
    },
    {
     "name": "stderr",
     "output_type": "stream",
     "text": [
      "127.0.0.1 - - [03/May/2021 19:15:36] \"\u001b[37mPOST / HTTP/1.1\u001b[0m\" 200 -\n"
     ]
    },
    {
     "name": "stdout",
     "output_type": "stream",
     "text": [
      "{'appID': '608ff071856012aac7511084', 'type': 'delete', 'commandHash': '6c65fe0305ce249146e0ee1026a1939a0544675faafd42e719f93b645ea182dd', 'serverSign': 'cYsWwKdKbyoSORWFS0aM0CsnIzraxMIyCcmHCU+1X68=', 'appURL': 'http://localhost:49055/'}\n",
      "b'cYsWwKdKbyoSORWFS0aM0CsnIzraxMIyCcmHCU+1X68='\n",
      "['list', 'delete', 'mkdir', 'rename']\n"
     ]
    },
    {
     "name": "stderr",
     "output_type": "stream",
     "text": [
      "127.0.0.1 - - [03/May/2021 19:15:38] \"\u001b[37mPOST / HTTP/1.1\u001b[0m\" 200 -\n"
     ]
    },
    {
     "name": "stdout",
     "output_type": "stream",
     "text": [
      "{'appID': '608ff071856012aac7511084', 'type': 'list', 'commandHash': '72c1e897804dd57da5919e08dba3bf7fa7c07574f209bed56f7300fbcc4f7fdf', 'serverSign': 'apoa3p7/q12b23zyds4YxF3yJp2cXR7vcwzTI4ubX2Q=', 'appURL': 'http://localhost:49055/'}\n",
      "b'apoa3p7/q12b23zyds4YxF3yJp2cXR7vcwzTI4ubX2Q='\n",
      "['list', 'delete', 'mkdir', 'rename']\n"
     ]
    },
    {
     "name": "stderr",
     "output_type": "stream",
     "text": [
      "127.0.0.1 - - [03/May/2021 19:15:43] \"\u001b[37mPOST / HTTP/1.1\u001b[0m\" 200 -\n"
     ]
    },
    {
     "name": "stdout",
     "output_type": "stream",
     "text": [
      "{'appID': '608ff071856012aac7511084', 'type': 'delete', 'commandHash': 'b248f103518f2c4561aaf329e7932ac3b8255eb9f616a1dc3498b284265efed4', 'serverSign': '+/1r22qk7Ux13B8QN9m9hVc7mr9hRFGfzijY2fIaDCw=', 'appURL': 'http://localhost:49055/'}\n",
      "b'+/1r22qk7Ux13B8QN9m9hVc7mr9hRFGfzijY2fIaDCw='\n",
      "['list', 'delete', 'mkdir', 'rename']\n"
     ]
    },
    {
     "name": "stderr",
     "output_type": "stream",
     "text": [
      "127.0.0.1 - - [03/May/2021 19:15:45] \"\u001b[37mPOST / HTTP/1.1\u001b[0m\" 200 -\n"
     ]
    },
    {
     "name": "stdout",
     "output_type": "stream",
     "text": [
      "{'appID': '608ff071856012aac7511084', 'type': 'list', 'commandHash': '72c1e897804dd57da5919e08dba3bf7fa7c07574f209bed56f7300fbcc4f7fdf', 'serverSign': 'apoa3p7/q12b23zyds4YxF3yJp2cXR7vcwzTI4ubX2Q=', 'appURL': 'http://localhost:49055/'}\n",
      "b'apoa3p7/q12b23zyds4YxF3yJp2cXR7vcwzTI4ubX2Q='\n",
      "['list', 'delete', 'mkdir', 'rename']\n"
     ]
    },
    {
     "name": "stderr",
     "output_type": "stream",
     "text": [
      "127.0.0.1 - - [03/May/2021 19:15:50] \"\u001b[37mPOST / HTTP/1.1\u001b[0m\" 200 -\n"
     ]
    },
    {
     "name": "stdout",
     "output_type": "stream",
     "text": [
      "{'appID': '608ff071856012aac7511084', 'type': 'delete', 'commandHash': '42974d740db5b12d880bff3120a87e5c1b0a08dc51af225ca8adc162af8b3532', 'serverSign': 'KvB8+Qgl66FjLPZPlbrZi6HwPkdyBgtMWx7PnfHmG7Q=', 'appURL': 'http://localhost:49055/'}\n",
      "b'KvB8+Qgl66FjLPZPlbrZi6HwPkdyBgtMWx7PnfHmG7Q='\n",
      "['list', 'delete', 'mkdir', 'rename']\n"
     ]
    },
    {
     "name": "stderr",
     "output_type": "stream",
     "text": [
      "127.0.0.1 - - [03/May/2021 19:15:52] \"\u001b[37mPOST / HTTP/1.1\u001b[0m\" 200 -\n"
     ]
    },
    {
     "name": "stdout",
     "output_type": "stream",
     "text": [
      "{'appID': '608ff071856012aac7511084', 'type': 'list', 'commandHash': '72c1e897804dd57da5919e08dba3bf7fa7c07574f209bed56f7300fbcc4f7fdf', 'serverSign': 'apoa3p7/q12b23zyds4YxF3yJp2cXR7vcwzTI4ubX2Q=', 'appURL': 'http://localhost:49055/'}\n",
      "b'apoa3p7/q12b23zyds4YxF3yJp2cXR7vcwzTI4ubX2Q='\n",
      "['list', 'delete', 'mkdir', 'rename']\n"
     ]
    },
    {
     "name": "stderr",
     "output_type": "stream",
     "text": [
      "127.0.0.1 - - [03/May/2021 19:15:59] \"\u001b[37mPOST / HTTP/1.1\u001b[0m\" 200 -\n"
     ]
    },
    {
     "name": "stdout",
     "output_type": "stream",
     "text": [
      "{'appID': '608ff071856012aac7511084', 'type': 'delete', 'commandHash': '6e97e63bdf1e1eafdc3b73d47140cca398a9daed7cb6bd041e54726f191e6e8e', 'serverSign': 'orI09M3LwAJBKXjKp54axcFbqa6jo7zjUwTQLmEEcfs=', 'appURL': 'http://localhost:49055/'}\n",
      "b'orI09M3LwAJBKXjKp54axcFbqa6jo7zjUwTQLmEEcfs='\n",
      "['list', 'delete', 'mkdir', 'rename']\n"
     ]
    },
    {
     "name": "stderr",
     "output_type": "stream",
     "text": [
      "127.0.0.1 - - [03/May/2021 19:16:01] \"\u001b[37mPOST / HTTP/1.1\u001b[0m\" 200 -\n"
     ]
    },
    {
     "name": "stdout",
     "output_type": "stream",
     "text": [
      "{'appID': '608ff071856012aac7511084', 'type': 'list', 'commandHash': '72c1e897804dd57da5919e08dba3bf7fa7c07574f209bed56f7300fbcc4f7fdf', 'serverSign': 'apoa3p7/q12b23zyds4YxF3yJp2cXR7vcwzTI4ubX2Q=', 'appURL': 'http://localhost:49055/'}\n",
      "b'apoa3p7/q12b23zyds4YxF3yJp2cXR7vcwzTI4ubX2Q='\n",
      "['list', 'delete', 'mkdir', 'rename']\n"
     ]
    },
    {
     "name": "stderr",
     "output_type": "stream",
     "text": [
      "127.0.0.1 - - [03/May/2021 19:16:06] \"\u001b[37mPOST / HTTP/1.1\u001b[0m\" 200 -\n"
     ]
    },
    {
     "name": "stdout",
     "output_type": "stream",
     "text": [
      "{'appID': '608ff071856012aac7511084', 'type': 'delete', 'commandHash': 'd9373e0904d1c7b97b6f9b918cc25f0bfaf8faac5b13e60e957ed5a625f88afd', 'serverSign': '91DkRk/1iRoU4qXN9Zg8F60eWrVx4bL6IjCv+fKZi/Y=', 'appURL': 'http://localhost:49055/'}\n",
      "b'91DkRk/1iRoU4qXN9Zg8F60eWrVx4bL6IjCv+fKZi/Y='\n",
      "['list', 'delete', 'mkdir', 'rename']\n"
     ]
    },
    {
     "name": "stderr",
     "output_type": "stream",
     "text": [
      "127.0.0.1 - - [03/May/2021 19:16:08] \"\u001b[37mPOST / HTTP/1.1\u001b[0m\" 200 -\n"
     ]
    },
    {
     "name": "stdout",
     "output_type": "stream",
     "text": [
      "{'appID': '608ff071856012aac7511084', 'type': 'list', 'commandHash': '72c1e897804dd57da5919e08dba3bf7fa7c07574f209bed56f7300fbcc4f7fdf', 'serverSign': 'apoa3p7/q12b23zyds4YxF3yJp2cXR7vcwzTI4ubX2Q=', 'appURL': 'http://localhost:49055/'}\n",
      "b'apoa3p7/q12b23zyds4YxF3yJp2cXR7vcwzTI4ubX2Q='\n",
      "['list', 'delete', 'mkdir', 'rename']\n"
     ]
    },
    {
     "name": "stderr",
     "output_type": "stream",
     "text": [
      "127.0.0.1 - - [03/May/2021 19:16:13] \"\u001b[37mPOST / HTTP/1.1\u001b[0m\" 200 -\n"
     ]
    },
    {
     "name": "stdout",
     "output_type": "stream",
     "text": [
      "{'appID': '608ff071856012aac7511084', 'type': 'delete', 'commandHash': '3ffe98921f0a4d0d3d019697555c96177388f7dabce2baed6725a0c8555447fb', 'serverSign': 'p3ZYBNhHgv2wFVRUt6ucxtdaqEwk2ktg4iQqQhf8P5U=', 'appURL': 'http://localhost:49055/'}\n",
      "b'p3ZYBNhHgv2wFVRUt6ucxtdaqEwk2ktg4iQqQhf8P5U='\n",
      "['list', 'delete', 'mkdir', 'rename']\n"
     ]
    },
    {
     "name": "stderr",
     "output_type": "stream",
     "text": [
      "127.0.0.1 - - [03/May/2021 19:16:15] \"\u001b[37mPOST / HTTP/1.1\u001b[0m\" 200 -\n"
     ]
    },
    {
     "name": "stdout",
     "output_type": "stream",
     "text": [
      "{'appID': '608ff071856012aac7511084', 'type': 'list', 'commandHash': '72c1e897804dd57da5919e08dba3bf7fa7c07574f209bed56f7300fbcc4f7fdf', 'serverSign': 'apoa3p7/q12b23zyds4YxF3yJp2cXR7vcwzTI4ubX2Q=', 'appURL': 'http://localhost:49055/'}\n",
      "b'apoa3p7/q12b23zyds4YxF3yJp2cXR7vcwzTI4ubX2Q='\n",
      "['list', 'delete', 'mkdir', 'rename']\n"
     ]
    },
    {
     "name": "stderr",
     "output_type": "stream",
     "text": [
      "127.0.0.1 - - [03/May/2021 19:16:19] \"\u001b[37mPOST / HTTP/1.1\u001b[0m\" 200 -\n"
     ]
    },
    {
     "name": "stdout",
     "output_type": "stream",
     "text": [
      "{'appID': '608ff071856012aac7511084', 'type': 'delete', 'commandHash': '6649d600dc6757c31acde507fb03bc30bf40668a63ea997fe34139d342be374a', 'serverSign': '/FODcOFrACx5vztD7wETJH4JL3k5H+q38SjERf5avfQ=', 'appURL': 'http://localhost:49055/'}\n",
      "b'/FODcOFrACx5vztD7wETJH4JL3k5H+q38SjERf5avfQ='\n",
      "['list', 'delete', 'mkdir', 'rename']\n"
     ]
    },
    {
     "name": "stderr",
     "output_type": "stream",
     "text": [
      "127.0.0.1 - - [03/May/2021 19:16:22] \"\u001b[37mPOST / HTTP/1.1\u001b[0m\" 200 -\n"
     ]
    },
    {
     "name": "stdout",
     "output_type": "stream",
     "text": [
      "{'appID': '608ff071856012aac7511084', 'type': 'list', 'commandHash': '72c1e897804dd57da5919e08dba3bf7fa7c07574f209bed56f7300fbcc4f7fdf', 'serverSign': 'apoa3p7/q12b23zyds4YxF3yJp2cXR7vcwzTI4ubX2Q=', 'appURL': 'http://localhost:49055/'}\n",
      "b'apoa3p7/q12b23zyds4YxF3yJp2cXR7vcwzTI4ubX2Q='\n",
      "['list', 'delete', 'mkdir', 'rename']\n"
     ]
    }
   ],
   "source": [
    "SERVER_PORT=49052\n",
    "SERVER_HOST='0.0.0.0'\n",
    "DATABASE_PORT=27017\n",
    "\n",
    "import datetime\n",
    "from bson.objectid import ObjectId\n",
    "import random\n",
    "import string\n",
    "import hmac\n",
    "import hashlib\n",
    "from hashlib import sha256\n",
    "from flask import Flask\n",
    "from flask import request,redirect\n",
    "from flask import Response\n",
    "from flask import render_template\n",
    "from os import listdir\n",
    "from os.path import isfile, join\n",
    "import os\n",
    "from pymongo import MongoClient\n",
    "import pymongo\n",
    "import os.path\n",
    "from base64 import b64encode\n",
    "from collections import OrderedDict\n",
    "from hashlib import sha256\n",
    "from hmac import HMAC\n",
    "from urllib.parse import urlparse, parse_qsl, urlencode\n",
    "import json\n",
    "\n",
    "app = Flask(__name__)\n",
    "app.config['TEMPLATES_AUTO_RELOAD'] = True\n",
    "\n",
    "@app.after_request\n",
    "def add_header(r):\n",
    "    r.headers[\"Cache-Control\"] = \"no-cache, no-store, must-revalidate\"\n",
    "    r.headers[\"Pragma\"] = \"no-cache\"\n",
    "    r.headers[\"Expires\"] = \"0\"\n",
    "    r.headers['Cache-Control'] = 'public, max-age=0'\n",
    "    return r\n",
    "\n",
    "@app.route('/',methods=[\"POST\"])\n",
    "def command():\n",
    "    t=request.json\n",
    "    client = MongoClient(port=DATABASE_PORT)\n",
    "    db=client.srp\n",
    "    appID=t[\"appID\"]\n",
    "    appObject=db.apps.find_one({\"_id\":ObjectId(appID)})\n",
    "    print(t)\n",
    "    tSign=b64encode(HMAC(appObject[\"secretKey\"].encode(), t[\"commandHash\"].encode(), sha256).digest())\n",
    "    print(tSign)\n",
    "    if t[\"appURL\"]!=appObject[\"appSite\"]:\n",
    "        return \"False\"\n",
    "    if tSign.decode(\"utf-8\")==t[\"serverSign\"]:\n",
    "        allowedCommands=list()\n",
    "        for i in [\"list\",\"read\",\"write\",\"delete\",\"mkdir\",\"rename\"]:\n",
    "            if appObject[i]==\"on\":\n",
    "                allowedCommands.append(i)\n",
    "        print(allowedCommands)\n",
    "        return str(t[\"type\"] in allowedCommands)\n",
    "    else:\n",
    "        return \"False\"\n",
    "\n",
    "app.run(host=SERVER_HOST, port=SERVER_PORT, threaded=True)"
   ]
  }
 ],
 "metadata": {
  "kernelspec": {
   "display_name": "Python 3",
   "language": "python",
   "name": "python3"
  },
  "language_info": {
   "codemirror_mode": {
    "name": "ipython",
    "version": 3
   },
   "file_extension": ".py",
   "mimetype": "text/x-python",
   "name": "python",
   "nbconvert_exporter": "python",
   "pygments_lexer": "ipython3",
   "version": "3.7.6"
  }
 },
 "nbformat": 4,
 "nbformat_minor": 4
}
