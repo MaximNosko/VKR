{
 "cells": [
  {
   "cell_type": "code",
   "execution_count": null,
   "metadata": {},
   "outputs": [
    {
     "name": "stdout",
     "output_type": "stream",
     "text": [
      " * Serving Flask app \"__main__\" (lazy loading)\n",
      " * Environment: production\n",
      "   WARNING: This is a development server. Do not use it in a production deployment.\n",
      "   Use a production WSGI server instead.\n",
      " * Debug mode: off\n"
     ]
    },
    {
     "name": "stderr",
     "output_type": "stream",
     "text": [
      " * Running on http://0.0.0.0:49052/ (Press CTRL+C to quit)\n",
      "127.0.0.1 - - [03/May/2021 14:11:01] \"\u001b[37mPOST / HTTP/1.1\u001b[0m\" 200 -\n"
     ]
    },
    {
     "name": "stdout",
     "output_type": "stream",
     "text": [
      "{'appID': '608f1351b59c6f34109189d9', 'type': 'read', 'commandHash': '2cdaeb6d48b5ccd8d6666cf725fa86eaa4cf7aacb172dcdb9082e466af42d94a', 'serverSign': 'NVuGAH4oBH5OBXSIR5kf+W8/xez2WpyuRID2rsfxPLs=', 'appURL': 'http://localhost:49054/'}\n",
      "b'NVuGAH4oBH5OBXSIR5kf+W8/xez2WpyuRID2rsfxPLs='\n",
      "['read', 'write']\n"
     ]
    },
    {
     "name": "stderr",
     "output_type": "stream",
     "text": [
      "127.0.0.1 - - [03/May/2021 14:19:49] \"\u001b[37mPOST / HTTP/1.1\u001b[0m\" 200 -\n"
     ]
    },
    {
     "name": "stdout",
     "output_type": "stream",
     "text": [
      "{'appID': '608f1351b59c6f34109189d9', 'type': 'write', 'commandHash': '1aec2e1ea3a8cc4d34b1c88c12921c75b6de4be89bffe836de084da940e908ba', 'serverSign': 'WJ668iphJ2IepmDk95SF5fvHEUiMfsYjbWOVZ9kQfc8=', 'appURL': 'http://localhost:49054/'}\n",
      "b'WJ668iphJ2IepmDk95SF5fvHEUiMfsYjbWOVZ9kQfc8='\n",
      "['read', 'write']\n"
     ]
    },
    {
     "name": "stderr",
     "output_type": "stream",
     "text": [
      "127.0.0.1 - - [03/May/2021 14:20:46] \"\u001b[37mPOST / HTTP/1.1\u001b[0m\" 200 -\n"
     ]
    },
    {
     "name": "stdout",
     "output_type": "stream",
     "text": [
      "{'appID': '608f1351b59c6f34109189d9', 'type': 'write', 'commandHash': '1aec2e1ea3a8cc4d34b1c88c12921c75b6de4be89bffe836de084da940e908ba', 'serverSign': 'WJ668iphJ2IepmDk95SF5fvHEUiMfsYjbWOVZ9kQfc8=', 'appURL': 'http://localhost:49054/'}\n",
      "b'WJ668iphJ2IepmDk95SF5fvHEUiMfsYjbWOVZ9kQfc8='\n",
      "['read', 'write']\n"
     ]
    },
    {
     "name": "stderr",
     "output_type": "stream",
     "text": [
      "127.0.0.1 - - [03/May/2021 14:23:40] \"\u001b[37mPOST / HTTP/1.1\u001b[0m\" 200 -\n"
     ]
    },
    {
     "name": "stdout",
     "output_type": "stream",
     "text": [
      "{'appID': '608f1351b59c6f34109189d9', 'type': 'write', 'commandHash': '594c9fb58158dbf1298cbfdd9c73106ee5cefe56fc8795914927eef0fb7d2141', 'serverSign': '8/8Tq56RDhpP5Cn1tbeH0L976mDoQLozefcD8WBbGIU=', 'appURL': 'http://localhost:49054/'}\n",
      "b'8/8Tq56RDhpP5Cn1tbeH0L976mDoQLozefcD8WBbGIU='\n",
      "['read', 'write']\n"
     ]
    },
    {
     "name": "stderr",
     "output_type": "stream",
     "text": [
      "127.0.0.1 - - [03/May/2021 14:25:25] \"\u001b[37mPOST / HTTP/1.1\u001b[0m\" 200 -\n"
     ]
    },
    {
     "name": "stdout",
     "output_type": "stream",
     "text": [
      "{'appID': '608f1351b59c6f34109189d9', 'type': 'write', 'commandHash': 'c8e2835c9442f1db49ba1ebebd1e53fadb37394c80e8c214b04cb20ced936778', 'serverSign': 'iBkPAlktTSefLMT8ojIzCXoZbDK7LFD9de1opAIlGII=', 'appURL': 'http://localhost:49054/'}\n",
      "b'iBkPAlktTSefLMT8ojIzCXoZbDK7LFD9de1opAIlGII='\n",
      "['read', 'write']\n"
     ]
    },
    {
     "name": "stderr",
     "output_type": "stream",
     "text": [
      "127.0.0.1 - - [03/May/2021 14:25:37] \"\u001b[37mPOST / HTTP/1.1\u001b[0m\" 200 -\n"
     ]
    },
    {
     "name": "stdout",
     "output_type": "stream",
     "text": [
      "{'appID': '608f1351b59c6f34109189d9', 'type': 'read', 'commandHash': '2cdaeb6d48b5ccd8d6666cf725fa86eaa4cf7aacb172dcdb9082e466af42d94a', 'serverSign': 'NVuGAH4oBH5OBXSIR5kf+W8/xez2WpyuRID2rsfxPLs=', 'appURL': 'http://localhost:49054/'}\n",
      "b'NVuGAH4oBH5OBXSIR5kf+W8/xez2WpyuRID2rsfxPLs='\n",
      "['read', 'write']\n"
     ]
    },
    {
     "name": "stderr",
     "output_type": "stream",
     "text": [
      "127.0.0.1 - - [03/May/2021 14:25:49] \"\u001b[37mPOST / HTTP/1.1\u001b[0m\" 200 -\n"
     ]
    },
    {
     "name": "stdout",
     "output_type": "stream",
     "text": [
      "{'appID': '608f1351b59c6f34109189d9', 'type': 'write', 'commandHash': '3a3bec94dd4477446c274d8dbfb37926a3fd31dc7c2b57161489b41555284d17', 'serverSign': 'ZCOOA2ZTJZXn0Q3bBrSXY547NYCqWpOr+9hRKQXs3yE=', 'appURL': 'http://localhost:49054/'}\n",
      "b'ZCOOA2ZTJZXn0Q3bBrSXY547NYCqWpOr+9hRKQXs3yE='\n",
      "['read', 'write']\n"
     ]
    },
    {
     "name": "stderr",
     "output_type": "stream",
     "text": [
      "127.0.0.1 - - [03/May/2021 14:28:05] \"\u001b[37mPOST / HTTP/1.1\u001b[0m\" 200 -\n"
     ]
    },
    {
     "name": "stdout",
     "output_type": "stream",
     "text": [
      "{'appID': '608f1351b59c6f34109189d9', 'type': 'write', 'commandHash': '9d05fc8932e514a69ecd3384d534e91da774c3a8b893ff82d051f66498b2405c', 'serverSign': 'JoX+++ROV+fliFcJDlfCS04K+nJJz5n4NZG09uPuS30=', 'appURL': 'http://localhost:49054/'}\n",
      "b'JoX+++ROV+fliFcJDlfCS04K+nJJz5n4NZG09uPuS30='\n",
      "['read', 'write']\n"
     ]
    },
    {
     "name": "stderr",
     "output_type": "stream",
     "text": [
      "127.0.0.1 - - [03/May/2021 14:28:18] \"\u001b[37mPOST / HTTP/1.1\u001b[0m\" 200 -\n"
     ]
    },
    {
     "name": "stdout",
     "output_type": "stream",
     "text": [
      "{'appID': '608f1351b59c6f34109189d9', 'type': 'write', 'commandHash': '9d05fc8932e514a69ecd3384d534e91da774c3a8b893ff82d051f66498b2405c', 'serverSign': 'JoX+++ROV+fliFcJDlfCS04K+nJJz5n4NZG09uPuS30=', 'appURL': 'http://localhost:49054/'}\n",
      "b'JoX+++ROV+fliFcJDlfCS04K+nJJz5n4NZG09uPuS30='\n",
      "['read', 'write']\n"
     ]
    },
    {
     "name": "stderr",
     "output_type": "stream",
     "text": [
      "127.0.0.1 - - [03/May/2021 14:33:27] \"\u001b[37mPOST / HTTP/1.1\u001b[0m\" 200 -\n"
     ]
    },
    {
     "name": "stdout",
     "output_type": "stream",
     "text": [
      "{'appID': '608f1351b59c6f34109189d9', 'type': 'read', 'commandHash': '2cdaeb6d48b5ccd8d6666cf725fa86eaa4cf7aacb172dcdb9082e466af42d94a', 'serverSign': 'NVuGAH4oBH5OBXSIR5kf+W8/xez2WpyuRID2rsfxPLs=', 'appURL': 'http://localhost:49054/'}\n",
      "b'NVuGAH4oBH5OBXSIR5kf+W8/xez2WpyuRID2rsfxPLs='\n",
      "['read', 'write']\n"
     ]
    },
    {
     "name": "stderr",
     "output_type": "stream",
     "text": [
      "127.0.0.1 - - [03/May/2021 14:35:09] \"\u001b[37mPOST / HTTP/1.1\u001b[0m\" 200 -\n"
     ]
    },
    {
     "name": "stdout",
     "output_type": "stream",
     "text": [
      "{'appID': '608f1351b59c6f34109189d9', 'type': 'read', 'commandHash': '2cdaeb6d48b5ccd8d6666cf725fa86eaa4cf7aacb172dcdb9082e466af42d94a', 'serverSign': 'NVuGAH4oBH5OBXSIR5kf+W8/xez2WpyuRID2rsfxPLs=', 'appURL': 'http://localhost:49054/'}\n",
      "b'NVuGAH4oBH5OBXSIR5kf+W8/xez2WpyuRID2rsfxPLs='\n",
      "['read', 'write']\n"
     ]
    },
    {
     "name": "stderr",
     "output_type": "stream",
     "text": [
      "127.0.0.1 - - [03/May/2021 14:35:13] \"\u001b[37mPOST / HTTP/1.1\u001b[0m\" 200 -\n"
     ]
    },
    {
     "name": "stdout",
     "output_type": "stream",
     "text": [
      "{'appID': '608f1351b59c6f34109189d9', 'type': 'read', 'commandHash': '2cdaeb6d48b5ccd8d6666cf725fa86eaa4cf7aacb172dcdb9082e466af42d94a', 'serverSign': 'NVuGAH4oBH5OBXSIR5kf+W8/xez2WpyuRID2rsfxPLs=', 'appURL': 'http://localhost:49054/'}\n",
      "b'NVuGAH4oBH5OBXSIR5kf+W8/xez2WpyuRID2rsfxPLs='\n",
      "['read', 'write']\n"
     ]
    },
    {
     "name": "stderr",
     "output_type": "stream",
     "text": [
      "127.0.0.1 - - [03/May/2021 14:37:03] \"\u001b[37mPOST / HTTP/1.1\u001b[0m\" 200 -\n"
     ]
    },
    {
     "name": "stdout",
     "output_type": "stream",
     "text": [
      "{'appID': '608f1351b59c6f34109189d9', 'type': 'read', 'commandHash': '2cdaeb6d48b5ccd8d6666cf725fa86eaa4cf7aacb172dcdb9082e466af42d94a', 'serverSign': 'NVuGAH4oBH5OBXSIR5kf+W8/xez2WpyuRID2rsfxPLs=', 'appURL': 'http://localhost:49054/'}\n",
      "b'NVuGAH4oBH5OBXSIR5kf+W8/xez2WpyuRID2rsfxPLs='\n",
      "['read', 'write']\n"
     ]
    },
    {
     "name": "stderr",
     "output_type": "stream",
     "text": [
      "127.0.0.1 - - [03/May/2021 14:37:08] \"\u001b[37mPOST / HTTP/1.1\u001b[0m\" 200 -\n"
     ]
    },
    {
     "name": "stdout",
     "output_type": "stream",
     "text": [
      "{'appID': '608f1351b59c6f34109189d9', 'type': 'write', 'commandHash': '6cc699d941178cbe1d6769ea159baf5e000981c8a18b87bf52dc73a115db2cf3', 'serverSign': 'dqI29F9BtlyLTLqHhmnvmJ3ta/MRhu0dUw2ZAEqySK4=', 'appURL': 'http://localhost:49054/'}\n",
      "b'dqI29F9BtlyLTLqHhmnvmJ3ta/MRhu0dUw2ZAEqySK4='\n",
      "['read', 'write']\n"
     ]
    },
    {
     "name": "stderr",
     "output_type": "stream",
     "text": [
      "127.0.0.1 - - [03/May/2021 14:37:14] \"\u001b[37mPOST / HTTP/1.1\u001b[0m\" 200 -\n"
     ]
    },
    {
     "name": "stdout",
     "output_type": "stream",
     "text": [
      "{'appID': '608f1351b59c6f34109189d9', 'type': 'read', 'commandHash': '2cdaeb6d48b5ccd8d6666cf725fa86eaa4cf7aacb172dcdb9082e466af42d94a', 'serverSign': 'NVuGAH4oBH5OBXSIR5kf+W8/xez2WpyuRID2rsfxPLs=', 'appURL': 'http://localhost:49054/'}\n",
      "b'NVuGAH4oBH5OBXSIR5kf+W8/xez2WpyuRID2rsfxPLs='\n",
      "['read', 'write']\n"
     ]
    },
    {
     "name": "stderr",
     "output_type": "stream",
     "text": [
      "127.0.0.1 - - [03/May/2021 14:37:22] \"\u001b[37mPOST / HTTP/1.1\u001b[0m\" 200 -\n"
     ]
    },
    {
     "name": "stdout",
     "output_type": "stream",
     "text": [
      "{'appID': '608f1351b59c6f34109189d9', 'type': 'write', 'commandHash': '1459f3676795c9789aa6a053ba31d6e7d4ea95c5dd7e51b1ca7d93cb6ec042d4', 'serverSign': 'D6ZNuTXvlSnxFHVBT3a8/I0yozj67KYkEucGlLx7NFI=', 'appURL': 'http://localhost:49054/'}\n",
      "b'D6ZNuTXvlSnxFHVBT3a8/I0yozj67KYkEucGlLx7NFI='\n",
      "['read', 'write']\n"
     ]
    },
    {
     "name": "stderr",
     "output_type": "stream",
     "text": [
      "127.0.0.1 - - [03/May/2021 15:18:06] \"\u001b[37mPOST / HTTP/1.1\u001b[0m\" 200 -\n"
     ]
    },
    {
     "name": "stdout",
     "output_type": "stream",
     "text": [
      "{'appID': '608f1351b59c6f34109189d9', 'type': 'read', 'commandHash': '2cdaeb6d48b5ccd8d6666cf725fa86eaa4cf7aacb172dcdb9082e466af42d94a', 'serverSign': 'NVuGAH4oBH5OBXSIR5kf+W8/xez2WpyuRID2rsfxPLs=', 'appURL': 'http://localhost:49054/'}\n",
      "b'NVuGAH4oBH5OBXSIR5kf+W8/xez2WpyuRID2rsfxPLs='\n",
      "['read', 'write']\n"
     ]
    },
    {
     "name": "stderr",
     "output_type": "stream",
     "text": [
      "127.0.0.1 - - [03/May/2021 15:18:20] \"\u001b[37mPOST / HTTP/1.1\u001b[0m\" 200 -\n"
     ]
    },
    {
     "name": "stdout",
     "output_type": "stream",
     "text": [
      "{'appID': '608f1351b59c6f34109189d9', 'type': 'read', 'commandHash': '2cdaeb6d48b5ccd8d6666cf725fa86eaa4cf7aacb172dcdb9082e466af42d94a', 'serverSign': 'NVuGAH4oBH5OBXSIR5kf+W8/xez2WpyuRID2rsfxPLs=', 'appURL': 'http://localhost:49054/'}\n",
      "b'NVuGAH4oBH5OBXSIR5kf+W8/xez2WpyuRID2rsfxPLs='\n",
      "['read', 'write']\n"
     ]
    },
    {
     "name": "stderr",
     "output_type": "stream",
     "text": [
      "127.0.0.1 - - [03/May/2021 15:18:28] \"\u001b[37mPOST / HTTP/1.1\u001b[0m\" 200 -\n"
     ]
    },
    {
     "name": "stdout",
     "output_type": "stream",
     "text": [
      "{'appID': '608f1351b59c6f34109189d9', 'type': 'write', 'commandHash': '9cadb22661ac5567c4a45bed000b2c3cf2f106f031cc31f1d778cc0f776e28fd', 'serverSign': 'j/iunq4gW4ifcyCBVVOOYb+dZMKHvZ4NK40dwZhtsGk=', 'appURL': 'http://localhost:49054/'}\n",
      "b'j/iunq4gW4ifcyCBVVOOYb+dZMKHvZ4NK40dwZhtsGk='\n",
      "['read', 'write']\n"
     ]
    },
    {
     "name": "stderr",
     "output_type": "stream",
     "text": [
      "127.0.0.1 - - [03/May/2021 15:18:35] \"\u001b[37mPOST / HTTP/1.1\u001b[0m\" 200 -\n"
     ]
    },
    {
     "name": "stdout",
     "output_type": "stream",
     "text": [
      "{'appID': '608f1351b59c6f34109189d9', 'type': 'read', 'commandHash': '2cdaeb6d48b5ccd8d6666cf725fa86eaa4cf7aacb172dcdb9082e466af42d94a', 'serverSign': 'NVuGAH4oBH5OBXSIR5kf+W8/xez2WpyuRID2rsfxPLs=', 'appURL': 'http://localhost:49054/'}\n",
      "b'NVuGAH4oBH5OBXSIR5kf+W8/xez2WpyuRID2rsfxPLs='\n",
      "['read', 'write']\n"
     ]
    }
   ],
   "source": [
    "SERVER_PORT=49052\n",
    "SERVER_HOST='0.0.0.0'\n",
    "DATABASE_PORT=27017\n",
    "\n",
    "import datetime\n",
    "from bson.objectid import ObjectId\n",
    "import random\n",
    "import string\n",
    "import hmac\n",
    "import hashlib\n",
    "from hashlib import sha256\n",
    "from flask import Flask\n",
    "from flask import request,redirect\n",
    "from flask import Response\n",
    "from flask import render_template\n",
    "from os import listdir\n",
    "from os.path import isfile, join\n",
    "import os\n",
    "from pymongo import MongoClient\n",
    "import pymongo\n",
    "import os.path\n",
    "from base64 import b64encode\n",
    "from collections import OrderedDict\n",
    "from hashlib import sha256\n",
    "from hmac import HMAC\n",
    "from urllib.parse import urlparse, parse_qsl, urlencode\n",
    "import json\n",
    "\n",
    "app = Flask(__name__)\n",
    "app.config['TEMPLATES_AUTO_RELOAD'] = True\n",
    "\n",
    "@app.after_request\n",
    "def add_header(r):\n",
    "    r.headers[\"Cache-Control\"] = \"no-cache, no-store, must-revalidate\"\n",
    "    r.headers[\"Pragma\"] = \"no-cache\"\n",
    "    r.headers[\"Expires\"] = \"0\"\n",
    "    r.headers['Cache-Control'] = 'public, max-age=0'\n",
    "    return r\n",
    "\n",
    "@app.route('/',methods=[\"POST\"])\n",
    "def command():\n",
    "    t=request.json\n",
    "    client = MongoClient(port=DATABASE_PORT)\n",
    "    db=client.srp\n",
    "    appID=t[\"appID\"]\n",
    "    appObject=db.apps.find_one({\"_id\":ObjectId(appID)})\n",
    "    print(t)\n",
    "    tSign=b64encode(HMAC(appObject[\"secretKey\"].encode(), t[\"commandHash\"].encode(), sha256).digest())\n",
    "    print(tSign)\n",
    "    if t[\"appURL\"]!=appObject[\"appSite\"]:\n",
    "        return \"False\"\n",
    "    if tSign.decode(\"utf-8\")==t[\"serverSign\"]:\n",
    "        allowedCommands=list()\n",
    "        for i in [\"spisok\",\"read\",\"write\",\"delete\"]:\n",
    "            if appObject[i]==\"on\":\n",
    "                allowedCommands.append(i)\n",
    "        print(allowedCommands)\n",
    "        return str(t[\"type\"] in allowedCommands)\n",
    "    else:\n",
    "        return \"False\"\n",
    "\n",
    "app.run(host=SERVER_HOST, port=SERVER_PORT, threaded=True)"
   ]
  },
  {
   "cell_type": "code",
   "execution_count": 2,
   "metadata": {},
   "outputs": [
    {
     "data": {
      "text/plain": [
       "ParseResult(scheme='http', netloc='localhost:49054', path='/', params='', query='', fragment='')"
      ]
     },
     "execution_count": 2,
     "metadata": {},
     "output_type": "execute_result"
    }
   ],
   "source": [
    "from urllib.parse import urlparse\n",
    "urlparse(\"http://localhost:49054/\")"
   ]
  },
  {
   "cell_type": "code",
   "execution_count": 16,
   "metadata": {},
   "outputs": [],
   "source": [
    "import json\n",
    "heh=json.loads('{\"command\":{\"type\": \"spisok\"},\"sign\":\"RFAhWxAZ2Z4dodrihFiY29IkGa5+nkMMtZPvC1ZQRr8=\"}')"
   ]
  },
  {
   "cell_type": "code",
   "execution_count": 17,
   "metadata": {},
   "outputs": [
    {
     "data": {
      "text/plain": [
       "{'command': {'type': 'spisok'},\n",
       " 'sign': 'RFAhWxAZ2Z4dodrihFiY29IkGa5+nkMMtZPvC1ZQRr8='}"
      ]
     },
     "execution_count": 17,
     "metadata": {},
     "output_type": "execute_result"
    }
   ],
   "source": [
    "heh"
   ]
  },
  {
   "cell_type": "code",
   "execution_count": 18,
   "metadata": {},
   "outputs": [
    {
     "data": {
      "text/plain": [
       "dict_items([('command', {'type': 'spisok'}), ('sign', 'RFAhWxAZ2Z4dodrihFiY29IkGa5+nkMMtZPvC1ZQRr8=')])"
      ]
     },
     "execution_count": 18,
     "metadata": {},
     "output_type": "execute_result"
    }
   ],
   "source": [
    "heh.items()"
   ]
  },
  {
   "cell_type": "code",
   "execution_count": 11,
   "metadata": {},
   "outputs": [
    {
     "data": {
      "text/plain": [
       "dict"
      ]
     },
     "execution_count": 11,
     "metadata": {},
     "output_type": "execute_result"
    }
   ],
   "source": [
    "type(heh)"
   ]
  },
  {
   "cell_type": "code",
   "execution_count": 14,
   "metadata": {},
   "outputs": [
    {
     "data": {
      "text/plain": [
       "'{\"command\": {\"type\": \"spisok\"}, \"sign\": \"RFAhWxAZ2Z4dodrihFiY29IkGa5+nkMMtZPvC1ZQRr8=\"}'"
      ]
     },
     "execution_count": 14,
     "metadata": {},
     "output_type": "execute_result"
    }
   ],
   "source": [
    "heh=json.dumps(heh)\n",
    "heh"
   ]
  },
  {
   "cell_type": "code",
   "execution_count": 15,
   "metadata": {},
   "outputs": [
    {
     "ename": "AttributeError",
     "evalue": "'str' object has no attribute 'items'",
     "output_type": "error",
     "traceback": [
      "\u001b[1;31m---------------------------------------------------------------------------\u001b[0m",
      "\u001b[1;31mAttributeError\u001b[0m                            Traceback (most recent call last)",
      "\u001b[1;32m<ipython-input-15-5444dc993cf7>\u001b[0m in \u001b[0;36m<module>\u001b[1;34m\u001b[0m\n\u001b[0;32m      4\u001b[0m \u001b[1;32mfrom\u001b[0m \u001b[0mhmac\u001b[0m \u001b[1;32mimport\u001b[0m \u001b[0mHMAC\u001b[0m\u001b[1;33m\u001b[0m\u001b[1;33m\u001b[0m\u001b[0m\n\u001b[0;32m      5\u001b[0m \u001b[1;32mfrom\u001b[0m \u001b[0murllib\u001b[0m\u001b[1;33m.\u001b[0m\u001b[0mparse\u001b[0m \u001b[1;32mimport\u001b[0m \u001b[0murlparse\u001b[0m\u001b[1;33m,\u001b[0m \u001b[0mparse_qsl\u001b[0m\u001b[1;33m,\u001b[0m \u001b[0murlencode\u001b[0m\u001b[1;33m\u001b[0m\u001b[1;33m\u001b[0m\u001b[0m\n\u001b[1;32m----> 6\u001b[1;33m \u001b[0mod\u001b[0m\u001b[1;33m=\u001b[0m\u001b[0mOrderedDict\u001b[0m\u001b[1;33m(\u001b[0m\u001b[0msorted\u001b[0m\u001b[1;33m(\u001b[0m\u001b[0mheh\u001b[0m\u001b[1;33m.\u001b[0m\u001b[0mitems\u001b[0m\u001b[1;33m(\u001b[0m\u001b[1;33m)\u001b[0m\u001b[1;33m,\u001b[0m \u001b[0mkey\u001b[0m\u001b[1;33m=\u001b[0m\u001b[1;32mlambda\u001b[0m \u001b[0mx\u001b[0m\u001b[1;33m:\u001b[0m \u001b[0mx\u001b[0m\u001b[1;33m)\u001b[0m\u001b[1;33m)\u001b[0m\u001b[1;33m\u001b[0m\u001b[1;33m\u001b[0m\u001b[0m\n\u001b[0m\u001b[0;32m      7\u001b[0m \u001b[0mhash_code\u001b[0m \u001b[1;33m=\u001b[0m\u001b[0mb64encode\u001b[0m\u001b[1;33m(\u001b[0m\u001b[0mHMAC\u001b[0m\u001b[1;33m(\u001b[0m\u001b[1;34m\"0c863557e6e6cfe5b859d19f83b6add9c42bfe9fc1d696f36dd00da7bb523a59\"\u001b[0m\u001b[1;33m.\u001b[0m\u001b[0mencode\u001b[0m\u001b[1;33m(\u001b[0m\u001b[1;33m)\u001b[0m\u001b[1;33m,\u001b[0m \u001b[0murlencode\u001b[0m\u001b[1;33m(\u001b[0m\u001b[0mod\u001b[0m\u001b[1;33m,\u001b[0m \u001b[0mdoseq\u001b[0m\u001b[1;33m=\u001b[0m\u001b[1;32mTrue\u001b[0m\u001b[1;33m)\u001b[0m\u001b[1;33m.\u001b[0m\u001b[0mencode\u001b[0m\u001b[1;33m(\u001b[0m\u001b[1;33m)\u001b[0m\u001b[1;33m,\u001b[0m \u001b[0msha256\u001b[0m\u001b[1;33m)\u001b[0m\u001b[1;33m.\u001b[0m\u001b[0mdigest\u001b[0m\u001b[1;33m(\u001b[0m\u001b[1;33m)\u001b[0m\u001b[1;33m)\u001b[0m\u001b[1;33m\u001b[0m\u001b[1;33m\u001b[0m\u001b[0m\n\u001b[0;32m      8\u001b[0m \u001b[0mhash_code\u001b[0m\u001b[1;33m.\u001b[0m\u001b[0mdecode\u001b[0m\u001b[1;33m(\u001b[0m\u001b[1;34m'utf-8'\u001b[0m\u001b[1;33m)\u001b[0m\u001b[1;33m\u001b[0m\u001b[1;33m\u001b[0m\u001b[0m\n",
      "\u001b[1;31mAttributeError\u001b[0m: 'str' object has no attribute 'items'"
     ]
    }
   ],
   "source": [
    "from base64 import b64encode\n",
    "from collections import OrderedDict\n",
    "from hashlib import sha256\n",
    "from hmac import HMAC\n",
    "from urllib.parse import urlparse, parse_qsl, urlencode\n",
    "od=OrderedDict(sorted(heh.items(), key=lambda x: x[0]))\n",
    "hash_code =b64encode(HMAC(\"0c863557e6e6cfe5b859d19f83b6add9c42bfe9fc1d696f36dd00da7bb523a59\".encode(), urlencode(od, doseq=True).encode(), sha256).digest())\n",
    "hash_code.decode('utf-8')"
   ]
  },
  {
   "cell_type": "code",
   "execution_count": 3,
   "metadata": {},
   "outputs": [
    {
     "data": {
      "text/plain": [
       "str"
      ]
     },
     "execution_count": 3,
     "metadata": {},
     "output_type": "execute_result"
    }
   ],
   "source": [
    "type(\"lol\")"
   ]
  },
  {
   "cell_type": "code",
   "execution_count": 7,
   "metadata": {},
   "outputs": [
    {
     "data": {
      "text/plain": [
       "'Ad/tTn0cLI/rGz+z6p0CUyG/wUcTr/m18fV6C0nYP74='"
      ]
     },
     "execution_count": 7,
     "metadata": {},
     "output_type": "execute_result"
    }
   ],
   "source": [
    "b'Ad/tTn0cLI/rGz+z6p0CUyG/wUcTr/m18fV6C0nYP74='.decode(\"utf-8\")"
   ]
  }
 ],
 "metadata": {
  "kernelspec": {
   "display_name": "Python 3",
   "language": "python",
   "name": "python3"
  },
  "language_info": {
   "codemirror_mode": {
    "name": "ipython",
    "version": 3
   },
   "file_extension": ".py",
   "mimetype": "text/x-python",
   "name": "python",
   "nbconvert_exporter": "python",
   "pygments_lexer": "ipython3",
   "version": "3.7.6"
  }
 },
 "nbformat": 4,
 "nbformat_minor": 4
}
