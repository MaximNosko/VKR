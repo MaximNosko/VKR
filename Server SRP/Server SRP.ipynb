{
 "cells": [
  {
   "cell_type": "code",
   "execution_count": null,
   "metadata": {},
   "outputs": [
    {
     "name": "stdout",
     "output_type": "stream",
     "text": [
      " * Serving Flask app \"__main__\" (lazy loading)\n",
      " * Environment: production\n",
      "   WARNING: This is a development server. Do not use it in a production deployment.\n",
      "   Use a production WSGI server instead.\n",
      " * Debug mode: off\n"
     ]
    },
    {
     "name": "stderr",
     "output_type": "stream",
     "text": [
      " * Running on http://0.0.0.0:49052/ (Press CTRL+C to quit)\n",
      "127.0.0.1 - - [03/May/2021 16:05:57] \"\u001b[37mPOST / HTTP/1.1\u001b[0m\" 200 -\n"
     ]
    },
    {
     "name": "stdout",
     "output_type": "stream",
     "text": [
      "{'appID': '608ff071856012aac7511084', 'type': 'list', 'commandHash': 'ace4e6183a700e54d750fd8da11f38533cffc1eb9802403d09ba91be43931f29', 'serverSign': 'NhLuVrebjRivQyw6q7lONsZ3dg01n68K8FL6N2SX7EI=', 'appURL': 'http://localhost:49055/'}\n",
      "b'NhLuVrebjRivQyw6q7lONsZ3dg01n68K8FL6N2SX7EI='\n",
      "['list', 'delete']\n"
     ]
    },
    {
     "name": "stderr",
     "output_type": "stream",
     "text": [
      "127.0.0.1 - - [03/May/2021 16:11:27] \"\u001b[37mPOST / HTTP/1.1\u001b[0m\" 200 -\n"
     ]
    },
    {
     "name": "stdout",
     "output_type": "stream",
     "text": [
      "{'appID': '608ff071856012aac7511084', 'type': 'list', 'commandHash': 'ace4e6183a700e54d750fd8da11f38533cffc1eb9802403d09ba91be43931f29', 'serverSign': 'NhLuVrebjRivQyw6q7lONsZ3dg01n68K8FL6N2SX7EI=', 'appURL': 'http://localhost:49055/'}\n",
      "b'NhLuVrebjRivQyw6q7lONsZ3dg01n68K8FL6N2SX7EI='\n",
      "['list', 'delete']\n"
     ]
    },
    {
     "name": "stderr",
     "output_type": "stream",
     "text": [
      "127.0.0.1 - - [03/May/2021 16:13:06] \"\u001b[37mPOST / HTTP/1.1\u001b[0m\" 200 -\n"
     ]
    },
    {
     "name": "stdout",
     "output_type": "stream",
     "text": [
      "{'appID': '608ff071856012aac7511084', 'type': 'list', 'commandHash': 'ace4e6183a700e54d750fd8da11f38533cffc1eb9802403d09ba91be43931f29', 'serverSign': 'NhLuVrebjRivQyw6q7lONsZ3dg01n68K8FL6N2SX7EI=', 'appURL': 'http://localhost:49055/'}\n",
      "b'NhLuVrebjRivQyw6q7lONsZ3dg01n68K8FL6N2SX7EI='\n",
      "['list', 'delete']\n"
     ]
    },
    {
     "name": "stderr",
     "output_type": "stream",
     "text": [
      "127.0.0.1 - - [03/May/2021 16:18:42] \"\u001b[37mPOST / HTTP/1.1\u001b[0m\" 200 -\n"
     ]
    },
    {
     "name": "stdout",
     "output_type": "stream",
     "text": [
      "{'appID': '608ff071856012aac7511084', 'type': 'list', 'commandHash': 'ace4e6183a700e54d750fd8da11f38533cffc1eb9802403d09ba91be43931f29', 'serverSign': 'NhLuVrebjRivQyw6q7lONsZ3dg01n68K8FL6N2SX7EI=', 'appURL': 'http://localhost:49055/'}\n",
      "b'NhLuVrebjRivQyw6q7lONsZ3dg01n68K8FL6N2SX7EI='\n",
      "['list', 'delete']\n"
     ]
    },
    {
     "name": "stderr",
     "output_type": "stream",
     "text": [
      "127.0.0.1 - - [03/May/2021 16:26:51] \"\u001b[37mPOST / HTTP/1.1\u001b[0m\" 200 -\n"
     ]
    },
    {
     "name": "stdout",
     "output_type": "stream",
     "text": [
      "{'appID': '608ff071856012aac7511084', 'type': 'list', 'commandHash': 'ace4e6183a700e54d750fd8da11f38533cffc1eb9802403d09ba91be43931f29', 'serverSign': 'NhLuVrebjRivQyw6q7lONsZ3dg01n68K8FL6N2SX7EI=', 'appURL': 'http://localhost:49055/'}\n",
      "b'NhLuVrebjRivQyw6q7lONsZ3dg01n68K8FL6N2SX7EI='\n",
      "['list', 'delete']\n"
     ]
    },
    {
     "name": "stderr",
     "output_type": "stream",
     "text": [
      "127.0.0.1 - - [03/May/2021 16:28:46] \"\u001b[37mPOST / HTTP/1.1\u001b[0m\" 200 -\n"
     ]
    },
    {
     "name": "stdout",
     "output_type": "stream",
     "text": [
      "{'appID': '608ff071856012aac7511084', 'type': 'list', 'commandHash': 'ace4e6183a700e54d750fd8da11f38533cffc1eb9802403d09ba91be43931f29', 'serverSign': 'NhLuVrebjRivQyw6q7lONsZ3dg01n68K8FL6N2SX7EI=', 'appURL': 'http://localhost:49055/'}\n",
      "b'NhLuVrebjRivQyw6q7lONsZ3dg01n68K8FL6N2SX7EI='\n",
      "['list', 'delete']\n"
     ]
    },
    {
     "name": "stderr",
     "output_type": "stream",
     "text": [
      "127.0.0.1 - - [03/May/2021 16:33:01] \"\u001b[37mPOST / HTTP/1.1\u001b[0m\" 200 -\n"
     ]
    },
    {
     "name": "stdout",
     "output_type": "stream",
     "text": [
      "{'appID': '608ff071856012aac7511084', 'type': 'list', 'commandHash': 'ace4e6183a700e54d750fd8da11f38533cffc1eb9802403d09ba91be43931f29', 'serverSign': 'NhLuVrebjRivQyw6q7lONsZ3dg01n68K8FL6N2SX7EI=', 'appURL': 'http://localhost:49055/'}\n",
      "b'NhLuVrebjRivQyw6q7lONsZ3dg01n68K8FL6N2SX7EI='\n",
      "['list', 'delete']\n"
     ]
    },
    {
     "name": "stderr",
     "output_type": "stream",
     "text": [
      "127.0.0.1 - - [03/May/2021 16:36:14] \"\u001b[37mPOST / HTTP/1.1\u001b[0m\" 200 -\n"
     ]
    },
    {
     "name": "stdout",
     "output_type": "stream",
     "text": [
      "{'appID': '608ff071856012aac7511084', 'type': 'list', 'commandHash': 'ace4e6183a700e54d750fd8da11f38533cffc1eb9802403d09ba91be43931f29', 'serverSign': 'NhLuVrebjRivQyw6q7lONsZ3dg01n68K8FL6N2SX7EI=', 'appURL': 'http://localhost:49055/'}\n",
      "b'NhLuVrebjRivQyw6q7lONsZ3dg01n68K8FL6N2SX7EI='\n",
      "['list', 'delete']\n"
     ]
    },
    {
     "name": "stderr",
     "output_type": "stream",
     "text": [
      "127.0.0.1 - - [03/May/2021 16:37:02] \"\u001b[37mPOST / HTTP/1.1\u001b[0m\" 200 -\n"
     ]
    },
    {
     "name": "stdout",
     "output_type": "stream",
     "text": [
      "{'appID': '608ff071856012aac7511084', 'type': 'list', 'commandHash': 'ace4e6183a700e54d750fd8da11f38533cffc1eb9802403d09ba91be43931f29', 'serverSign': 'NhLuVrebjRivQyw6q7lONsZ3dg01n68K8FL6N2SX7EI=', 'appURL': 'http://localhost:49055/'}\n",
      "b'NhLuVrebjRivQyw6q7lONsZ3dg01n68K8FL6N2SX7EI='\n",
      "['list', 'delete']\n"
     ]
    },
    {
     "name": "stderr",
     "output_type": "stream",
     "text": [
      "127.0.0.1 - - [03/May/2021 16:38:31] \"\u001b[37mPOST / HTTP/1.1\u001b[0m\" 200 -\n"
     ]
    },
    {
     "name": "stdout",
     "output_type": "stream",
     "text": [
      "{'appID': '608ff071856012aac7511084', 'type': 'list', 'commandHash': 'ace4e6183a700e54d750fd8da11f38533cffc1eb9802403d09ba91be43931f29', 'serverSign': 'NhLuVrebjRivQyw6q7lONsZ3dg01n68K8FL6N2SX7EI=', 'appURL': 'http://localhost:49055/'}\n",
      "b'NhLuVrebjRivQyw6q7lONsZ3dg01n68K8FL6N2SX7EI='\n",
      "['list', 'delete']\n"
     ]
    },
    {
     "name": "stderr",
     "output_type": "stream",
     "text": [
      "127.0.0.1 - - [03/May/2021 16:39:09] \"\u001b[37mPOST / HTTP/1.1\u001b[0m\" 200 -\n"
     ]
    },
    {
     "name": "stdout",
     "output_type": "stream",
     "text": [
      "{'appID': '608ff071856012aac7511084', 'type': 'list', 'commandHash': 'ace4e6183a700e54d750fd8da11f38533cffc1eb9802403d09ba91be43931f29', 'serverSign': 'NhLuVrebjRivQyw6q7lONsZ3dg01n68K8FL6N2SX7EI=', 'appURL': 'http://localhost:49055/'}\n",
      "b'NhLuVrebjRivQyw6q7lONsZ3dg01n68K8FL6N2SX7EI='\n",
      "['list', 'delete']\n"
     ]
    },
    {
     "name": "stderr",
     "output_type": "stream",
     "text": [
      "127.0.0.1 - - [03/May/2021 16:39:30] \"\u001b[37mPOST / HTTP/1.1\u001b[0m\" 200 -\n"
     ]
    },
    {
     "name": "stdout",
     "output_type": "stream",
     "text": [
      "{'appID': '608ff071856012aac7511084', 'type': 'list', 'commandHash': 'ace4e6183a700e54d750fd8da11f38533cffc1eb9802403d09ba91be43931f29', 'serverSign': 'NhLuVrebjRivQyw6q7lONsZ3dg01n68K8FL6N2SX7EI=', 'appURL': 'http://localhost:49055/'}\n",
      "b'NhLuVrebjRivQyw6q7lONsZ3dg01n68K8FL6N2SX7EI='\n",
      "['list', 'delete']\n"
     ]
    },
    {
     "name": "stderr",
     "output_type": "stream",
     "text": [
      "127.0.0.1 - - [03/May/2021 16:41:20] \"\u001b[37mPOST / HTTP/1.1\u001b[0m\" 200 -\n"
     ]
    },
    {
     "name": "stdout",
     "output_type": "stream",
     "text": [
      "{'appID': '608ff071856012aac7511084', 'type': 'list', 'commandHash': 'ace4e6183a700e54d750fd8da11f38533cffc1eb9802403d09ba91be43931f29', 'serverSign': 'NhLuVrebjRivQyw6q7lONsZ3dg01n68K8FL6N2SX7EI=', 'appURL': 'http://localhost:49055/'}\n",
      "b'NhLuVrebjRivQyw6q7lONsZ3dg01n68K8FL6N2SX7EI='\n",
      "['list', 'delete']\n"
     ]
    },
    {
     "name": "stderr",
     "output_type": "stream",
     "text": [
      "127.0.0.1 - - [03/May/2021 16:41:35] \"\u001b[37mPOST / HTTP/1.1\u001b[0m\" 200 -\n"
     ]
    },
    {
     "name": "stdout",
     "output_type": "stream",
     "text": [
      "{'appID': '608ff071856012aac7511084', 'type': 'list', 'commandHash': 'ace4e6183a700e54d750fd8da11f38533cffc1eb9802403d09ba91be43931f29', 'serverSign': 'NhLuVrebjRivQyw6q7lONsZ3dg01n68K8FL6N2SX7EI=', 'appURL': 'http://localhost:49055/'}\n",
      "b'NhLuVrebjRivQyw6q7lONsZ3dg01n68K8FL6N2SX7EI='\n",
      "['list', 'delete']\n"
     ]
    },
    {
     "name": "stderr",
     "output_type": "stream",
     "text": [
      "127.0.0.1 - - [03/May/2021 16:42:30] \"\u001b[37mPOST / HTTP/1.1\u001b[0m\" 200 -\n"
     ]
    },
    {
     "name": "stdout",
     "output_type": "stream",
     "text": [
      "{'appID': '608ff071856012aac7511084', 'type': 'list', 'commandHash': 'ace4e6183a700e54d750fd8da11f38533cffc1eb9802403d09ba91be43931f29', 'serverSign': 'NhLuVrebjRivQyw6q7lONsZ3dg01n68K8FL6N2SX7EI=', 'appURL': 'http://localhost:49055/'}\n",
      "b'NhLuVrebjRivQyw6q7lONsZ3dg01n68K8FL6N2SX7EI='\n",
      "['list', 'delete']\n"
     ]
    },
    {
     "name": "stderr",
     "output_type": "stream",
     "text": [
      "127.0.0.1 - - [03/May/2021 16:45:02] \"\u001b[37mPOST / HTTP/1.1\u001b[0m\" 200 -\n"
     ]
    },
    {
     "name": "stdout",
     "output_type": "stream",
     "text": [
      "{'appID': '608ff071856012aac7511084', 'type': 'list', 'commandHash': 'ace4e6183a700e54d750fd8da11f38533cffc1eb9802403d09ba91be43931f29', 'serverSign': 'NhLuVrebjRivQyw6q7lONsZ3dg01n68K8FL6N2SX7EI=', 'appURL': 'http://localhost:49055/'}\n",
      "b'NhLuVrebjRivQyw6q7lONsZ3dg01n68K8FL6N2SX7EI='\n",
      "['list', 'delete']\n"
     ]
    },
    {
     "name": "stderr",
     "output_type": "stream",
     "text": [
      "127.0.0.1 - - [03/May/2021 16:45:54] \"\u001b[37mPOST / HTTP/1.1\u001b[0m\" 200 -\n"
     ]
    },
    {
     "name": "stdout",
     "output_type": "stream",
     "text": [
      "{'appID': '608ff071856012aac7511084', 'type': 'list', 'commandHash': 'ace4e6183a700e54d750fd8da11f38533cffc1eb9802403d09ba91be43931f29', 'serverSign': 'NhLuVrebjRivQyw6q7lONsZ3dg01n68K8FL6N2SX7EI=', 'appURL': 'http://localhost:49055/'}\n",
      "b'NhLuVrebjRivQyw6q7lONsZ3dg01n68K8FL6N2SX7EI='\n",
      "['list', 'delete']\n"
     ]
    },
    {
     "name": "stderr",
     "output_type": "stream",
     "text": [
      "127.0.0.1 - - [03/May/2021 16:46:22] \"\u001b[37mPOST / HTTP/1.1\u001b[0m\" 200 -\n"
     ]
    },
    {
     "name": "stdout",
     "output_type": "stream",
     "text": [
      "{'appID': '608ff071856012aac7511084', 'type': 'list', 'commandHash': 'ace4e6183a700e54d750fd8da11f38533cffc1eb9802403d09ba91be43931f29', 'serverSign': 'NhLuVrebjRivQyw6q7lONsZ3dg01n68K8FL6N2SX7EI=', 'appURL': 'http://localhost:49055/'}\n",
      "b'NhLuVrebjRivQyw6q7lONsZ3dg01n68K8FL6N2SX7EI='\n",
      "['list', 'delete']\n"
     ]
    },
    {
     "name": "stderr",
     "output_type": "stream",
     "text": [
      "127.0.0.1 - - [03/May/2021 16:46:31] \"\u001b[37mPOST / HTTP/1.1\u001b[0m\" 200 -\n"
     ]
    },
    {
     "name": "stdout",
     "output_type": "stream",
     "text": [
      "{'appID': '608ff071856012aac7511084', 'type': 'list', 'commandHash': 'ec5808bacfb3b69b34f35d4eae30bdc136b4166695c3a94bbe7fce337b0c4abf', 'serverSign': '0nvFUjYS+x1K98ewuNL1EU+hb4NbbweCZV03abhfXIw=', 'appURL': 'http://localhost:49055/'}\n",
      "b'0nvFUjYS+x1K98ewuNL1EU+hb4NbbweCZV03abhfXIw='\n",
      "['list', 'delete']\n"
     ]
    },
    {
     "name": "stderr",
     "output_type": "stream",
     "text": [
      "127.0.0.1 - - [03/May/2021 16:46:46] \"\u001b[37mPOST / HTTP/1.1\u001b[0m\" 200 -\n"
     ]
    },
    {
     "name": "stdout",
     "output_type": "stream",
     "text": [
      "{'appID': '608ff071856012aac7511084', 'type': 'list', 'commandHash': '3a37a2a33d8e346b33a103f0e1258215f6c27e6ff931f83888abb4c1355ee723', 'serverSign': 'EjSDndLg4T9f6w697tAMTXjWOFxa6wEeUFIguX3sLTI=', 'appURL': 'http://localhost:49055/'}\n",
      "b'EjSDndLg4T9f6w697tAMTXjWOFxa6wEeUFIguX3sLTI='\n",
      "['list', 'delete']\n"
     ]
    },
    {
     "name": "stderr",
     "output_type": "stream",
     "text": [
      "127.0.0.1 - - [03/May/2021 16:47:14] \"\u001b[37mPOST / HTTP/1.1\u001b[0m\" 200 -\n"
     ]
    },
    {
     "name": "stdout",
     "output_type": "stream",
     "text": [
      "{'appID': '608ff071856012aac7511084', 'type': 'list', 'commandHash': 'ace4e6183a700e54d750fd8da11f38533cffc1eb9802403d09ba91be43931f29', 'serverSign': 'NhLuVrebjRivQyw6q7lONsZ3dg01n68K8FL6N2SX7EI=', 'appURL': 'http://localhost:49055/'}\n",
      "b'NhLuVrebjRivQyw6q7lONsZ3dg01n68K8FL6N2SX7EI='\n",
      "['list', 'delete']\n"
     ]
    },
    {
     "name": "stderr",
     "output_type": "stream",
     "text": [
      "127.0.0.1 - - [03/May/2021 16:47:17] \"\u001b[37mPOST / HTTP/1.1\u001b[0m\" 200 -\n"
     ]
    },
    {
     "name": "stdout",
     "output_type": "stream",
     "text": [
      "{'appID': '608ff071856012aac7511084', 'type': 'list', 'commandHash': '18a9e04865242b41ea594e09495a3ffeae5fc5efce7ac270d02265e929afdd54', 'serverSign': 'kjh6TCvAr5CF2u4WSHD1ooIIsrD7xk0ue8/gIIoqK1U=', 'appURL': 'http://localhost:49055/'}\n",
      "b'kjh6TCvAr5CF2u4WSHD1ooIIsrD7xk0ue8/gIIoqK1U='\n",
      "['list', 'delete']\n"
     ]
    },
    {
     "name": "stderr",
     "output_type": "stream",
     "text": [
      "127.0.0.1 - - [03/May/2021 16:49:52] \"\u001b[37mPOST / HTTP/1.1\u001b[0m\" 200 -\n"
     ]
    },
    {
     "name": "stdout",
     "output_type": "stream",
     "text": [
      "{'appID': '608ff071856012aac7511084', 'type': 'list', 'commandHash': '29910167592ad6d15521f797af82bf57e42d9b9c50159f22926ec46ad37e4608', 'serverSign': 'BHTStQJba7f1ML+aIuVOn1gFXAq2RKiZ0AHMrD571xQ=', 'appURL': 'http://localhost:49055/'}\n",
      "b'BHTStQJba7f1ML+aIuVOn1gFXAq2RKiZ0AHMrD571xQ='\n",
      "['list', 'delete']\n"
     ]
    },
    {
     "name": "stderr",
     "output_type": "stream",
     "text": [
      "127.0.0.1 - - [03/May/2021 16:54:56] \"\u001b[37mPOST / HTTP/1.1\u001b[0m\" 200 -\n"
     ]
    },
    {
     "name": "stdout",
     "output_type": "stream",
     "text": [
      "{'appID': '608ff071856012aac7511084', 'type': 'list', 'commandHash': '18a9e04865242b41ea594e09495a3ffeae5fc5efce7ac270d02265e929afdd54', 'serverSign': 'kjh6TCvAr5CF2u4WSHD1ooIIsrD7xk0ue8/gIIoqK1U=', 'appURL': 'http://localhost:49055/'}\n",
      "b'kjh6TCvAr5CF2u4WSHD1ooIIsrD7xk0ue8/gIIoqK1U='\n",
      "['list', 'delete']\n"
     ]
    },
    {
     "name": "stderr",
     "output_type": "stream",
     "text": [
      "127.0.0.1 - - [03/May/2021 16:56:47] \"\u001b[37mPOST / HTTP/1.1\u001b[0m\" 200 -\n"
     ]
    },
    {
     "name": "stdout",
     "output_type": "stream",
     "text": [
      "{'appID': '608ff071856012aac7511084', 'type': 'list', 'commandHash': '18a9e04865242b41ea594e09495a3ffeae5fc5efce7ac270d02265e929afdd54', 'serverSign': 'kjh6TCvAr5CF2u4WSHD1ooIIsrD7xk0ue8/gIIoqK1U=', 'appURL': 'http://localhost:49055/'}\n",
      "b'kjh6TCvAr5CF2u4WSHD1ooIIsrD7xk0ue8/gIIoqK1U='\n",
      "['list', 'delete']\n"
     ]
    },
    {
     "name": "stderr",
     "output_type": "stream",
     "text": [
      "127.0.0.1 - - [03/May/2021 16:56:54] \"\u001b[37mPOST / HTTP/1.1\u001b[0m\" 200 -\n"
     ]
    },
    {
     "name": "stdout",
     "output_type": "stream",
     "text": [
      "{'appID': '608ff071856012aac7511084', 'type': 'list', 'commandHash': 'ec5808bacfb3b69b34f35d4eae30bdc136b4166695c3a94bbe7fce337b0c4abf', 'serverSign': '0nvFUjYS+x1K98ewuNL1EU+hb4NbbweCZV03abhfXIw=', 'appURL': 'http://localhost:49055/'}\n",
      "b'0nvFUjYS+x1K98ewuNL1EU+hb4NbbweCZV03abhfXIw='\n",
      "['list', 'delete']\n"
     ]
    },
    {
     "name": "stderr",
     "output_type": "stream",
     "text": [
      "127.0.0.1 - - [03/May/2021 17:00:52] \"\u001b[37mPOST / HTTP/1.1\u001b[0m\" 200 -\n"
     ]
    },
    {
     "name": "stdout",
     "output_type": "stream",
     "text": [
      "{'appID': '608ff071856012aac7511084', 'type': 'list', 'commandHash': 'ec5808bacfb3b69b34f35d4eae30bdc136b4166695c3a94bbe7fce337b0c4abf', 'serverSign': '0nvFUjYS+x1K98ewuNL1EU+hb4NbbweCZV03abhfXIw=', 'appURL': 'http://localhost:49055/'}\n",
      "b'0nvFUjYS+x1K98ewuNL1EU+hb4NbbweCZV03abhfXIw='\n",
      "['list', 'delete']\n"
     ]
    },
    {
     "name": "stderr",
     "output_type": "stream",
     "text": [
      "127.0.0.1 - - [03/May/2021 17:01:22] \"\u001b[37mPOST / HTTP/1.1\u001b[0m\" 200 -\n"
     ]
    },
    {
     "name": "stdout",
     "output_type": "stream",
     "text": [
      "{'appID': '608ff071856012aac7511084', 'type': 'list', 'commandHash': 'ec5808bacfb3b69b34f35d4eae30bdc136b4166695c3a94bbe7fce337b0c4abf', 'serverSign': '0nvFUjYS+x1K98ewuNL1EU+hb4NbbweCZV03abhfXIw=', 'appURL': 'http://localhost:49055/'}\n",
      "b'0nvFUjYS+x1K98ewuNL1EU+hb4NbbweCZV03abhfXIw='\n",
      "['list', 'delete']\n"
     ]
    },
    {
     "name": "stderr",
     "output_type": "stream",
     "text": [
      "127.0.0.1 - - [03/May/2021 17:03:42] \"\u001b[37mPOST / HTTP/1.1\u001b[0m\" 200 -\n"
     ]
    },
    {
     "name": "stdout",
     "output_type": "stream",
     "text": [
      "{'appID': '608ff071856012aac7511084', 'type': 'list', 'commandHash': '18a9e04865242b41ea594e09495a3ffeae5fc5efce7ac270d02265e929afdd54', 'serverSign': 'kjh6TCvAr5CF2u4WSHD1ooIIsrD7xk0ue8/gIIoqK1U=', 'appURL': 'http://localhost:49055/'}\n",
      "b'kjh6TCvAr5CF2u4WSHD1ooIIsrD7xk0ue8/gIIoqK1U='\n",
      "['list', 'delete']\n"
     ]
    },
    {
     "name": "stderr",
     "output_type": "stream",
     "text": [
      "127.0.0.1 - - [03/May/2021 17:03:56] \"\u001b[37mPOST / HTTP/1.1\u001b[0m\" 200 -\n"
     ]
    },
    {
     "name": "stdout",
     "output_type": "stream",
     "text": [
      "{'appID': '608ff071856012aac7511084', 'type': 'list', 'commandHash': '18a9e04865242b41ea594e09495a3ffeae5fc5efce7ac270d02265e929afdd54', 'serverSign': 'kjh6TCvAr5CF2u4WSHD1ooIIsrD7xk0ue8/gIIoqK1U=', 'appURL': 'http://localhost:49055/'}\n",
      "b'kjh6TCvAr5CF2u4WSHD1ooIIsrD7xk0ue8/gIIoqK1U='\n",
      "['list', 'delete']\n"
     ]
    },
    {
     "name": "stderr",
     "output_type": "stream",
     "text": [
      "127.0.0.1 - - [03/May/2021 17:04:29] \"\u001b[37mPOST / HTTP/1.1\u001b[0m\" 200 -\n"
     ]
    },
    {
     "name": "stdout",
     "output_type": "stream",
     "text": [
      "{'appID': '608ff071856012aac7511084', 'type': 'list', 'commandHash': '18a9e04865242b41ea594e09495a3ffeae5fc5efce7ac270d02265e929afdd54', 'serverSign': 'kjh6TCvAr5CF2u4WSHD1ooIIsrD7xk0ue8/gIIoqK1U=', 'appURL': 'http://localhost:49055/'}\n",
      "b'kjh6TCvAr5CF2u4WSHD1ooIIsrD7xk0ue8/gIIoqK1U='\n",
      "['list', 'delete']\n"
     ]
    },
    {
     "name": "stderr",
     "output_type": "stream",
     "text": [
      "127.0.0.1 - - [03/May/2021 17:04:57] \"\u001b[37mPOST / HTTP/1.1\u001b[0m\" 200 -\n"
     ]
    },
    {
     "name": "stdout",
     "output_type": "stream",
     "text": [
      "{'appID': '608ff071856012aac7511084', 'type': 'list', 'commandHash': '18a9e04865242b41ea594e09495a3ffeae5fc5efce7ac270d02265e929afdd54', 'serverSign': 'kjh6TCvAr5CF2u4WSHD1ooIIsrD7xk0ue8/gIIoqK1U=', 'appURL': 'http://localhost:49055/'}\n",
      "b'kjh6TCvAr5CF2u4WSHD1ooIIsrD7xk0ue8/gIIoqK1U='\n",
      "['list', 'delete']\n"
     ]
    },
    {
     "name": "stderr",
     "output_type": "stream",
     "text": [
      "127.0.0.1 - - [03/May/2021 17:05:41] \"\u001b[37mPOST / HTTP/1.1\u001b[0m\" 200 -\n"
     ]
    },
    {
     "name": "stdout",
     "output_type": "stream",
     "text": [
      "{'appID': '608ff071856012aac7511084', 'type': 'list', 'commandHash': '18a9e04865242b41ea594e09495a3ffeae5fc5efce7ac270d02265e929afdd54', 'serverSign': 'kjh6TCvAr5CF2u4WSHD1ooIIsrD7xk0ue8/gIIoqK1U=', 'appURL': 'http://localhost:49055/'}\n",
      "b'kjh6TCvAr5CF2u4WSHD1ooIIsrD7xk0ue8/gIIoqK1U='\n",
      "['list', 'delete']\n"
     ]
    },
    {
     "name": "stderr",
     "output_type": "stream",
     "text": [
      "127.0.0.1 - - [03/May/2021 17:06:13] \"\u001b[37mPOST / HTTP/1.1\u001b[0m\" 200 -\n"
     ]
    },
    {
     "name": "stdout",
     "output_type": "stream",
     "text": [
      "{'appID': '608ff071856012aac7511084', 'type': 'list', 'commandHash': '18a9e04865242b41ea594e09495a3ffeae5fc5efce7ac270d02265e929afdd54', 'serverSign': 'kjh6TCvAr5CF2u4WSHD1ooIIsrD7xk0ue8/gIIoqK1U=', 'appURL': 'http://localhost:49055/'}\n",
      "b'kjh6TCvAr5CF2u4WSHD1ooIIsrD7xk0ue8/gIIoqK1U='\n",
      "['list', 'delete']\n"
     ]
    },
    {
     "name": "stderr",
     "output_type": "stream",
     "text": [
      "127.0.0.1 - - [03/May/2021 17:06:49] \"\u001b[37mPOST / HTTP/1.1\u001b[0m\" 200 -\n"
     ]
    },
    {
     "name": "stdout",
     "output_type": "stream",
     "text": [
      "{'appID': '608ff071856012aac7511084', 'type': 'list', 'commandHash': '18a9e04865242b41ea594e09495a3ffeae5fc5efce7ac270d02265e929afdd54', 'serverSign': 'kjh6TCvAr5CF2u4WSHD1ooIIsrD7xk0ue8/gIIoqK1U=', 'appURL': 'http://localhost:49055/'}\n",
      "b'kjh6TCvAr5CF2u4WSHD1ooIIsrD7xk0ue8/gIIoqK1U='\n",
      "['list', 'delete']\n"
     ]
    },
    {
     "name": "stderr",
     "output_type": "stream",
     "text": [
      "127.0.0.1 - - [03/May/2021 17:07:07] \"\u001b[37mPOST / HTTP/1.1\u001b[0m\" 200 -\n"
     ]
    },
    {
     "name": "stdout",
     "output_type": "stream",
     "text": [
      "{'appID': '608ff071856012aac7511084', 'type': 'list', 'commandHash': '18a9e04865242b41ea594e09495a3ffeae5fc5efce7ac270d02265e929afdd54', 'serverSign': 'kjh6TCvAr5CF2u4WSHD1ooIIsrD7xk0ue8/gIIoqK1U=', 'appURL': 'http://localhost:49055/'}\n",
      "b'kjh6TCvAr5CF2u4WSHD1ooIIsrD7xk0ue8/gIIoqK1U='\n",
      "['list', 'delete']\n"
     ]
    },
    {
     "name": "stderr",
     "output_type": "stream",
     "text": [
      "127.0.0.1 - - [03/May/2021 17:07:24] \"\u001b[37mPOST / HTTP/1.1\u001b[0m\" 200 -\n"
     ]
    },
    {
     "name": "stdout",
     "output_type": "stream",
     "text": [
      "{'appID': '608ff071856012aac7511084', 'type': 'list', 'commandHash': '18a9e04865242b41ea594e09495a3ffeae5fc5efce7ac270d02265e929afdd54', 'serverSign': 'kjh6TCvAr5CF2u4WSHD1ooIIsrD7xk0ue8/gIIoqK1U=', 'appURL': 'http://localhost:49055/'}\n",
      "b'kjh6TCvAr5CF2u4WSHD1ooIIsrD7xk0ue8/gIIoqK1U='\n",
      "['list', 'delete']\n"
     ]
    },
    {
     "name": "stderr",
     "output_type": "stream",
     "text": [
      "127.0.0.1 - - [03/May/2021 17:07:49] \"\u001b[37mPOST / HTTP/1.1\u001b[0m\" 200 -\n"
     ]
    },
    {
     "name": "stdout",
     "output_type": "stream",
     "text": [
      "{'appID': '608ff071856012aac7511084', 'type': 'list', 'commandHash': '18a9e04865242b41ea594e09495a3ffeae5fc5efce7ac270d02265e929afdd54', 'serverSign': 'kjh6TCvAr5CF2u4WSHD1ooIIsrD7xk0ue8/gIIoqK1U=', 'appURL': 'http://localhost:49055/'}\n",
      "b'kjh6TCvAr5CF2u4WSHD1ooIIsrD7xk0ue8/gIIoqK1U='\n",
      "['list', 'delete']\n"
     ]
    },
    {
     "name": "stderr",
     "output_type": "stream",
     "text": [
      "127.0.0.1 - - [03/May/2021 17:07:56] \"\u001b[37mPOST / HTTP/1.1\u001b[0m\" 200 -\n"
     ]
    },
    {
     "name": "stdout",
     "output_type": "stream",
     "text": [
      "{'appID': '608ff071856012aac7511084', 'type': 'list', 'commandHash': 'f25db34f57136cba9b680f40852e6c69ecc903945df02d44073e7e9657eedcf1', 'serverSign': 'g3G8b5D0yu1CuPtrev6U69YNsTrwcDrKZmx71ps5Zwk=', 'appURL': 'http://localhost:49055/'}\n",
      "b'g3G8b5D0yu1CuPtrev6U69YNsTrwcDrKZmx71ps5Zwk='\n",
      "['list', 'delete']\n"
     ]
    },
    {
     "name": "stderr",
     "output_type": "stream",
     "text": [
      "127.0.0.1 - - [03/May/2021 17:08:56] \"\u001b[37mPOST / HTTP/1.1\u001b[0m\" 200 -\n"
     ]
    },
    {
     "name": "stdout",
     "output_type": "stream",
     "text": [
      "{'appID': '608ff071856012aac7511084', 'type': 'list', 'commandHash': '18a9e04865242b41ea594e09495a3ffeae5fc5efce7ac270d02265e929afdd54', 'serverSign': 'kjh6TCvAr5CF2u4WSHD1ooIIsrD7xk0ue8/gIIoqK1U=', 'appURL': 'http://localhost:49055/'}\n",
      "b'kjh6TCvAr5CF2u4WSHD1ooIIsrD7xk0ue8/gIIoqK1U='\n",
      "['list', 'delete']\n"
     ]
    },
    {
     "name": "stderr",
     "output_type": "stream",
     "text": [
      "127.0.0.1 - - [03/May/2021 17:09:24] \"\u001b[37mPOST / HTTP/1.1\u001b[0m\" 200 -\n"
     ]
    },
    {
     "name": "stdout",
     "output_type": "stream",
     "text": [
      "{'appID': '608ff071856012aac7511084', 'type': 'list', 'commandHash': '18a9e04865242b41ea594e09495a3ffeae5fc5efce7ac270d02265e929afdd54', 'serverSign': 'kjh6TCvAr5CF2u4WSHD1ooIIsrD7xk0ue8/gIIoqK1U=', 'appURL': 'http://localhost:49055/'}\n",
      "b'kjh6TCvAr5CF2u4WSHD1ooIIsrD7xk0ue8/gIIoqK1U='\n",
      "['list', 'delete']\n"
     ]
    },
    {
     "name": "stderr",
     "output_type": "stream",
     "text": [
      "127.0.0.1 - - [03/May/2021 17:09:31] \"\u001b[37mPOST / HTTP/1.1\u001b[0m\" 200 -\n"
     ]
    },
    {
     "name": "stdout",
     "output_type": "stream",
     "text": [
      "{'appID': '608ff071856012aac7511084', 'type': 'list', 'commandHash': '38e442d368844ca9aaac91cafc2ebce0142f5684df69c758fee3d938c606a208', 'serverSign': '0vJ9+vWV6B4bTs+OjtjKPT5w04R/waMj1wnDlToMtco=', 'appURL': 'http://localhost:49055/'}\n",
      "b'0vJ9+vWV6B4bTs+OjtjKPT5w04R/waMj1wnDlToMtco='\n",
      "['list', 'delete']\n"
     ]
    },
    {
     "name": "stderr",
     "output_type": "stream",
     "text": [
      "127.0.0.1 - - [03/May/2021 17:09:36] \"\u001b[37mPOST / HTTP/1.1\u001b[0m\" 200 -\n"
     ]
    },
    {
     "name": "stdout",
     "output_type": "stream",
     "text": [
      "{'appID': '608ff071856012aac7511084', 'type': 'list', 'commandHash': '451d1ac03b86e4cc6c2bfcf3e45e3f971f99adada47cb9e2855cef96fd217967', 'serverSign': 'qlMSE48KaCbV67c5UpJRLDAxw7pS8IUcuuuILe4Qphg=', 'appURL': 'http://localhost:49055/'}\n",
      "b'qlMSE48KaCbV67c5UpJRLDAxw7pS8IUcuuuILe4Qphg='\n",
      "['list', 'delete']\n"
     ]
    },
    {
     "name": "stderr",
     "output_type": "stream",
     "text": [
      "127.0.0.1 - - [03/May/2021 17:09:43] \"\u001b[37mPOST / HTTP/1.1\u001b[0m\" 200 -\n"
     ]
    },
    {
     "name": "stdout",
     "output_type": "stream",
     "text": [
      "{'appID': '608ff071856012aac7511084', 'type': 'list', 'commandHash': '38e442d368844ca9aaac91cafc2ebce0142f5684df69c758fee3d938c606a208', 'serverSign': '0vJ9+vWV6B4bTs+OjtjKPT5w04R/waMj1wnDlToMtco=', 'appURL': 'http://localhost:49055/'}\n",
      "b'0vJ9+vWV6B4bTs+OjtjKPT5w04R/waMj1wnDlToMtco='\n",
      "['list', 'delete']\n"
     ]
    },
    {
     "name": "stderr",
     "output_type": "stream",
     "text": [
      "127.0.0.1 - - [03/May/2021 17:09:46] \"\u001b[37mPOST / HTTP/1.1\u001b[0m\" 200 -\n"
     ]
    },
    {
     "name": "stdout",
     "output_type": "stream",
     "text": [
      "{'appID': '608ff071856012aac7511084', 'type': 'list', 'commandHash': 'ace4e6183a700e54d750fd8da11f38533cffc1eb9802403d09ba91be43931f29', 'serverSign': 'NhLuVrebjRivQyw6q7lONsZ3dg01n68K8FL6N2SX7EI=', 'appURL': 'http://localhost:49055/'}\n",
      "b'NhLuVrebjRivQyw6q7lONsZ3dg01n68K8FL6N2SX7EI='\n",
      "['list', 'delete']\n"
     ]
    },
    {
     "name": "stderr",
     "output_type": "stream",
     "text": [
      "127.0.0.1 - - [03/May/2021 17:09:54] \"\u001b[37mPOST / HTTP/1.1\u001b[0m\" 200 -\n"
     ]
    },
    {
     "name": "stdout",
     "output_type": "stream",
     "text": [
      "{'appID': '608ff071856012aac7511084', 'type': 'list', 'commandHash': '7e6dac442807c3d0e58e11fc329bc5953f679906568b7f97ce0a7dc463c87db8', 'serverSign': 'xs9Zepl8JVNnaMCLMH3nhsBqq3IYDYpE+x4IqsFJAj4=', 'appURL': 'http://localhost:49055/'}\n",
      "b'xs9Zepl8JVNnaMCLMH3nhsBqq3IYDYpE+x4IqsFJAj4='\n",
      "['list', 'delete']\n"
     ]
    },
    {
     "name": "stderr",
     "output_type": "stream",
     "text": [
      "127.0.0.1 - - [03/May/2021 17:11:52] \"\u001b[37mPOST / HTTP/1.1\u001b[0m\" 200 -\n"
     ]
    },
    {
     "name": "stdout",
     "output_type": "stream",
     "text": [
      "{'appID': '608ff071856012aac7511084', 'type': 'list', 'commandHash': 'adc9b88835386ac0a433b06cb9f74de195cea35b37cc387606711fa80c3175b5', 'serverSign': 'dLRLGYNf3RQr28VGwT8tkG6TT2x0fHi4PeYnGQ42eu0=', 'appURL': 'http://localhost:49055/'}\n",
      "b'dLRLGYNf3RQr28VGwT8tkG6TT2x0fHi4PeYnGQ42eu0='\n",
      "['list', 'delete']\n"
     ]
    },
    {
     "name": "stderr",
     "output_type": "stream",
     "text": [
      "127.0.0.1 - - [03/May/2021 17:15:32] \"\u001b[37mPOST / HTTP/1.1\u001b[0m\" 200 -\n"
     ]
    },
    {
     "name": "stdout",
     "output_type": "stream",
     "text": [
      "{'appID': '608ff071856012aac7511084', 'type': 'list', 'commandHash': '18a9e04865242b41ea594e09495a3ffeae5fc5efce7ac270d02265e929afdd54', 'serverSign': 'kjh6TCvAr5CF2u4WSHD1ooIIsrD7xk0ue8/gIIoqK1U=', 'appURL': 'http://localhost:49055/'}\n",
      "b'kjh6TCvAr5CF2u4WSHD1ooIIsrD7xk0ue8/gIIoqK1U='\n",
      "['list', 'delete']\n"
     ]
    },
    {
     "name": "stderr",
     "output_type": "stream",
     "text": [
      "127.0.0.1 - - [03/May/2021 17:16:13] \"\u001b[37mPOST / HTTP/1.1\u001b[0m\" 200 -\n"
     ]
    },
    {
     "name": "stdout",
     "output_type": "stream",
     "text": [
      "{'appID': '608ff071856012aac7511084', 'type': 'list', 'commandHash': '18a9e04865242b41ea594e09495a3ffeae5fc5efce7ac270d02265e929afdd54', 'serverSign': 'kjh6TCvAr5CF2u4WSHD1ooIIsrD7xk0ue8/gIIoqK1U=', 'appURL': 'http://localhost:49055/'}\n",
      "b'kjh6TCvAr5CF2u4WSHD1ooIIsrD7xk0ue8/gIIoqK1U='\n",
      "['list', 'delete']\n"
     ]
    },
    {
     "name": "stderr",
     "output_type": "stream",
     "text": [
      "127.0.0.1 - - [03/May/2021 17:17:27] \"\u001b[37mPOST / HTTP/1.1\u001b[0m\" 200 -\n"
     ]
    },
    {
     "name": "stdout",
     "output_type": "stream",
     "text": [
      "{'appID': '608ff071856012aac7511084', 'type': 'list', 'commandHash': '18a9e04865242b41ea594e09495a3ffeae5fc5efce7ac270d02265e929afdd54', 'serverSign': 'kjh6TCvAr5CF2u4WSHD1ooIIsrD7xk0ue8/gIIoqK1U=', 'appURL': 'http://localhost:49055/'}\n",
      "b'kjh6TCvAr5CF2u4WSHD1ooIIsrD7xk0ue8/gIIoqK1U='\n",
      "['list', 'delete']\n"
     ]
    },
    {
     "name": "stderr",
     "output_type": "stream",
     "text": [
      "127.0.0.1 - - [03/May/2021 17:17:57] \"\u001b[37mPOST / HTTP/1.1\u001b[0m\" 200 -\n"
     ]
    },
    {
     "name": "stdout",
     "output_type": "stream",
     "text": [
      "{'appID': '608ff071856012aac7511084', 'type': 'list', 'commandHash': '18a9e04865242b41ea594e09495a3ffeae5fc5efce7ac270d02265e929afdd54', 'serverSign': 'kjh6TCvAr5CF2u4WSHD1ooIIsrD7xk0ue8/gIIoqK1U=', 'appURL': 'http://localhost:49055/'}\n",
      "b'kjh6TCvAr5CF2u4WSHD1ooIIsrD7xk0ue8/gIIoqK1U='\n",
      "['list', 'delete']\n"
     ]
    },
    {
     "name": "stderr",
     "output_type": "stream",
     "text": [
      "127.0.0.1 - - [03/May/2021 17:18:33] \"\u001b[37mPOST / HTTP/1.1\u001b[0m\" 200 -\n"
     ]
    },
    {
     "name": "stdout",
     "output_type": "stream",
     "text": [
      "{'appID': '608ff071856012aac7511084', 'type': 'list', 'commandHash': '18a9e04865242b41ea594e09495a3ffeae5fc5efce7ac270d02265e929afdd54', 'serverSign': 'kjh6TCvAr5CF2u4WSHD1ooIIsrD7xk0ue8/gIIoqK1U=', 'appURL': 'http://localhost:49055/'}\n",
      "b'kjh6TCvAr5CF2u4WSHD1ooIIsrD7xk0ue8/gIIoqK1U='\n",
      "['list', 'delete']\n"
     ]
    },
    {
     "name": "stderr",
     "output_type": "stream",
     "text": [
      "127.0.0.1 - - [03/May/2021 17:18:44] \"\u001b[37mPOST / HTTP/1.1\u001b[0m\" 200 -\n"
     ]
    },
    {
     "name": "stdout",
     "output_type": "stream",
     "text": [
      "{'appID': '608ff071856012aac7511084', 'type': 'list', 'commandHash': '451d1ac03b86e4cc6c2bfcf3e45e3f971f99adada47cb9e2855cef96fd217967', 'serverSign': 'qlMSE48KaCbV67c5UpJRLDAxw7pS8IUcuuuILe4Qphg=', 'appURL': 'http://localhost:49055/'}\n",
      "b'qlMSE48KaCbV67c5UpJRLDAxw7pS8IUcuuuILe4Qphg='\n",
      "['list', 'delete']\n"
     ]
    },
    {
     "name": "stderr",
     "output_type": "stream",
     "text": [
      "127.0.0.1 - - [03/May/2021 17:21:03] \"\u001b[37mPOST / HTTP/1.1\u001b[0m\" 200 -\n"
     ]
    },
    {
     "name": "stdout",
     "output_type": "stream",
     "text": [
      "{'appID': '608ff071856012aac7511084', 'type': 'list', 'commandHash': '18a9e04865242b41ea594e09495a3ffeae5fc5efce7ac270d02265e929afdd54', 'serverSign': 'kjh6TCvAr5CF2u4WSHD1ooIIsrD7xk0ue8/gIIoqK1U=', 'appURL': 'http://localhost:49055/'}\n",
      "b'kjh6TCvAr5CF2u4WSHD1ooIIsrD7xk0ue8/gIIoqK1U='\n",
      "['list', 'delete']\n"
     ]
    },
    {
     "name": "stderr",
     "output_type": "stream",
     "text": [
      "127.0.0.1 - - [03/May/2021 17:21:38] \"\u001b[37mPOST / HTTP/1.1\u001b[0m\" 200 -\n"
     ]
    },
    {
     "name": "stdout",
     "output_type": "stream",
     "text": [
      "{'appID': '608ff071856012aac7511084', 'type': 'list', 'commandHash': '18a9e04865242b41ea594e09495a3ffeae5fc5efce7ac270d02265e929afdd54', 'serverSign': 'kjh6TCvAr5CF2u4WSHD1ooIIsrD7xk0ue8/gIIoqK1U=', 'appURL': 'http://localhost:49055/'}\n",
      "b'kjh6TCvAr5CF2u4WSHD1ooIIsrD7xk0ue8/gIIoqK1U='\n",
      "['list', 'delete']\n"
     ]
    },
    {
     "name": "stderr",
     "output_type": "stream",
     "text": [
      "127.0.0.1 - - [03/May/2021 17:22:22] \"\u001b[37mPOST / HTTP/1.1\u001b[0m\" 200 -\n"
     ]
    },
    {
     "name": "stdout",
     "output_type": "stream",
     "text": [
      "{'appID': '608ff071856012aac7511084', 'type': 'list', 'commandHash': '18a9e04865242b41ea594e09495a3ffeae5fc5efce7ac270d02265e929afdd54', 'serverSign': 'kjh6TCvAr5CF2u4WSHD1ooIIsrD7xk0ue8/gIIoqK1U=', 'appURL': 'http://localhost:49055/'}\n",
      "b'kjh6TCvAr5CF2u4WSHD1ooIIsrD7xk0ue8/gIIoqK1U='\n",
      "['list', 'delete']\n"
     ]
    },
    {
     "name": "stderr",
     "output_type": "stream",
     "text": [
      "127.0.0.1 - - [03/May/2021 17:24:10] \"\u001b[37mPOST / HTTP/1.1\u001b[0m\" 200 -\n"
     ]
    },
    {
     "name": "stdout",
     "output_type": "stream",
     "text": [
      "{'appID': '608ff071856012aac7511084', 'type': 'list', 'commandHash': '18a9e04865242b41ea594e09495a3ffeae5fc5efce7ac270d02265e929afdd54', 'serverSign': 'kjh6TCvAr5CF2u4WSHD1ooIIsrD7xk0ue8/gIIoqK1U=', 'appURL': 'http://localhost:49055/'}\n",
      "b'kjh6TCvAr5CF2u4WSHD1ooIIsrD7xk0ue8/gIIoqK1U='\n",
      "['list', 'delete']\n"
     ]
    },
    {
     "name": "stderr",
     "output_type": "stream",
     "text": [
      "127.0.0.1 - - [03/May/2021 17:26:11] \"\u001b[37mPOST / HTTP/1.1\u001b[0m\" 200 -\n"
     ]
    },
    {
     "name": "stdout",
     "output_type": "stream",
     "text": [
      "{'appID': '608ff071856012aac7511084', 'type': 'list', 'commandHash': '18a9e04865242b41ea594e09495a3ffeae5fc5efce7ac270d02265e929afdd54', 'serverSign': 'kjh6TCvAr5CF2u4WSHD1ooIIsrD7xk0ue8/gIIoqK1U=', 'appURL': 'http://localhost:49055/'}\n",
      "b'kjh6TCvAr5CF2u4WSHD1ooIIsrD7xk0ue8/gIIoqK1U='\n",
      "['list', 'delete']\n"
     ]
    },
    {
     "name": "stderr",
     "output_type": "stream",
     "text": [
      "127.0.0.1 - - [03/May/2021 17:26:24] \"\u001b[37mPOST / HTTP/1.1\u001b[0m\" 200 -\n"
     ]
    },
    {
     "name": "stdout",
     "output_type": "stream",
     "text": [
      "{'appID': '608ff071856012aac7511084', 'type': 'list', 'commandHash': '18a9e04865242b41ea594e09495a3ffeae5fc5efce7ac270d02265e929afdd54', 'serverSign': 'kjh6TCvAr5CF2u4WSHD1ooIIsrD7xk0ue8/gIIoqK1U=', 'appURL': 'http://localhost:49055/'}\n",
      "b'kjh6TCvAr5CF2u4WSHD1ooIIsrD7xk0ue8/gIIoqK1U='\n",
      "['list', 'delete']\n"
     ]
    },
    {
     "name": "stderr",
     "output_type": "stream",
     "text": [
      "127.0.0.1 - - [03/May/2021 17:36:03] \"\u001b[37mPOST / HTTP/1.1\u001b[0m\" 200 -\n"
     ]
    },
    {
     "name": "stdout",
     "output_type": "stream",
     "text": [
      "{'appID': '608ff071856012aac7511084', 'type': 'list', 'commandHash': '18a9e04865242b41ea594e09495a3ffeae5fc5efce7ac270d02265e929afdd54', 'serverSign': 'kjh6TCvAr5CF2u4WSHD1ooIIsrD7xk0ue8/gIIoqK1U=', 'appURL': 'http://localhost:49055/'}\n",
      "b'kjh6TCvAr5CF2u4WSHD1ooIIsrD7xk0ue8/gIIoqK1U='\n",
      "['list', 'delete']\n"
     ]
    },
    {
     "name": "stderr",
     "output_type": "stream",
     "text": [
      "127.0.0.1 - - [03/May/2021 17:36:15] \"\u001b[37mPOST / HTTP/1.1\u001b[0m\" 200 -\n"
     ]
    },
    {
     "name": "stdout",
     "output_type": "stream",
     "text": [
      "{'appID': '608ff071856012aac7511084', 'type': 'list', 'commandHash': '38e442d368844ca9aaac91cafc2ebce0142f5684df69c758fee3d938c606a208', 'serverSign': '0vJ9+vWV6B4bTs+OjtjKPT5w04R/waMj1wnDlToMtco=', 'appURL': 'http://localhost:49055/'}\n",
      "b'0vJ9+vWV6B4bTs+OjtjKPT5w04R/waMj1wnDlToMtco='\n",
      "['list', 'delete']\n"
     ]
    },
    {
     "name": "stderr",
     "output_type": "stream",
     "text": [
      "127.0.0.1 - - [03/May/2021 17:36:33] \"\u001b[37mPOST / HTTP/1.1\u001b[0m\" 200 -\n"
     ]
    },
    {
     "name": "stdout",
     "output_type": "stream",
     "text": [
      "{'appID': '608f1351b59c6f34109189d9', 'type': 'read', 'commandHash': 'bd249d08a8ac679e2006237960f7a09841bcdc14f09ddf245626011ad8bb7b12', 'serverSign': 'dCtvyZuv4r7Z6RgbERiCgBC/PU362t7E3snNOUW85Po=', 'appURL': 'http://localhost:49054/'}\n",
      "b'dCtvyZuv4r7Z6RgbERiCgBC/PU362t7E3snNOUW85Po='\n",
      "['read', 'write']\n"
     ]
    },
    {
     "name": "stderr",
     "output_type": "stream",
     "text": [
      "127.0.0.1 - - [03/May/2021 17:41:06] \"\u001b[37mPOST / HTTP/1.1\u001b[0m\" 200 -\n"
     ]
    },
    {
     "name": "stdout",
     "output_type": "stream",
     "text": [
      "{'appID': '608ff071856012aac7511084', 'type': 'list', 'commandHash': '18a9e04865242b41ea594e09495a3ffeae5fc5efce7ac270d02265e929afdd54', 'serverSign': 'kjh6TCvAr5CF2u4WSHD1ooIIsrD7xk0ue8/gIIoqK1U=', 'appURL': 'http://localhost:49055/'}\n",
      "b'kjh6TCvAr5CF2u4WSHD1ooIIsrD7xk0ue8/gIIoqK1U='\n",
      "['list', 'delete']\n"
     ]
    },
    {
     "name": "stderr",
     "output_type": "stream",
     "text": [
      "127.0.0.1 - - [03/May/2021 17:42:57] \"\u001b[37mPOST / HTTP/1.1\u001b[0m\" 200 -\n"
     ]
    },
    {
     "name": "stdout",
     "output_type": "stream",
     "text": [
      "{'appID': '608ff071856012aac7511084', 'type': 'list', 'commandHash': '18a9e04865242b41ea594e09495a3ffeae5fc5efce7ac270d02265e929afdd54', 'serverSign': 'kjh6TCvAr5CF2u4WSHD1ooIIsrD7xk0ue8/gIIoqK1U=', 'appURL': 'http://localhost:49055/'}\n",
      "b'kjh6TCvAr5CF2u4WSHD1ooIIsrD7xk0ue8/gIIoqK1U='\n",
      "['list', 'delete']\n"
     ]
    },
    {
     "name": "stderr",
     "output_type": "stream",
     "text": [
      "127.0.0.1 - - [03/May/2021 17:43:31] \"\u001b[37mPOST / HTTP/1.1\u001b[0m\" 200 -\n"
     ]
    },
    {
     "name": "stdout",
     "output_type": "stream",
     "text": [
      "{'appID': '608ff071856012aac7511084', 'type': 'list', 'commandHash': '18a9e04865242b41ea594e09495a3ffeae5fc5efce7ac270d02265e929afdd54', 'serverSign': 'kjh6TCvAr5CF2u4WSHD1ooIIsrD7xk0ue8/gIIoqK1U=', 'appURL': 'http://localhost:49055/'}\n",
      "b'kjh6TCvAr5CF2u4WSHD1ooIIsrD7xk0ue8/gIIoqK1U='\n",
      "['list', 'delete']\n"
     ]
    },
    {
     "name": "stderr",
     "output_type": "stream",
     "text": [
      "127.0.0.1 - - [03/May/2021 17:44:47] \"\u001b[37mPOST / HTTP/1.1\u001b[0m\" 200 -\n"
     ]
    },
    {
     "name": "stdout",
     "output_type": "stream",
     "text": [
      "{'appID': '608ff071856012aac7511084', 'type': 'list', 'commandHash': '18a9e04865242b41ea594e09495a3ffeae5fc5efce7ac270d02265e929afdd54', 'serverSign': 'kjh6TCvAr5CF2u4WSHD1ooIIsrD7xk0ue8/gIIoqK1U=', 'appURL': 'http://localhost:49055/'}\n",
      "b'kjh6TCvAr5CF2u4WSHD1ooIIsrD7xk0ue8/gIIoqK1U='\n",
      "['list', 'delete']\n"
     ]
    },
    {
     "name": "stderr",
     "output_type": "stream",
     "text": [
      "127.0.0.1 - - [03/May/2021 17:45:10] \"\u001b[37mPOST / HTTP/1.1\u001b[0m\" 200 -\n"
     ]
    },
    {
     "name": "stdout",
     "output_type": "stream",
     "text": [
      "{'appID': '608ff071856012aac7511084', 'type': 'list', 'commandHash': '18a9e04865242b41ea594e09495a3ffeae5fc5efce7ac270d02265e929afdd54', 'serverSign': 'kjh6TCvAr5CF2u4WSHD1ooIIsrD7xk0ue8/gIIoqK1U=', 'appURL': 'http://localhost:49055/'}\n",
      "b'kjh6TCvAr5CF2u4WSHD1ooIIsrD7xk0ue8/gIIoqK1U='\n",
      "['list', 'delete']\n"
     ]
    },
    {
     "name": "stderr",
     "output_type": "stream",
     "text": [
      "127.0.0.1 - - [03/May/2021 17:45:53] \"\u001b[37mPOST / HTTP/1.1\u001b[0m\" 200 -\n"
     ]
    },
    {
     "name": "stdout",
     "output_type": "stream",
     "text": [
      "{'appID': '608ff071856012aac7511084', 'type': 'list', 'commandHash': '18a9e04865242b41ea594e09495a3ffeae5fc5efce7ac270d02265e929afdd54', 'serverSign': 'kjh6TCvAr5CF2u4WSHD1ooIIsrD7xk0ue8/gIIoqK1U=', 'appURL': 'http://localhost:49055/'}\n",
      "b'kjh6TCvAr5CF2u4WSHD1ooIIsrD7xk0ue8/gIIoqK1U='\n",
      "['list', 'delete']\n"
     ]
    },
    {
     "name": "stderr",
     "output_type": "stream",
     "text": [
      "127.0.0.1 - - [03/May/2021 17:46:40] \"\u001b[37mPOST / HTTP/1.1\u001b[0m\" 200 -\n"
     ]
    },
    {
     "name": "stdout",
     "output_type": "stream",
     "text": [
      "{'appID': '608ff071856012aac7511084', 'type': 'list', 'commandHash': '18a9e04865242b41ea594e09495a3ffeae5fc5efce7ac270d02265e929afdd54', 'serverSign': 'kjh6TCvAr5CF2u4WSHD1ooIIsrD7xk0ue8/gIIoqK1U=', 'appURL': 'http://localhost:49055/'}\n",
      "b'kjh6TCvAr5CF2u4WSHD1ooIIsrD7xk0ue8/gIIoqK1U='\n",
      "['list', 'delete']\n"
     ]
    },
    {
     "name": "stderr",
     "output_type": "stream",
     "text": [
      "127.0.0.1 - - [03/May/2021 17:46:54] \"\u001b[37mPOST / HTTP/1.1\u001b[0m\" 200 -\n"
     ]
    },
    {
     "name": "stdout",
     "output_type": "stream",
     "text": [
      "{'appID': '608ff071856012aac7511084', 'type': 'list', 'commandHash': '18a9e04865242b41ea594e09495a3ffeae5fc5efce7ac270d02265e929afdd54', 'serverSign': 'kjh6TCvAr5CF2u4WSHD1ooIIsrD7xk0ue8/gIIoqK1U=', 'appURL': 'http://localhost:49055/'}\n",
      "b'kjh6TCvAr5CF2u4WSHD1ooIIsrD7xk0ue8/gIIoqK1U='\n",
      "['list', 'delete']\n"
     ]
    },
    {
     "name": "stderr",
     "output_type": "stream",
     "text": [
      "127.0.0.1 - - [03/May/2021 17:47:58] \"\u001b[37mPOST / HTTP/1.1\u001b[0m\" 200 -\n"
     ]
    },
    {
     "name": "stdout",
     "output_type": "stream",
     "text": [
      "{'appID': '608ff071856012aac7511084', 'type': 'list', 'commandHash': '18a9e04865242b41ea594e09495a3ffeae5fc5efce7ac270d02265e929afdd54', 'serverSign': 'kjh6TCvAr5CF2u4WSHD1ooIIsrD7xk0ue8/gIIoqK1U=', 'appURL': 'http://localhost:49055/'}\n",
      "b'kjh6TCvAr5CF2u4WSHD1ooIIsrD7xk0ue8/gIIoqK1U='\n",
      "['list', 'delete']\n"
     ]
    },
    {
     "name": "stderr",
     "output_type": "stream",
     "text": [
      "127.0.0.1 - - [03/May/2021 17:48:28] \"\u001b[37mPOST / HTTP/1.1\u001b[0m\" 200 -\n"
     ]
    },
    {
     "name": "stdout",
     "output_type": "stream",
     "text": [
      "{'appID': '608ff071856012aac7511084', 'type': 'list', 'commandHash': '18a9e04865242b41ea594e09495a3ffeae5fc5efce7ac270d02265e929afdd54', 'serverSign': 'kjh6TCvAr5CF2u4WSHD1ooIIsrD7xk0ue8/gIIoqK1U=', 'appURL': 'http://localhost:49055/'}\n",
      "b'kjh6TCvAr5CF2u4WSHD1ooIIsrD7xk0ue8/gIIoqK1U='\n",
      "['list', 'delete']\n"
     ]
    },
    {
     "name": "stderr",
     "output_type": "stream",
     "text": [
      "127.0.0.1 - - [03/May/2021 17:54:37] \"\u001b[37mPOST / HTTP/1.1\u001b[0m\" 200 -\n"
     ]
    },
    {
     "name": "stdout",
     "output_type": "stream",
     "text": [
      "{'appID': '608ff071856012aac7511084', 'type': 'list', 'commandHash': '29910167592ad6d15521f797af82bf57e42d9b9c50159f22926ec46ad37e4608', 'serverSign': 'BHTStQJba7f1ML+aIuVOn1gFXAq2RKiZ0AHMrD571xQ=', 'appURL': 'http://localhost:49055/'}\n",
      "b'BHTStQJba7f1ML+aIuVOn1gFXAq2RKiZ0AHMrD571xQ='\n",
      "['list', 'delete']\n"
     ]
    },
    {
     "name": "stderr",
     "output_type": "stream",
     "text": [
      "127.0.0.1 - - [03/May/2021 17:54:41] \"\u001b[37mPOST / HTTP/1.1\u001b[0m\" 200 -\n"
     ]
    },
    {
     "name": "stdout",
     "output_type": "stream",
     "text": [
      "{'appID': '608ff071856012aac7511084', 'type': 'list', 'commandHash': '18a9e04865242b41ea594e09495a3ffeae5fc5efce7ac270d02265e929afdd54', 'serverSign': 'kjh6TCvAr5CF2u4WSHD1ooIIsrD7xk0ue8/gIIoqK1U=', 'appURL': 'http://localhost:49055/'}\n",
      "b'kjh6TCvAr5CF2u4WSHD1ooIIsrD7xk0ue8/gIIoqK1U='\n",
      "['list', 'delete']\n"
     ]
    },
    {
     "name": "stderr",
     "output_type": "stream",
     "text": [
      "127.0.0.1 - - [03/May/2021 17:55:57] \"\u001b[37mPOST / HTTP/1.1\u001b[0m\" 200 -\n"
     ]
    },
    {
     "name": "stdout",
     "output_type": "stream",
     "text": [
      "{'appID': '608ff071856012aac7511084', 'type': 'list', 'commandHash': '18a9e04865242b41ea594e09495a3ffeae5fc5efce7ac270d02265e929afdd54', 'serverSign': 'kjh6TCvAr5CF2u4WSHD1ooIIsrD7xk0ue8/gIIoqK1U=', 'appURL': 'http://localhost:49055/'}\n",
      "b'kjh6TCvAr5CF2u4WSHD1ooIIsrD7xk0ue8/gIIoqK1U='\n",
      "['list', 'delete']\n"
     ]
    },
    {
     "name": "stderr",
     "output_type": "stream",
     "text": [
      "127.0.0.1 - - [03/May/2021 17:56:51] \"\u001b[37mPOST / HTTP/1.1\u001b[0m\" 200 -\n"
     ]
    },
    {
     "name": "stdout",
     "output_type": "stream",
     "text": [
      "{'appID': '608ff071856012aac7511084', 'type': 'list', 'commandHash': '29910167592ad6d15521f797af82bf57e42d9b9c50159f22926ec46ad37e4608', 'serverSign': 'BHTStQJba7f1ML+aIuVOn1gFXAq2RKiZ0AHMrD571xQ=', 'appURL': 'http://localhost:49055/'}\n",
      "b'BHTStQJba7f1ML+aIuVOn1gFXAq2RKiZ0AHMrD571xQ='\n",
      "['list', 'delete']\n"
     ]
    },
    {
     "name": "stderr",
     "output_type": "stream",
     "text": [
      "127.0.0.1 - - [03/May/2021 17:56:55] \"\u001b[37mPOST / HTTP/1.1\u001b[0m\" 200 -\n"
     ]
    },
    {
     "name": "stdout",
     "output_type": "stream",
     "text": [
      "{'appID': '608ff071856012aac7511084', 'type': 'list', 'commandHash': '18a9e04865242b41ea594e09495a3ffeae5fc5efce7ac270d02265e929afdd54', 'serverSign': 'kjh6TCvAr5CF2u4WSHD1ooIIsrD7xk0ue8/gIIoqK1U=', 'appURL': 'http://localhost:49055/'}\n",
      "b'kjh6TCvAr5CF2u4WSHD1ooIIsrD7xk0ue8/gIIoqK1U='\n",
      "['list', 'delete']\n"
     ]
    },
    {
     "name": "stderr",
     "output_type": "stream",
     "text": [
      "127.0.0.1 - - [03/May/2021 17:57:28] \"\u001b[37mPOST / HTTP/1.1\u001b[0m\" 200 -\n"
     ]
    },
    {
     "name": "stdout",
     "output_type": "stream",
     "text": [
      "{'appID': '608ff071856012aac7511084', 'type': 'list', 'commandHash': '18a9e04865242b41ea594e09495a3ffeae5fc5efce7ac270d02265e929afdd54', 'serverSign': 'kjh6TCvAr5CF2u4WSHD1ooIIsrD7xk0ue8/gIIoqK1U=', 'appURL': 'http://localhost:49055/'}\n",
      "b'kjh6TCvAr5CF2u4WSHD1ooIIsrD7xk0ue8/gIIoqK1U='\n",
      "['list', 'delete']\n"
     ]
    },
    {
     "name": "stderr",
     "output_type": "stream",
     "text": [
      "127.0.0.1 - - [03/May/2021 17:57:37] \"\u001b[37mPOST / HTTP/1.1\u001b[0m\" 200 -\n"
     ]
    },
    {
     "name": "stdout",
     "output_type": "stream",
     "text": [
      "{'appID': '608ff071856012aac7511084', 'type': 'list', 'commandHash': '3a37a2a33d8e346b33a103f0e1258215f6c27e6ff931f83888abb4c1355ee723', 'serverSign': 'EjSDndLg4T9f6w697tAMTXjWOFxa6wEeUFIguX3sLTI=', 'appURL': 'http://localhost:49055/'}\n",
      "b'EjSDndLg4T9f6w697tAMTXjWOFxa6wEeUFIguX3sLTI='\n",
      "['list', 'delete']\n"
     ]
    },
    {
     "name": "stderr",
     "output_type": "stream",
     "text": [
      "127.0.0.1 - - [03/May/2021 17:57:41] \"\u001b[37mPOST / HTTP/1.1\u001b[0m\" 200 -\n"
     ]
    },
    {
     "name": "stdout",
     "output_type": "stream",
     "text": [
      "{'appID': '608ff071856012aac7511084', 'type': 'list', 'commandHash': 'd8996e27b7add495b1ad85c6c219bee2b529cc925a86c77f3e0c138d004e2305', 'serverSign': 'WbmDgGJ2rQbg4I6xa58wL7RD7+XWUG3iXuSLsx91Z+0=', 'appURL': 'http://localhost:49055/'}\n",
      "b'WbmDgGJ2rQbg4I6xa58wL7RD7+XWUG3iXuSLsx91Z+0='\n",
      "['list', 'delete']\n"
     ]
    },
    {
     "name": "stderr",
     "output_type": "stream",
     "text": [
      "127.0.0.1 - - [03/May/2021 17:57:45] \"\u001b[37mPOST / HTTP/1.1\u001b[0m\" 200 -\n"
     ]
    },
    {
     "name": "stdout",
     "output_type": "stream",
     "text": [
      "{'appID': '608ff071856012aac7511084', 'type': 'list', 'commandHash': '5ae56a69244a774a9ac9ee954c60744ecdcaa6afd19be398d8adb4f39865f7db', 'serverSign': 'Uq86FQjou5QeDukWS5qf4JY+GIne3H7/+fhHw9ZqM/Y=', 'appURL': 'http://localhost:49055/'}\n",
      "b'Uq86FQjou5QeDukWS5qf4JY+GIne3H7/+fhHw9ZqM/Y='\n",
      "['list', 'delete']\n"
     ]
    },
    {
     "name": "stderr",
     "output_type": "stream",
     "text": [
      "127.0.0.1 - - [03/May/2021 17:59:16] \"\u001b[37mPOST / HTTP/1.1\u001b[0m\" 200 -\n"
     ]
    },
    {
     "name": "stdout",
     "output_type": "stream",
     "text": [
      "{'appID': '608ff071856012aac7511084', 'type': 'list', 'commandHash': '29910167592ad6d15521f797af82bf57e42d9b9c50159f22926ec46ad37e4608', 'serverSign': 'BHTStQJba7f1ML+aIuVOn1gFXAq2RKiZ0AHMrD571xQ=', 'appURL': 'http://localhost:49055/'}\n",
      "b'BHTStQJba7f1ML+aIuVOn1gFXAq2RKiZ0AHMrD571xQ='\n",
      "['list', 'delete']\n"
     ]
    },
    {
     "name": "stderr",
     "output_type": "stream",
     "text": [
      "127.0.0.1 - - [03/May/2021 17:59:40] \"\u001b[37mPOST / HTTP/1.1\u001b[0m\" 200 -\n"
     ]
    },
    {
     "name": "stdout",
     "output_type": "stream",
     "text": [
      "{'appID': '608ff071856012aac7511084', 'type': 'list', 'commandHash': '29910167592ad6d15521f797af82bf57e42d9b9c50159f22926ec46ad37e4608', 'serverSign': 'BHTStQJba7f1ML+aIuVOn1gFXAq2RKiZ0AHMrD571xQ=', 'appURL': 'http://localhost:49055/'}\n",
      "b'BHTStQJba7f1ML+aIuVOn1gFXAq2RKiZ0AHMrD571xQ='\n",
      "['list', 'delete']\n"
     ]
    },
    {
     "name": "stderr",
     "output_type": "stream",
     "text": [
      "127.0.0.1 - - [03/May/2021 18:00:13] \"\u001b[37mPOST / HTTP/1.1\u001b[0m\" 200 -\n"
     ]
    },
    {
     "name": "stdout",
     "output_type": "stream",
     "text": [
      "{'appID': '608ff071856012aac7511084', 'type': 'list', 'commandHash': '29910167592ad6d15521f797af82bf57e42d9b9c50159f22926ec46ad37e4608', 'serverSign': 'BHTStQJba7f1ML+aIuVOn1gFXAq2RKiZ0AHMrD571xQ=', 'appURL': 'http://localhost:49055/'}\n",
      "b'BHTStQJba7f1ML+aIuVOn1gFXAq2RKiZ0AHMrD571xQ='\n",
      "['list', 'delete']\n"
     ]
    },
    {
     "name": "stderr",
     "output_type": "stream",
     "text": [
      "127.0.0.1 - - [03/May/2021 18:00:46] \"\u001b[37mPOST / HTTP/1.1\u001b[0m\" 200 -\n"
     ]
    },
    {
     "name": "stdout",
     "output_type": "stream",
     "text": [
      "{'appID': '608ff071856012aac7511084', 'type': 'list', 'commandHash': '29910167592ad6d15521f797af82bf57e42d9b9c50159f22926ec46ad37e4608', 'serverSign': 'BHTStQJba7f1ML+aIuVOn1gFXAq2RKiZ0AHMrD571xQ=', 'appURL': 'http://localhost:49055/'}\n",
      "b'BHTStQJba7f1ML+aIuVOn1gFXAq2RKiZ0AHMrD571xQ='\n",
      "['list', 'delete']\n"
     ]
    },
    {
     "name": "stderr",
     "output_type": "stream",
     "text": [
      "127.0.0.1 - - [03/May/2021 18:01:02] \"\u001b[37mPOST / HTTP/1.1\u001b[0m\" 200 -\n"
     ]
    },
    {
     "name": "stdout",
     "output_type": "stream",
     "text": [
      "{'appID': '608ff071856012aac7511084', 'type': 'list', 'commandHash': 'cf82c44bb893ac7a598c9a6a82742b050e0b90d6be741a00c57f327d0c9a392b', 'serverSign': 'sJAmRBFbwJmnnF2fwq5jK36fLjGqBfoMP1KWLWVq0qQ=', 'appURL': 'http://localhost:49055/'}\n",
      "b'sJAmRBFbwJmnnF2fwq5jK36fLjGqBfoMP1KWLWVq0qQ='\n",
      "['list', 'delete']\n"
     ]
    },
    {
     "name": "stderr",
     "output_type": "stream",
     "text": [
      "127.0.0.1 - - [03/May/2021 18:01:04] \"\u001b[37mPOST / HTTP/1.1\u001b[0m\" 200 -\n"
     ]
    },
    {
     "name": "stdout",
     "output_type": "stream",
     "text": [
      "{'appID': '608ff071856012aac7511084', 'type': 'list', 'commandHash': '3a37a2a33d8e346b33a103f0e1258215f6c27e6ff931f83888abb4c1355ee723', 'serverSign': 'EjSDndLg4T9f6w697tAMTXjWOFxa6wEeUFIguX3sLTI=', 'appURL': 'http://localhost:49055/'}\n",
      "b'EjSDndLg4T9f6w697tAMTXjWOFxa6wEeUFIguX3sLTI='\n",
      "['list', 'delete']\n"
     ]
    },
    {
     "name": "stderr",
     "output_type": "stream",
     "text": [
      "127.0.0.1 - - [03/May/2021 18:01:08] \"\u001b[37mPOST / HTTP/1.1\u001b[0m\" 200 -\n"
     ]
    },
    {
     "name": "stdout",
     "output_type": "stream",
     "text": [
      "{'appID': '608ff071856012aac7511084', 'type': 'list', 'commandHash': '2793a4d320f6359d34ce59a6dabd76eabe3c10539dda6385f9b19441b0469cfd', 'serverSign': 'FenbjCisOVro+01Tqb55orFjeGRXXT5f+Qz/HekPs2o=', 'appURL': 'http://localhost:49055/'}\n",
      "b'FenbjCisOVro+01Tqb55orFjeGRXXT5f+Qz/HekPs2o='\n",
      "['list', 'delete']\n"
     ]
    },
    {
     "name": "stderr",
     "output_type": "stream",
     "text": [
      "127.0.0.1 - - [03/May/2021 18:01:50] \"\u001b[37mPOST / HTTP/1.1\u001b[0m\" 200 -\n"
     ]
    },
    {
     "name": "stdout",
     "output_type": "stream",
     "text": [
      "{'appID': '608ff071856012aac7511084', 'type': 'list', 'commandHash': '29910167592ad6d15521f797af82bf57e42d9b9c50159f22926ec46ad37e4608', 'serverSign': 'BHTStQJba7f1ML+aIuVOn1gFXAq2RKiZ0AHMrD571xQ=', 'appURL': 'http://localhost:49055/'}\n",
      "b'BHTStQJba7f1ML+aIuVOn1gFXAq2RKiZ0AHMrD571xQ='\n",
      "['list', 'delete']\n"
     ]
    },
    {
     "name": "stderr",
     "output_type": "stream",
     "text": [
      "127.0.0.1 - - [03/May/2021 18:01:54] \"\u001b[37mPOST / HTTP/1.1\u001b[0m\" 200 -\n"
     ]
    },
    {
     "name": "stdout",
     "output_type": "stream",
     "text": [
      "{'appID': '608ff071856012aac7511084', 'type': 'list', 'commandHash': 'cf82c44bb893ac7a598c9a6a82742b050e0b90d6be741a00c57f327d0c9a392b', 'serverSign': 'sJAmRBFbwJmnnF2fwq5jK36fLjGqBfoMP1KWLWVq0qQ=', 'appURL': 'http://localhost:49055/'}\n",
      "b'sJAmRBFbwJmnnF2fwq5jK36fLjGqBfoMP1KWLWVq0qQ='\n",
      "['list', 'delete']\n"
     ]
    },
    {
     "name": "stderr",
     "output_type": "stream",
     "text": [
      "127.0.0.1 - - [03/May/2021 18:01:58] \"\u001b[37mPOST / HTTP/1.1\u001b[0m\" 200 -\n"
     ]
    },
    {
     "name": "stdout",
     "output_type": "stream",
     "text": [
      "{'appID': '608ff071856012aac7511084', 'type': 'list', 'commandHash': '3a37a2a33d8e346b33a103f0e1258215f6c27e6ff931f83888abb4c1355ee723', 'serverSign': 'EjSDndLg4T9f6w697tAMTXjWOFxa6wEeUFIguX3sLTI=', 'appURL': 'http://localhost:49055/'}\n",
      "b'EjSDndLg4T9f6w697tAMTXjWOFxa6wEeUFIguX3sLTI='\n",
      "['list', 'delete']\n"
     ]
    },
    {
     "name": "stderr",
     "output_type": "stream",
     "text": [
      "127.0.0.1 - - [03/May/2021 18:02:01] \"\u001b[37mPOST / HTTP/1.1\u001b[0m\" 200 -\n"
     ]
    },
    {
     "name": "stdout",
     "output_type": "stream",
     "text": [
      "{'appID': '608ff071856012aac7511084', 'type': 'list', 'commandHash': '18a9e04865242b41ea594e09495a3ffeae5fc5efce7ac270d02265e929afdd54', 'serverSign': 'kjh6TCvAr5CF2u4WSHD1ooIIsrD7xk0ue8/gIIoqK1U=', 'appURL': 'http://localhost:49055/'}\n",
      "b'kjh6TCvAr5CF2u4WSHD1ooIIsrD7xk0ue8/gIIoqK1U='\n",
      "['list', 'delete']\n"
     ]
    },
    {
     "name": "stderr",
     "output_type": "stream",
     "text": [
      "127.0.0.1 - - [03/May/2021 18:02:08] \"\u001b[37mPOST / HTTP/1.1\u001b[0m\" 200 -\n"
     ]
    },
    {
     "name": "stdout",
     "output_type": "stream",
     "text": [
      "{'appID': '608ff071856012aac7511084', 'type': 'list', 'commandHash': 'b76b9766f3141ec2a1883b3c292a41f75ae4b494a20b78a055aecbc167a8d902', 'serverSign': '/ADKF6F83O/YWIX4wIeTha6AHC53sZ35FVqg6TaFaUQ=', 'appURL': 'http://localhost:49055/'}\n",
      "b'/ADKF6F83O/YWIX4wIeTha6AHC53sZ35FVqg6TaFaUQ='\n",
      "['list', 'delete']\n"
     ]
    },
    {
     "name": "stderr",
     "output_type": "stream",
     "text": [
      "127.0.0.1 - - [03/May/2021 18:02:14] \"\u001b[37mPOST / HTTP/1.1\u001b[0m\" 200 -\n"
     ]
    },
    {
     "name": "stdout",
     "output_type": "stream",
     "text": [
      "{'appID': '608ff071856012aac7511084', 'type': 'list', 'commandHash': '18a9e04865242b41ea594e09495a3ffeae5fc5efce7ac270d02265e929afdd54', 'serverSign': 'kjh6TCvAr5CF2u4WSHD1ooIIsrD7xk0ue8/gIIoqK1U=', 'appURL': 'http://localhost:49055/'}\n",
      "b'kjh6TCvAr5CF2u4WSHD1ooIIsrD7xk0ue8/gIIoqK1U='\n",
      "['list', 'delete']\n"
     ]
    },
    {
     "name": "stderr",
     "output_type": "stream",
     "text": [
      "127.0.0.1 - - [03/May/2021 18:08:56] \"\u001b[37mPOST / HTTP/1.1\u001b[0m\" 200 -\n"
     ]
    },
    {
     "name": "stdout",
     "output_type": "stream",
     "text": [
      "{'appID': '608ff071856012aac7511084', 'type': 'list', 'commandHash': '29910167592ad6d15521f797af82bf57e42d9b9c50159f22926ec46ad37e4608', 'serverSign': 'BHTStQJba7f1ML+aIuVOn1gFXAq2RKiZ0AHMrD571xQ=', 'appURL': 'http://localhost:49055/'}\n",
      "b'BHTStQJba7f1ML+aIuVOn1gFXAq2RKiZ0AHMrD571xQ='\n",
      "['list', 'delete']\n"
     ]
    },
    {
     "name": "stderr",
     "output_type": "stream",
     "text": [
      "127.0.0.1 - - [03/May/2021 18:09:05] \"\u001b[37mPOST / HTTP/1.1\u001b[0m\" 200 -\n"
     ]
    },
    {
     "name": "stdout",
     "output_type": "stream",
     "text": [
      "{'appID': '608ff071856012aac7511084', 'type': 'list', 'commandHash': '38e442d368844ca9aaac91cafc2ebce0142f5684df69c758fee3d938c606a208', 'serverSign': '0vJ9+vWV6B4bTs+OjtjKPT5w04R/waMj1wnDlToMtco=', 'appURL': 'http://localhost:49055/'}\n",
      "b'0vJ9+vWV6B4bTs+OjtjKPT5w04R/waMj1wnDlToMtco='\n",
      "['list', 'delete']\n"
     ]
    },
    {
     "name": "stderr",
     "output_type": "stream",
     "text": [
      "127.0.0.1 - - [03/May/2021 18:09:13] \"\u001b[37mPOST / HTTP/1.1\u001b[0m\" 200 -\n"
     ]
    },
    {
     "name": "stdout",
     "output_type": "stream",
     "text": [
      "{'appID': '608ff071856012aac7511084', 'type': 'list', 'commandHash': 'ace4e6183a700e54d750fd8da11f38533cffc1eb9802403d09ba91be43931f29', 'serverSign': 'NhLuVrebjRivQyw6q7lONsZ3dg01n68K8FL6N2SX7EI=', 'appURL': 'http://localhost:49055/'}\n",
      "b'NhLuVrebjRivQyw6q7lONsZ3dg01n68K8FL6N2SX7EI='\n",
      "['list', 'delete']\n"
     ]
    },
    {
     "name": "stderr",
     "output_type": "stream",
     "text": [
      "127.0.0.1 - - [03/May/2021 18:09:25] \"\u001b[37mPOST / HTTP/1.1\u001b[0m\" 200 -\n"
     ]
    },
    {
     "name": "stdout",
     "output_type": "stream",
     "text": [
      "{'appID': '608ff071856012aac7511084', 'type': 'list', 'commandHash': '7e6dac442807c3d0e58e11fc329bc5953f679906568b7f97ce0a7dc463c87db8', 'serverSign': 'xs9Zepl8JVNnaMCLMH3nhsBqq3IYDYpE+x4IqsFJAj4=', 'appURL': 'http://localhost:49055/'}\n",
      "b'xs9Zepl8JVNnaMCLMH3nhsBqq3IYDYpE+x4IqsFJAj4='\n",
      "['list', 'delete']\n"
     ]
    },
    {
     "name": "stderr",
     "output_type": "stream",
     "text": [
      "127.0.0.1 - - [03/May/2021 18:10:21] \"\u001b[37mPOST / HTTP/1.1\u001b[0m\" 200 -\n"
     ]
    },
    {
     "name": "stdout",
     "output_type": "stream",
     "text": [
      "{'appID': '608ff071856012aac7511084', 'type': 'list', 'commandHash': '29910167592ad6d15521f797af82bf57e42d9b9c50159f22926ec46ad37e4608', 'serverSign': 'BHTStQJba7f1ML+aIuVOn1gFXAq2RKiZ0AHMrD571xQ=', 'appURL': 'http://localhost:49055/'}\n",
      "b'BHTStQJba7f1ML+aIuVOn1gFXAq2RKiZ0AHMrD571xQ='\n",
      "['list', 'delete']\n"
     ]
    },
    {
     "name": "stderr",
     "output_type": "stream",
     "text": [
      "127.0.0.1 - - [03/May/2021 18:10:27] \"\u001b[37mPOST / HTTP/1.1\u001b[0m\" 200 -\n"
     ]
    },
    {
     "name": "stdout",
     "output_type": "stream",
     "text": [
      "{'appID': '608ff071856012aac7511084', 'type': 'list', 'commandHash': '72c1e897804dd57da5919e08dba3bf7fa7c07574f209bed56f7300fbcc4f7fdf', 'serverSign': 'apoa3p7/q12b23zyds4YxF3yJp2cXR7vcwzTI4ubX2Q=', 'appURL': 'http://localhost:49055/'}\n",
      "b'apoa3p7/q12b23zyds4YxF3yJp2cXR7vcwzTI4ubX2Q='\n",
      "['list', 'delete']\n"
     ]
    },
    {
     "name": "stderr",
     "output_type": "stream",
     "text": [
      "127.0.0.1 - - [03/May/2021 18:10:46] \"\u001b[37mPOST / HTTP/1.1\u001b[0m\" 200 -\n"
     ]
    },
    {
     "name": "stdout",
     "output_type": "stream",
     "text": [
      "{'appID': '608ff071856012aac7511084', 'type': 'list', 'commandHash': '72c1e897804dd57da5919e08dba3bf7fa7c07574f209bed56f7300fbcc4f7fdf', 'serverSign': 'apoa3p7/q12b23zyds4YxF3yJp2cXR7vcwzTI4ubX2Q=', 'appURL': 'http://localhost:49055/'}\n",
      "b'apoa3p7/q12b23zyds4YxF3yJp2cXR7vcwzTI4ubX2Q='\n",
      "['list', 'delete']\n"
     ]
    },
    {
     "name": "stderr",
     "output_type": "stream",
     "text": [
      "127.0.0.1 - - [03/May/2021 18:11:23] \"\u001b[37mPOST / HTTP/1.1\u001b[0m\" 200 -\n"
     ]
    },
    {
     "name": "stdout",
     "output_type": "stream",
     "text": [
      "{'appID': '608ff071856012aac7511084', 'type': 'list', 'commandHash': '72c1e897804dd57da5919e08dba3bf7fa7c07574f209bed56f7300fbcc4f7fdf', 'serverSign': 'apoa3p7/q12b23zyds4YxF3yJp2cXR7vcwzTI4ubX2Q=', 'appURL': 'http://localhost:49055/'}\n",
      "b'apoa3p7/q12b23zyds4YxF3yJp2cXR7vcwzTI4ubX2Q='\n",
      "['list', 'delete']\n"
     ]
    },
    {
     "name": "stderr",
     "output_type": "stream",
     "text": [
      "127.0.0.1 - - [03/May/2021 18:11:38] \"\u001b[37mPOST / HTTP/1.1\u001b[0m\" 200 -\n"
     ]
    },
    {
     "name": "stdout",
     "output_type": "stream",
     "text": [
      "{'appID': '608ff071856012aac7511084', 'type': 'list', 'commandHash': '72c1e897804dd57da5919e08dba3bf7fa7c07574f209bed56f7300fbcc4f7fdf', 'serverSign': 'apoa3p7/q12b23zyds4YxF3yJp2cXR7vcwzTI4ubX2Q=', 'appURL': 'http://localhost:49055/'}\n",
      "b'apoa3p7/q12b23zyds4YxF3yJp2cXR7vcwzTI4ubX2Q='\n",
      "['list', 'delete']\n"
     ]
    },
    {
     "name": "stderr",
     "output_type": "stream",
     "text": [
      "127.0.0.1 - - [03/May/2021 18:13:12] \"\u001b[37mPOST / HTTP/1.1\u001b[0m\" 200 -\n"
     ]
    },
    {
     "name": "stdout",
     "output_type": "stream",
     "text": [
      "{'appID': '608ff071856012aac7511084', 'type': 'list', 'commandHash': '72c1e897804dd57da5919e08dba3bf7fa7c07574f209bed56f7300fbcc4f7fdf', 'serverSign': 'apoa3p7/q12b23zyds4YxF3yJp2cXR7vcwzTI4ubX2Q=', 'appURL': 'http://localhost:49055/'}\n",
      "b'apoa3p7/q12b23zyds4YxF3yJp2cXR7vcwzTI4ubX2Q='\n",
      "['list', 'delete']\n"
     ]
    },
    {
     "name": "stderr",
     "output_type": "stream",
     "text": [
      "127.0.0.1 - - [03/May/2021 18:13:25] \"\u001b[37mPOST / HTTP/1.1\u001b[0m\" 200 -\n"
     ]
    },
    {
     "name": "stdout",
     "output_type": "stream",
     "text": [
      "{'appID': '608ff071856012aac7511084', 'type': 'delete', 'commandHash': '33c7c490be518a17bf1ad317854091c479ffc9eb9e7809eb0da27c45dead121b', 'serverSign': '7eVxmDYGvJIK2YJJVaXA4Q2VlNOJfKbnn6ajI3byB8k=', 'appURL': 'http://localhost:49055/'}\n",
      "b'7eVxmDYGvJIK2YJJVaXA4Q2VlNOJfKbnn6ajI3byB8k='\n",
      "['list', 'delete']\n"
     ]
    },
    {
     "name": "stderr",
     "output_type": "stream",
     "text": [
      "127.0.0.1 - - [03/May/2021 18:13:31] \"\u001b[37mPOST / HTTP/1.1\u001b[0m\" 200 -\n"
     ]
    },
    {
     "name": "stdout",
     "output_type": "stream",
     "text": [
      "{'appID': '608ff071856012aac7511084', 'type': 'list', 'commandHash': '72c1e897804dd57da5919e08dba3bf7fa7c07574f209bed56f7300fbcc4f7fdf', 'serverSign': 'apoa3p7/q12b23zyds4YxF3yJp2cXR7vcwzTI4ubX2Q=', 'appURL': 'http://localhost:49055/'}\n",
      "b'apoa3p7/q12b23zyds4YxF3yJp2cXR7vcwzTI4ubX2Q='\n",
      "['list', 'delete']\n"
     ]
    },
    {
     "name": "stderr",
     "output_type": "stream",
     "text": [
      "127.0.0.1 - - [03/May/2021 18:15:01] \"\u001b[37mPOST / HTTP/1.1\u001b[0m\" 200 -\n"
     ]
    },
    {
     "name": "stdout",
     "output_type": "stream",
     "text": [
      "{'appID': '608ff071856012aac7511084', 'type': 'list', 'commandHash': '29910167592ad6d15521f797af82bf57e42d9b9c50159f22926ec46ad37e4608', 'serverSign': 'BHTStQJba7f1ML+aIuVOn1gFXAq2RKiZ0AHMrD571xQ=', 'appURL': 'http://localhost:49055/'}\n",
      "b'BHTStQJba7f1ML+aIuVOn1gFXAq2RKiZ0AHMrD571xQ='\n",
      "['list', 'delete']\n"
     ]
    },
    {
     "name": "stderr",
     "output_type": "stream",
     "text": [
      "127.0.0.1 - - [03/May/2021 18:15:30] \"\u001b[37mPOST / HTTP/1.1\u001b[0m\" 200 -\n"
     ]
    },
    {
     "name": "stdout",
     "output_type": "stream",
     "text": [
      "{'appID': '608ff071856012aac7511084', 'type': 'list', 'commandHash': '38e442d368844ca9aaac91cafc2ebce0142f5684df69c758fee3d938c606a208', 'serverSign': '0vJ9+vWV6B4bTs+OjtjKPT5w04R/waMj1wnDlToMtco=', 'appURL': 'http://localhost:49055/'}\n",
      "b'0vJ9+vWV6B4bTs+OjtjKPT5w04R/waMj1wnDlToMtco='\n",
      "['list', 'delete']\n"
     ]
    },
    {
     "name": "stderr",
     "output_type": "stream",
     "text": [
      "127.0.0.1 - - [03/May/2021 18:15:34] \"\u001b[37mPOST / HTTP/1.1\u001b[0m\" 200 -\n"
     ]
    },
    {
     "name": "stdout",
     "output_type": "stream",
     "text": [
      "{'appID': '608ff071856012aac7511084', 'type': 'list', 'commandHash': 'ace4e6183a700e54d750fd8da11f38533cffc1eb9802403d09ba91be43931f29', 'serverSign': 'NhLuVrebjRivQyw6q7lONsZ3dg01n68K8FL6N2SX7EI=', 'appURL': 'http://localhost:49055/'}\n",
      "b'NhLuVrebjRivQyw6q7lONsZ3dg01n68K8FL6N2SX7EI='\n",
      "['list', 'delete']\n"
     ]
    },
    {
     "name": "stderr",
     "output_type": "stream",
     "text": [
      "127.0.0.1 - - [03/May/2021 18:15:41] \"\u001b[37mPOST / HTTP/1.1\u001b[0m\" 200 -\n"
     ]
    },
    {
     "name": "stdout",
     "output_type": "stream",
     "text": [
      "{'appID': '608ff071856012aac7511084', 'type': 'list', 'commandHash': '7e6dac442807c3d0e58e11fc329bc5953f679906568b7f97ce0a7dc463c87db8', 'serverSign': 'xs9Zepl8JVNnaMCLMH3nhsBqq3IYDYpE+x4IqsFJAj4=', 'appURL': 'http://localhost:49055/'}\n",
      "b'xs9Zepl8JVNnaMCLMH3nhsBqq3IYDYpE+x4IqsFJAj4='\n",
      "['list', 'delete']\n"
     ]
    },
    {
     "name": "stderr",
     "output_type": "stream",
     "text": [
      "127.0.0.1 - - [03/May/2021 18:15:45] \"\u001b[37mPOST / HTTP/1.1\u001b[0m\" 200 -\n"
     ]
    },
    {
     "name": "stdout",
     "output_type": "stream",
     "text": [
      "{'appID': '608ff071856012aac7511084', 'type': 'delete', 'commandHash': '5783cc9242e75fa66bf787ff9dc00f3df282a5e0e31eaa47f52585f3a10fd4f1', 'serverSign': 'Xp7jLm4XUCHIHQ5NCJPYNJg9CfSTr6jBUvpKhcSCReU=', 'appURL': 'http://localhost:49055/'}\n",
      "b'Xp7jLm4XUCHIHQ5NCJPYNJg9CfSTr6jBUvpKhcSCReU='\n",
      "['list', 'delete']\n"
     ]
    },
    {
     "name": "stderr",
     "output_type": "stream",
     "text": [
      "127.0.0.1 - - [03/May/2021 18:15:48] \"\u001b[37mPOST / HTTP/1.1\u001b[0m\" 200 -\n"
     ]
    },
    {
     "name": "stdout",
     "output_type": "stream",
     "text": [
      "{'appID': '608ff071856012aac7511084', 'type': 'list', 'commandHash': '72c1e897804dd57da5919e08dba3bf7fa7c07574f209bed56f7300fbcc4f7fdf', 'serverSign': 'apoa3p7/q12b23zyds4YxF3yJp2cXR7vcwzTI4ubX2Q=', 'appURL': 'http://localhost:49055/'}\n",
      "b'apoa3p7/q12b23zyds4YxF3yJp2cXR7vcwzTI4ubX2Q='\n",
      "['list', 'delete']\n"
     ]
    },
    {
     "name": "stderr",
     "output_type": "stream",
     "text": [
      "127.0.0.1 - - [03/May/2021 18:16:10] \"\u001b[37mPOST / HTTP/1.1\u001b[0m\" 200 -\n"
     ]
    },
    {
     "name": "stdout",
     "output_type": "stream",
     "text": [
      "{'appID': '608ff071856012aac7511084', 'type': 'list', 'commandHash': '72c1e897804dd57da5919e08dba3bf7fa7c07574f209bed56f7300fbcc4f7fdf', 'serverSign': 'apoa3p7/q12b23zyds4YxF3yJp2cXR7vcwzTI4ubX2Q=', 'appURL': 'http://localhost:49055/'}\n",
      "b'apoa3p7/q12b23zyds4YxF3yJp2cXR7vcwzTI4ubX2Q='\n",
      "['list', 'delete']\n"
     ]
    },
    {
     "name": "stderr",
     "output_type": "stream",
     "text": [
      "127.0.0.1 - - [03/May/2021 18:16:14] \"\u001b[37mPOST / HTTP/1.1\u001b[0m\" 200 -\n"
     ]
    },
    {
     "name": "stdout",
     "output_type": "stream",
     "text": [
      "{'appID': '608ff071856012aac7511084', 'type': 'delete', 'commandHash': '497e54371d6badde5795b6af6750859c304c579e42632c31acc5740b85d18c13', 'serverSign': 'YQrsbBX9dSxi2I1LP1y3/j4Rlg9Dt/V3RNUXtANsjGU=', 'appURL': 'http://localhost:49055/'}\n",
      "b'YQrsbBX9dSxi2I1LP1y3/j4Rlg9Dt/V3RNUXtANsjGU='\n",
      "['list', 'delete']\n"
     ]
    },
    {
     "name": "stderr",
     "output_type": "stream",
     "text": [
      "127.0.0.1 - - [03/May/2021 18:16:17] \"\u001b[37mPOST / HTTP/1.1\u001b[0m\" 200 -\n"
     ]
    },
    {
     "name": "stdout",
     "output_type": "stream",
     "text": [
      "{'appID': '608ff071856012aac7511084', 'type': 'list', 'commandHash': '72c1e897804dd57da5919e08dba3bf7fa7c07574f209bed56f7300fbcc4f7fdf', 'serverSign': 'apoa3p7/q12b23zyds4YxF3yJp2cXR7vcwzTI4ubX2Q=', 'appURL': 'http://localhost:49055/'}\n",
      "b'apoa3p7/q12b23zyds4YxF3yJp2cXR7vcwzTI4ubX2Q='\n",
      "['list', 'delete']\n"
     ]
    },
    {
     "name": "stderr",
     "output_type": "stream",
     "text": [
      "127.0.0.1 - - [03/May/2021 18:17:09] \"\u001b[37mPOST / HTTP/1.1\u001b[0m\" 200 -\n"
     ]
    },
    {
     "name": "stdout",
     "output_type": "stream",
     "text": [
      "{'appID': '608ff071856012aac7511084', 'type': 'list', 'commandHash': '29910167592ad6d15521f797af82bf57e42d9b9c50159f22926ec46ad37e4608', 'serverSign': 'BHTStQJba7f1ML+aIuVOn1gFXAq2RKiZ0AHMrD571xQ=', 'appURL': 'http://localhost:49055/'}\n",
      "b'BHTStQJba7f1ML+aIuVOn1gFXAq2RKiZ0AHMrD571xQ='\n",
      "['list', 'delete']\n"
     ]
    },
    {
     "name": "stderr",
     "output_type": "stream",
     "text": [
      "127.0.0.1 - - [03/May/2021 18:17:16] \"\u001b[37mPOST / HTTP/1.1\u001b[0m\" 200 -\n"
     ]
    },
    {
     "name": "stdout",
     "output_type": "stream",
     "text": [
      "{'appID': '608ff071856012aac7511084', 'type': 'list', 'commandHash': '38e442d368844ca9aaac91cafc2ebce0142f5684df69c758fee3d938c606a208', 'serverSign': '0vJ9+vWV6B4bTs+OjtjKPT5w04R/waMj1wnDlToMtco=', 'appURL': 'http://localhost:49055/'}\n",
      "b'0vJ9+vWV6B4bTs+OjtjKPT5w04R/waMj1wnDlToMtco='\n",
      "['list', 'delete']\n"
     ]
    },
    {
     "name": "stderr",
     "output_type": "stream",
     "text": [
      "127.0.0.1 - - [03/May/2021 18:17:30] \"\u001b[37mPOST / HTTP/1.1\u001b[0m\" 200 -\n"
     ]
    },
    {
     "name": "stdout",
     "output_type": "stream",
     "text": [
      "{'appID': '608ff071856012aac7511084', 'type': 'list', 'commandHash': 'ace4e6183a700e54d750fd8da11f38533cffc1eb9802403d09ba91be43931f29', 'serverSign': 'NhLuVrebjRivQyw6q7lONsZ3dg01n68K8FL6N2SX7EI=', 'appURL': 'http://localhost:49055/'}\n",
      "b'NhLuVrebjRivQyw6q7lONsZ3dg01n68K8FL6N2SX7EI='\n",
      "['list', 'delete']\n"
     ]
    },
    {
     "name": "stderr",
     "output_type": "stream",
     "text": [
      "127.0.0.1 - - [03/May/2021 18:17:38] \"\u001b[37mPOST / HTTP/1.1\u001b[0m\" 200 -\n"
     ]
    },
    {
     "name": "stdout",
     "output_type": "stream",
     "text": [
      "{'appID': '608ff071856012aac7511084', 'type': 'list', 'commandHash': '7e6dac442807c3d0e58e11fc329bc5953f679906568b7f97ce0a7dc463c87db8', 'serverSign': 'xs9Zepl8JVNnaMCLMH3nhsBqq3IYDYpE+x4IqsFJAj4=', 'appURL': 'http://localhost:49055/'}\n",
      "b'xs9Zepl8JVNnaMCLMH3nhsBqq3IYDYpE+x4IqsFJAj4='\n",
      "['list', 'delete']\n"
     ]
    },
    {
     "name": "stderr",
     "output_type": "stream",
     "text": [
      "127.0.0.1 - - [03/May/2021 18:17:43] \"\u001b[37mPOST / HTTP/1.1\u001b[0m\" 200 -\n"
     ]
    },
    {
     "name": "stdout",
     "output_type": "stream",
     "text": [
      "{'appID': '608ff071856012aac7511084', 'type': 'delete', 'commandHash': '6c65fe0305ce249146e0ee1026a1939a0544675faafd42e719f93b645ea182dd', 'serverSign': 'cYsWwKdKbyoSORWFS0aM0CsnIzraxMIyCcmHCU+1X68=', 'appURL': 'http://localhost:49055/'}\n",
      "b'cYsWwKdKbyoSORWFS0aM0CsnIzraxMIyCcmHCU+1X68='\n",
      "['list', 'delete']\n"
     ]
    },
    {
     "name": "stderr",
     "output_type": "stream",
     "text": [
      "127.0.0.1 - - [03/May/2021 18:21:19] \"\u001b[37mPOST / HTTP/1.1\u001b[0m\" 200 -\n"
     ]
    },
    {
     "name": "stdout",
     "output_type": "stream",
     "text": [
      "{'appID': '608ff071856012aac7511084', 'type': 'list', 'commandHash': '29910167592ad6d15521f797af82bf57e42d9b9c50159f22926ec46ad37e4608', 'serverSign': 'BHTStQJba7f1ML+aIuVOn1gFXAq2RKiZ0AHMrD571xQ=', 'appURL': 'http://localhost:49055/'}\n",
      "b'BHTStQJba7f1ML+aIuVOn1gFXAq2RKiZ0AHMrD571xQ='\n",
      "['list', 'delete']\n"
     ]
    },
    {
     "name": "stderr",
     "output_type": "stream",
     "text": [
      "127.0.0.1 - - [03/May/2021 18:21:35] \"\u001b[37mPOST / HTTP/1.1\u001b[0m\" 200 -\n"
     ]
    },
    {
     "name": "stdout",
     "output_type": "stream",
     "text": [
      "{'appID': '608ff071856012aac7511084', 'type': 'list', 'commandHash': '38e442d368844ca9aaac91cafc2ebce0142f5684df69c758fee3d938c606a208', 'serverSign': '0vJ9+vWV6B4bTs+OjtjKPT5w04R/waMj1wnDlToMtco=', 'appURL': 'http://localhost:49055/'}\n",
      "b'0vJ9+vWV6B4bTs+OjtjKPT5w04R/waMj1wnDlToMtco='\n",
      "['list', 'delete']\n"
     ]
    },
    {
     "name": "stderr",
     "output_type": "stream",
     "text": [
      "127.0.0.1 - - [03/May/2021 18:21:39] \"\u001b[37mPOST / HTTP/1.1\u001b[0m\" 200 -\n"
     ]
    },
    {
     "name": "stdout",
     "output_type": "stream",
     "text": [
      "{'appID': '608ff071856012aac7511084', 'type': 'list', 'commandHash': 'ace4e6183a700e54d750fd8da11f38533cffc1eb9802403d09ba91be43931f29', 'serverSign': 'NhLuVrebjRivQyw6q7lONsZ3dg01n68K8FL6N2SX7EI=', 'appURL': 'http://localhost:49055/'}\n",
      "b'NhLuVrebjRivQyw6q7lONsZ3dg01n68K8FL6N2SX7EI='\n",
      "['list', 'delete']\n"
     ]
    },
    {
     "name": "stderr",
     "output_type": "stream",
     "text": [
      "127.0.0.1 - - [03/May/2021 18:21:44] \"\u001b[37mPOST / HTTP/1.1\u001b[0m\" 200 -\n"
     ]
    },
    {
     "name": "stdout",
     "output_type": "stream",
     "text": [
      "{'appID': '608ff071856012aac7511084', 'type': 'list', 'commandHash': '7e6dac442807c3d0e58e11fc329bc5953f679906568b7f97ce0a7dc463c87db8', 'serverSign': 'xs9Zepl8JVNnaMCLMH3nhsBqq3IYDYpE+x4IqsFJAj4=', 'appURL': 'http://localhost:49055/'}\n",
      "b'xs9Zepl8JVNnaMCLMH3nhsBqq3IYDYpE+x4IqsFJAj4='\n",
      "['list', 'delete']\n"
     ]
    },
    {
     "name": "stderr",
     "output_type": "stream",
     "text": [
      "127.0.0.1 - - [03/May/2021 18:21:49] \"\u001b[37mPOST / HTTP/1.1\u001b[0m\" 200 -\n"
     ]
    },
    {
     "name": "stdout",
     "output_type": "stream",
     "text": [
      "{'appID': '608ff071856012aac7511084', 'type': 'delete', 'commandHash': 'b0c100461a0d76eadfe3cbe2ff2b33bb74cf3e6385349a6673cdac955f4eab03', 'serverSign': 'ZTckWsDndECrTFR7ljC41E1yJp2rZarWE1d4DdKMw9A=', 'appURL': 'http://localhost:49055/'}\n",
      "b'ZTckWsDndECrTFR7ljC41E1yJp2rZarWE1d4DdKMw9A='\n",
      "['list', 'delete']\n"
     ]
    },
    {
     "name": "stderr",
     "output_type": "stream",
     "text": [
      "127.0.0.1 - - [03/May/2021 18:21:52] \"\u001b[37mPOST / HTTP/1.1\u001b[0m\" 200 -\n"
     ]
    },
    {
     "name": "stdout",
     "output_type": "stream",
     "text": [
      "{'appID': '608ff071856012aac7511084', 'type': 'list', 'commandHash': '72c1e897804dd57da5919e08dba3bf7fa7c07574f209bed56f7300fbcc4f7fdf', 'serverSign': 'apoa3p7/q12b23zyds4YxF3yJp2cXR7vcwzTI4ubX2Q=', 'appURL': 'http://localhost:49055/'}\n",
      "b'apoa3p7/q12b23zyds4YxF3yJp2cXR7vcwzTI4ubX2Q='\n",
      "['list', 'delete']\n"
     ]
    },
    {
     "name": "stderr",
     "output_type": "stream",
     "text": [
      "127.0.0.1 - - [03/May/2021 18:21:58] \"\u001b[37mPOST / HTTP/1.1\u001b[0m\" 200 -\n"
     ]
    },
    {
     "name": "stdout",
     "output_type": "stream",
     "text": [
      "{'appID': '608ff071856012aac7511084', 'type': 'delete', 'commandHash': '430c0bdd16512039a799221a9a8a05a9d24189f056ae8a16d76b1c61aa346083', 'serverSign': 'As5zz3rIHd/Rx+7VZeAyfhDg/WyhXpB05PBkgD3O7S8=', 'appURL': 'http://localhost:49055/'}\n",
      "b'As5zz3rIHd/Rx+7VZeAyfhDg/WyhXpB05PBkgD3O7S8='\n",
      "['list', 'delete']\n"
     ]
    },
    {
     "name": "stderr",
     "output_type": "stream",
     "text": [
      "127.0.0.1 - - [03/May/2021 18:22:00] \"\u001b[37mPOST / HTTP/1.1\u001b[0m\" 200 -\n"
     ]
    },
    {
     "name": "stdout",
     "output_type": "stream",
     "text": [
      "{'appID': '608ff071856012aac7511084', 'type': 'list', 'commandHash': '72c1e897804dd57da5919e08dba3bf7fa7c07574f209bed56f7300fbcc4f7fdf', 'serverSign': 'apoa3p7/q12b23zyds4YxF3yJp2cXR7vcwzTI4ubX2Q=', 'appURL': 'http://localhost:49055/'}\n",
      "b'apoa3p7/q12b23zyds4YxF3yJp2cXR7vcwzTI4ubX2Q='\n",
      "['list', 'delete']\n"
     ]
    },
    {
     "name": "stderr",
     "output_type": "stream",
     "text": [
      "127.0.0.1 - - [03/May/2021 18:22:06] \"\u001b[37mPOST / HTTP/1.1\u001b[0m\" 200 -\n"
     ]
    },
    {
     "name": "stdout",
     "output_type": "stream",
     "text": [
      "{'appID': '608ff071856012aac7511084', 'type': 'delete', 'commandHash': '43dbd6effc34b3bdecf2d14a54650988e20906db5c568b70774172691c0775fc', 'serverSign': 'IbCOoYZs4mHm6yx8hzikMppPg/1HO6+sUhZyfEmRPsk=', 'appURL': 'http://localhost:49055/'}\n",
      "b'IbCOoYZs4mHm6yx8hzikMppPg/1HO6+sUhZyfEmRPsk='\n",
      "['list', 'delete']\n"
     ]
    },
    {
     "name": "stderr",
     "output_type": "stream",
     "text": [
      "127.0.0.1 - - [03/May/2021 18:22:08] \"\u001b[37mPOST / HTTP/1.1\u001b[0m\" 200 -\n"
     ]
    },
    {
     "name": "stdout",
     "output_type": "stream",
     "text": [
      "{'appID': '608ff071856012aac7511084', 'type': 'list', 'commandHash': '72c1e897804dd57da5919e08dba3bf7fa7c07574f209bed56f7300fbcc4f7fdf', 'serverSign': 'apoa3p7/q12b23zyds4YxF3yJp2cXR7vcwzTI4ubX2Q=', 'appURL': 'http://localhost:49055/'}\n",
      "b'apoa3p7/q12b23zyds4YxF3yJp2cXR7vcwzTI4ubX2Q='\n",
      "['list', 'delete']\n"
     ]
    },
    {
     "name": "stderr",
     "output_type": "stream",
     "text": [
      "127.0.0.1 - - [03/May/2021 18:23:04] \"\u001b[37mPOST / HTTP/1.1\u001b[0m\" 200 -\n"
     ]
    },
    {
     "name": "stdout",
     "output_type": "stream",
     "text": [
      "{'appID': '608ff071856012aac7511084', 'type': 'list', 'commandHash': '29910167592ad6d15521f797af82bf57e42d9b9c50159f22926ec46ad37e4608', 'serverSign': 'BHTStQJba7f1ML+aIuVOn1gFXAq2RKiZ0AHMrD571xQ=', 'appURL': 'http://localhost:49055/'}\n",
      "b'BHTStQJba7f1ML+aIuVOn1gFXAq2RKiZ0AHMrD571xQ='\n",
      "['list', 'delete']\n"
     ]
    }
   ],
   "source": [
    "SERVER_PORT=49052\n",
    "SERVER_HOST='0.0.0.0'\n",
    "DATABASE_PORT=27017\n",
    "\n",
    "import datetime\n",
    "from bson.objectid import ObjectId\n",
    "import random\n",
    "import string\n",
    "import hmac\n",
    "import hashlib\n",
    "from hashlib import sha256\n",
    "from flask import Flask\n",
    "from flask import request,redirect\n",
    "from flask import Response\n",
    "from flask import render_template\n",
    "from os import listdir\n",
    "from os.path import isfile, join\n",
    "import os\n",
    "from pymongo import MongoClient\n",
    "import pymongo\n",
    "import os.path\n",
    "from base64 import b64encode\n",
    "from collections import OrderedDict\n",
    "from hashlib import sha256\n",
    "from hmac import HMAC\n",
    "from urllib.parse import urlparse, parse_qsl, urlencode\n",
    "import json\n",
    "\n",
    "app = Flask(__name__)\n",
    "app.config['TEMPLATES_AUTO_RELOAD'] = True\n",
    "\n",
    "@app.after_request\n",
    "def add_header(r):\n",
    "    r.headers[\"Cache-Control\"] = \"no-cache, no-store, must-revalidate\"\n",
    "    r.headers[\"Pragma\"] = \"no-cache\"\n",
    "    r.headers[\"Expires\"] = \"0\"\n",
    "    r.headers['Cache-Control'] = 'public, max-age=0'\n",
    "    return r\n",
    "\n",
    "@app.route('/',methods=[\"POST\"])\n",
    "def command():\n",
    "    t=request.json\n",
    "    client = MongoClient(port=DATABASE_PORT)\n",
    "    db=client.srp\n",
    "    appID=t[\"appID\"]\n",
    "    appObject=db.apps.find_one({\"_id\":ObjectId(appID)})\n",
    "    print(t)\n",
    "    tSign=b64encode(HMAC(appObject[\"secretKey\"].encode(), t[\"commandHash\"].encode(), sha256).digest())\n",
    "    print(tSign)\n",
    "    if t[\"appURL\"]!=appObject[\"appSite\"]:\n",
    "        return \"False\"\n",
    "    if tSign.decode(\"utf-8\")==t[\"serverSign\"]:\n",
    "        allowedCommands=list()\n",
    "        for i in [\"list\",\"read\",\"write\",\"delete\"]:\n",
    "            if appObject[i]==\"on\":\n",
    "                allowedCommands.append(i)\n",
    "        print(allowedCommands)\n",
    "        return str(t[\"type\"] in allowedCommands)\n",
    "    else:\n",
    "        return \"False\"\n",
    "\n",
    "app.run(host=SERVER_HOST, port=SERVER_PORT, threaded=True)"
   ]
  }
 ],
 "metadata": {
  "kernelspec": {
   "display_name": "Python 3",
   "language": "python",
   "name": "python3"
  },
  "language_info": {
   "codemirror_mode": {
    "name": "ipython",
    "version": 3
   },
   "file_extension": ".py",
   "mimetype": "text/x-python",
   "name": "python",
   "nbconvert_exporter": "python",
   "pygments_lexer": "ipython3",
   "version": "3.7.6"
  }
 },
 "nbformat": 4,
 "nbformat_minor": 4
}
