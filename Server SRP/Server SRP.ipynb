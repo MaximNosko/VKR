{
 "cells": [
  {
   "cell_type": "code",
   "execution_count": null,
   "metadata": {},
   "outputs": [
    {
     "name": "stdout",
     "output_type": "stream",
     "text": [
      " * Serving Flask app \"__main__\" (lazy loading)\n",
      " * Environment: production\n",
      "   WARNING: This is a development server. Do not use it in a production deployment.\n",
      "   Use a production WSGI server instead.\n",
      " * Debug mode: off\n"
     ]
    },
    {
     "name": "stderr",
     "output_type": "stream",
     "text": [
      " * Running on http://0.0.0.0:49052/ (Press CTRL+C to quit)\n",
      "127.0.0.1 - - [03/May/2021 18:37:06] \"\u001b[37mPOST / HTTP/1.1\u001b[0m\" 200 -\n"
     ]
    },
    {
     "name": "stdout",
     "output_type": "stream",
     "text": [
      "{'appID': '608ff071856012aac7511084', 'type': 'list', 'commandHash': '29910167592ad6d15521f797af82bf57e42d9b9c50159f22926ec46ad37e4608', 'serverSign': 'BHTStQJba7f1ML+aIuVOn1gFXAq2RKiZ0AHMrD571xQ=', 'appURL': 'http://localhost:49055/'}\n",
      "b'BHTStQJba7f1ML+aIuVOn1gFXAq2RKiZ0AHMrD571xQ='\n",
      "['list', 'delete', 'mkdir']\n"
     ]
    },
    {
     "name": "stderr",
     "output_type": "stream",
     "text": [
      "127.0.0.1 - - [03/May/2021 18:42:40] \"\u001b[37mPOST / HTTP/1.1\u001b[0m\" 200 -\n"
     ]
    },
    {
     "name": "stdout",
     "output_type": "stream",
     "text": [
      "{'appID': '608ff071856012aac7511084', 'type': 'list', 'commandHash': '29910167592ad6d15521f797af82bf57e42d9b9c50159f22926ec46ad37e4608', 'serverSign': 'BHTStQJba7f1ML+aIuVOn1gFXAq2RKiZ0AHMrD571xQ=', 'appURL': 'http://localhost:49055/'}\n",
      "b'BHTStQJba7f1ML+aIuVOn1gFXAq2RKiZ0AHMrD571xQ='\n",
      "['list', 'delete', 'mkdir']\n"
     ]
    },
    {
     "name": "stderr",
     "output_type": "stream",
     "text": [
      "127.0.0.1 - - [03/May/2021 18:42:44] \"\u001b[37mPOST / HTTP/1.1\u001b[0m\" 200 -\n"
     ]
    },
    {
     "name": "stdout",
     "output_type": "stream",
     "text": [
      "{'appID': '608ff071856012aac7511084', 'type': 'list', 'commandHash': '38e442d368844ca9aaac91cafc2ebce0142f5684df69c758fee3d938c606a208', 'serverSign': '0vJ9+vWV6B4bTs+OjtjKPT5w04R/waMj1wnDlToMtco=', 'appURL': 'http://localhost:49055/'}\n",
      "b'0vJ9+vWV6B4bTs+OjtjKPT5w04R/waMj1wnDlToMtco='\n",
      "['list', 'delete', 'mkdir']\n"
     ]
    },
    {
     "name": "stderr",
     "output_type": "stream",
     "text": [
      "127.0.0.1 - - [03/May/2021 18:42:49] \"\u001b[37mPOST / HTTP/1.1\u001b[0m\" 200 -\n"
     ]
    },
    {
     "name": "stdout",
     "output_type": "stream",
     "text": [
      "{'appID': '608ff071856012aac7511084', 'type': 'list', 'commandHash': 'ace4e6183a700e54d750fd8da11f38533cffc1eb9802403d09ba91be43931f29', 'serverSign': 'NhLuVrebjRivQyw6q7lONsZ3dg01n68K8FL6N2SX7EI=', 'appURL': 'http://localhost:49055/'}\n",
      "b'NhLuVrebjRivQyw6q7lONsZ3dg01n68K8FL6N2SX7EI='\n",
      "['list', 'delete', 'mkdir']\n"
     ]
    },
    {
     "name": "stderr",
     "output_type": "stream",
     "text": [
      "127.0.0.1 - - [03/May/2021 18:42:56] \"\u001b[37mPOST / HTTP/1.1\u001b[0m\" 200 -\n"
     ]
    },
    {
     "name": "stdout",
     "output_type": "stream",
     "text": [
      "{'appID': '608ff071856012aac7511084', 'type': 'list', 'commandHash': 'adc9b88835386ac0a433b06cb9f74de195cea35b37cc387606711fa80c3175b5', 'serverSign': 'dLRLGYNf3RQr28VGwT8tkG6TT2x0fHi4PeYnGQ42eu0=', 'appURL': 'http://localhost:49055/'}\n",
      "b'dLRLGYNf3RQr28VGwT8tkG6TT2x0fHi4PeYnGQ42eu0='\n",
      "['list', 'delete', 'mkdir']\n"
     ]
    },
    {
     "name": "stderr",
     "output_type": "stream",
     "text": [
      "127.0.0.1 - - [03/May/2021 18:43:32] \"\u001b[37mPOST / HTTP/1.1\u001b[0m\" 200 -\n"
     ]
    },
    {
     "name": "stdout",
     "output_type": "stream",
     "text": [
      "{'appID': '608ff071856012aac7511084', 'type': 'list', 'commandHash': 'adc9b88835386ac0a433b06cb9f74de195cea35b37cc387606711fa80c3175b5', 'serverSign': 'dLRLGYNf3RQr28VGwT8tkG6TT2x0fHi4PeYnGQ42eu0=', 'appURL': 'http://localhost:49055/'}\n",
      "b'dLRLGYNf3RQr28VGwT8tkG6TT2x0fHi4PeYnGQ42eu0='\n",
      "['list', 'delete', 'mkdir']\n"
     ]
    },
    {
     "name": "stderr",
     "output_type": "stream",
     "text": [
      "127.0.0.1 - - [03/May/2021 18:43:42] \"\u001b[37mPOST / HTTP/1.1\u001b[0m\" 200 -\n"
     ]
    },
    {
     "name": "stdout",
     "output_type": "stream",
     "text": [
      "{'appID': '608ff071856012aac7511084', 'type': 'list', 'commandHash': 'adc9b88835386ac0a433b06cb9f74de195cea35b37cc387606711fa80c3175b5', 'serverSign': 'dLRLGYNf3RQr28VGwT8tkG6TT2x0fHi4PeYnGQ42eu0=', 'appURL': 'http://localhost:49055/'}\n",
      "b'dLRLGYNf3RQr28VGwT8tkG6TT2x0fHi4PeYnGQ42eu0='\n",
      "['list', 'delete', 'mkdir']\n"
     ]
    },
    {
     "name": "stderr",
     "output_type": "stream",
     "text": [
      "127.0.0.1 - - [03/May/2021 18:46:37] \"\u001b[37mPOST / HTTP/1.1\u001b[0m\" 200 -\n"
     ]
    },
    {
     "name": "stdout",
     "output_type": "stream",
     "text": [
      "{'appID': '608ff071856012aac7511084', 'type': 'list', 'commandHash': '29910167592ad6d15521f797af82bf57e42d9b9c50159f22926ec46ad37e4608', 'serverSign': 'BHTStQJba7f1ML+aIuVOn1gFXAq2RKiZ0AHMrD571xQ=', 'appURL': 'http://localhost:49055/'}\n",
      "b'BHTStQJba7f1ML+aIuVOn1gFXAq2RKiZ0AHMrD571xQ='\n",
      "['list', 'delete', 'mkdir']\n"
     ]
    },
    {
     "name": "stderr",
     "output_type": "stream",
     "text": [
      "127.0.0.1 - - [03/May/2021 18:46:42] \"\u001b[37mPOST / HTTP/1.1\u001b[0m\" 200 -\n"
     ]
    },
    {
     "name": "stdout",
     "output_type": "stream",
     "text": [
      "{'appID': '608ff071856012aac7511084', 'type': 'list', 'commandHash': 'adc9b88835386ac0a433b06cb9f74de195cea35b37cc387606711fa80c3175b5', 'serverSign': 'dLRLGYNf3RQr28VGwT8tkG6TT2x0fHi4PeYnGQ42eu0=', 'appURL': 'http://localhost:49055/'}\n",
      "b'dLRLGYNf3RQr28VGwT8tkG6TT2x0fHi4PeYnGQ42eu0='\n",
      "['list', 'delete', 'mkdir']\n"
     ]
    },
    {
     "name": "stderr",
     "output_type": "stream",
     "text": [
      "127.0.0.1 - - [03/May/2021 18:46:51] \"\u001b[37mPOST / HTTP/1.1\u001b[0m\" 200 -\n"
     ]
    },
    {
     "name": "stdout",
     "output_type": "stream",
     "text": [
      "{'appID': '608ff071856012aac7511084', 'type': 'mkdir', 'commandHash': '77147583c5aa5215eda4fcb67d680ccb845640efe8357577c0698f945183322c', 'serverSign': 'nfSPpVkONzqaKH4l9rAKHEFbGD+VpyHeTvS4w4Xm1E0=', 'appURL': 'http://localhost:49055/'}\n",
      "b'nfSPpVkONzqaKH4l9rAKHEFbGD+VpyHeTvS4w4Xm1E0='\n",
      "['list', 'delete', 'mkdir']\n"
     ]
    },
    {
     "name": "stderr",
     "output_type": "stream",
     "text": [
      "127.0.0.1 - - [03/May/2021 18:46:51] \"\u001b[37mPOST / HTTP/1.1\u001b[0m\" 200 -\n"
     ]
    },
    {
     "name": "stdout",
     "output_type": "stream",
     "text": [
      "{'appID': '608ff071856012aac7511084', 'type': 'list', 'commandHash': 'adc9b88835386ac0a433b06cb9f74de195cea35b37cc387606711fa80c3175b5', 'serverSign': 'dLRLGYNf3RQr28VGwT8tkG6TT2x0fHi4PeYnGQ42eu0=', 'appURL': 'http://localhost:49055/'}\n",
      "b'dLRLGYNf3RQr28VGwT8tkG6TT2x0fHi4PeYnGQ42eu0='\n",
      "['list', 'delete', 'mkdir']\n"
     ]
    },
    {
     "name": "stderr",
     "output_type": "stream",
     "text": [
      "127.0.0.1 - - [03/May/2021 18:47:02] \"\u001b[37mPOST / HTTP/1.1\u001b[0m\" 200 -\n"
     ]
    },
    {
     "name": "stdout",
     "output_type": "stream",
     "text": [
      "{'appID': '608ff071856012aac7511084', 'type': 'list', 'commandHash': 'adc9b88835386ac0a433b06cb9f74de195cea35b37cc387606711fa80c3175b5', 'serverSign': 'dLRLGYNf3RQr28VGwT8tkG6TT2x0fHi4PeYnGQ42eu0=', 'appURL': 'http://localhost:49055/'}\n",
      "b'dLRLGYNf3RQr28VGwT8tkG6TT2x0fHi4PeYnGQ42eu0='\n",
      "['list', 'delete', 'mkdir']\n"
     ]
    },
    {
     "name": "stderr",
     "output_type": "stream",
     "text": [
      "127.0.0.1 - - [03/May/2021 18:49:43] \"\u001b[37mPOST / HTTP/1.1\u001b[0m\" 200 -\n"
     ]
    },
    {
     "name": "stdout",
     "output_type": "stream",
     "text": [
      "{'appID': '608ff071856012aac7511084', 'type': 'list', 'commandHash': '29910167592ad6d15521f797af82bf57e42d9b9c50159f22926ec46ad37e4608', 'serverSign': 'BHTStQJba7f1ML+aIuVOn1gFXAq2RKiZ0AHMrD571xQ=', 'appURL': 'http://localhost:49055/'}\n",
      "b'BHTStQJba7f1ML+aIuVOn1gFXAq2RKiZ0AHMrD571xQ='\n",
      "['list', 'delete', 'mkdir']\n"
     ]
    },
    {
     "name": "stderr",
     "output_type": "stream",
     "text": [
      "127.0.0.1 - - [03/May/2021 18:49:47] \"\u001b[37mPOST / HTTP/1.1\u001b[0m\" 200 -\n"
     ]
    },
    {
     "name": "stdout",
     "output_type": "stream",
     "text": [
      "{'appID': '608ff071856012aac7511084', 'type': 'list', 'commandHash': 'adc9b88835386ac0a433b06cb9f74de195cea35b37cc387606711fa80c3175b5', 'serverSign': 'dLRLGYNf3RQr28VGwT8tkG6TT2x0fHi4PeYnGQ42eu0=', 'appURL': 'http://localhost:49055/'}\n",
      "b'dLRLGYNf3RQr28VGwT8tkG6TT2x0fHi4PeYnGQ42eu0='\n",
      "['list', 'delete', 'mkdir']\n"
     ]
    },
    {
     "name": "stderr",
     "output_type": "stream",
     "text": [
      "127.0.0.1 - - [03/May/2021 18:49:53] \"\u001b[37mPOST / HTTP/1.1\u001b[0m\" 200 -\n",
      "127.0.0.1 - - [03/May/2021 18:49:53] \"\u001b[37mPOST / HTTP/1.1\u001b[0m\" 200 -\n"
     ]
    },
    {
     "name": "stdout",
     "output_type": "stream",
     "text": [
      "{'appID': '608ff071856012aac7511084', 'type': 'mkdir', 'commandHash': 'ef6481006c774e44ca2edf790160e780188b6e5adc6f8cacd5632d2e54a96220', 'serverSign': 'KY0LwRcXFo0E+64dbMEydxhfUgeMY4S9LXhvVORVASw=', 'appURL': 'http://localhost:49055/'}\n",
      "b'KY0LwRcXFo0E+64dbMEydxhfUgeMY4S9LXhvVORVASw='\n",
      "['list', 'delete', 'mkdir']\n",
      "{'appID': '608ff071856012aac7511084', 'type': 'list', 'commandHash': 'adc9b88835386ac0a433b06cb9f74de195cea35b37cc387606711fa80c3175b5', 'serverSign': 'dLRLGYNf3RQr28VGwT8tkG6TT2x0fHi4PeYnGQ42eu0=', 'appURL': 'http://localhost:49055/'}\n",
      "b'dLRLGYNf3RQr28VGwT8tkG6TT2x0fHi4PeYnGQ42eu0='\n",
      "['list', 'delete', 'mkdir']\n"
     ]
    },
    {
     "name": "stderr",
     "output_type": "stream",
     "text": [
      "127.0.0.1 - - [03/May/2021 18:49:56] \"\u001b[37mPOST / HTTP/1.1\u001b[0m\" 200 -\n"
     ]
    },
    {
     "name": "stdout",
     "output_type": "stream",
     "text": [
      "{'appID': '608ff071856012aac7511084', 'type': 'list', 'commandHash': 'adc9b88835386ac0a433b06cb9f74de195cea35b37cc387606711fa80c3175b5', 'serverSign': 'dLRLGYNf3RQr28VGwT8tkG6TT2x0fHi4PeYnGQ42eu0=', 'appURL': 'http://localhost:49055/'}\n",
      "b'dLRLGYNf3RQr28VGwT8tkG6TT2x0fHi4PeYnGQ42eu0='\n",
      "['list', 'delete', 'mkdir']\n"
     ]
    },
    {
     "name": "stderr",
     "output_type": "stream",
     "text": [
      "127.0.0.1 - - [03/May/2021 18:49:58] \"\u001b[37mPOST / HTTP/1.1\u001b[0m\" 200 -\n"
     ]
    },
    {
     "name": "stdout",
     "output_type": "stream",
     "text": [
      "{'appID': '608ff071856012aac7511084', 'type': 'list', 'commandHash': '44a0e1f3e41257fbc31121e8218f44ae548e1bcb0c2362ebee5b8ab7fed4f128', 'serverSign': '8dK9bqq4BBFaaXfMEoVwMxm8UDIcTap6/zjmmCWInk0=', 'appURL': 'http://localhost:49055/'}\n",
      "b'8dK9bqq4BBFaaXfMEoVwMxm8UDIcTap6/zjmmCWInk0='\n",
      "['list', 'delete', 'mkdir']\n"
     ]
    },
    {
     "name": "stderr",
     "output_type": "stream",
     "text": [
      "127.0.0.1 - - [03/May/2021 18:50:02] \"\u001b[37mPOST / HTTP/1.1\u001b[0m\" 200 -\n"
     ]
    },
    {
     "name": "stdout",
     "output_type": "stream",
     "text": [
      "{'appID': '608ff071856012aac7511084', 'type': 'list', 'commandHash': 'adc9b88835386ac0a433b06cb9f74de195cea35b37cc387606711fa80c3175b5', 'serverSign': 'dLRLGYNf3RQr28VGwT8tkG6TT2x0fHi4PeYnGQ42eu0=', 'appURL': 'http://localhost:49055/'}\n",
      "b'dLRLGYNf3RQr28VGwT8tkG6TT2x0fHi4PeYnGQ42eu0='\n",
      "['list', 'delete', 'mkdir']\n"
     ]
    },
    {
     "name": "stderr",
     "output_type": "stream",
     "text": [
      "127.0.0.1 - - [03/May/2021 18:50:08] \"\u001b[37mPOST / HTTP/1.1\u001b[0m\" 200 -\n"
     ]
    },
    {
     "name": "stdout",
     "output_type": "stream",
     "text": [
      "{'appID': '608ff071856012aac7511084', 'type': 'delete', 'commandHash': 'b8744935395687307a6ac214a683b2c59e9d3fa23f74ed06af9c7129bb248eb2', 'serverSign': '9Et9yeBlKiNAKSXMMC5vkizd4CKeC/HIQMLxiAaXqqk=', 'appURL': 'http://localhost:49055/'}\n",
      "b'9Et9yeBlKiNAKSXMMC5vkizd4CKeC/HIQMLxiAaXqqk='\n",
      "['list', 'delete', 'mkdir']\n"
     ]
    },
    {
     "name": "stderr",
     "output_type": "stream",
     "text": [
      "127.0.0.1 - - [03/May/2021 18:50:10] \"\u001b[37mPOST / HTTP/1.1\u001b[0m\" 200 -\n"
     ]
    },
    {
     "name": "stdout",
     "output_type": "stream",
     "text": [
      "{'appID': '608ff071856012aac7511084', 'type': 'list', 'commandHash': 'adc9b88835386ac0a433b06cb9f74de195cea35b37cc387606711fa80c3175b5', 'serverSign': 'dLRLGYNf3RQr28VGwT8tkG6TT2x0fHi4PeYnGQ42eu0=', 'appURL': 'http://localhost:49055/'}\n",
      "b'dLRLGYNf3RQr28VGwT8tkG6TT2x0fHi4PeYnGQ42eu0='\n",
      "['list', 'delete', 'mkdir']\n"
     ]
    },
    {
     "name": "stderr",
     "output_type": "stream",
     "text": [
      "127.0.0.1 - - [03/May/2021 18:57:16] \"\u001b[37mPOST / HTTP/1.1\u001b[0m\" 200 -\n"
     ]
    },
    {
     "name": "stdout",
     "output_type": "stream",
     "text": [
      "{'appID': '608ff071856012aac7511084', 'type': 'list', 'commandHash': '29910167592ad6d15521f797af82bf57e42d9b9c50159f22926ec46ad37e4608', 'serverSign': 'BHTStQJba7f1ML+aIuVOn1gFXAq2RKiZ0AHMrD571xQ=', 'appURL': 'http://localhost:49055/'}\n",
      "b'BHTStQJba7f1ML+aIuVOn1gFXAq2RKiZ0AHMrD571xQ='\n",
      "['list', 'delete', 'mkdir']\n"
     ]
    }
   ],
   "source": [
    "SERVER_PORT=49052\n",
    "SERVER_HOST='0.0.0.0'\n",
    "DATABASE_PORT=27017\n",
    "\n",
    "import datetime\n",
    "from bson.objectid import ObjectId\n",
    "import random\n",
    "import string\n",
    "import hmac\n",
    "import hashlib\n",
    "from hashlib import sha256\n",
    "from flask import Flask\n",
    "from flask import request,redirect\n",
    "from flask import Response\n",
    "from flask import render_template\n",
    "from os import listdir\n",
    "from os.path import isfile, join\n",
    "import os\n",
    "from pymongo import MongoClient\n",
    "import pymongo\n",
    "import os.path\n",
    "from base64 import b64encode\n",
    "from collections import OrderedDict\n",
    "from hashlib import sha256\n",
    "from hmac import HMAC\n",
    "from urllib.parse import urlparse, parse_qsl, urlencode\n",
    "import json\n",
    "\n",
    "app = Flask(__name__)\n",
    "app.config['TEMPLATES_AUTO_RELOAD'] = True\n",
    "\n",
    "@app.after_request\n",
    "def add_header(r):\n",
    "    r.headers[\"Cache-Control\"] = \"no-cache, no-store, must-revalidate\"\n",
    "    r.headers[\"Pragma\"] = \"no-cache\"\n",
    "    r.headers[\"Expires\"] = \"0\"\n",
    "    r.headers['Cache-Control'] = 'public, max-age=0'\n",
    "    return r\n",
    "\n",
    "@app.route('/',methods=[\"POST\"])\n",
    "def command():\n",
    "    t=request.json\n",
    "    client = MongoClient(port=DATABASE_PORT)\n",
    "    db=client.srp\n",
    "    appID=t[\"appID\"]\n",
    "    appObject=db.apps.find_one({\"_id\":ObjectId(appID)})\n",
    "    print(t)\n",
    "    tSign=b64encode(HMAC(appObject[\"secretKey\"].encode(), t[\"commandHash\"].encode(), sha256).digest())\n",
    "    print(tSign)\n",
    "    if t[\"appURL\"]!=appObject[\"appSite\"]:\n",
    "        return \"False\"\n",
    "    if tSign.decode(\"utf-8\")==t[\"serverSign\"]:\n",
    "        allowedCommands=list()\n",
    "        for i in [\"list\",\"read\",\"write\",\"delete\",\"mkdir\"]:\n",
    "            if appObject[i]==\"on\":\n",
    "                allowedCommands.append(i)\n",
    "        print(allowedCommands)\n",
    "        return str(t[\"type\"] in allowedCommands)\n",
    "    else:\n",
    "        return \"False\"\n",
    "\n",
    "app.run(host=SERVER_HOST, port=SERVER_PORT, threaded=True)"
   ]
  }
 ],
 "metadata": {
  "kernelspec": {
   "display_name": "Python 3",
   "language": "python",
   "name": "python3"
  },
  "language_info": {
   "codemirror_mode": {
    "name": "ipython",
    "version": 3
   },
   "file_extension": ".py",
   "mimetype": "text/x-python",
   "name": "python",
   "nbconvert_exporter": "python",
   "pygments_lexer": "ipython3",
   "version": "3.7.6"
  }
 },
 "nbformat": 4,
 "nbformat_minor": 4
}
